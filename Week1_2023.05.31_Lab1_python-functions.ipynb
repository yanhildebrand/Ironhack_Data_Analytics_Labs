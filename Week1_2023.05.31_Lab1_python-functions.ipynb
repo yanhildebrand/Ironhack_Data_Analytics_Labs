{
 "cells": [
  {
   "cell_type": "markdown",
   "id": "25d7736c-ba17-4aff-b6bb-66eba20fbf4e",
   "metadata": {},
   "source": [
    "# Lab | Functions"
   ]
  },
  {
   "cell_type": "markdown",
   "id": "6f8e446f-16b4-4e21-92e7-9d3d1eb551b6",
   "metadata": {},
   "source": [
    "Objective: Practice how to define and call functions, pass arguments, return values, and handle scope. "
   ]
  },
  {
   "cell_type": "markdown",
   "id": "e253e768-aed8-4791-a800-87add1204afa",
   "metadata": {},
   "source": [
    "## Challenge 1: completing functions based on docstring\n",
    "\n",
    "Complete the functions below according to the docstring, and test them by calling them to make sure they are well implemented."
   ]
  },
  {
   "cell_type": "code",
   "execution_count": 7,
   "id": "df908bed-acc6-4b67-b33a-f3b1c564a49f",
   "metadata": {},
   "outputs": [
    {
     "name": "stdout",
     "output_type": "stream",
     "text": [
      "[5, 5, 5, 5, 5]\n",
      "[5]\n"
     ]
    }
   ],
   "source": [
    "lst = [5]*5\n",
    "\n",
    "def get_unique_list(lst):\n",
    "    \"\"\"\n",
    "    Takes a list as an argument and returns a new list with unique elements from the first list.\n",
    "\n",
    "    Parameters:\n",
    "    lst (list): The input list.\n",
    "\n",
    "    Returns:\n",
    "    list: A new list with unique elements from the input list.\n",
    "    \"\"\"\n",
    "    # your code goes here\n",
    "    lst = list(set(lst))\n",
    "    \n",
    "    return lst\n",
    "\n",
    "unique_list = get_unique_list(lst)\n",
    "print(unique_list)"
   ]
  },
  {
   "cell_type": "markdown",
   "id": "214c2c27-c4fa-46cf-bfbf-26fb25b25882",
   "metadata": {},
   "source": [
    "Example:\n",
    "\n",
    "*Input [1,2,3,3,3,3,4,5] -> type: list*\n",
    "\n",
    "*Expected Output [1,2,3,4,5] -> type: list*"
   ]
  },
  {
   "cell_type": "code",
   "execution_count": 15,
   "id": "7d5c8e34-a116-4428-ab9d-e0e15e338fff",
   "metadata": {},
   "outputs": [
    {
     "name": "stdout",
     "output_type": "stream",
     "text": [
      "(2, 7)\n"
     ]
    }
   ],
   "source": [
    "string = \"CamelCase\"\n",
    "caseTuple = ()\n",
    "\n",
    "def count_case(string):\n",
    "    \"\"\"\n",
    "    Returns the number of uppercase and lowercase letters in the given string.\n",
    "\n",
    "    Parameters:\n",
    "    string (str): The string to count uppercase and lowercase letters in.\n",
    "\n",
    "    Returns:\n",
    "    A tuple containing the count of uppercase and lowercase letters in the string.\n",
    "    \"\"\"\n",
    "    # your code goes here\n",
    "    upperCase = 0\n",
    "    lowerCase = 0\n",
    "    \n",
    "    for letter in string:\n",
    "        if letter.isupper():\n",
    "            upperCase += 1\n",
    "        if letter.islower():\n",
    "            lowerCase += 1\n",
    "    caseTuple1 = (upperCase, lowerCase)\n",
    "    return caseTuple1\n",
    "            \n",
    "caseTuple = count_case(string)\n",
    "print(caseTuple)"
   ]
  },
  {
   "cell_type": "markdown",
   "id": "2c902b2e-369c-4a40-a166-ca5bc554cab3",
   "metadata": {},
   "source": [
    "Example:\n",
    "\n",
    "*Input: \"Hello World\"* \n",
    "\n",
    "*Expected Output: Uppercase count: 2, Lowercase count: 8* "
   ]
  },
  {
   "cell_type": "code",
   "execution_count": 70,
   "id": "c15b91d4-cfd6-423b-9f36-76012b8792b8",
   "metadata": {},
   "outputs": [
    {
     "name": "stdout",
     "output_type": "stream",
     "text": [
      "Note  this is an example  Good day  \n"
     ]
    }
   ],
   "source": [
    "import string\n",
    "sentence = \"Note : this is an example !!! Good day : )\"\n",
    "\n",
    "\n",
    "def remove_punctuation(sentence):\n",
    "    \"\"\"\n",
    "    Removes all punctuation marks (commas, periods, exclamation marks, question marks) from a sentence.\n",
    "\n",
    "    Parameters:\n",
    "    sentence (str): A string representing a sentence.\n",
    "\n",
    "    Returns:\n",
    "    str: The sentence without any punctuation marks.\n",
    "    \"\"\"\n",
    "    # your code goes here\n",
    "    import string\n",
    "    punctuation = '''!()-[]{};:'\"\\,<>./?@#$%^&*_~'''\n",
    "    sentence = sentence.translate(str.maketrans('', '', string.punctuation))\n",
    "    return sentence\n",
    "\n",
    "sentenceWithoutPunctuation = remove_punctuation(sentence)\n",
    "print(sentenceWithoutPunctuation)\n",
    "\n",
    "def word_count(sentence):\n",
    "    \"\"\"\n",
    "    Counts the number of words in a given sentence. To do this properly, first it removes punctuation from the sentence.\n",
    "    Note: A word is defined as a sequence of characters separated by spaces. We can assume that there will be no leading or trailing spaces in the input sentence.\n",
    "    \n",
    "    Parameters:\n",
    "    sentence (str): A string representing a sentence.\n",
    "\n",
    "    Returns:\n",
    "    int: The number of words in the sentence.\n",
    "    \"\"\"\n",
    "    # your code goes here\n",
    "    sentenceWithoutPunctuation = remove_punctuation(sentence)\n",
    "    wordsInSentence = sentenceWithoutPunctuation.split()\n",
    "    numberOfWords1 = len(wordsInSentence)\n",
    "    return numberOfWords1"
   ]
  },
  {
   "cell_type": "markdown",
   "id": "52814e4d-7631-4c80-80b6-2b206f7e7419",
   "metadata": {},
   "source": [
    "*For example, calling*\n",
    "```python \n",
    "word_count(\"Note : this is an example !!! Good day : )\")\n",
    "``` \n",
    "\n",
    "*would give you as expected output: 7*"
   ]
  },
  {
   "cell_type": "code",
   "execution_count": 24,
   "id": "f7cfd32a-f559-47ff-81c1-2576bd4fe3bf",
   "metadata": {},
   "outputs": [
    {
     "name": "stdout",
     "output_type": "stream",
     "text": [
      "7\n"
     ]
    }
   ],
   "source": [
    "# your code goes here\n",
    "numberOfWords = word_count(sentence)\n",
    "print(numberOfWords)"
   ]
  },
  {
   "cell_type": "markdown",
   "id": "fb01ccba-2ecc-4eea-b9a9-2bf9d29e8804",
   "metadata": {},
   "source": [
    "## Challenge 2: Build a Calculator\n",
    "\n",
    "In this exercise, you will build a calculator using Python functions. The calculator will be able to perform basic arithmetic operations like addition, subtraction, multiplication, and division.\n",
    "\n",
    "Instructions\n",
    "- Define four functions for addition, subtraction, multiplication, and division.\n",
    "- Each function should take two arguments, perform the respective arithmetic operation, and return the result.\n",
    "- Define another function called \"calculate\" that takes three arguments: two operands and an operator.\n",
    "- The \"calculate\" function should use a conditional statement to determine which arithmetic function to call based on the operator argument.\n",
    "- The \"calculate\" function should then call the appropriate arithmetic function and return the result.\n",
    "- Test your \"calculate\" function by calling it with different input parameters.\n"
   ]
  },
  {
   "cell_type": "code",
   "execution_count": 38,
   "id": "57f9afc7-8626-443c-9c3e-eb78ef503193",
   "metadata": {},
   "outputs": [
    {
     "name": "stdout",
     "output_type": "stream",
     "text": [
      "the quotient is 0.3333333333333333.\n",
      "the quotient is 0.3333333333333333. /trying out global variable\\.\n"
     ]
    }
   ],
   "source": [
    "# your code goes here\n",
    "def addition (number1, number2):\n",
    "    sum1 = int(number1) + int(number2)\n",
    "    return sum1\n",
    "\n",
    "def subtraction (number1, number2):\n",
    "    difference1 = int(number1) - int(number2)\n",
    "    return difference1\n",
    "\n",
    "def multiplication (number1, number2):\n",
    "    product1 = int(number1) * int(number2)\n",
    "    return product1\n",
    "\n",
    "def division (number1, number2):\n",
    "    if number2==0: \n",
    "        print(\"please give me a non-null number\")\n",
    "    else:\n",
    "        quotient1 = int(number1) / int(number2)\n",
    "        return quotient1\n",
    "\n",
    "def calculate (number1, operator, number2):\n",
    "    global resultType1\n",
    "    if operator == \"+\":\n",
    "        result1 = addition(number1, number2)\n",
    "        resultType1 = \"sum\"\n",
    "    if operator == \"-\":\n",
    "        result1 = subtraction(number1, number2)\n",
    "        resultType1 = \"difference\"\n",
    "    if operator == \"*\":\n",
    "        result1 = multiplication(number1, number2)\n",
    "        resultType1 = \"product\"\n",
    "    if operator == \"/\":\n",
    "        result1 = division(number1, number2)\n",
    "        resultType1 = \"quotient\"\n",
    "    return result1, resultType1\n",
    "\n",
    "result = calculate(1,\"/\",3)\n",
    "print(\"the \" + result[1] + \" is \" + str(result[0]) + \".\")\n",
    "print(\"the \" + resultType1 + \" is \" + str(result[0]) + \". /trying out global variable\\.\")\n"
   ]
  },
  {
   "cell_type": "markdown",
   "id": "d1784c63-208c-4553-9686-acac6c0a9dda",
   "metadata": {},
   "source": [
    "### Bonus: args and kwargs\n",
    "\n",
    "Update the previous exercise so it allows for adding, subtracting, and multiplying more than 2 numbers.\n",
    "\n",
    "The calculator will be able to perform basic arithmetic operations like addition, subtraction, multiplication, and division on multiple numbers.\n",
    "\n",
    "*Hint: use args or kwargs. Recommended external resource: [Args and Kwargs in Python](https://www.geeksforgeeks.org/args-kwargs-python/)*"
   ]
  },
  {
   "cell_type": "code",
   "execution_count": 44,
   "id": "ff3e816c-13ab-447d-a6f2-bb47a8fad2e2",
   "metadata": {},
   "outputs": [
    {
     "name": "stdout",
     "output_type": "stream",
     "text": [
      "the difference is -8.\n",
      "the difference is -8. /trying out global variable\\.\n"
     ]
    }
   ],
   "source": [
    "# your code goes here\n",
    "\n",
    "def calculate (number1, operator, *args):\n",
    "    global resultType1\n",
    "    global result1\n",
    "    i=0\n",
    "    for arg in args:\n",
    "        i+=1\n",
    "        if i==1:\n",
    "            if operator == \"+\":\n",
    "                result1 = addition(number1, arg)\n",
    "                resultType1 = \"sum\"\n",
    "            if operator == \"-\":\n",
    "                result1 = subtraction(number1, arg)\n",
    "                resultType1 = \"difference\"\n",
    "            if operator == \"*\":\n",
    "                result1 = multiplication(number1, arg)\n",
    "                resultType1 = \"product\"\n",
    "            if operator == \"/\":\n",
    "                result1 = division(number1, arg)\n",
    "                resultType1 = \"quotient\"\n",
    "        else:\n",
    "            if operator == \"+\":\n",
    "                result1 = addition(result1, arg)\n",
    "                resultType1 = \"sum\"\n",
    "            if operator == \"-\":\n",
    "                result1 = subtraction(result1, arg)\n",
    "                resultType1 = \"difference\"\n",
    "            if operator == \"*\":\n",
    "                result1 = multiplication(result1, arg)\n",
    "                resultType1 = \"product\"\n",
    "            if operator == \"/\":\n",
    "                result1 = division(result1, arg)\n",
    "                resultType1 = \"quotient\"\n",
    "            \n",
    "    return result1, resultType1\n",
    "\n",
    "result = calculate(1,\"-\",3,3,3)\n",
    "print(\"the \" + result[1] + \" is \" + str(result[0]) + \".\")\n",
    "print(\"the \" + resultType1 + \" is \" + str(result[0]) + \". /trying out global variable\\.\")"
   ]
  },
  {
   "cell_type": "markdown",
   "id": "af2de734-2a0e-4458-9cb8-57284b7108ae",
   "metadata": {},
   "source": [
    "## Challenge 3: importing functions from a Python file"
   ]
  },
  {
   "cell_type": "markdown",
   "id": "56780ce8-6610-4fb5-a4ef-22cd46af83d2",
   "metadata": {},
   "source": [
    "Moving the functions created in Challenge 1 to a Python file.\n",
    "\n",
    "- In the same directory as your Jupyter Notebook, create a new Python file called `functions.py`.\n",
    "- Copy and paste the functions you created earlier in the Jupyter Notebook into the functions.py file. Rename the functions to `get_unique_list_f, count_case_f, remove_punctuation_f, word_count_f`. Add the _f suffix to each function name to ensure that you're calling the functions from your file.\n",
    "- Save the `functions.py` file and switch back to the Jupyter Notebook.\n",
    "- In a new cell, import the functions from functions.py\n",
    "- Call each function with some sample input to test that they're working properly.\n",
    "\n",
    "There are several ways to import functions from a Python module such as functions.py to a Jupyter Notebook:\n",
    "\n",
    "1. Importing specific functions: If you only need to use a few functions from the module, you can import them individually using the from keyword. This way, you can call the functions directly using their names, without having to use the module name. For example:\n",
    "\n",
    "```python\n",
    "from function_file import function_name\n",
    "\n",
    "function_name(arguments)```\n",
    "\n",
    "2. Importing the entire module: You can import the entire module using the import keyword followed by the name of the module. Then, you can call the functions using the module_name.function_name() syntax. Example:\n",
    "\n",
    "```python\n",
    "import function_file\n",
    "\n",
    "function_file.function_name()\n",
    "```\n",
    "\n",
    "3. Renaming functions during import: You can also rename functions during import using the as keyword. This is useful if you want to use a shorter or more descriptive name for the function in your code. For example:\n",
    "\n",
    "```python\n",
    "from function_file import function_name as f\n",
    "\n",
    "f.function_name(arguments)\n",
    "```\n",
    "\n",
    "Regardless of which method you choose, make sure that the functions.py file is in the same directory as your Jupyter Notebook, or else specify the path to the file in the import statement or by using `sys.path`.\n",
    "\n",
    "You can find examples on how to import Python files into jupyter notebook here: \n",
    "- https://medium.com/cold-brew-code/a-quick-guide-to-understanding-pythons-import-statement-505eea2d601f\n",
    "- https://www.geeksforgeeks.org/absolute-and-relative-imports-in-python/\n",
    "- https://www.pythonforthelab.com/blog/complete-guide-to-imports-in-python-absolute-relative-and-more/\n",
    "\n"
   ]
  },
  {
   "cell_type": "markdown",
   "id": "14f222c5-e7bb-4626-b45c-bd735001f768",
   "metadata": {},
   "source": [
    "To ensure that any changes made to the Python file are reflected in the Jupyter Notebook upon import, we need to use an IPython extension that allows for automatic reloading of modules. Without this extension, changes made to the file won't be reloaded or refreshed in the notebook upon import.\n",
    "\n",
    "For that, we will include the following code:\n",
    "```python\n",
    "%load_ext autoreload\n",
    "%autoreload 2 \n",
    "```\n",
    "\n",
    "You can read more about this here: https://ipython.readthedocs.io/en/stable/config/extensions/autoreload.html"
   ]
  },
  {
   "cell_type": "code",
   "execution_count": 51,
   "id": "5832ecfe-c652-418d-8fbc-bac4b1166b40",
   "metadata": {},
   "outputs": [
    {
     "name": "stdout",
     "output_type": "stream",
     "text": [
      "The autoreload extension is already loaded. To reload it, use:\n",
      "  %reload_ext autoreload\n",
      "Note  this is an example  Good day  \n",
      "7\n"
     ]
    }
   ],
   "source": [
    "# IPython extension to reload modules before executing user code.\n",
    "%load_ext autoreload\n",
    "%autoreload 2 \n",
    "\n",
    "# your code goes here\n",
    "from functions import remove_punctuation_f as rp\n",
    "import functions\n",
    "\n",
    "sentence = \"Note : this is an example !!! Good day : )\"\n",
    "sentenceWithoutPunctuation = rp(sentence)\n",
    "sentenceWithoutPunctuation = functions.remove_punctuation_f(sentence)\n",
    "print(sentenceWithoutPunctuation)\n",
    "\n",
    "numberOfWords = 0\n",
    "numberOfWords = functions.word_count_f(sentence)\n",
    "print(numberOfWords)\n"
   ]
  },
  {
   "cell_type": "markdown",
   "id": "06d0eb13-8dcb-4783-8f74-8f71beb2d0b4",
   "metadata": {},
   "source": [
    "## Bonus: recursive functions\n",
    "\n",
    "The Fibonacci sequence is a mathematical sequence that appears in various fields, including nature, finance, and computer science. It starts with 0 and 1, and each subsequent number is the sum of the two preceding numbers. The sequence goes like this: 0, 1, 1, 2, 3, 5, 8, 13, 21, 34, and so on.\n",
    "\n",
    "Write a Python function that uses recursion to compute the Fibonacci sequence up to a given number n.\n",
    "\n",
    "To accomplish this, create a function that calculates the Fibonacci number for a given input. For example, the 10th Fibonacci number is 55.\n",
    "Then create another function that generates a list of Fibonacci numbers from 0 to n.\n",
    "Test your function by calling it with different input parameters."
   ]
  },
  {
   "cell_type": "markdown",
   "id": "b1686493-48bb-47f1-b3c9-75994816b277",
   "metadata": {},
   "source": [
    "Example:\n",
    "\n",
    "*Expected output for n = 14:*\n",
    "\n",
    "*Fibonacci sequence: [1, 1, 2, 3, 5, 8, 13, 21, 34, 55, 89, 144, 233, 377]*"
   ]
  },
  {
   "cell_type": "code",
   "execution_count": 58,
   "id": "a6497f16",
   "metadata": {},
   "outputs": [
    {
     "name": "stdout",
     "output_type": "stream",
     "text": [
      "14\n"
     ]
    }
   ],
   "source": [
    "fibList = [1, 1, 2, 3, 5, 8, 13, 21, 34, 55, 89, 144, 233, 377]\n",
    "print(len(fibList))"
   ]
  },
  {
   "cell_type": "code",
   "execution_count": 66,
   "id": "a1d55cea-96c3-4853-8220-17c0904a8816",
   "metadata": {},
   "outputs": [
    {
     "name": "stdout",
     "output_type": "stream",
     "text": [
      "377\n",
      "[1, 1, 2, 3, 5, 8, 13, 21, 34, 55, 89, 144, 233, 377]\n"
     ]
    }
   ],
   "source": [
    "# your code goes here\n",
    "def calculateFibNumber(number):\n",
    "    previousNumber1=0\n",
    "    previousNumber2=1\n",
    "    currentNumber=0\n",
    "    for i in range(1,number):\n",
    "            currentNumber=previousNumber1+previousNumber2\n",
    "            previousNumber1=previousNumber2\n",
    "            previousNumber2=currentNumber\n",
    "    return currentNumber\n",
    "\n",
    "fibNumber = calculateFibNumber(14)\n",
    "print(fibNumber)\n",
    "\n",
    "def calculateFibSequenceList(number):\n",
    "    fibSequenceList = [1]\n",
    "    previousNumber1=0\n",
    "    previousNumber2=1\n",
    "    currentNumber=0\n",
    "    for i in range(1,number):\n",
    "        currentNumber=previousNumber1+previousNumber2\n",
    "        previousNumber1=previousNumber2\n",
    "        previousNumber2=currentNumber\n",
    "        fibSequenceList.append(previousNumber2)\n",
    "    return fibSequenceList\n",
    "    print(fibSequenceList)\n",
    "    \n",
    "fibSequence = calculateFibSequenceList(14)\n",
    "print(fibSequence)\n",
    "    "
   ]
  }
 ],
 "metadata": {
  "kernelspec": {
   "display_name": "Python 3 (ipykernel)",
   "language": "python",
   "name": "python3"
  },
  "language_info": {
   "codemirror_mode": {
    "name": "ipython",
    "version": 3
   },
   "file_extension": ".py",
   "mimetype": "text/x-python",
   "name": "python",
   "nbconvert_exporter": "python",
   "pygments_lexer": "ipython3",
   "version": "3.8.8"
  }
 },
 "nbformat": 4,
 "nbformat_minor": 5
}
