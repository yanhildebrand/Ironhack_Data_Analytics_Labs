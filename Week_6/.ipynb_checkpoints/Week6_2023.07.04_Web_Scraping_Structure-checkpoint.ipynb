{
 "cells": [
  {
   "cell_type": "markdown",
   "metadata": {
    "id": "GXfpiRiIfv0S"
   },
   "source": [
    "# Intro to web scraping"
   ]
  },
  {
   "cell_type": "markdown",
   "metadata": {
    "id": "jaLZyTSUfv0Y"
   },
   "source": [
    "The first step of web scraping is to identify a website and download the html code from it. \n",
    "\n",
    "Real html from websites tends to be long and a bit too chaotic for a total beginner. Here we will start with a dummy html document and learn the basics of extracting info with beautifulsoup."
   ]
  },
  {
   "cell_type": "code",
   "execution_count": 1,
   "metadata": {
    "executionInfo": {
     "elapsed": 6,
     "status": "ok",
     "timestamp": 1623659001395,
     "user": {
      "displayName": "Ignacio Soteras",
      "photoUrl": "",
      "userId": "02050793736257155229"
     },
     "user_tz": -120
    },
    "id": "M4r8ECnbfv0Z"
   },
   "outputs": [],
   "source": [
    "html_doc = \"\"\"\n",
    "<!DOCTYPE html>\n",
    "<html><head><title>The Dormouse's story</title></head>\n",
    "<body>\n",
    "<p class=\"title\"><b>The Dormouse's story</b></p>\n",
    "\n",
    "<p class=\"story\">Once upon a time there were three little sisters; and their names were\n",
    "<a href=\"http://example.com/elsie\" class=\"sister\" id=\"link1\">Elsie</a>,\n",
    "<a href=\"http://example.com/lacie\" class=\"sister\" id=\"link2\">Lacie</a> and\n",
    "<a href=\"http://example.com/tillie\" class=\"sister\" id=\"link3\">Tillie</a>;\n",
    "and they lived at the bottom of a well.</p>\n",
    "\n",
    "<p class=\"story\">...</p>\n",
    "</html>\n",
    "\"\"\""
   ]
  },
  {
   "cell_type": "code",
   "execution_count": 2,
   "metadata": {
    "colab": {
     "base_uri": "https://localhost:8080/",
     "height": 87
    },
    "executionInfo": {
     "elapsed": 648,
     "status": "ok",
     "timestamp": 1623659005501,
     "user": {
      "displayName": "Ignacio Soteras",
      "photoUrl": "",
      "userId": "02050793736257155229"
     },
     "user_tz": -120
    },
    "id": "dN4E6j8Tfv0Z",
    "outputId": "5cff7c0d-2180-4f6f-e68e-30c77131584c"
   },
   "outputs": [
    {
     "data": {
      "text/plain": [
       "'\\n<!DOCTYPE html>\\n<html><head><title>The Dormouse\\'s story</title></head>\\n<body>\\n<p class=\"title\"><b>The Dormouse\\'s story</b></p>\\n\\n<p class=\"story\">Once upon a time there were three little sisters; and their names were\\n<a href=\"http://example.com/elsie\" class=\"sister\" id=\"link1\">Elsie</a>,\\n<a href=\"http://example.com/lacie\" class=\"sister\" id=\"link2\">Lacie</a> and\\n<a href=\"http://example.com/tillie\" class=\"sister\" id=\"link3\">Tillie</a>;\\nand they lived at the bottom of a well.</p>\\n\\n<p class=\"story\">...</p>\\n</html>\\n'"
      ]
     },
     "execution_count": 2,
     "metadata": {},
     "output_type": "execute_result"
    }
   ],
   "source": [
    "html_doc"
   ]
  },
  {
   "cell_type": "code",
   "execution_count": 3,
   "metadata": {
    "executionInfo": {
     "elapsed": 674,
     "status": "ok",
     "timestamp": 1623659041737,
     "user": {
      "displayName": "Ignacio Soteras",
      "photoUrl": "",
      "userId": "02050793736257155229"
     },
     "user_tz": -120
    },
    "id": "lbUKdLIZfv0a"
   },
   "outputs": [],
   "source": [
    "from bs4 import BeautifulSoup"
   ]
  },
  {
   "cell_type": "markdown",
   "metadata": {
    "id": "Tgbnu8qWfv0a"
   },
   "source": [
    "#### \"creating the soup\""
   ]
  },
  {
   "cell_type": "code",
   "execution_count": 4,
   "metadata": {
    "executionInfo": {
     "elapsed": 638,
     "status": "ok",
     "timestamp": 1623659068669,
     "user": {
      "displayName": "Ignacio Soteras",
      "photoUrl": "",
      "userId": "02050793736257155229"
     },
     "user_tz": -120
    },
    "id": "i79_PXrvfv0b"
   },
   "outputs": [],
   "source": [
    "# parse the element\n",
    "soup = BeautifulSoup(html_doc, 'html.parser')"
   ]
  },
  {
   "cell_type": "code",
   "execution_count": 5,
   "metadata": {},
   "outputs": [
    {
     "data": {
      "text/plain": [
       "\n",
       "<!DOCTYPE html>\n",
       "\n",
       "<html><head><title>The Dormouse's story</title></head>\n",
       "<body>\n",
       "<p class=\"title\"><b>The Dormouse's story</b></p>\n",
       "<p class=\"story\">Once upon a time there were three little sisters; and their names were\n",
       "<a class=\"sister\" href=\"http://example.com/elsie\" id=\"link1\">Elsie</a>,\n",
       "<a class=\"sister\" href=\"http://example.com/lacie\" id=\"link2\">Lacie</a> and\n",
       "<a class=\"sister\" href=\"http://example.com/tillie\" id=\"link3\">Tillie</a>;\n",
       "and they lived at the bottom of a well.</p>\n",
       "<p class=\"story\">...</p>\n",
       "</body></html>"
      ]
     },
     "execution_count": 5,
     "metadata": {},
     "output_type": "execute_result"
    }
   ],
   "source": [
    "soup"
   ]
  },
  {
   "cell_type": "markdown",
   "metadata": {
    "id": "VIdCM5tPfv0b"
   },
   "source": [
    "#### accessing single elements"
   ]
  },
  {
   "cell_type": "markdown",
   "metadata": {
    "id": "-jR8beXIf3_Y"
   },
   "source": [
    "We can access to the html tags appending to the correspoding soup a dot . and the name of the corresponding tag, ie:\n",
    "\n",
    "* title\n",
    "* body\n",
    "* p\n",
    "* a\n",
    "\n",
    "In case of having multiple instances of the tag, **only the first one will be retrieved**.\n",
    "\n"
   ]
  },
  {
   "cell_type": "code",
   "execution_count": 8,
   "metadata": {},
   "outputs": [
    {
     "name": "stdout",
     "output_type": "stream",
     "text": [
      "<!DOCTYPE html>\n",
      "<html>\n",
      " <head>\n",
      "  <title>\n",
      "   The Dormouse's story\n",
      "  </title>\n",
      " </head>\n",
      " <body>\n",
      "  <p class=\"title\">\n",
      "   <b>\n",
      "    The Dormouse's story\n",
      "   </b>\n",
      "  </p>\n",
      "  <p class=\"story\">\n",
      "   Once upon a time there were three little sisters; and their names were\n",
      "   <a class=\"sister\" href=\"http://example.com/elsie\" id=\"link1\">\n",
      "    Elsie\n",
      "   </a>\n",
      "   ,\n",
      "   <a class=\"sister\" href=\"http://example.com/lacie\" id=\"link2\">\n",
      "    Lacie\n",
      "   </a>\n",
      "   and\n",
      "   <a class=\"sister\" href=\"http://example.com/tillie\" id=\"link3\">\n",
      "    Tillie\n",
      "   </a>\n",
      "   ;\n",
      "and they lived at the bottom of a well.\n",
      "  </p>\n",
      "  <p class=\"story\">\n",
      "   ...\n",
      "  </p>\n",
      " </body>\n",
      "</html>\n",
      "\n"
     ]
    }
   ],
   "source": [
    "print(soup.prettify())"
   ]
  },
  {
   "cell_type": "code",
   "execution_count": 7,
   "metadata": {
    "colab": {
     "base_uri": "https://localhost:8080/"
    },
    "executionInfo": {
     "elapsed": 250,
     "status": "ok",
     "timestamp": 1623659123998,
     "user": {
      "displayName": "Ignacio Soteras",
      "photoUrl": "",
      "userId": "02050793736257155229"
     },
     "user_tz": -120
    },
    "id": "hMBwVZqdcVmq",
    "outputId": "a7477518-c9c8-489a-93e3-dc4e2bd6f094"
   },
   "outputs": [
    {
     "data": {
      "text/plain": [
       "<title>The Dormouse's story</title>"
      ]
     },
     "execution_count": 7,
     "metadata": {},
     "output_type": "execute_result"
    }
   ],
   "source": [
    "soup.title"
   ]
  },
  {
   "cell_type": "code",
   "execution_count": 9,
   "metadata": {
    "colab": {
     "base_uri": "https://localhost:8080/"
    },
    "executionInfo": {
     "elapsed": 232,
     "status": "ok",
     "timestamp": 1623659144801,
     "user": {
      "displayName": "Ignacio Soteras",
      "photoUrl": "",
      "userId": "02050793736257155229"
     },
     "user_tz": -120
    },
    "id": "OZCWCKm8E8Yz",
    "outputId": "10a95488-1f9b-459b-b32e-b4d633e63165"
   },
   "outputs": [
    {
     "data": {
      "text/plain": [
       "<body>\n",
       "<p class=\"title\"><b>The Dormouse's story</b></p>\n",
       "<p class=\"story\">Once upon a time there were three little sisters; and their names were\n",
       "<a class=\"sister\" href=\"http://example.com/elsie\" id=\"link1\">Elsie</a>,\n",
       "<a class=\"sister\" href=\"http://example.com/lacie\" id=\"link2\">Lacie</a> and\n",
       "<a class=\"sister\" href=\"http://example.com/tillie\" id=\"link3\">Tillie</a>;\n",
       "and they lived at the bottom of a well.</p>\n",
       "<p class=\"story\">...</p>\n",
       "</body>"
      ]
     },
     "execution_count": 9,
     "metadata": {},
     "output_type": "execute_result"
    }
   ],
   "source": [
    "soup.body"
   ]
  },
  {
   "cell_type": "code",
   "execution_count": 10,
   "metadata": {
    "colab": {
     "base_uri": "https://localhost:8080/"
    },
    "executionInfo": {
     "elapsed": 263,
     "status": "ok",
     "timestamp": 1623659174494,
     "user": {
      "displayName": "Ignacio Soteras",
      "photoUrl": "",
      "userId": "02050793736257155229"
     },
     "user_tz": -120
    },
    "id": "KtSRzfCbFG4w",
    "outputId": "2afb30b4-f211-413c-9440-65402efb01a6"
   },
   "outputs": [
    {
     "data": {
      "text/plain": [
       "<p class=\"title\"><b>The Dormouse's story</b></p>"
      ]
     },
     "execution_count": 10,
     "metadata": {},
     "output_type": "execute_result"
    }
   ],
   "source": [
    "soup.p"
   ]
  },
  {
   "cell_type": "markdown",
   "metadata": {
    "id": "MoRJCMXTfv0b"
   },
   "source": [
    "#### finding all elements of a tag with find_all()"
   ]
  },
  {
   "cell_type": "markdown",
   "metadata": {
    "id": "eoNXQuvtcviH"
   },
   "source": [
    "If we want to retrieve all the elements which have a particular attribute (id, class), we can provide a dictionaty two `find_all()`. Moreover, if one element, has more than one `class` we can add the corresponding classes as elements of a list inside the dictionary."
   ]
  },
  {
   "cell_type": "code",
   "execution_count": 13,
   "metadata": {},
   "outputs": [
    {
     "data": {
      "text/plain": [
       "<p class=\"title\"><b>The Dormouse's story</b></p>"
      ]
     },
     "execution_count": 13,
     "metadata": {},
     "output_type": "execute_result"
    }
   ],
   "source": [
    "soup.find(\"p\") # to find first element of a given nature (anchor, div, span)"
   ]
  },
  {
   "cell_type": "code",
   "execution_count": 12,
   "metadata": {
    "colab": {
     "base_uri": "https://localhost:8080/"
    },
    "executionInfo": {
     "elapsed": 237,
     "status": "ok",
     "timestamp": 1623659228199,
     "user": {
      "displayName": "Ignacio Soteras",
      "photoUrl": "",
      "userId": "02050793736257155229"
     },
     "user_tz": -120
    },
    "id": "utGInEHqfv0b",
    "outputId": "96bab272-9ffb-416c-99c9-d4e8e000329d"
   },
   "outputs": [
    {
     "data": {
      "text/plain": [
       "[<p class=\"title\"><b>The Dormouse's story</b></p>,\n",
       " <p class=\"story\">Once upon a time there were three little sisters; and their names were\n",
       " <a class=\"sister\" href=\"http://example.com/elsie\" id=\"link1\">Elsie</a>,\n",
       " <a class=\"sister\" href=\"http://example.com/lacie\" id=\"link2\">Lacie</a> and\n",
       " <a class=\"sister\" href=\"http://example.com/tillie\" id=\"link3\">Tillie</a>;\n",
       " and they lived at the bottom of a well.</p>,\n",
       " <p class=\"story\">...</p>]"
      ]
     },
     "execution_count": 12,
     "metadata": {},
     "output_type": "execute_result"
    }
   ],
   "source": [
    "soup.find_all(\"p\") # to find all elements of a given nature"
   ]
  },
  {
   "cell_type": "code",
   "execution_count": 11,
   "metadata": {
    "colab": {
     "base_uri": "https://localhost:8080/"
    },
    "executionInfo": {
     "elapsed": 249,
     "status": "ok",
     "timestamp": 1623659270809,
     "user": {
      "displayName": "Ignacio Soteras",
      "photoUrl": "",
      "userId": "02050793736257155229"
     },
     "user_tz": -120
    },
    "id": "lJ1CLkYNoiQ8",
    "outputId": "8eb17ed7-739c-4fc0-d910-9a37b9aa301c"
   },
   "outputs": [
    {
     "data": {
      "text/plain": [
       "3"
      ]
     },
     "execution_count": 11,
     "metadata": {},
     "output_type": "execute_result"
    }
   ],
   "source": [
    "len(soup.find_all(\"p\"))"
   ]
  },
  {
   "cell_type": "code",
   "execution_count": 14,
   "metadata": {
    "colab": {
     "base_uri": "https://localhost:8080/"
    },
    "executionInfo": {
     "elapsed": 248,
     "status": "ok",
     "timestamp": 1623659294064,
     "user": {
      "displayName": "Ignacio Soteras",
      "photoUrl": "",
      "userId": "02050793736257155229"
     },
     "user_tz": -120
    },
    "id": "obx8VlHqom6Z",
    "outputId": "43a55203-edb6-474e-f519-91f82f1a57e8"
   },
   "outputs": [
    {
     "data": {
      "text/plain": [
       "<p class=\"story\">...</p>"
      ]
     },
     "execution_count": 14,
     "metadata": {},
     "output_type": "execute_result"
    }
   ],
   "source": [
    "soup.find_all(\"p\")[-1]"
   ]
  },
  {
   "cell_type": "code",
   "execution_count": 15,
   "metadata": {
    "colab": {
     "base_uri": "https://localhost:8080/"
    },
    "executionInfo": {
     "elapsed": 220,
     "status": "ok",
     "timestamp": 1623659300497,
     "user": {
      "displayName": "Ignacio Soteras",
      "photoUrl": "",
      "userId": "02050793736257155229"
     },
     "user_tz": -120
    },
    "id": "h7uLFXeBFd0M",
    "outputId": "f213ec5a-7beb-4cc2-ca04-843ca92de70f"
   },
   "outputs": [
    {
     "data": {
      "text/plain": [
       "[<p class=\"title\"><b>The Dormouse's story</b></p>,\n",
       " <p class=\"story\">Once upon a time there were three little sisters; and their names were\n",
       " <a class=\"sister\" href=\"http://example.com/elsie\" id=\"link1\">Elsie</a>,\n",
       " <a class=\"sister\" href=\"http://example.com/lacie\" id=\"link2\">Lacie</a> and\n",
       " <a class=\"sister\" href=\"http://example.com/tillie\" id=\"link3\">Tillie</a>;\n",
       " and they lived at the bottom of a well.</p>,\n",
       " <p class=\"story\">...</p>]"
      ]
     },
     "execution_count": 15,
     "metadata": {},
     "output_type": "execute_result"
    }
   ],
   "source": [
    "soup.find_all(\"p\")"
   ]
  },
  {
   "cell_type": "code",
   "execution_count": 22,
   "metadata": {
    "colab": {
     "base_uri": "https://localhost:8080/"
    },
    "executionInfo": {
     "elapsed": 216,
     "status": "ok",
     "timestamp": 1623659321337,
     "user": {
      "displayName": "Ignacio Soteras",
      "photoUrl": "",
      "userId": "02050793736257155229"
     },
     "user_tz": -120
    },
    "id": "HiVk48hFFm9w",
    "outputId": "c05f2308-fb0f-47de-93f2-4663f9f182c2"
   },
   "outputs": [
    {
     "data": {
      "text/plain": [
       "[<a class=\"sister\" href=\"http://example.com/elsie\" id=\"link1\">Elsie</a>,\n",
       " <a class=\"sister\" href=\"http://example.com/lacie\" id=\"link2\">Lacie</a>,\n",
       " <a class=\"sister\" href=\"http://example.com/tillie\" id=\"link3\">Tillie</a>]"
      ]
     },
     "execution_count": 22,
     "metadata": {},
     "output_type": "execute_result"
    }
   ],
   "source": [
    "soup.find_all(\"a\")"
   ]
  },
  {
   "cell_type": "markdown",
   "metadata": {
    "id": "Brn5hektHdoP"
   },
   "source": [
    "We can restrict which tag we want, providing additional tag's atttributes like the \"class\" with a dictionary."
   ]
  },
  {
   "cell_type": "code",
   "execution_count": 26,
   "metadata": {
    "colab": {
     "base_uri": "https://localhost:8080/"
    },
    "executionInfo": {
     "elapsed": 249,
     "status": "ok",
     "timestamp": 1623659395532,
     "user": {
      "displayName": "Ignacio Soteras",
      "photoUrl": "",
      "userId": "02050793736257155229"
     },
     "user_tz": -120
    },
    "id": "wBW4f253F1J2",
    "outputId": "4b918576-0559-4334-d322-6884ef0d95c9"
   },
   "outputs": [
    {
     "data": {
      "text/plain": [
       "[<p class=\"story\">Once upon a time there were three little sisters; and their names were\n",
       " <a class=\"sister\" href=\"http://example.com/elsie\" id=\"link1\">Elsie</a>,\n",
       " <a class=\"sister\" href=\"http://example.com/lacie\" id=\"link2\">Lacie</a> and\n",
       " <a class=\"sister\" href=\"http://example.com/tillie\" id=\"link3\">Tillie</a>;\n",
       " and they lived at the bottom of a well.</p>,\n",
       " <p class=\"story\">...</p>]"
      ]
     },
     "execution_count": 26,
     "metadata": {},
     "output_type": "execute_result"
    }
   ],
   "source": [
    "soup.find_all(\"p\", {\"class\":\"story\"})"
   ]
  },
  {
   "cell_type": "code",
   "execution_count": 27,
   "metadata": {
    "colab": {
     "base_uri": "https://localhost:8080/"
    },
    "executionInfo": {
     "elapsed": 224,
     "status": "ok",
     "timestamp": 1623659427727,
     "user": {
      "displayName": "Ignacio Soteras",
      "photoUrl": "",
      "userId": "02050793736257155229"
     },
     "user_tz": -120
    },
    "id": "bTWlv2rbGG_-",
    "outputId": "c28ee631-c4a2-4705-bef0-82c05b1d43be"
   },
   "outputs": [
    {
     "data": {
      "text/plain": [
       "<p class=\"story\">Once upon a time there were three little sisters; and their names were\n",
       "<a class=\"sister\" href=\"http://example.com/elsie\" id=\"link1\">Elsie</a>,\n",
       "<a class=\"sister\" href=\"http://example.com/lacie\" id=\"link2\">Lacie</a> and\n",
       "<a class=\"sister\" href=\"http://example.com/tillie\" id=\"link3\">Tillie</a>;\n",
       "and they lived at the bottom of a well.</p>"
      ]
     },
     "execution_count": 27,
     "metadata": {},
     "output_type": "execute_result"
    }
   ],
   "source": [
    "soup.find_all(\"p\", {\"class\":\"story\"})[0]"
   ]
  },
  {
   "cell_type": "code",
   "execution_count": 28,
   "metadata": {
    "colab": {
     "base_uri": "https://localhost:8080/"
    },
    "executionInfo": {
     "elapsed": 287,
     "status": "ok",
     "timestamp": 1623659448575,
     "user": {
      "displayName": "Ignacio Soteras",
      "photoUrl": "",
      "userId": "02050793736257155229"
     },
     "user_tz": -120
    },
    "id": "oxEI0QFpGKzp",
    "outputId": "781c0d6f-858e-4d16-bd33-8d3349b52fdc"
   },
   "outputs": [
    {
     "data": {
      "text/plain": [
       "<p class=\"story\">...</p>"
      ]
     },
     "execution_count": 28,
     "metadata": {},
     "output_type": "execute_result"
    }
   ],
   "source": [
    "soup.find_all(\"p\", {\"class\":\"story\"})[-1]"
   ]
  },
  {
   "cell_type": "code",
   "execution_count": 29,
   "metadata": {},
   "outputs": [
    {
     "data": {
      "text/plain": [
       "\n",
       "<!DOCTYPE html>\n",
       "\n",
       "<html><head><title>The Dormouse's story</title></head>\n",
       "<body>\n",
       "<p class=\"title\"><b>The Dormouse's story</b></p>\n",
       "<p class=\"story\">Once upon a time there were three little sisters; and their names were\n",
       "<a class=\"sister\" href=\"http://example.com/elsie\" id=\"link1\">Elsie</a>,\n",
       "<a class=\"sister\" href=\"http://example.com/lacie\" id=\"link2\">Lacie</a> and\n",
       "<a class=\"sister\" href=\"http://example.com/tillie\" id=\"link3\">Tillie</a>;\n",
       "and they lived at the bottom of a well.</p>\n",
       "<p class=\"story\">...</p>\n",
       "</body></html>"
      ]
     },
     "execution_count": 29,
     "metadata": {},
     "output_type": "execute_result"
    }
   ],
   "source": [
    "soup"
   ]
  },
  {
   "cell_type": "code",
   "execution_count": 30,
   "metadata": {
    "colab": {
     "base_uri": "https://localhost:8080/"
    },
    "executionInfo": {
     "elapsed": 224,
     "status": "ok",
     "timestamp": 1623659535982,
     "user": {
      "displayName": "Ignacio Soteras",
      "photoUrl": "",
      "userId": "02050793736257155229"
     },
     "user_tz": -120
    },
    "id": "k5FhvsBsGYUk",
    "outputId": "f9edaa63-bf60-40db-d903-2ffe0eddce58"
   },
   "outputs": [
    {
     "data": {
      "text/plain": [
       "[<a class=\"sister\" href=\"http://example.com/lacie\" id=\"link2\">Lacie</a>]"
      ]
     },
     "execution_count": 30,
     "metadata": {},
     "output_type": "execute_result"
    }
   ],
   "source": [
    "soup.find_all(\"a\", {\"id\":\"link2\"})"
   ]
  },
  {
   "cell_type": "markdown",
   "metadata": {
    "id": "WhiK3WuHfv0c"
   },
   "source": [
    "#### Using css selectors\n",
    "\n",
    "Let's learn first the syntax of css selectors playing this game: https://flukeout.github.io/\n",
    "\n",
    "Everyone should reach level 6!"
   ]
  },
  {
   "cell_type": "markdown",
   "metadata": {
    "id": "JuC5Yur2d_H1"
   },
   "source": [
    "In order to specify a hierarchy, we can use the `>`:\n",
    "\n",
    "soup.select(\"tag1 > tag2\") will select all the tag2 inside tag1."
   ]
  },
  {
   "cell_type": "code",
   "execution_count": 31,
   "metadata": {},
   "outputs": [
    {
     "data": {
      "text/plain": [
       "\n",
       "<!DOCTYPE html>\n",
       "\n",
       "<html><head><title>The Dormouse's story</title></head>\n",
       "<body>\n",
       "<p class=\"title\"><b>The Dormouse's story</b></p>\n",
       "<p class=\"story\">Once upon a time there were three little sisters; and their names were\n",
       "<a class=\"sister\" href=\"http://example.com/elsie\" id=\"link1\">Elsie</a>,\n",
       "<a class=\"sister\" href=\"http://example.com/lacie\" id=\"link2\">Lacie</a> and\n",
       "<a class=\"sister\" href=\"http://example.com/tillie\" id=\"link3\">Tillie</a>;\n",
       "and they lived at the bottom of a well.</p>\n",
       "<p class=\"story\">...</p>\n",
       "</body></html>"
      ]
     },
     "execution_count": 31,
     "metadata": {},
     "output_type": "execute_result"
    }
   ],
   "source": [
    "soup"
   ]
  },
  {
   "cell_type": "code",
   "execution_count": 36,
   "metadata": {},
   "outputs": [
    {
     "name": "stdout",
     "output_type": "stream",
     "text": [
      "Elsie\n",
      "Lacie\n",
      "Tillie\n"
     ]
    }
   ],
   "source": [
    "# get all sister names\n",
    "for i in soup.select(\"p > a\"):\n",
    "    print(i.get_text())"
   ]
  },
  {
   "cell_type": "code",
   "execution_count": 40,
   "metadata": {},
   "outputs": [
    {
     "data": {
      "text/plain": [
       "[<a class=\"sister\" href=\"http://example.com/lacie\" id=\"link2\">Lacie</a>]"
      ]
     },
     "execution_count": 40,
     "metadata": {},
     "output_type": "execute_result"
    }
   ],
   "source": [
    "soup.select(\"a#link2\")"
   ]
  },
  {
   "cell_type": "code",
   "execution_count": 42,
   "metadata": {},
   "outputs": [
    {
     "data": {
      "text/plain": [
       "<a class=\"sister\" href=\"http://example.com/elsie\" id=\"link1\">Elsie</a>"
      ]
     },
     "execution_count": 42,
     "metadata": {},
     "output_type": "execute_result"
    }
   ],
   "source": [
    "soup.select(\"a\")[0]"
   ]
  },
  {
   "cell_type": "code",
   "execution_count": 41,
   "metadata": {},
   "outputs": [
    {
     "data": {
      "text/plain": [
       "[<p class=\"title\"><b>The Dormouse's story</b></p>]"
      ]
     },
     "execution_count": 41,
     "metadata": {},
     "output_type": "execute_result"
    }
   ],
   "source": [
    "soup.select(\"p.title\")"
   ]
  },
  {
   "cell_type": "code",
   "execution_count": 32,
   "metadata": {
    "colab": {
     "base_uri": "https://localhost:8080/"
    },
    "executionInfo": {
     "elapsed": 247,
     "status": "ok",
     "timestamp": 1623659638469,
     "user": {
      "displayName": "Ignacio Soteras",
      "photoUrl": "",
      "userId": "02050793736257155229"
     },
     "user_tz": -120
    },
    "id": "Etr_Rvfpfv0c",
    "outputId": "68be854c-8b8f-4e47-8a26-3b0cb48535b6"
   },
   "outputs": [
    {
     "data": {
      "text/plain": [
       "[<b>The Dormouse's story</b>]"
      ]
     },
     "execution_count": 32,
     "metadata": {},
     "output_type": "execute_result"
    }
   ],
   "source": [
    "soup.select(\"p > b\")"
   ]
  },
  {
   "cell_type": "code",
   "execution_count": 33,
   "metadata": {
    "colab": {
     "base_uri": "https://localhost:8080/",
     "height": 35
    },
    "executionInfo": {
     "elapsed": 214,
     "status": "ok",
     "timestamp": 1623659702344,
     "user": {
      "displayName": "Ignacio Soteras",
      "photoUrl": "",
      "userId": "02050793736257155229"
     },
     "user_tz": -120
    },
    "id": "mGbxUzAbH3yG",
    "outputId": "228cd849-dcc5-48b5-af49-71f3457c4c2c"
   },
   "outputs": [
    {
     "data": {
      "text/plain": [
       "\"The Dormouse's story\""
      ]
     },
     "execution_count": 33,
     "metadata": {},
     "output_type": "execute_result"
    }
   ],
   "source": [
    "soup.select(\"p > b\")[0].get_text()"
   ]
  },
  {
   "cell_type": "code",
   "execution_count": 34,
   "metadata": {
    "colab": {
     "base_uri": "https://localhost:8080/"
    },
    "executionInfo": {
     "elapsed": 232,
     "status": "ok",
     "timestamp": 1623659732537,
     "user": {
      "displayName": "Ignacio Soteras",
      "photoUrl": "",
      "userId": "02050793736257155229"
     },
     "user_tz": -120
    },
    "id": "ycbyHntwqURu",
    "outputId": "6082cdd3-f221-4c35-bff3-e889e311d737"
   },
   "outputs": [
    {
     "data": {
      "text/plain": [
       "str"
      ]
     },
     "execution_count": 34,
     "metadata": {},
     "output_type": "execute_result"
    }
   ],
   "source": [
    "type(soup.select(\"p > b\")[0].get_text())"
   ]
  },
  {
   "cell_type": "markdown",
   "metadata": {
    "id": "wXIg01WCfv0c"
   },
   "source": [
    "We can combine the `select()` method with other bs4 methods, such as `get_text()`.\n",
    "\n",
    "`get_text()`, however, can only be applied to single elements, while `select()` might return multiple elements. It's common to iterate through the output of `select()`"
   ]
  },
  {
   "cell_type": "code",
   "execution_count": null,
   "metadata": {
    "colab": {
     "base_uri": "https://localhost:8080/"
    },
    "executionInfo": {
     "elapsed": 228,
     "status": "ok",
     "timestamp": 1623659894515,
     "user": {
      "displayName": "Ignacio Soteras",
      "photoUrl": "",
      "userId": "02050793736257155229"
     },
     "user_tz": -120
    },
    "id": "SDKEs8Spfv0c",
    "outputId": "7b5ff6cc-6fad-478e-848a-6575be54c5b8"
   },
   "outputs": [],
   "source": [
    "[elem.get_text().replace(\"\\n\",\" \") for elem in soup.select(\"p\")]"
   ]
  },
  {
   "cell_type": "markdown",
   "metadata": {
    "id": "MW4Pe9Utfv0c"
   },
   "source": [
    "### Your turn:\n",
    "\n",
    "Write code to print the following contents (not including the html tags, only human-readable text): \n",
    "\n",
    "1. All the \"fun facts\". \n",
    "\n",
    "2. The names of all the places. \n",
    "\n",
    "3. The content (name and fact) of all the cities (only cities, not countries!) \n",
    "\n",
    "4. The names (not facts!) of all the cities (not countries!)"
   ]
  },
  {
   "cell_type": "code",
   "execution_count": 52,
   "metadata": {},
   "outputs": [
    {
     "name": "stdout",
     "output_type": "stream",
     "text": [
      "London is the most popular tourist destination in the world.\n",
      "Paris was originally a Roman City called Lutetia.\n",
      "Spain produces 43,8% of all the world's Olive Oil.\n"
     ]
    }
   ],
   "source": [
    "# 1.\n",
    "soup.select(\"p\")[0].get_text()\n",
    "soup.select(\"p\")\n",
    "\n",
    "for i in soup.select(\"p\"):\n",
    "    print(i.get_text())"
   ]
  },
  {
   "cell_type": "code",
   "execution_count": 54,
   "metadata": {},
   "outputs": [
    {
     "name": "stdout",
     "output_type": "stream",
     "text": [
      "London\n",
      "Paris\n",
      "Spain\n"
     ]
    }
   ],
   "source": [
    "# 2.\n",
    "soup.select(\"p\")[0].get_text()\n",
    "soup.select(\"h2\")\n",
    "\n",
    "for i in soup.select(\"h2\"):\n",
    "    print(i.get_text())"
   ]
  },
  {
   "cell_type": "code",
   "execution_count": 57,
   "metadata": {},
   "outputs": [
    {
     "name": "stdout",
     "output_type": "stream",
     "text": [
      "\n",
      "London\n",
      "London is the most popular tourist destination in the world.\n",
      "\n",
      "\n",
      "Paris\n",
      "Paris was originally a Roman City called Lutetia.\n",
      "\n"
     ]
    }
   ],
   "source": [
    "# 3.\n",
    "for i in soup.select(\".city\"):\n",
    "    print(i.get_text())"
   ]
  },
  {
   "cell_type": "code",
   "execution_count": 62,
   "metadata": {},
   "outputs": [
    {
     "name": "stdout",
     "output_type": "stream",
     "text": [
      "London\n",
      "Paris\n"
     ]
    }
   ],
   "source": [
    "# 4.\n",
    "\n",
    "for i in soup.select(\".city > h2\"):\n",
    "    print(i.get_text())"
   ]
  },
  {
   "cell_type": "code",
   "execution_count": 59,
   "metadata": {},
   "outputs": [
    {
     "data": {
      "text/plain": [
       "<div class=\"city\">\n",
       "<h2>London</h2>\n",
       "<p>London is the most popular tourist destination in the world.</p>\n",
       "</div>"
      ]
     },
     "execution_count": 59,
     "metadata": {},
     "output_type": "execute_result"
    }
   ],
   "source": [
    "soup.select(\".city\")[0]"
   ]
  },
  {
   "cell_type": "code",
   "execution_count": 45,
   "metadata": {
    "executionInfo": {
     "elapsed": 233,
     "status": "ok",
     "timestamp": 1623660096177,
     "user": {
      "displayName": "Ignacio Soteras",
      "photoUrl": "",
      "userId": "02050793736257155229"
     },
     "user_tz": -120
    },
    "id": "T4rvs6ocfv0c"
   },
   "outputs": [],
   "source": [
    "geography = \"\"\"\n",
    "<!DOCTYPE html>\n",
    "<html>\n",
    "<head> Geography</head>\n",
    "<body>\n",
    "\n",
    "<div class=\"city\">\n",
    "  <h2>London</h2>\n",
    "  <p>London is the most popular tourist destination in the world.</p>\n",
    "</div>\n",
    "\n",
    "<div class=\"city\">\n",
    "  <h2>Paris</h2>\n",
    "  <p>Paris was originally a Roman City called Lutetia.</p>\n",
    "</div>\n",
    "\n",
    "<div class=\"country\">\n",
    "  <h2>Spain</h2>\n",
    "  <p>Spain produces 43,8% of all the world's Olive Oil.</p>\n",
    "</div>\n",
    "\n",
    "</body>\n",
    "</html>\n",
    "\"\"\""
   ]
  },
  {
   "cell_type": "code",
   "execution_count": 46,
   "metadata": {
    "executionInfo": {
     "elapsed": 224,
     "status": "ok",
     "timestamp": 1623660103889,
     "user": {
      "displayName": "Ignacio Soteras",
      "photoUrl": "",
      "userId": "02050793736257155229"
     },
     "user_tz": -120
    },
    "id": "ZVgkzY_FrmHC"
   },
   "outputs": [],
   "source": [
    "soup = BeautifulSoup(geography,'html.parser')"
   ]
  },
  {
   "cell_type": "code",
   "execution_count": null,
   "metadata": {},
   "outputs": [],
   "source": [
    "city_list = []\n",
    "for x in soup.find_all(\"p\"):\n",
    "    city_list.append(x.get_text())"
   ]
  },
  {
   "cell_type": "code",
   "execution_count": null,
   "metadata": {},
   "outputs": [],
   "source": [
    "city_list"
   ]
  },
  {
   "cell_type": "code",
   "execution_count": null,
   "metadata": {
    "colab": {
     "base_uri": "https://localhost:8080/"
    },
    "executionInfo": {
     "elapsed": 247,
     "status": "ok",
     "timestamp": 1623660210116,
     "user": {
      "displayName": "Ignacio Soteras",
      "photoUrl": "",
      "userId": "02050793736257155229"
     },
     "user_tz": -120
    },
    "id": "HVzb0sFLrxSM",
    "outputId": "75cb4864-edef-4326-8224-ba230edad2a5"
   },
   "outputs": [],
   "source": [
    "[elem.get_text() for elem in soup.find_all(\"p\")]"
   ]
  },
  {
   "cell_type": "code",
   "execution_count": null,
   "metadata": {},
   "outputs": [],
   "source": [
    "soup"
   ]
  },
  {
   "cell_type": "code",
   "execution_count": null,
   "metadata": {
    "colab": {
     "base_uri": "https://localhost:8080/"
    },
    "executionInfo": {
     "elapsed": 241,
     "status": "ok",
     "timestamp": 1623660533429,
     "user": {
      "displayName": "Ignacio Soteras",
      "photoUrl": "",
      "userId": "02050793736257155229"
     },
     "user_tz": -120
    },
    "id": "VsCsZ2eVs7IR",
    "outputId": "dc2ae801-1e9c-4b46-d266-9ef67bede722"
   },
   "outputs": [],
   "source": [
    "soup.find_all(\"div\", {\"class\":\"city\"})"
   ]
  },
  {
   "cell_type": "code",
   "execution_count": null,
   "metadata": {
    "colab": {
     "base_uri": "https://localhost:8080/"
    },
    "executionInfo": {
     "elapsed": 233,
     "status": "ok",
     "timestamp": 1623660857175,
     "user": {
      "displayName": "Ignacio Soteras",
      "photoUrl": "",
      "userId": "02050793736257155229"
     },
     "user_tz": -120
    },
    "id": "QoGwa0qsthHQ",
    "outputId": "2820084c-a828-4082-9cfc-a9af5fb2c84c"
   },
   "outputs": [],
   "source": [
    "for elem in soup.find_all(\"div\", {\"class\":\"city\"}):\n",
    "    #print(elem.find_all(\"h2\")[0].get_text())\n",
    "    #print(elem.find_all(\"p\")[0].get_text())\n",
    "    print(\"{}: facts: {}\".format(elem.find_all(\"h2\")[0].get_text(),elem.find_all(\"p\")[0].get_text()))"
   ]
  },
  {
   "cell_type": "code",
   "execution_count": null,
   "metadata": {
    "colab": {
     "base_uri": "https://localhost:8080/"
    },
    "executionInfo": {
     "elapsed": 233,
     "status": "ok",
     "timestamp": 1623660382654,
     "user": {
      "displayName": "Ignacio Soteras",
      "photoUrl": "",
      "userId": "02050793736257155229"
     },
     "user_tz": -120
    },
    "id": "cVwxyn5gsN8w",
    "outputId": "e8139542-064f-4342-c1b6-e10cbfa5d736"
   },
   "outputs": [],
   "source": [
    "[elem.get_text() for elem in soup.select(\"h2\")]"
   ]
  },
  {
   "cell_type": "code",
   "execution_count": null,
   "metadata": {
    "id": "f2783LppIxnt"
   },
   "outputs": [],
   "source": [
    "soup = BeautifulSoup(geography, 'html.parser')"
   ]
  },
  {
   "cell_type": "code",
   "execution_count": null,
   "metadata": {
    "colab": {
     "base_uri": "https://localhost:8080/"
    },
    "executionInfo": {
     "elapsed": 616,
     "status": "ok",
     "timestamp": 1617611404573,
     "user": {
      "displayName": "Ignacio Soteras",
      "photoUrl": "",
      "userId": "02050793736257155229"
     },
     "user_tz": -120
    },
    "id": "M3a38fM1fv0d",
    "outputId": "3be1a472-be6a-4f61-ae26-eb362714db6a"
   },
   "outputs": [],
   "source": [
    "# 1. All the \"fun facts\" using .find_all()\n"
   ]
  },
  {
   "cell_type": "markdown",
   "metadata": {
    "id": "K8Me6MOQJLnS"
   },
   "source": [
    "Get first the tags which contains the text you want"
   ]
  },
  {
   "cell_type": "code",
   "execution_count": null,
   "metadata": {
    "colab": {
     "base_uri": "https://localhost:8080/"
    },
    "executionInfo": {
     "elapsed": 485,
     "status": "ok",
     "timestamp": 1617611950920,
     "user": {
      "displayName": "Ignacio Soteras",
      "photoUrl": "",
      "userId": "02050793736257155229"
     },
     "user_tz": -120
    },
    "id": "P-S9q5gGLsKi",
    "outputId": "c8a01ba5-c34f-4cb0-937c-16d1b2d00651"
   },
   "outputs": [],
   "source": []
  },
  {
   "cell_type": "markdown",
   "metadata": {
    "id": "EHcsfKj2JXIq"
   },
   "source": [
    "Now get the text inside"
   ]
  },
  {
   "cell_type": "code",
   "execution_count": null,
   "metadata": {
    "colab": {
     "base_uri": "https://localhost:8080/"
    },
    "executionInfo": {
     "elapsed": 558,
     "status": "ok",
     "timestamp": 1617612022604,
     "user": {
      "displayName": "Ignacio Soteras",
      "photoUrl": "",
      "userId": "02050793736257155229"
     },
     "user_tz": -120
    },
    "id": "q5aGONlMKP8d",
    "outputId": "b08b1e83-cdf0-4487-cf56-7fc92a540871"
   },
   "outputs": [],
   "source": []
  },
  {
   "cell_type": "code",
   "execution_count": null,
   "metadata": {
    "colab": {
     "base_uri": "https://localhost:8080/"
    },
    "executionInfo": {
     "elapsed": 510,
     "status": "ok",
     "timestamp": 1617612119343,
     "user": {
      "displayName": "Ignacio Soteras",
      "photoUrl": "",
      "userId": "02050793736257155229"
     },
     "user_tz": -120
    },
    "id": "YI7-2DHofv0d",
    "outputId": "c7939c7c-3012-49fe-b515-8e8c7766c681"
   },
   "outputs": [],
   "source": [
    "# 2. The names of all the places."
   ]
  },
  {
   "cell_type": "code",
   "execution_count": null,
   "metadata": {
    "colab": {
     "base_uri": "https://localhost:8080/"
    },
    "executionInfo": {
     "elapsed": 491,
     "status": "ok",
     "timestamp": 1617612820093,
     "user": {
      "displayName": "Ignacio Soteras",
      "photoUrl": "",
      "userId": "02050793736257155229"
     },
     "user_tz": -120
    },
    "id": "hy63TPXdfv0d",
    "outputId": "fefccd17-c720-435b-ea21-c491ce0d5fae"
   },
   "outputs": [],
   "source": [
    "# 3. All the content (name and fact) of all the cities (only cities, not countries!)\n"
   ]
  },
  {
   "cell_type": "code",
   "execution_count": null,
   "metadata": {
    "colab": {
     "base_uri": "https://localhost:8080/"
    },
    "executionInfo": {
     "elapsed": 549,
     "status": "ok",
     "timestamp": 1617613261781,
     "user": {
      "displayName": "Ignacio Soteras",
      "photoUrl": "",
      "userId": "02050793736257155229"
     },
     "user_tz": -120
    },
    "id": "CnBlFHVDPYhH",
    "outputId": "c2d6de35-5c75-4177-849d-e7dc52a285ea"
   },
   "outputs": [],
   "source": [
    "for elem in soup.find_all(\"div\", {\"class\":\"city\"}):\n",
    "    #print(elem.h2.get_text() + ': ' + elem.p.get_text())\n",
    "    print(elem.h2.get_text() + ': ' + ' '.join(elem.p.get_text().split()[1:]))\n",
    "    #print(' '.join(elem.p.get_text().split()[1:]))"
   ]
  },
  {
   "cell_type": "code",
   "execution_count": null,
   "metadata": {
    "colab": {
     "base_uri": "https://localhost:8080/"
    },
    "executionInfo": {
     "elapsed": 522,
     "status": "ok",
     "timestamp": 1617613395985,
     "user": {
      "displayName": "Ignacio Soteras",
      "photoUrl": "",
      "userId": "02050793736257155229"
     },
     "user_tz": -120
    },
    "id": "zgOeRICkfv0d",
    "outputId": "d1ac3639-d7e9-4441-f4c7-7b04bb4f9c03"
   },
   "outputs": [],
   "source": [
    "# 4. The names (not facts!) of all the cities (not countries!)\n"
   ]
  },
  {
   "cell_type": "markdown",
   "metadata": {
    "id": "NRxQOFVefv0d"
   },
   "source": [
    "## Use case: imdb top charts\n",
    "\n",
    "Let's go to https://www.imdb.com/chart/top, where we'll see the top 250 movies according to IMDb ratings.\n",
    "\n",
    "Notice how each movie has the following elements:\n",
    "\n",
    "- Title\n",
    "\n",
    "- Release Year\n",
    "\n",
    "- IMDb rating\n",
    "\n",
    "- Director & main stars (they appear when you hover over the title)\n",
    "\n",
    "Our objective is going to be to scrape this information and store it in a pandas dataframe. We will proceed in steps:\n",
    "\n",
    "1.\n",
    "* Store the titles inside a list of titles\n",
    "* Store the release year inside a list of years\n",
    "* Store the rating inside another list\n",
    "* Store the director and main stars into another list\n",
    "\n",
    "2.\n",
    "* Create a dictionary in which the keys will contain the column names of the dataframe and the values will be the lists created before\n",
    "\n",
    "3.\n",
    "* Create the dataframe from the dictionary\n"
   ]
  },
  {
   "cell_type": "code",
   "execution_count": null,
   "metadata": {
    "executionInfo": {
     "elapsed": 290,
     "status": "ok",
     "timestamp": 1623661542650,
     "user": {
      "displayName": "Ignacio Soteras",
      "photoUrl": "",
      "userId": "02050793736257155229"
     },
     "user_tz": -120
    },
    "id": "2kGrsqbifv0e"
   },
   "outputs": [],
   "source": [
    "# 1. import libraries\n",
    "import requests # to download html code\n",
    "from bs4 import BeautifulSoup # to navigate through the html code\n",
    "import pandas as pd\n",
    "import numpy as np\n",
    "import re"
   ]
  },
  {
   "cell_type": "code",
   "execution_count": null,
   "metadata": {
    "executionInfo": {
     "elapsed": 247,
     "status": "ok",
     "timestamp": 1623661567636,
     "user": {
      "displayName": "Ignacio Soteras",
      "photoUrl": "",
      "userId": "02050793736257155229"
     },
     "user_tz": -120
    },
    "id": "RHJBmCYXfv0e"
   },
   "outputs": [],
   "source": [
    "# 2. find url and store it in a variable\n",
    "url = \"https://www.imdb.com/chart/top\""
   ]
  },
  {
   "cell_type": "code",
   "execution_count": null,
   "metadata": {
    "colab": {
     "base_uri": "https://localhost:8080/"
    },
    "executionInfo": {
     "elapsed": 973,
     "status": "ok",
     "timestamp": 1623661599049,
     "user": {
      "displayName": "Ignacio Soteras",
      "photoUrl": "",
      "userId": "02050793736257155229"
     },
     "user_tz": -120
    },
    "id": "IG1g3BnSfv0e",
    "outputId": "9f4e1216-f08b-45d7-da1d-337f20ea2f2e"
   },
   "outputs": [],
   "source": [
    "# 3. download html with a get request. Use the function request.get() and store the output in response\n",
    "response = requests.get(url)\n",
    "# 200 status code means OK! response.status_code\n",
    "print(response.status_code)"
   ]
  },
  {
   "cell_type": "code",
   "execution_count": null,
   "metadata": {
    "colab": {
     "base_uri": "https://localhost:8080/"
    },
    "executionInfo": {
     "elapsed": 1513,
     "status": "ok",
     "timestamp": 1623661636519,
     "user": {
      "displayName": "Ignacio Soteras",
      "photoUrl": "",
      "userId": "02050793736257155229"
     },
     "user_tz": -120
    },
    "id": "BbC8dbi6fv0e",
    "outputId": "d4ff5150-f650-4cd4-893c-d7ff33c3ff0b"
   },
   "outputs": [],
   "source": [
    "# 4.1. parse html (create the 'soup')\n",
    "soup = BeautifulSoup(response.text, 'html.parser')\n",
    "# 4.2. check that the html code looks like it should\n",
    "print(soup.prettify())"
   ]
  },
  {
   "cell_type": "code",
   "execution_count": null,
   "metadata": {
    "colab": {
     "base_uri": "https://localhost:8080/"
    },
    "executionInfo": {
     "elapsed": 240,
     "status": "ok",
     "timestamp": 1623661960723,
     "user": {
      "displayName": "Ignacio Soteras",
      "photoUrl": "",
      "userId": "02050793736257155229"
     },
     "user_tz": -120
    },
    "id": "2RT09pPLfv0f",
    "outputId": "7e633313-9c0c-42e5-969d-fe318e172eec"
   },
   "outputs": [],
   "source": [
    "# 5. retrieve/extract the desired info (here, you'll paste the \"Selector\" you copied before to get the element that belongs to the top movie)\n",
    "\n",
    "text = soup.select(\"td.titleColumn\")[0].get_text()\n",
    "print(\"Original text: \",text)\n",
    "#\\b(\\w*\\s){1,}\n",
    "#re.search(r\"\\b(\\w*\\s{1}){1,}\",text).group()[:-1]\n",
    "#print(\"Final text: \",re.match(r\"\\b\\w*\\s+\\w*\",text))"
   ]
  },
  {
   "cell_type": "markdown",
   "metadata": {
    "id": "vj-jsAd9KN7n"
   },
   "source": [
    "Let's start creating the list of titles."
   ]
  },
  {
   "cell_type": "code",
   "execution_count": null,
   "metadata": {
    "colab": {
     "base_uri": "https://localhost:8080/"
    },
    "executionInfo": {
     "elapsed": 540,
     "status": "ok",
     "timestamp": 1617616712314,
     "user": {
      "displayName": "Ignacio Soteras",
      "photoUrl": "",
      "userId": "02050793736257155229"
     },
     "user_tz": -120
    },
    "id": "OFPwFMlEdnzD",
    "outputId": "c42c0651-0676-4858-8805-8b6b99d382ac"
   },
   "outputs": [],
   "source": [
    "titles = []"
   ]
  },
  {
   "cell_type": "code",
   "execution_count": null,
   "metadata": {
    "colab": {
     "base_uri": "https://localhost:8080/"
    },
    "executionInfo": {
     "elapsed": 226,
     "status": "ok",
     "timestamp": 1623662135163,
     "user": {
      "displayName": "Ignacio Soteras",
      "photoUrl": "",
      "userId": "02050793736257155229"
     },
     "user_tz": -120
    },
    "id": "RhfQ4Bw7zC7w",
    "outputId": "96312566-02d9-4b5a-dfd4-6c72ef0c022f"
   },
   "outputs": [],
   "source": [
    "titles = [elem.get_text() for elem in soup.select(\"td.titleColumn a\")]\n",
    "len(titles)"
   ]
  },
  {
   "cell_type": "markdown",
   "metadata": {
    "id": "rtRatbZDLLjW"
   },
   "source": [
    "Now the lists of years."
   ]
  },
  {
   "cell_type": "code",
   "execution_count": null,
   "metadata": {
    "colab": {
     "base_uri": "https://localhost:8080/"
    },
    "executionInfo": {
     "elapsed": 492,
     "status": "ok",
     "timestamp": 1617616940139,
     "user": {
      "displayName": "Ignacio Soteras",
      "photoUrl": "",
      "userId": "02050793736257155229"
     },
     "user_tz": -120
    },
    "id": "LtD_rYS4eHvA",
    "outputId": "dc85edbd-4eb6-4686-851c-8e996af1c98a"
   },
   "outputs": [],
   "source": [
    "years = []\n"
   ]
  },
  {
   "cell_type": "code",
   "execution_count": null,
   "metadata": {
    "colab": {
     "base_uri": "https://localhost:8080/"
    },
    "executionInfo": {
     "elapsed": 249,
     "status": "ok",
     "timestamp": 1623662566961,
     "user": {
      "displayName": "Ignacio Soteras",
      "photoUrl": "",
      "userId": "02050793736257155229"
     },
     "user_tz": -120
    },
    "id": "AbSHvfW1zojk",
    "outputId": "0b033a8d-be72-42fe-954b-a2dad5f86a03"
   },
   "outputs": [],
   "source": [
    "years = [int(re.sub(\"\\D\",\"\",elem.get_text())) for elem in soup.find_all(\"span\",{\"class\":\"secondaryInfo\"})]\n",
    "years"
   ]
  },
  {
   "cell_type": "markdown",
   "metadata": {
    "id": "3ZXeNnXiLQWO"
   },
   "source": [
    "Now the ratings."
   ]
  },
  {
   "cell_type": "code",
   "execution_count": null,
   "metadata": {
    "colab": {
     "base_uri": "https://localhost:8080/"
    },
    "executionInfo": {
     "elapsed": 503,
     "status": "ok",
     "timestamp": 1617617142387,
     "user": {
      "displayName": "Ignacio Soteras",
      "photoUrl": "",
      "userId": "02050793736257155229"
     },
     "user_tz": -120
    },
    "id": "gyYMbSyafIiO",
    "outputId": "50ed8ed5-00b5-495b-c26b-a73fab817bbe"
   },
   "outputs": [],
   "source": [
    "#main > div > span > div > div > div.lister > table > tbody > tr:nth-child(1) > td.ratingColumn.imdbRating\n",
    "ratings = []\n"
   ]
  },
  {
   "cell_type": "code",
   "execution_count": null,
   "metadata": {
    "colab": {
     "base_uri": "https://localhost:8080/"
    },
    "executionInfo": {
     "elapsed": 216,
     "status": "ok",
     "timestamp": 1623662866861,
     "user": {
      "displayName": "Ignacio Soteras",
      "photoUrl": "",
      "userId": "02050793736257155229"
     },
     "user_tz": -120
    },
    "id": "1EhrsVQL1a_q",
    "outputId": "2683fcdc-821b-465b-cbce-ad784ab0306a"
   },
   "outputs": [],
   "source": [
    "ratings = [float(elem.get_text()) for elem in soup.select(\"strong\")]\n",
    "ratings"
   ]
  },
  {
   "cell_type": "markdown",
   "metadata": {
    "id": "Wi3jXS3XLWhy"
   },
   "source": [
    "Now the directors"
   ]
  },
  {
   "cell_type": "code",
   "execution_count": null,
   "metadata": {
    "colab": {
     "base_uri": "https://localhost:8080/"
    },
    "executionInfo": {
     "elapsed": 502,
     "status": "ok",
     "timestamp": 1617617547830,
     "user": {
      "displayName": "Ignacio Soteras",
      "photoUrl": "",
      "userId": "02050793736257155229"
     },
     "user_tz": -120
    },
    "id": "Y166PGkuf32I",
    "outputId": "e7e13352-55ae-4a25-9b2f-d989e8769952"
   },
   "outputs": [],
   "source": [
    "#main > div > span > div > div > div.lister > table > tbody > tr:nth-child(1) > td.titleColumn > a\n",
    "directors = []\n"
   ]
  },
  {
   "cell_type": "code",
   "execution_count": null,
   "metadata": {
    "colab": {
     "base_uri": "https://localhost:8080/"
    },
    "executionInfo": {
     "elapsed": 310,
     "status": "ok",
     "timestamp": 1623663168274,
     "user": {
      "displayName": "Ignacio Soteras",
      "photoUrl": "",
      "userId": "02050793736257155229"
     },
     "user_tz": -120
    },
    "id": "2psG8RzV3Hp7",
    "outputId": "e89810b1-ff1c-46ea-fbc3-54421126a2e0"
   },
   "outputs": [],
   "source": [
    "[elem.select(\"a\") for elem in soup.find_all(\"td\", {\"class\":\"titleColumn\"})]"
   ]
  },
  {
   "cell_type": "code",
   "execution_count": null,
   "metadata": {},
   "outputs": [],
   "source": [
    "soup.select(\"td.titleColumn a\")[0]['title']"
   ]
  },
  {
   "cell_type": "code",
   "execution_count": null,
   "metadata": {},
   "outputs": [],
   "source": [
    "soup.select(\"td.titleColumn a\")[0]['title'].split(\" (dir.)\")[0]"
   ]
  },
  {
   "cell_type": "code",
   "execution_count": null,
   "metadata": {
    "colab": {
     "base_uri": "https://localhost:8080/"
    },
    "executionInfo": {
     "elapsed": 229,
     "status": "ok",
     "timestamp": 1623663605300,
     "user": {
      "displayName": "Ignacio Soteras",
      "photoUrl": "",
      "userId": "02050793736257155229"
     },
     "user_tz": -120
    },
    "id": "3sYn3wFD2VD4",
    "outputId": "6b309db5-0721-4849-decf-86e17d4912cc"
   },
   "outputs": [],
   "source": [
    "directors = [elem['title'].split(\" (dir.)\")[0] for elem in soup.select(\"td.titleColumn a\")]\n",
    "directors"
   ]
  },
  {
   "cell_type": "markdown",
   "metadata": {
    "id": "rlHpHcQXLbOp"
   },
   "source": [
    "Finally the stars"
   ]
  },
  {
   "cell_type": "code",
   "execution_count": null,
   "metadata": {
    "colab": {
     "base_uri": "https://localhost:8080/"
    },
    "executionInfo": {
     "elapsed": 513,
     "status": "ok",
     "timestamp": 1617617695495,
     "user": {
      "displayName": "Ignacio Soteras",
      "photoUrl": "",
      "userId": "02050793736257155229"
     },
     "user_tz": -120
    },
    "id": "Nove0H5HhKoo",
    "outputId": "e3acd7eb-bd20-4b37-b214-050f1697d290"
   },
   "outputs": [],
   "source": [
    "stars = []\n"
   ]
  },
  {
   "cell_type": "code",
   "execution_count": null,
   "metadata": {
    "colab": {
     "base_uri": "https://localhost:8080/"
    },
    "executionInfo": {
     "elapsed": 261,
     "status": "ok",
     "timestamp": 1623663765011,
     "user": {
      "displayName": "Ignacio Soteras",
      "photoUrl": "",
      "userId": "02050793736257155229"
     },
     "user_tz": -120
    },
    "id": "9BvoR-kP5KO_",
    "outputId": "0df9b474-a9b0-4e7a-8b3a-95911dad41ba"
   },
   "outputs": [],
   "source": [
    "star1 = [elem['title'].split(\",\")[1][1:] for elem in soup.select(\"td.titleColumn a\")]\n",
    "star1"
   ]
  },
  {
   "cell_type": "code",
   "execution_count": null,
   "metadata": {
    "colab": {
     "base_uri": "https://localhost:8080/"
    },
    "executionInfo": {
     "elapsed": 230,
     "status": "ok",
     "timestamp": 1623663814032,
     "user": {
      "displayName": "Ignacio Soteras",
      "photoUrl": "",
      "userId": "02050793736257155229"
     },
     "user_tz": -120
    },
    "id": "1441JYmC5wqc",
    "outputId": "0f32ce5a-cf1b-4f34-cf0e-f0dc6488714f"
   },
   "outputs": [],
   "source": [
    "star2 = [elem['title'].split(\",\")[2][1:] for elem in soup.select(\"td.titleColumn a\")]\n",
    "star2"
   ]
  },
  {
   "cell_type": "code",
   "execution_count": null,
   "metadata": {},
   "outputs": [],
   "source": [
    "imdb_df = pd.DataFrame({'titles':titles,'rating':ratings,'director':directors, 'star1':star1, 'star2':star2 })"
   ]
  },
  {
   "cell_type": "code",
   "execution_count": null,
   "metadata": {},
   "outputs": [],
   "source": [
    "imdb_df"
   ]
  },
  {
   "cell_type": "markdown",
   "metadata": {
    "id": "p_vs7V7zfv0f"
   },
   "source": [
    "This long selector we copied is kind of long and ugly, isn't it? And it only selects one single movie, while we will want to collect data from all of them. Going from that particular selector to one that's more \"general\" and \"elegant\" is the actual work the web scraper needs to do.\n",
    "\n",
    "In this case, we can play around a bit with different tags and classes, until we notice that all the information about the movies is under the tag <td class=\"titleColumn\">. We're lucky that under this tag there's not much \"trash\", just the info we need."
   ]
  },
  {
   "cell_type": "code",
   "execution_count": null,
   "metadata": {
    "id": "B1wyLv03fv0f"
   },
   "outputs": [],
   "source": []
  },
  {
   "cell_type": "code",
   "execution_count": null,
   "metadata": {
    "id": "rvdY_W3pfv0f",
    "outputId": "afcd3285-625f-4365-c220-084541fadc81"
   },
   "outputs": [],
   "source": [
    "# the director and main stars are in the same tag, but as a value of the attribute \"title\"\n",
    "# we can access attributes as key-value pairs of dictionaries: using [\"key\"] to get the value:\n",
    "\n",
    "# instead of [\"title\"] we could use .get(\"title\"): choose whatever you prefer"
   ]
  },
  {
   "cell_type": "code",
   "execution_count": null,
   "metadata": {
    "id": "x1e53ot7fv0f",
    "outputId": "ad0145c0-2a11-49fd-ea80-bb5fc5019ef4"
   },
   "outputs": [],
   "source": [
    "# the years are inside a 'span' tag with the 'secondaryInfo' class\n",
    "# we also specify the parent tag and its class, which is the same we used before\n",
    "# the years are inside parentheses, but we'll take care of that later\n"
   ]
  },
  {
   "cell_type": "markdown",
   "metadata": {
    "id": "Z9gRhCgTfv0f"
   },
   "source": [
    "#### Building the dataframe"
   ]
  },
  {
   "cell_type": "code",
   "execution_count": null,
   "metadata": {
    "id": "MJtCxCEVfv0g"
   },
   "outputs": [],
   "source": [
    "# Create a list for each of the variables you're scraping\n"
   ]
  },
  {
   "cell_type": "code",
   "execution_count": null,
   "metadata": {
    "colab": {
     "base_uri": "https://localhost:8080/",
     "height": 422
    },
    "executionInfo": {
     "elapsed": 213,
     "status": "ok",
     "timestamp": 1623663983946,
     "user": {
      "displayName": "Ignacio Soteras",
      "photoUrl": "",
      "userId": "02050793736257155229"
     },
     "user_tz": -120
    },
    "id": "nK5V5Vtrfv0g",
    "outputId": "3d2d459c-56bb-45a4-e4f0-6b29c1125213"
   },
   "outputs": [],
   "source": [
    "# Each list becomes a dataframe column\n",
    "#pd.DataFrame()\n",
    "# We want a dataframe in which the columns are: title, year, director, stars\n",
    "pd.DataFrame({'title': titles, 'year': years, 'director': directors, 'stars1': star1, 'stars2': star2, 'rating': ratings})"
   ]
  },
  {
   "cell_type": "markdown",
   "metadata": {
    "id": "2cYDHlJJLn0I"
   },
   "source": [
    "Unfortunatelly the elements contained inside the column stars are lists. We would like to have two columns: one for the first star and another for the second star. "
   ]
  },
  {
   "cell_type": "code",
   "execution_count": null,
   "metadata": {
    "colab": {
     "base_uri": "https://localhost:8080/",
     "height": 419
    },
    "executionInfo": {
     "elapsed": 653,
     "status": "ok",
     "timestamp": 1617618092908,
     "user": {
      "displayName": "Ignacio Soteras",
      "photoUrl": "",
      "userId": "02050793736257155229"
     },
     "user_tz": -120
    },
    "id": "Y2pv7WZYiyeu",
    "outputId": "450c2da0-6fa9-47f1-9b48-964a5dcb8d67"
   },
   "outputs": [],
   "source": [
    "#star1 = []\n",
    "#stat2 = []\n",
    "\n",
    "star1 = [elem[0] for elem in stars]\n",
    "star2 = [elem[1] for elem in stars]\n",
    "\n",
    "pd.DataFrame({'title': titles, 'year': years, 'director': directors, 'star1': star1, 'star2': star2, 'ratings': ratings})"
   ]
  },
  {
   "cell_type": "markdown",
   "metadata": {
    "id": "1F4IAJsofv0g"
   },
   "source": [
    "#### Cleaning the data\n",
    "\n",
    "An inherent part of web scraping is data cleaning. We managed to get the information we needed, but for it to be useful, we still need some extra steps:\n",
    "\n",
    "- Take the year out of the parentheses: we know we can totally do that with regex, but string methods such as str.replace() might be simpler to use.\n",
    "\n",
    "- Split dir_stars into 3 columns, one for each person: \"director\", \"star_1\", \"star_2\". This could have been done by filtering when extracting the data from the html document, but it looks easier afterwards:\n",
    "\n",
    "    - The \"(dir.)\" pattern can be totally removed\n",
    "    - We can split the string at each comma\n",
    "    \n",
    "- Change the data type of the year column to integer."
   ]
  },
  {
   "cell_type": "code",
   "execution_count": null,
   "metadata": {
    "id": "-yHFD44Lfv0g"
   },
   "outputs": [],
   "source": [
    "# year out of the parentheses\n"
   ]
  },
  {
   "cell_type": "code",
   "execution_count": null,
   "metadata": {
    "id": "bxb8XJW-fv0g"
   },
   "outputs": [],
   "source": [
    "# remove \"(dir.)\"\n"
   ]
  },
  {
   "cell_type": "code",
   "execution_count": null,
   "metadata": {
    "id": "4d6jLDq6fv0g"
   },
   "outputs": [],
   "source": [
    "# a column for each person\n"
   ]
  },
  {
   "cell_type": "code",
   "execution_count": null,
   "metadata": {
    "id": "yhaLyC7Efv0g"
   },
   "outputs": [],
   "source": [
    "# year column to integer\n"
   ]
  },
  {
   "cell_type": "code",
   "execution_count": null,
   "metadata": {},
   "outputs": [],
   "source": [
    "url = \"https://www.billboard.com/charts/hot-100/\""
   ]
  },
  {
   "cell_type": "code",
   "execution_count": null,
   "metadata": {},
   "outputs": [],
   "source": [
    "respinse = requests.get(url)"
   ]
  },
  {
   "cell_type": "code",
   "execution_count": null,
   "metadata": {},
   "outputs": [],
   "source": [
    "hot100 = BeautifulSoup(respinse.content)"
   ]
  },
  {
   "cell_type": "code",
   "execution_count": null,
   "metadata": {},
   "outputs": [],
   "source": [
    "hot100"
   ]
  },
  {
   "cell_type": "code",
   "execution_count": null,
   "metadata": {},
   "outputs": [],
   "source": [
    "for row in soup.select(\"li.o-chart-results-list__item\"):\n",
    "    print(row.select(\"span\").get_text(strip=True))"
   ]
  },
  {
   "cell_type": "code",
   "execution_count": null,
   "metadata": {},
   "outputs": [],
   "source": [
    "soup.select(\"span.c_label\")"
   ]
  },
  {
   "cell_type": "code",
   "execution_count": null,
   "metadata": {},
   "outputs": [],
   "source": [
    "soup"
   ]
  },
  {
   "cell_type": "code",
   "execution_count": null,
   "metadata": {},
   "outputs": [],
   "source": []
  }
 ],
 "metadata": {
  "colab": {
   "name": "Web Scraping Code Along - Structure.ipynb",
   "provenance": []
  },
  "kernelspec": {
   "display_name": "Python 3 (ipykernel)",
   "language": "python",
   "name": "python3"
  },
  "language_info": {
   "codemirror_mode": {
    "name": "ipython",
    "version": 3
   },
   "file_extension": ".py",
   "mimetype": "text/x-python",
   "name": "python",
   "nbconvert_exporter": "python",
   "pygments_lexer": "ipython3",
   "version": "3.8.8"
  }
 },
 "nbformat": 4,
 "nbformat_minor": 1
}
