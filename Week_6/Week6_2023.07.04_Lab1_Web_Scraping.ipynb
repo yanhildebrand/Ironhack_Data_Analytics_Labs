{
 "cells": [
  {
   "cell_type": "code",
   "execution_count": 1,
   "metadata": {},
   "outputs": [],
   "source": [
    "# 1. import libraries\n",
    "import requests\n",
    "from bs4 import BeautifulSoup as bs # to navigate through the html code\n",
    "import pandas as pd\n",
    "import numpy as np\n",
    "import re\n",
    "from random import randrange"
   ]
  },
  {
   "cell_type": "code",
   "execution_count": 2,
   "metadata": {},
   "outputs": [],
   "source": [
    "url = \"https://www.billboard.com/charts/hot-100/\""
   ]
  },
  {
   "cell_type": "code",
   "execution_count": 3,
   "metadata": {},
   "outputs": [],
   "source": [
    "response = requests.get(url)"
   ]
  },
  {
   "cell_type": "code",
   "execution_count": 4,
   "metadata": {},
   "outputs": [],
   "source": [
    "hot100 = bs(response.content)"
   ]
  },
  {
   "cell_type": "code",
   "execution_count": 5,
   "metadata": {},
   "outputs": [
    {
     "name": "stdout",
     "output_type": "stream",
     "text": [
      "200\n"
     ]
    }
   ],
   "source": [
    "print(response.status_code)"
   ]
  },
  {
   "cell_type": "code",
   "execution_count": 6,
   "metadata": {},
   "outputs": [],
   "source": [
    "# 4.1. parse html (create the 'soup')\n",
    "soup = bs(response.text, 'html.parser')\n",
    "# 4.2. check that the html code looks like it should\n",
    "#print(soup.prettify())"
   ]
  },
  {
   "cell_type": "code",
   "execution_count": 7,
   "metadata": {},
   "outputs": [
    {
     "name": "stdout",
     "output_type": "stream",
     "text": [
      "Imprint/Promotion Label:\n",
      "Last Night\n",
      "Fast Car\n",
      "Calm Down\n",
      "Flowers\n",
      "All My Life\n",
      "Favorite Song\n",
      "Barbie World\n",
      "Karma\n",
      "Kill Bill\n",
      "Creepin'\n",
      "Snooze\n",
      "Fukumean\n",
      "Cruel Summer\n",
      "Ella Baila Sola\n",
      "Sure Thing\n",
      "Anti-Hero\n",
      "Something In The Orange\n",
      "Need A Favor\n",
      "Oh U Went\n",
      "Die For You\n",
      "You Proof\n",
      "Thinkin' Bout Me\n",
      "Next Thing You Know\n",
      "Cupid\n",
      "La Bebe\n",
      "Sabor Fresa\n",
      "Memory Lane\n",
      "Un x100to\n",
      "Chemical\n",
      "Luna\n",
      "Dance The Night\n",
      "Religiously\n",
      "I'm Good (Blue)\n",
      "Eyes Closed\n",
      "Lady Gaga\n",
      "Search & Rescue\n",
      "Thought You Should Know\n",
      "Where She Goes\n",
      "Parade On Cleveland\n",
      "Dancin' In The Country\n",
      "Put It On Da Floor Again\n",
      "Area Codes\n",
      "Boy's A Liar, Pt. 2\n",
      "Bury Me In Georgia\n",
      "Love You Anyway\n",
      "TQM\n",
      "Thank God\n",
      "Bye\n",
      "One Thing At A Time\n",
      "Players\n",
      "Stand By Me\n",
      "Cars Bring Me Out\n",
      "Princess Diana\n",
      "VVS\n",
      "Bzrp Music Sessions, Vol. 55\n",
      "Wit Da Racks\n",
      "Daylight\n",
      "Doomsday.\n",
      "Want Me Dead\n",
      "Attention\n",
      "Peaches & Eggplants\n",
      "What It Is (Block Boy)\n",
      "Rubicon\n",
      "Back To The Moon\n",
      "Your Heart Or Mine\n",
      "Calling\n",
      "You, Me, & Whiskey\n",
      "Waffle House\n",
      "Mourning\n",
      "Hellcat Kenny\n",
      "TQG\n",
      "PRC\n",
      "Baby Don't Hurt Me\n",
      "See You Again\n",
      "Popular\n",
      "Por Las Noches\n",
      "Dial Drunk\n",
      "Money On The Dresser\n",
      "Annihilate\n",
      "El Azul\n",
      "Uncle M\n",
      "Cowgirls\n",
      "Rodeo Dr\n",
      "Fight The Feeling\n",
      "Self Love\n",
      "Nueva Vida\n",
      "Fragil\n",
      "Bread & Butter\n",
      "Watermelon Moonshine\n",
      "Lagunas\n",
      "Am I Dreaming\n",
      "Ain't That Some\n",
      "Rosa Pastel\n",
      "Pound Town 2\n",
      "ICU\n",
      "Jaded\n",
      "Abracadabra\n",
      "Truck Bed\n",
      "Save Me\n",
      "Gucci Grocery Bag\n",
      "New Photos of Donald Trump Show He May Not Be Heeding the Strict Legal Warnings\n",
      "San Sebastian Film Fest Unveils First Competition Titles\n",
      "Cardi B Twerks With FendiDa Rappa in Chicago on ‘Point Me 2’\n",
      "Have a Tip?\n",
      "CultureExpand culture menu\n",
      "Billboard EspañolExpand billboard-espanol menu\n"
     ]
    }
   ],
   "source": [
    "# Get song name\n",
    "text = soup.select(\"h3\")\n",
    "\n",
    "titles = []\n",
    "\n",
    "index = 0\n",
    "for i in text:\n",
    "    index += 1\n",
    "    #print(index)\n",
    "    text1 = i.get_text(strip=True)#.strip()\n",
    "\n",
    "    if index > 7 & index%(4) == 0:\n",
    "        print(text1)\n",
    "        titles.append(text1)\n"
   ]
  },
  {
   "cell_type": "code",
   "execution_count": 8,
   "metadata": {},
   "outputs": [
    {
     "data": {
      "text/plain": [
       "100"
      ]
     },
     "execution_count": 8,
     "metadata": {},
     "output_type": "execute_result"
    }
   ],
   "source": [
    "len(titles[1:101])"
   ]
  },
  {
   "cell_type": "code",
   "execution_count": 9,
   "metadata": {},
   "outputs": [],
   "source": [
    "titles = titles[1:101]"
   ]
  },
  {
   "cell_type": "code",
   "execution_count": 10,
   "metadata": {},
   "outputs": [],
   "source": [
    "# Get artist name\n",
    "artists = []\n",
    "\n",
    "text = soup.select(\"h3 + span\")\n",
    "for i in text:\n",
    "    #print(i.get_text(strip=True))\n",
    "    text1 = i.get_text(strip=True)\n",
    "    artists.append(text1)\n"
   ]
  },
  {
   "cell_type": "code",
   "execution_count": 11,
   "metadata": {},
   "outputs": [
    {
     "name": "stdout",
     "output_type": "stream",
     "text": [
      "100\n",
      "100\n"
     ]
    }
   ],
   "source": [
    "print(len(titles))\n",
    "print(len(artists))\n",
    "\n",
    "dfTop100 = pd.DataFrame({'titles':titles,'artists':artists})"
   ]
  },
  {
   "cell_type": "code",
   "execution_count": 12,
   "metadata": {},
   "outputs": [
    {
     "data": {
      "text/html": [
       "<div>\n",
       "<style scoped>\n",
       "    .dataframe tbody tr th:only-of-type {\n",
       "        vertical-align: middle;\n",
       "    }\n",
       "\n",
       "    .dataframe tbody tr th {\n",
       "        vertical-align: top;\n",
       "    }\n",
       "\n",
       "    .dataframe thead th {\n",
       "        text-align: right;\n",
       "    }\n",
       "</style>\n",
       "<table border=\"1\" class=\"dataframe\">\n",
       "  <thead>\n",
       "    <tr style=\"text-align: right;\">\n",
       "      <th></th>\n",
       "      <th>titles</th>\n",
       "      <th>artists</th>\n",
       "    </tr>\n",
       "  </thead>\n",
       "  <tbody>\n",
       "    <tr>\n",
       "      <th>0</th>\n",
       "      <td>Last Night</td>\n",
       "      <td>Morgan Wallen</td>\n",
       "    </tr>\n",
       "    <tr>\n",
       "      <th>1</th>\n",
       "      <td>Fast Car</td>\n",
       "      <td>Luke Combs</td>\n",
       "    </tr>\n",
       "    <tr>\n",
       "      <th>2</th>\n",
       "      <td>Calm Down</td>\n",
       "      <td>Rema &amp; Selena Gomez</td>\n",
       "    </tr>\n",
       "  </tbody>\n",
       "</table>\n",
       "</div>"
      ],
      "text/plain": [
       "       titles              artists\n",
       "0  Last Night        Morgan Wallen\n",
       "1    Fast Car           Luke Combs\n",
       "2   Calm Down  Rema & Selena Gomez"
      ]
     },
     "execution_count": 12,
     "metadata": {},
     "output_type": "execute_result"
    }
   ],
   "source": [
    "dfTop100.head(3)"
   ]
  },
  {
   "cell_type": "code",
   "execution_count": null,
   "metadata": {},
   "outputs": [],
   "source": [
    "# Recommender App"
   ]
  },
  {
   "cell_type": "code",
   "execution_count": 26,
   "metadata": {},
   "outputs": [],
   "source": [
    "def song_recommender():\n",
    "    val = input(\"enter the name of a song or artist you like: \")\n",
    "    if val in dfTop100.values :\n",
    "        print(\"Present in top 100\")\n",
    "        #print(dfTop100randrange(0,100))\n",
    "        recommendation = dfTop100.iloc[randrange(0,100),]\n",
    "        recommendedSong1 = recommendation[0]\n",
    "        recommendedArtist1 = recommendation[1]\n",
    "    return recommendedSong1, recommendedArtist1"
   ]
  },
  {
   "cell_type": "code",
   "execution_count": 27,
   "metadata": {},
   "outputs": [
    {
     "name": "stdout",
     "output_type": "stream",
     "text": [
      "enter the name of a song or artist you like: Last Night\n",
      "Present in top 100\n",
      "Love You Anyway Luke Combs\n"
     ]
    }
   ],
   "source": [
    "recommendedSong, recommendedArtist = song_recommender()\n",
    "print(recommendedSong, recommendedArtist)"
   ]
  },
  {
   "cell_type": "code",
   "execution_count": 18,
   "metadata": {},
   "outputs": [
    {
     "data": {
      "text/html": [
       "<div>\n",
       "<style scoped>\n",
       "    .dataframe tbody tr th:only-of-type {\n",
       "        vertical-align: middle;\n",
       "    }\n",
       "\n",
       "    .dataframe tbody tr th {\n",
       "        vertical-align: top;\n",
       "    }\n",
       "\n",
       "    .dataframe thead th {\n",
       "        text-align: right;\n",
       "    }\n",
       "</style>\n",
       "<table border=\"1\" class=\"dataframe\">\n",
       "  <thead>\n",
       "    <tr style=\"text-align: right;\">\n",
       "      <th></th>\n",
       "      <th>titles</th>\n",
       "      <th>artists</th>\n",
       "    </tr>\n",
       "  </thead>\n",
       "  <tbody>\n",
       "    <tr>\n",
       "      <th>0</th>\n",
       "      <td>Last Night</td>\n",
       "      <td>Morgan Wallen</td>\n",
       "    </tr>\n",
       "    <tr>\n",
       "      <th>1</th>\n",
       "      <td>Fast Car</td>\n",
       "      <td>Luke Combs</td>\n",
       "    </tr>\n",
       "    <tr>\n",
       "      <th>2</th>\n",
       "      <td>Calm Down</td>\n",
       "      <td>Rema &amp; Selena Gomez</td>\n",
       "    </tr>\n",
       "  </tbody>\n",
       "</table>\n",
       "</div>"
      ],
      "text/plain": [
       "       titles              artists\n",
       "0  Last Night        Morgan Wallen\n",
       "1    Fast Car           Luke Combs\n",
       "2   Calm Down  Rema & Selena Gomez"
      ]
     },
     "execution_count": 18,
     "metadata": {},
     "output_type": "execute_result"
    }
   ],
   "source": [
    "dfTop100.head(3)"
   ]
  },
  {
   "cell_type": "code",
   "execution_count": 19,
   "metadata": {},
   "outputs": [],
   "source": [
    "dfTop100Combined = dfTop100[['titles', 'artists']].apply(' '.join, axis=1)"
   ]
  },
  {
   "cell_type": "code",
   "execution_count": 20,
   "metadata": {},
   "outputs": [
    {
     "data": {
      "text/plain": [
       "0         Last Night Morgan Wallen\n",
       "1              Fast Car Luke Combs\n",
       "2    Calm Down Rema & Selena Gomez\n",
       "dtype: object"
      ]
     },
     "execution_count": 20,
     "metadata": {},
     "output_type": "execute_result"
    }
   ],
   "source": [
    "dfTop100Combined"
   ]
  },
  {
   "cell_type": "code",
   "execution_count": 21,
   "metadata": {},
   "outputs": [],
   "source": [
    "dfTop100Combined.to_csv(\"dfTop100.csv\", sep=\";\", index=False)"
   ]
  },
  {
   "cell_type": "code",
   "execution_count": null,
   "metadata": {},
   "outputs": [],
   "source": []
  }
 ],
 "metadata": {
  "colab": {
   "name": "Web Scraping Code Along - Structure.ipynb",
   "provenance": []
  },
  "kernelspec": {
   "display_name": "Python 3 (ipykernel)",
   "language": "python",
   "name": "python3"
  },
  "language_info": {
   "codemirror_mode": {
    "name": "ipython",
    "version": 3
   },
   "file_extension": ".py",
   "mimetype": "text/x-python",
   "name": "python",
   "nbconvert_exporter": "python",
   "pygments_lexer": "ipython3",
   "version": "3.8.8"
  }
 },
 "nbformat": 4,
 "nbformat_minor": 1
}
