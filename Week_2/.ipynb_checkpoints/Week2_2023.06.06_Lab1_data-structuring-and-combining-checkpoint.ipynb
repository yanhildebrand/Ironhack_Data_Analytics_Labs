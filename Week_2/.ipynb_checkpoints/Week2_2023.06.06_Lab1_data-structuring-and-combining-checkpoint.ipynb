{
 "cells": [
  {
   "cell_type": "markdown",
   "id": "25d7736c-ba17-4aff-b6bb-66eba20fbf4e",
   "metadata": {},
   "source": [
    "# Lab | Data Structuring and Combining Data"
   ]
  },
  {
   "cell_type": "markdown",
   "id": "34ae7c66-9458-477c-8a31-c6b07a36bf66",
   "metadata": {},
   "source": [
    "Objective: \n",
    "- Combine and integrate data from multiple sources using merging, concatenating, or joining techniques to generate more comprehensive and meaningful datasets for analysis.\n",
    "- Modify the structure of data by pivoting, stacking/unstacking, or melting dataframes, enabling them to efficiently explore and analyze complex datasets. "
   ]
  },
  {
   "cell_type": "markdown",
   "id": "92b5f497-2c72-422b-86f7-06ad8842fd6d",
   "metadata": {},
   "source": [
    "# Challenge 1: Combining Data"
   ]
  },
  {
   "cell_type": "markdown",
   "id": "44f43906-6d37-4316-9ab4-7b6de18bc367",
   "metadata": {},
   "source": [
    "In this challenge, we will be working with the customer data from an insurance company, as we did in the two previous labs. The data can be found here:\n",
    "- https://raw.githubusercontent.com/data-bootcamp-v4/data/main/file1.csv\n",
    "\n",
    "But this time, we got new data, which can be found in the following 2 CSV files located at the following links: \n",
    "- https://raw.githubusercontent.com/data-bootcamp-v4/data/main/file2.csv\n",
    "- https://raw.githubusercontent.com/data-bootcamp-v4/data/main/file3.csv\n"
   ]
  },
  {
   "cell_type": "markdown",
   "id": "47bdd691-d5dd-4b85-a3be-3ca943cbf1e5",
   "metadata": {},
   "source": [
    "Perform data cleaning and formatting using the main cleaning and formatting function created in the previous lab to clean and format the data."
   ]
  },
  {
   "cell_type": "markdown",
   "id": "4eb4761d-8b1d-4ebb-a600-df45e1233ab4",
   "metadata": {},
   "source": [
    "Combine the data from the three dataframes into a single dataframe, named \"customer_data\", using appropriate merging, concatenating, and joining techniques.\n",
    "\n",
    "Verify that the customer_data dataframe contains all the rows and columns from the three original dataframes."
   ]
  },
  {
   "cell_type": "markdown",
   "id": "5d329067-5fe0-4a8f-b69d-d5b5cff0b7bf",
   "metadata": {},
   "source": [
    "Observation: \n",
    "- One option is to first combine the three datasets and then apply the cleaning function to the new combined dataset\n",
    "- Another option would be to read the clean file you saved in the previous lab, and just clean the two new files and concatenate the three clean datasets"
   ]
  },
  {
   "cell_type": "code",
   "execution_count": 189,
   "id": "9a2337e6",
   "metadata": {},
   "outputs": [],
   "source": [
    "# Your code here\n",
    "import numpy as np\n",
    "import pandas as pd"
   ]
  },
  {
   "cell_type": "code",
   "execution_count": 190,
   "id": "492d06e3-92c7-4105-ac72-536db98d3244",
   "metadata": {},
   "outputs": [
    {
     "name": "stdout",
     "output_type": "stream",
     "text": [
      "Index(['customer', 'st', 'gender', 'education', 'customer lifetime value',\n",
      "       'income', 'monthly premium auto', 'number of open complaints',\n",
      "       'policy type', 'vehicle class', 'total claim amount'],\n",
      "      dtype='object')\n",
      "Index(['Customer', 'ST', 'GENDER', 'Education', 'Customer Lifetime Value',\n",
      "       'Income', 'Monthly Premium Auto', 'Number of Open Complaints',\n",
      "       'Total Claim Amount', 'Policy Type', 'Vehicle Class'],\n",
      "      dtype='object')\n",
      "Index(['Customer', 'State', 'Customer Lifetime Value', 'Education', 'Gender',\n",
      "       'Income', 'Monthly Premium Auto', 'Number of Open Complaints',\n",
      "       'Policy Type', 'Total Claim Amount', 'Vehicle Class'],\n",
      "      dtype='object')\n"
     ]
    }
   ],
   "source": [
    "# Read the data\n",
    "df1_cleaned = pd.read_csv(\"Week2_2023.06.05_file1_cleaned.csv\")\n",
    "df2 = pd.read_csv(\"Week2_2023.06.06_Lab1_file2.csv\")\n",
    "df3 = pd.read_csv(\"Week2_2023.06.06_Lab1_file3.csv\")\n",
    "\n",
    "#print(df1_cleaned.head())\n",
    "#print(df2.tail())\n",
    "#print(df3.tail())\n",
    "\n",
    "print(df1_cleaned.columns)\n",
    "print(df2.columns)\n",
    "print(df3.columns)"
   ]
  },
  {
   "cell_type": "code",
   "execution_count": 191,
   "id": "767b0be6",
   "metadata": {},
   "outputs": [
    {
     "name": "stdout",
     "output_type": "stream",
     "text": [
      "(913, 11)\n",
      "(996, 11)\n",
      "(7070, 11)\n"
     ]
    }
   ],
   "source": [
    "#df1_cleaned = df1_cleaned.drop(df1_cleaned.columns[[0, 1]], axis=1, inplace=True)\n",
    "#print(df1_cleaned.head())\n",
    "\n",
    "# Rename columns\n",
    "df2.columns=[i.lower() for i in df2.columns]\n",
    "df3.columns=[i.lower() for i in df3.columns]\n",
    "\n",
    "df1_cleaned.rename(columns={'st':'state'}, inplace=True)\n",
    "df2.rename(columns={'st':'state'}, inplace=True)\n",
    "\n",
    "#print(df1_cleaned.columns)\n",
    "#print(df2.columns)\n",
    "#print(df3.columns)\n",
    "\n",
    "print(df1_cleaned.shape)\n",
    "print(df2.shape)\n",
    "print(df3.shape)"
   ]
  },
  {
   "cell_type": "code",
   "execution_count": 192,
   "id": "566cc010",
   "metadata": {},
   "outputs": [],
   "source": [
    "# Homogenize State column\n",
    "def fixState (df):\n",
    "    df[\"state\"] = df[\"state\"].replace({\"Cali\": \"California\"})\n",
    "    df[\"state\"] = df[\"state\"].replace({\"WA\": \"Washington\"})\n",
    "    df[\"state\"] = df[\"state\"].replace({\"AZ\": \"Arizona\"})\n",
    "    return df\n",
    "    \n",
    "df2 = fixState(df2)\n",
    "df3 = fixState(df3)"
   ]
  },
  {
   "cell_type": "code",
   "execution_count": 193,
   "id": "10def8e6",
   "metadata": {},
   "outputs": [],
   "source": [
    "# Fix \"Number of Open Complaints\" column\n",
    "def fixNumberOfOpenCompaints (df):\n",
    "    if len(str(df[\"number of open complaints\"][2])) > 1:\n",
    "        df[\"number of open complaints\"] = df[\"number of open complaints\"].apply(lambda x:int(x[2]))\n",
    "    return df\n",
    "\n",
    "df2 = fixNumberOfOpenCompaints(df2)\n",
    "df3 = fixNumberOfOpenCompaints(df3)"
   ]
  },
  {
   "cell_type": "code",
   "execution_count": 194,
   "id": "4db2629a",
   "metadata": {},
   "outputs": [
    {
     "name": "stdout",
     "output_type": "stream",
     "text": [
      "[0 1 2 4 3 5]\n",
      "[0 1 3 5 2 4]\n",
      "[0 2 3 1 5 4]\n"
     ]
    }
   ],
   "source": [
    "print(df1_cleaned[\"number of open complaints\"].unique())\n",
    "print(df2[\"number of open complaints\"].unique())\n",
    "print(df3[\"number of open complaints\"].unique())"
   ]
  },
  {
   "cell_type": "code",
   "execution_count": 195,
   "id": "2489db24",
   "metadata": {},
   "outputs": [],
   "source": [
    "def changeDataTypesOfColumnsAndDropDupAndNA (df):\n",
    "    # change column data types\n",
    "    df['customer'] = pd.Categorical(df.customer)\n",
    "    df['state'] = pd.Categorical(df.state)\n",
    "    df['gender'] = pd.Categorical(df.gender)\n",
    "    df['education'] = pd.Categorical(df.education)\n",
    "    df['policy type'] = pd.Categorical(df[\"policy type\"])\n",
    "    df['vehicle class'] = pd.Categorical(df[\"vehicle class\"])\n",
    "    df['number of open complaints'] = df['number of open complaints'].astype(dtype = 'int64')\n",
    "    df['customer lifetime value'] = df['customer lifetime value'].astype(dtype = 'string')\n",
    "    df['customer lifetime value'] = df['customer lifetime value'].str.replace(\"%\", \"\")\n",
    "    df['customer lifetime value'] = df['customer lifetime value'].astype(dtype = 'float64')\n",
    "    df['monthly premium auto'] = df['monthly premium auto'].astype(dtype = 'float64')\n",
    "    df['income'] = df['income'].astype(dtype = 'float64')\n",
    "    df['total claim amount'] = df['total claim amount'].astype(dtype = 'float64')\n",
    "    \n",
    "    # drop nas\n",
    "    df = df.dropna()\n",
    "    # drop duplicates\n",
    "    df = df.drop_duplicates(keep=\"first\")\n",
    "    return df\n",
    "\n",
    "df1_cleaned = changeDataTypesOfColumnsAndDropDupAndNA(df1_cleaned)\n",
    "df2 = changeDataTypesOfColumnsAndDropDupAndNA(df2)\n",
    "df3 = changeDataTypesOfColumnsAndDropDupAndNA(df3)"
   ]
  },
  {
   "cell_type": "code",
   "execution_count": 196,
   "id": "4a543da5",
   "metadata": {},
   "outputs": [
    {
     "name": "stdout",
     "output_type": "stream",
     "text": [
      "(913, 11)\n",
      "(988, 11)\n",
      "(7070, 11)\n"
     ]
    }
   ],
   "source": [
    "print(df1_cleaned.shape)\n",
    "print(df2.shape)\n",
    "print(df3.shape)\n",
    "\n",
    "#print(df1_cleaned.head())\n",
    "#print(df2.tail())\n",
    "#print(df3.tail())"
   ]
  },
  {
   "cell_type": "code",
   "execution_count": 197,
   "id": "73341ec7",
   "metadata": {},
   "outputs": [
    {
     "name": "stdout",
     "output_type": "stream",
     "text": [
      "customer                     category\n",
      "state                        category\n",
      "gender                       category\n",
      "education                    category\n",
      "customer lifetime value       float64\n",
      "income                        float64\n",
      "monthly premium auto          float64\n",
      "number of open complaints       int64\n",
      "policy type                  category\n",
      "vehicle class                category\n",
      "total claim amount            float64\n",
      "dtype: object\n",
      "customer                     category\n",
      "state                        category\n",
      "gender                       category\n",
      "education                    category\n",
      "customer lifetime value       float64\n",
      "income                        float64\n",
      "monthly premium auto          float64\n",
      "number of open complaints       int64\n",
      "total claim amount            float64\n",
      "policy type                  category\n",
      "vehicle class                category\n",
      "dtype: object\n",
      "customer                     category\n",
      "state                        category\n",
      "customer lifetime value       float64\n",
      "education                    category\n",
      "gender                       category\n",
      "income                        float64\n",
      "monthly premium auto          float64\n",
      "number of open complaints       int64\n",
      "policy type                  category\n",
      "total claim amount            float64\n",
      "vehicle class                category\n",
      "dtype: object\n"
     ]
    }
   ],
   "source": [
    "print(df1_cleaned.dtypes)\n",
    "print(df2.dtypes)\n",
    "print(df3.dtypes)"
   ]
  },
  {
   "cell_type": "code",
   "execution_count": 198,
   "id": "0c46cd21",
   "metadata": {},
   "outputs": [],
   "source": [
    "#df_final = df1_cleaned.merge(df2)\n",
    "#df_final = df2.merge(df3) #, left_on='customer', right_on='customer')\n",
    "df_final = pd.concat([df1_cleaned, df2, df3]) #, ignore_index = True)\n",
    "\n",
    "#df_final = df_final.merge(df3)"
   ]
  },
  {
   "cell_type": "code",
   "execution_count": 239,
   "id": "6cd3113b",
   "metadata": {},
   "outputs": [
    {
     "name": "stdout",
     "output_type": "stream",
     "text": [
      "(8971, 11)\n"
     ]
    }
   ],
   "source": [
    "print(df_final.shape)"
   ]
  },
  {
   "cell_type": "markdown",
   "id": "31b8a9e7-7db9-4604-991b-ef6771603e57",
   "metadata": {},
   "source": [
    "# Challenge 2: Structuring Data"
   ]
  },
  {
   "cell_type": "markdown",
   "id": "541006a8-7f35-4a82-813e-ca10c1183668",
   "metadata": {},
   "source": [
    "In this challenge, we will continue to work with customer data from an insurance company, but we will use a dataset with more columns, called marketing_customer_analysis.csv, which can be found at the following link:\n",
    "\n",
    "https://raw.githubusercontent.com/data-bootcamp-v4/data/main/marketing_customer_analysis.csv\n",
    "\n",
    "This dataset contains information such as customer demographics, policy details, vehicle information, and the customer's response to the last marketing campaign. Our goal is to explore and analyze this data by performing data cleaning, formatting, and structuring."
   ]
  },
  {
   "cell_type": "code",
   "execution_count": 240,
   "id": "4e168363",
   "metadata": {},
   "outputs": [
    {
     "name": "stdout",
     "output_type": "stream",
     "text": [
      "Index(['Unnamed: 0', 'Customer', 'State', 'Customer Lifetime Value',\n",
      "       'Response', 'Coverage', 'Education', 'Effective To Date',\n",
      "       'EmploymentStatus', 'Gender', 'Income', 'Location Code',\n",
      "       'Marital Status', 'Monthly Premium Auto', 'Months Since Last Claim',\n",
      "       'Months Since Policy Inception', 'Number of Open Complaints',\n",
      "       'Number of Policies', 'Policy Type', 'Policy', 'Renew Offer Type',\n",
      "       'Sales Channel', 'Total Claim Amount', 'Vehicle Class', 'Vehicle Size',\n",
      "       'Vehicle Type'],\n",
      "      dtype='object')\n",
      "Unnamed: 0                         int64\n",
      "Customer                          object\n",
      "State                             object\n",
      "Customer Lifetime Value          float64\n",
      "Response                          object\n",
      "Coverage                          object\n",
      "Education                         object\n",
      "Effective To Date                 object\n",
      "EmploymentStatus                  object\n",
      "Gender                            object\n",
      "Income                             int64\n",
      "Location Code                     object\n",
      "Marital Status                    object\n",
      "Monthly Premium Auto               int64\n",
      "Months Since Last Claim          float64\n",
      "Months Since Policy Inception      int64\n",
      "Number of Open Complaints        float64\n",
      "Number of Policies                 int64\n",
      "Policy Type                       object\n",
      "Policy                            object\n",
      "Renew Offer Type                  object\n",
      "Sales Channel                     object\n",
      "Total Claim Amount               float64\n",
      "Vehicle Class                     object\n",
      "Vehicle Size                      object\n",
      "Vehicle Type                      object\n",
      "dtype: object\n",
      "(10910, 26)\n",
      "<bound method NDFrame.head of        Unnamed: 0 Customer       State  Customer Lifetime Value Response  \\\n",
      "0               0  DK49336     Arizona              4809.216960       No   \n",
      "1               1  KX64629  California              2228.525238       No   \n",
      "2               2  LZ68649  Washington             14947.917300       No   \n",
      "3               3  XL78013      Oregon             22332.439460      Yes   \n",
      "4               4  QA50777      Oregon              9025.067525       No   \n",
      "...           ...      ...         ...                      ...      ...   \n",
      "10905       10905  FE99816      Nevada             15563.369440       No   \n",
      "10906       10906  KX53892      Oregon              5259.444853       No   \n",
      "10907       10907  TL39050     Arizona             23893.304100       No   \n",
      "10908       10908  WA60547  California             11971.977650       No   \n",
      "10909       10909  IV32877         NaN              6857.519928      NaN   \n",
      "\n",
      "       Coverage Education Effective To Date EmploymentStatus Gender  ...  \\\n",
      "0         Basic   College           2/18/11         Employed      M  ...   \n",
      "1         Basic   College           1/18/11       Unemployed      F  ...   \n",
      "2         Basic  Bachelor           2/10/11         Employed      M  ...   \n",
      "3      Extended   College           1/11/11         Employed      M  ...   \n",
      "4       Premium  Bachelor           1/17/11    Medical Leave      F  ...   \n",
      "...         ...       ...               ...              ...    ...  ...   \n",
      "10905   Premium  Bachelor           1/19/11       Unemployed      F  ...   \n",
      "10906     Basic   College            1/6/11         Employed      F  ...   \n",
      "10907  Extended  Bachelor            2/6/11         Employed      F  ...   \n",
      "10908   Premium   College           2/13/11         Employed      F  ...   \n",
      "10909     Basic  Bachelor            1/8/11       Unemployed      M  ...   \n",
      "\n",
      "       Number of Open Complaints Number of Policies     Policy Type  \\\n",
      "0                            0.0                  9  Corporate Auto   \n",
      "1                            0.0                  1   Personal Auto   \n",
      "2                            0.0                  2   Personal Auto   \n",
      "3                            0.0                  2  Corporate Auto   \n",
      "4                            NaN                  7   Personal Auto   \n",
      "...                          ...                ...             ...   \n",
      "10905                        NaN                  7   Personal Auto   \n",
      "10906                        0.0                  6   Personal Auto   \n",
      "10907                        0.0                  2  Corporate Auto   \n",
      "10908                        4.0                  6   Personal Auto   \n",
      "10909                        0.0                  3   Personal Auto   \n",
      "\n",
      "             Policy  Renew Offer Type  Sales Channel  Total Claim Amount  \\\n",
      "0      Corporate L3            Offer3          Agent          292.800000   \n",
      "1       Personal L3            Offer4    Call Center          744.924331   \n",
      "2       Personal L3            Offer3    Call Center          480.000000   \n",
      "3      Corporate L3            Offer2         Branch          484.013411   \n",
      "4       Personal L2            Offer1         Branch          707.925645   \n",
      "...             ...               ...            ...                 ...   \n",
      "10905   Personal L1            Offer3            Web         1214.400000   \n",
      "10906   Personal L3            Offer2         Branch          273.018929   \n",
      "10907  Corporate L3            Offer1            Web          381.306996   \n",
      "10908   Personal L1            Offer1         Branch          618.288849   \n",
      "10909   Personal L1            Offer4            Web         1021.719397   \n",
      "\n",
      "       Vehicle Class Vehicle Size Vehicle Type  \n",
      "0      Four-Door Car      Medsize          NaN  \n",
      "1      Four-Door Car      Medsize          NaN  \n",
      "2                SUV      Medsize            A  \n",
      "3      Four-Door Car      Medsize            A  \n",
      "4      Four-Door Car      Medsize          NaN  \n",
      "...              ...          ...          ...  \n",
      "10905     Luxury Car      Medsize            A  \n",
      "10906  Four-Door Car      Medsize            A  \n",
      "10907     Luxury SUV      Medsize          NaN  \n",
      "10908            SUV      Medsize            A  \n",
      "10909            SUV      Medsize          NaN  \n",
      "\n",
      "[10910 rows x 26 columns]>\n"
     ]
    }
   ],
   "source": [
    "# Read the data\n",
    "df4 = pd.read_csv(\"Week2_2023.06.06_Lab1_marketing_customer_analysis.csv\")\n",
    "\n",
    "#print(df1_cleaned.head())\n",
    "#print(df2.tail())\n",
    "#print(df3.tail())\n",
    "\n",
    "print(df4.columns)\n",
    "print(df4.dtypes)\n",
    "print(df4.shape)\n",
    "\n",
    "print(df4.head)"
   ]
  },
  {
   "cell_type": "markdown",
   "id": "2677810d-3180-4fbe-855b-525cf8d35208",
   "metadata": {},
   "source": [
    "## Exercise 1: Clean and Format the Data"
   ]
  },
  {
   "cell_type": "markdown",
   "id": "0aa50045-76ce-4e9f-8836-82dbc689d8dd",
   "metadata": {},
   "source": [
    "While the dataset has been partially cleaned and formatted, we still need to perform several data cleaning tasks. Specifically, we need to standardize the column names, clean null values, convert the effective_to_date column to datetime, and extract the months from the dataset and store them in a separate column. \n",
    "\n",
    "To accomplish these tasks, we will use the functions created in the previous step to standardize the column names and deal with null values, and then we will apply additional functions to convert the effective_to_date column to datetime and extract the months.\n",
    "\n",
    "Save the clean dataset into a csv file."
   ]
  },
  {
   "cell_type": "code",
   "execution_count": 241,
   "id": "3d208764",
   "metadata": {},
   "outputs": [
    {
     "name": "stdout",
     "output_type": "stream",
     "text": [
      "Index(['customer', 'state', 'customer lifetime value', 'response', 'coverage',\n",
      "       'education', 'effective to date', 'employmentstatus', 'gender',\n",
      "       'income', 'location code', 'marital status', 'monthly premium auto',\n",
      "       'months since last claim', 'months since policy inception',\n",
      "       'number of open complaints', 'number of policies', 'policy type',\n",
      "       'policy', 'renew offer type', 'sales channel', 'total claim amount',\n",
      "       'vehicle class', 'vehicle size'],\n",
      "      dtype='object')\n"
     ]
    }
   ],
   "source": [
    "df4.columns=[i.lower() for i in df4.columns]\n",
    "#df4_cleaned.rename(columns={'st':'state'}, inplace=True)\n",
    "\n",
    "df4 = df4.drop(\"unnamed: 0\",axis=1)\n",
    "df4 = df4.drop(\"vehicle type\",axis=1)\n",
    "\n",
    "print(df4.columns)"
   ]
  },
  {
   "cell_type": "code",
   "execution_count": 242,
   "id": "1b064a09",
   "metadata": {},
   "outputs": [],
   "source": [
    "#print(df4.isnull().sum(axis = 0))\n",
    "#print(df4[\"vehicle type\"].unique())"
   ]
  },
  {
   "cell_type": "code",
   "execution_count": 243,
   "id": "9e414e49",
   "metadata": {},
   "outputs": [],
   "source": [
    "# turn data typeF to date\n",
    "df4['effective to date'] = pd.to_datetime(df4['effective to date'])"
   ]
  },
  {
   "cell_type": "code",
   "execution_count": 244,
   "id": "10ae4fef",
   "metadata": {},
   "outputs": [
    {
     "name": "stdout",
     "output_type": "stream",
     "text": [
      "Index(['customer', 'state', 'customer lifetime value', 'response', 'coverage',\n",
      "       'education', 'effective to date', 'employmentstatus', 'gender',\n",
      "       'income', 'location code', 'marital status', 'monthly premium auto',\n",
      "       'months since last claim', 'months since policy inception',\n",
      "       'number of open complaints', 'number of policies', 'policy type',\n",
      "       'policy', 'renew offer type', 'sales channel', 'total claim amount',\n",
      "       'vehicle class', 'vehicle size'],\n",
      "      dtype='object')\n",
      "customer                                 object\n",
      "state                                    object\n",
      "customer lifetime value                 float64\n",
      "response                                 object\n",
      "coverage                                 object\n",
      "education                                object\n",
      "effective to date                datetime64[ns]\n",
      "employmentstatus                         object\n",
      "gender                                   object\n",
      "income                                    int64\n",
      "location code                            object\n",
      "marital status                           object\n",
      "monthly premium auto                      int64\n",
      "months since last claim                 float64\n",
      "months since policy inception             int64\n",
      "number of open complaints               float64\n",
      "number of policies                        int64\n",
      "policy type                              object\n",
      "policy                                   object\n",
      "renew offer type                         object\n",
      "sales channel                            object\n",
      "total claim amount                      float64\n",
      "vehicle class                            object\n",
      "vehicle size                             object\n",
      "dtype: object\n"
     ]
    }
   ],
   "source": [
    "print(df4.columns)\n",
    "print(df4.dtypes)"
   ]
  },
  {
   "cell_type": "code",
   "execution_count": 245,
   "id": "cd5827b7",
   "metadata": {},
   "outputs": [],
   "source": [
    "# extract month\n",
    "df4['month'] = df4['effective to date'].dt.month"
   ]
  },
  {
   "cell_type": "markdown",
   "id": "80f846bb-3f5e-4ca2-96c0-900728daca5a",
   "metadata": {
    "tags": []
   },
   "source": [
    "## Exercise 2: Structuring Data"
   ]
  },
  {
   "cell_type": "markdown",
   "id": "df35fd0d-513e-4e77-867e-429da10a9cc7",
   "metadata": {},
   "source": [
    "1. You work at the marketing department and you want to know which sales channel brought the most sales in terms of total revenue. Using pivot, create a summary table showing the total revenue for each sales channel (branch, call center, web, and mail).\n",
    "Round the total_claim_amount to 2 decimal points.  Analyze the resulting table to draw insights."
   ]
  },
  {
   "cell_type": "markdown",
   "id": "640993b2-a291-436c-a34d-a551144f8196",
   "metadata": {},
   "source": [
    "2. Create a pivot table that shows the average customer lifetime value per gender and education level. Analyze the resulting table to draw insights."
   ]
  },
  {
   "cell_type": "markdown",
   "id": "32c7f2e5-3d90-43e5-be33-9781b6069198",
   "metadata": {},
   "source": [
    "3. You work at the customer service department and you want to know which months had the highest number of complaints by policy type category. Create a summary table showing the number of complaints by policy type and month.\n",
    "Show it in a long format table. "
   ]
  },
  {
   "cell_type": "markdown",
   "id": "e3d09a8f-953c-448a-a5f8-2e5a8cca7291",
   "metadata": {},
   "source": [
    "*In data analysis, a long format table is a way of structuring data in which each observation or measurement is stored in a separate row of the table. The key characteristic of a long format table is that each column represents a single variable, and each row represents a single observation of that variable.*\n",
    "\n",
    "*More information about long and wide format tables here: https://www.statology.org/long-vs-wide-data/*"
   ]
  },
  {
   "cell_type": "code",
   "execution_count": null,
   "id": "3a069e0b-b400-470e-904d-d17582191be4",
   "metadata": {},
   "outputs": [],
   "source": [
    "# Your code goes here"
   ]
  }
 ],
 "metadata": {
  "kernelspec": {
   "display_name": "Python 3 (ipykernel)",
   "language": "python",
   "name": "python3"
  },
  "language_info": {
   "codemirror_mode": {
    "name": "ipython",
    "version": 3
   },
   "file_extension": ".py",
   "mimetype": "text/x-python",
   "name": "python",
   "nbconvert_exporter": "python",
   "pygments_lexer": "ipython3",
   "version": "3.8.8"
  }
 },
 "nbformat": 4,
 "nbformat_minor": 5
}
