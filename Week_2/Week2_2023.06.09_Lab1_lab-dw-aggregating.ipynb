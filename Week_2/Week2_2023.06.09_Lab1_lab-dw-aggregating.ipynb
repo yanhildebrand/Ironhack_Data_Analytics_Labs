{
 "cells": [
  {
   "cell_type": "markdown",
   "id": "31969215-2a90-4d8b-ac36-646a7ae13744",
   "metadata": {},
   "source": [
    "# Lab | Data Aggregation and Filtering"
   ]
  },
  {
   "cell_type": "markdown",
   "id": "769df97b-bcc6-4ab0-9b87-eb04853d4351",
   "metadata": {},
   "source": [
    "Objective: Use Python programming techniques to filter and order data subsets, group data by one or more variables, and use aggregation functions to obtain insights, and derive meaningful conclusions from the data."
   ]
  },
  {
   "cell_type": "markdown",
   "id": "a8f08a52-bec0-439b-99cc-11d3809d8b5d",
   "metadata": {},
   "source": [
    "In this challenge, we will continue to work with customer data from an insurance company. We will use the dataset called marketing_customer_analysis.csv, which can be found at the following link:\n",
    "\n",
    "https://raw.githubusercontent.com/data-bootcamp-v4/data/main/marketing_customer_analysis.csv\n",
    "\n",
    "This dataset contains information such as customer demographics, policy details, vehicle information, and the customer's response to the last marketing campaign. Our goal is to explore and analyze this data by performing first data cleaning, formatting, and structuring."
   ]
  },
  {
   "cell_type": "markdown",
   "id": "c2a39af7-a37b-43f1-a413-3e163a55125e",
   "metadata": {},
   "source": [
    "Start by reading the dataset, standardizing column names, dealing with null values and creating the month column. You can do so by using the functions you developed in previous labs, or by reading the clean dataset you saved in the last lab `data structuring and combining`."
   ]
  },
  {
   "cell_type": "markdown",
   "id": "0a3bc930-db26-4fd4-b261-ea03e12f3a26",
   "metadata": {},
   "source": [
    "Then, answer the following questions:"
   ]
  },
  {
   "cell_type": "markdown",
   "id": "9c98ddc5-b041-4c94-ada1-4dfee5c98e50",
   "metadata": {},
   "source": [
    "1. Create a new DataFrame that only includes customers who have a total_claim_amount greater than $1,000 and have a response of \"Yes\" to the last marketing campaign."
   ]
  },
  {
   "cell_type": "markdown",
   "id": "341352f7-305d-4928-be75-4a4a342205b5",
   "metadata": {},
   "source": [
    "2. Analyze the average total_claim_amount by each policy type and gender for customers who have responded \"Yes\" to the last marketing campaign."
   ]
  },
  {
   "cell_type": "markdown",
   "id": "7050f4ac-53c5-4193-a3c0-8699b87196f0",
   "metadata": {},
   "source": [
    "3. Analyze the total number of customers who have policies in each state, and then filter the results to only include states where there are more than 500 customers."
   ]
  },
  {
   "cell_type": "markdown",
   "id": "2661421c-0534-4d5c-b803-d05459277f82",
   "metadata": {},
   "source": [
    "4. Find the median customer lifetime value by education level and gender."
   ]
  },
  {
   "cell_type": "markdown",
   "id": "867b0167-09e2-4111-91c8-b4fb9596d741",
   "metadata": {},
   "source": [
    "5. Find the maximum, minimum, and average number of open complaints by state and policy type."
   ]
  },
  {
   "cell_type": "markdown",
   "id": "81ff02c5-6584-4f21-a358-b918697c6432",
   "metadata": {},
   "source": [
    "6. The marketing team wants to analyze the number of policies sold by state and month.\n",
    "\n",
    "Present the data in a table where the months are arranged as columns and the states are arranged as rows."
   ]
  },
  {
   "cell_type": "markdown",
   "id": "b6aec097-c633-4017-a125-e77a97259cda",
   "metadata": {},
   "source": [
    "7. Display a new DataFrame that contains the number of policies sold by month by state for the top 3 states with the highest number of policies sold.\n",
    "\n",
    "*Hint:* \n",
    "- *To accomplish this, you will first need to group the data by state and month, then count the number of policies sold for each group. Afterwards, you will need to sort the data by the count of policies sold in descending order.*\n",
    "- *Next, you will select the top 3 states with the highest number of policies sold.*\n",
    "- *Finally, you will create a new DataFrame that contains the number of policies sold by month for each of the top 3 states.*"
   ]
  },
  {
   "cell_type": "markdown",
   "id": "ba975b8a-a2cf-4fbf-9f59-ebc381767009",
   "metadata": {},
   "source": [
    "8. The marketing team wants to analyze the effect of different marketing channels on the customer response rate.\n",
    "\n",
    "Hint: You can use melt to unpivot the data and create a table that shows the customer response rate (those who responded \"Yes\") by marketing channel."
   ]
  },
  {
   "cell_type": "markdown",
   "id": "e4378d94-48fb-4850-a802-b1bc8f427b2d",
   "metadata": {},
   "source": [
    "External Resources for Data Filtering: https://towardsdatascience.com/filtering-data-frames-in-pandas-b570b1f834b9"
   ]
  },
  {
   "cell_type": "code",
   "execution_count": 2,
   "id": "01f5b785",
   "metadata": {},
   "outputs": [],
   "source": [
    "import numpy as np\n",
    "import pandas as pd"
   ]
  },
  {
   "cell_type": "code",
   "execution_count": 110,
   "id": "449513f4-0459-46a0-a18d-9398d974c9ad",
   "metadata": {},
   "outputs": [
    {
     "data": {
      "text/plain": [
       "Index(['Unnamed: 0', 'customer', 'state', 'customer lifetime value',\n",
       "       'response', 'coverage', 'education', 'effective to date',\n",
       "       'employmentstatus', 'gender', 'income', 'location code',\n",
       "       'marital status', 'monthly premium auto', 'months since last claim',\n",
       "       'months since policy inception', 'number of open complaints',\n",
       "       'number of policies', 'policy type', 'policy', 'renew offer type',\n",
       "       'sales channel', 'total claim amount', 'vehicle class', 'vehicle size',\n",
       "       'month'],\n",
       "      dtype='object')"
      ]
     },
     "execution_count": 110,
     "metadata": {},
     "output_type": "execute_result"
    }
   ],
   "source": [
    "df = pd.read_csv(\"Week2_2023.06.06_Lab1_marketing_customer_analysis_clean.csv\")\n",
    "df.shape\n",
    "df.response\n",
    "df.columns"
   ]
  },
  {
   "cell_type": "code",
   "execution_count": 64,
   "id": "4c4fd2b5",
   "metadata": {},
   "outputs": [],
   "source": [
    "# 1. total_claim_amount greater than $1,000 \n",
    "dfTotalClaimAmount1000 = df.loc[(df[\"total claim amount\"]>1000) & (df[\"response\"]==\"Yes\")].reset_index()\n",
    "#dfTotalClaimAmount1000 = df[df[\"total claim amount\"]>1000]"
   ]
  },
  {
   "cell_type": "code",
   "execution_count": 65,
   "id": "14999406",
   "metadata": {},
   "outputs": [
    {
     "data": {
      "text/plain": [
       "(67, 27)"
      ]
     },
     "execution_count": 65,
     "metadata": {},
     "output_type": "execute_result"
    }
   ],
   "source": [
    "dfTotalClaimAmount1000.shape"
   ]
  },
  {
   "cell_type": "code",
   "execution_count": 42,
   "id": "8c3cfd75",
   "metadata": {},
   "outputs": [],
   "source": [
    "#dfTotalClaimAmount1000"
   ]
  },
  {
   "cell_type": "code",
   "execution_count": 22,
   "id": "9f26bc89",
   "metadata": {},
   "outputs": [],
   "source": [
    "# 2. total_claim_amount by each policy type and gender for customers who have responded \"Yes\"\n",
    "\n",
    "dfYesResponse = df.loc[df[\"response\"]==\"Yes\"]"
   ]
  },
  {
   "cell_type": "code",
   "execution_count": 103,
   "id": "7bcdb230",
   "metadata": {},
   "outputs": [],
   "source": [
    "dfYesResponseByPolicyTypeAndGender = dfYesResponse.groupby([\"policy type\",\"gender\"])[[\"total claim amount\"]].mean()"
   ]
  },
  {
   "cell_type": "code",
   "execution_count": 104,
   "id": "6f65df72",
   "metadata": {},
   "outputs": [
    {
     "data": {
      "text/html": [
       "<div>\n",
       "<style scoped>\n",
       "    .dataframe tbody tr th:only-of-type {\n",
       "        vertical-align: middle;\n",
       "    }\n",
       "\n",
       "    .dataframe tbody tr th {\n",
       "        vertical-align: top;\n",
       "    }\n",
       "\n",
       "    .dataframe thead th {\n",
       "        text-align: right;\n",
       "    }\n",
       "</style>\n",
       "<table border=\"1\" class=\"dataframe\">\n",
       "  <thead>\n",
       "    <tr style=\"text-align: right;\">\n",
       "      <th></th>\n",
       "      <th></th>\n",
       "      <th>total claim amount</th>\n",
       "    </tr>\n",
       "    <tr>\n",
       "      <th>policy type</th>\n",
       "      <th>gender</th>\n",
       "      <th></th>\n",
       "    </tr>\n",
       "  </thead>\n",
       "  <tbody>\n",
       "    <tr>\n",
       "      <th rowspan=\"2\" valign=\"top\">Corporate Auto</th>\n",
       "      <th>F</th>\n",
       "      <td>433.738499</td>\n",
       "    </tr>\n",
       "    <tr>\n",
       "      <th>M</th>\n",
       "      <td>408.582459</td>\n",
       "    </tr>\n",
       "    <tr>\n",
       "      <th rowspan=\"2\" valign=\"top\">Personal Auto</th>\n",
       "      <th>F</th>\n",
       "      <td>452.965929</td>\n",
       "    </tr>\n",
       "    <tr>\n",
       "      <th>M</th>\n",
       "      <td>457.010178</td>\n",
       "    </tr>\n",
       "    <tr>\n",
       "      <th rowspan=\"2\" valign=\"top\">Special Auto</th>\n",
       "      <th>F</th>\n",
       "      <td>453.280164</td>\n",
       "    </tr>\n",
       "    <tr>\n",
       "      <th>M</th>\n",
       "      <td>429.527942</td>\n",
       "    </tr>\n",
       "  </tbody>\n",
       "</table>\n",
       "</div>"
      ],
      "text/plain": [
       "                       total claim amount\n",
       "policy type    gender                    \n",
       "Corporate Auto F               433.738499\n",
       "               M               408.582459\n",
       "Personal Auto  F               452.965929\n",
       "               M               457.010178\n",
       "Special Auto   F               453.280164\n",
       "               M               429.527942"
      ]
     },
     "execution_count": 104,
     "metadata": {},
     "output_type": "execute_result"
    }
   ],
   "source": [
    "dfYesResponseByPolicyTypeAndGender"
   ]
  },
  {
   "cell_type": "code",
   "execution_count": 101,
   "id": "3f23703d",
   "metadata": {},
   "outputs": [
    {
     "data": {
      "text/html": [
       "<div>\n",
       "<style scoped>\n",
       "    .dataframe tbody tr th:only-of-type {\n",
       "        vertical-align: middle;\n",
       "    }\n",
       "\n",
       "    .dataframe tbody tr th {\n",
       "        vertical-align: top;\n",
       "    }\n",
       "\n",
       "    .dataframe thead th {\n",
       "        text-align: right;\n",
       "    }\n",
       "</style>\n",
       "<table border=\"1\" class=\"dataframe\">\n",
       "  <thead>\n",
       "    <tr style=\"text-align: right;\">\n",
       "      <th></th>\n",
       "      <th>state</th>\n",
       "      <th>customer</th>\n",
       "    </tr>\n",
       "  </thead>\n",
       "  <tbody>\n",
       "    <tr>\n",
       "      <th>1</th>\n",
       "      <td>California</td>\n",
       "      <td>504</td>\n",
       "    </tr>\n",
       "  </tbody>\n",
       "</table>\n",
       "</div>"
      ],
      "text/plain": [
       "        state  customer\n",
       "1  California       504"
      ]
     },
     "execution_count": 101,
     "metadata": {},
     "output_type": "execute_result"
    }
   ],
   "source": [
    "# 3. total number of customers who have policies in each state, \\n\n",
    "# and then filter the results to only include states where there are more than 500 customers.\n",
    "\n",
    "customersByState = dfYesResponse.groupby([\"state\"], as_index=False)[[\"customer\"]].count()\n",
    "\n",
    "#customersByState[customersByState[\"customer\"]>=500]\n",
    "\n",
    "#, \"policy type\""
   ]
  },
  {
   "cell_type": "code",
   "execution_count": 124,
   "id": "f036e48e",
   "metadata": {},
   "outputs": [
    {
     "data": {
      "text/html": [
       "<div>\n",
       "<style scoped>\n",
       "    .dataframe tbody tr th:only-of-type {\n",
       "        vertical-align: middle;\n",
       "    }\n",
       "\n",
       "    .dataframe tbody tr th {\n",
       "        vertical-align: top;\n",
       "    }\n",
       "\n",
       "    .dataframe thead th {\n",
       "        text-align: right;\n",
       "    }\n",
       "</style>\n",
       "<table border=\"1\" class=\"dataframe\">\n",
       "  <thead>\n",
       "    <tr style=\"text-align: right;\">\n",
       "      <th></th>\n",
       "      <th></th>\n",
       "      <th>customer lifetime value</th>\n",
       "    </tr>\n",
       "    <tr>\n",
       "      <th>education</th>\n",
       "      <th>gender</th>\n",
       "      <th></th>\n",
       "    </tr>\n",
       "  </thead>\n",
       "  <tbody>\n",
       "    <tr>\n",
       "      <th rowspan=\"2\" valign=\"top\">Bachelor</th>\n",
       "      <th>F</th>\n",
       "      <td>5246.278375</td>\n",
       "    </tr>\n",
       "    <tr>\n",
       "      <th>M</th>\n",
       "      <td>5548.031892</td>\n",
       "    </tr>\n",
       "    <tr>\n",
       "      <th rowspan=\"2\" valign=\"top\">College</th>\n",
       "      <th>F</th>\n",
       "      <td>4834.710493</td>\n",
       "    </tr>\n",
       "    <tr>\n",
       "      <th>M</th>\n",
       "      <td>5989.773931</td>\n",
       "    </tr>\n",
       "    <tr>\n",
       "      <th rowspan=\"2\" valign=\"top\">Doctor</th>\n",
       "      <th>F</th>\n",
       "      <td>4673.457903</td>\n",
       "    </tr>\n",
       "    <tr>\n",
       "      <th>M</th>\n",
       "      <td>5073.282126</td>\n",
       "    </tr>\n",
       "    <tr>\n",
       "      <th rowspan=\"2\" valign=\"top\">High School or Below</th>\n",
       "      <th>F</th>\n",
       "      <td>6503.397049</td>\n",
       "    </tr>\n",
       "    <tr>\n",
       "      <th>M</th>\n",
       "      <td>6366.225775</td>\n",
       "    </tr>\n",
       "    <tr>\n",
       "      <th rowspan=\"2\" valign=\"top\">Master</th>\n",
       "      <th>F</th>\n",
       "      <td>5096.673223</td>\n",
       "    </tr>\n",
       "    <tr>\n",
       "      <th>M</th>\n",
       "      <td>8509.850887</td>\n",
       "    </tr>\n",
       "  </tbody>\n",
       "</table>\n",
       "</div>"
      ],
      "text/plain": [
       "                             customer lifetime value\n",
       "education            gender                         \n",
       "Bachelor             F                   5246.278375\n",
       "                     M                   5548.031892\n",
       "College              F                   4834.710493\n",
       "                     M                   5989.773931\n",
       "Doctor               F                   4673.457903\n",
       "                     M                   5073.282126\n",
       "High School or Below F                   6503.397049\n",
       "                     M                   6366.225775\n",
       "Master               F                   5096.673223\n",
       "                     M                   8509.850887"
      ]
     },
     "execution_count": 124,
     "metadata": {},
     "output_type": "execute_result"
    }
   ],
   "source": [
    "# 4. Find the median customer lifetime value by education level and gender.\n",
    "\n",
    "dfCustomerLifetimeValueByEducationAndGender = dfYesResponse.groupby([\"education\",\"gender\"])[[\"customer lifetime value\"]].median()\n",
    "dfCustomerLifetimeValueByEducationAndGender\n",
    "#customersByState = dfYesResponse.groupby([\"state\"], as_index=False)[[\"customer\"]].count()\n",
    "#customersByState[customersByState[\"customer\"]>=500]"
   ]
  },
  {
   "cell_type": "code",
   "execution_count": 125,
   "id": "c0575f2c",
   "metadata": {},
   "outputs": [],
   "source": [
    "# 5. Find the maximum, minimum, and average number of open complaints by state and policy type.\n",
    "dfMeanComplaintsByStateAndPolicyType = dfYesResponse.groupby([\"state\",\"policy type\"])[[\"number of open complaints\"]].mean()\n",
    "dfMaxComplaintsByStateAndPolicyType = dfYesResponse.groupby([\"state\",\"policy type\"])[[\"number of open complaints\"]].max()\n",
    "dfMinComplaintsByStateAndPolicyType = dfYesResponse.groupby([\"state\",\"policy type\"])[[\"number of open complaints\"]].min()"
   ]
  },
  {
   "cell_type": "code",
   "execution_count": 126,
   "id": "fa4162de",
   "metadata": {},
   "outputs": [
    {
     "name": "stdout",
     "output_type": "stream",
     "text": [
      "                           number of open complaints\n",
      "state      policy type                              \n",
      "Arizona    Corporate Auto                   0.280702\n",
      "           Personal Auto                    0.331754\n",
      "           Special Auto                     0.615385\n",
      "California Corporate Auto                   0.320000\n",
      "           Personal Auto                    0.354749\n",
      "           Special Auto                     0.428571\n",
      "Nevada     Corporate Auto                   0.357143\n",
      "           Personal Auto                    0.486239\n",
      "           Special Auto                     0.000000\n",
      "Oregon     Corporate Auto                   0.262500\n",
      "           Personal Auto                    0.322785\n",
      "           Special Auto                     0.478261\n",
      "Washington Corporate Auto                   0.606061\n",
      "           Personal Auto                    0.256098\n",
      "           Special Auto                     1.142857\n",
      "                           number of open complaints\n",
      "state      policy type                              \n",
      "Arizona    Corporate Auto                        4.0\n",
      "           Personal Auto                         5.0\n",
      "           Special Auto                          3.0\n",
      "California Corporate Auto                        4.0\n",
      "           Personal Auto                         5.0\n",
      "           Special Auto                          3.0\n",
      "Nevada     Corporate Auto                        3.0\n",
      "           Personal Auto                         4.0\n",
      "           Special Auto                          0.0\n",
      "Oregon     Corporate Auto                        3.0\n",
      "           Personal Auto                         5.0\n",
      "           Special Auto                          4.0\n",
      "Washington Corporate Auto                        5.0\n",
      "           Personal Auto                         3.0\n",
      "           Special Auto                          4.0\n",
      "                           number of open complaints\n",
      "state      policy type                              \n",
      "Arizona    Corporate Auto                        0.0\n",
      "           Personal Auto                         0.0\n",
      "           Special Auto                          0.0\n",
      "California Corporate Auto                        0.0\n",
      "           Personal Auto                         0.0\n",
      "           Special Auto                          0.0\n",
      "Nevada     Corporate Auto                        0.0\n",
      "           Personal Auto                         0.0\n",
      "           Special Auto                          0.0\n",
      "Oregon     Corporate Auto                        0.0\n",
      "           Personal Auto                         0.0\n",
      "           Special Auto                          0.0\n",
      "Washington Corporate Auto                        0.0\n",
      "           Personal Auto                         0.0\n",
      "           Special Auto                          0.0\n"
     ]
    }
   ],
   "source": [
    "print(dfMeanComplaintsByStateAndPolicyType)\n",
    "print(dfMaxComplaintsByStateAndPolicyType)\n",
    "print(dfMinComplaintsByStateAndPolicyType)"
   ]
  },
  {
   "cell_type": "code",
   "execution_count": 135,
   "id": "a311ea61",
   "metadata": {},
   "outputs": [
    {
     "data": {
      "text/html": [
       "<div>\n",
       "<style scoped>\n",
       "    .dataframe tbody tr th:only-of-type {\n",
       "        vertical-align: middle;\n",
       "    }\n",
       "\n",
       "    .dataframe tbody tr th {\n",
       "        vertical-align: top;\n",
       "    }\n",
       "\n",
       "    .dataframe thead th {\n",
       "        text-align: right;\n",
       "    }\n",
       "</style>\n",
       "<table border=\"1\" class=\"dataframe\">\n",
       "  <thead>\n",
       "    <tr style=\"text-align: right;\">\n",
       "      <th>state</th>\n",
       "      <th>Arizona</th>\n",
       "      <th>California</th>\n",
       "      <th>Nevada</th>\n",
       "      <th>Oregon</th>\n",
       "      <th>Washington</th>\n",
       "    </tr>\n",
       "    <tr>\n",
       "      <th>month</th>\n",
       "      <th></th>\n",
       "      <th></th>\n",
       "      <th></th>\n",
       "      <th></th>\n",
       "      <th></th>\n",
       "    </tr>\n",
       "  </thead>\n",
       "  <tbody>\n",
       "    <tr>\n",
       "      <th>1</th>\n",
       "      <td>149</td>\n",
       "      <td>303</td>\n",
       "      <td>79</td>\n",
       "      <td>240</td>\n",
       "      <td>72</td>\n",
       "    </tr>\n",
       "    <tr>\n",
       "      <th>2</th>\n",
       "      <td>132</td>\n",
       "      <td>201</td>\n",
       "      <td>61</td>\n",
       "      <td>179</td>\n",
       "      <td>50</td>\n",
       "    </tr>\n",
       "  </tbody>\n",
       "</table>\n",
       "</div>"
      ],
      "text/plain": [
       "state  Arizona  California  Nevada  Oregon  Washington\n",
       "month                                                 \n",
       "1          149         303      79     240          72\n",
       "2          132         201      61     179          50"
      ]
     },
     "execution_count": 135,
     "metadata": {},
     "output_type": "execute_result"
    }
   ],
   "source": [
    "# 6. The marketing team wants to analyze the number of policies sold by state and month.\n",
    "# Present the data in a table where the months are arranged as columns and the states are arranged as rows.\n",
    "salesPerStateAndMonth = dfYesResponse.groupby([\"state\",\"month\"], as_index = False)[[\"customer\"]].count()\n",
    "salesPerStateAndMonth\n",
    "\n",
    "salesByStateAndMonthPivot = pd.pivot_table(salesPerStateAndMonth, values=\"customer\", columns=\"state\", index=\"month\")\n",
    "salesByStateAndMonthPivot"
   ]
  },
  {
   "cell_type": "code",
   "execution_count": 139,
   "id": "2ed194ea",
   "metadata": {},
   "outputs": [
    {
     "data": {
      "text/html": [
       "<div>\n",
       "<style scoped>\n",
       "    .dataframe tbody tr th:only-of-type {\n",
       "        vertical-align: middle;\n",
       "    }\n",
       "\n",
       "    .dataframe tbody tr th {\n",
       "        vertical-align: top;\n",
       "    }\n",
       "\n",
       "    .dataframe thead th {\n",
       "        text-align: right;\n",
       "    }\n",
       "</style>\n",
       "<table border=\"1\" class=\"dataframe\">\n",
       "  <thead>\n",
       "    <tr style=\"text-align: right;\">\n",
       "      <th></th>\n",
       "      <th>state</th>\n",
       "      <th>month</th>\n",
       "      <th>customer</th>\n",
       "    </tr>\n",
       "  </thead>\n",
       "  <tbody>\n",
       "    <tr>\n",
       "      <th>0</th>\n",
       "      <td>Arizona</td>\n",
       "      <td>1</td>\n",
       "      <td>149</td>\n",
       "    </tr>\n",
       "    <tr>\n",
       "      <th>1</th>\n",
       "      <td>Arizona</td>\n",
       "      <td>2</td>\n",
       "      <td>132</td>\n",
       "    </tr>\n",
       "    <tr>\n",
       "      <th>2</th>\n",
       "      <td>California</td>\n",
       "      <td>1</td>\n",
       "      <td>303</td>\n",
       "    </tr>\n",
       "    <tr>\n",
       "      <th>3</th>\n",
       "      <td>California</td>\n",
       "      <td>2</td>\n",
       "      <td>201</td>\n",
       "    </tr>\n",
       "    <tr>\n",
       "      <th>4</th>\n",
       "      <td>Nevada</td>\n",
       "      <td>1</td>\n",
       "      <td>79</td>\n",
       "    </tr>\n",
       "    <tr>\n",
       "      <th>5</th>\n",
       "      <td>Nevada</td>\n",
       "      <td>2</td>\n",
       "      <td>61</td>\n",
       "    </tr>\n",
       "    <tr>\n",
       "      <th>6</th>\n",
       "      <td>Oregon</td>\n",
       "      <td>1</td>\n",
       "      <td>240</td>\n",
       "    </tr>\n",
       "    <tr>\n",
       "      <th>7</th>\n",
       "      <td>Oregon</td>\n",
       "      <td>2</td>\n",
       "      <td>179</td>\n",
       "    </tr>\n",
       "    <tr>\n",
       "      <th>8</th>\n",
       "      <td>Washington</td>\n",
       "      <td>1</td>\n",
       "      <td>72</td>\n",
       "    </tr>\n",
       "    <tr>\n",
       "      <th>9</th>\n",
       "      <td>Washington</td>\n",
       "      <td>2</td>\n",
       "      <td>50</td>\n",
       "    </tr>\n",
       "  </tbody>\n",
       "</table>\n",
       "</div>"
      ],
      "text/plain": [
       "        state  month  customer\n",
       "0     Arizona      1       149\n",
       "1     Arizona      2       132\n",
       "2  California      1       303\n",
       "3  California      2       201\n",
       "4      Nevada      1        79\n",
       "5      Nevada      2        61\n",
       "6      Oregon      1       240\n",
       "7      Oregon      2       179\n",
       "8  Washington      1        72\n",
       "9  Washington      2        50"
      ]
     },
     "execution_count": 139,
     "metadata": {},
     "output_type": "execute_result"
    }
   ],
   "source": [
    "# 7. number of policies sold by month by state \n",
    "# for the top 3 states with the highest number of policies sold.\n",
    "\n",
    "salesPerStateAndMonth = dfYesResponse.groupby([\"state\",\"month\"], as_index = False)[[\"customer\"]].count()\n",
    "salesPerStateAndMonth\n",
    "\n",
    "# continued with aggregate or lambda function\n",
    "\n",
    "#salesPerStateAndMonth.groupby('state')['customer'].sum()"
   ]
  },
  {
   "cell_type": "code",
   "execution_count": null,
   "id": "a66588e6",
   "metadata": {},
   "outputs": [],
   "source": []
  }
 ],
 "metadata": {
  "kernelspec": {
   "display_name": "Python 3 (ipykernel)",
   "language": "python",
   "name": "python3"
  },
  "language_info": {
   "codemirror_mode": {
    "name": "ipython",
    "version": 3
   },
   "file_extension": ".py",
   "mimetype": "text/x-python",
   "name": "python",
   "nbconvert_exporter": "python",
   "pygments_lexer": "ipython3",
   "version": "3.8.8"
  }
 },
 "nbformat": 4,
 "nbformat_minor": 5
}
