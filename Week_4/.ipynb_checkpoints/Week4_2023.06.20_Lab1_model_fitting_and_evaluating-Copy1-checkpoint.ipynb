{
 "cells": [
  {
   "cell_type": "code",
   "execution_count": 62,
   "id": "a657e555",
   "metadata": {},
   "outputs": [],
   "source": [
    "from sklearn.model_selection import train_test_split\n",
    "from sklearn.linear_model import LinearRegression\n",
    "from sklearn.preprocessing import OrdinalEncoder, PowerTransformer, StandardScaler, MinMaxScaler\n",
    "import numpy as np\n",
    "import pandas as pd\n",
    "import seaborn as sns"
   ]
  },
  {
   "cell_type": "code",
   "execution_count": 63,
   "id": "5fa8bedc",
   "metadata": {},
   "outputs": [],
   "source": [
    "df = pd.read_csv(\"Week2_2023.06.06_Lab1_marketing_customer_analysis_clean.csv\")"
   ]
  },
  {
   "cell_type": "code",
   "execution_count": 64,
   "id": "d5c3d6ad",
   "metadata": {},
   "outputs": [
    {
     "data": {
      "text/plain": [
       "(10910, 26)"
      ]
     },
     "execution_count": 64,
     "metadata": {},
     "output_type": "execute_result"
    }
   ],
   "source": [
    "df.shape"
   ]
  },
  {
   "cell_type": "code",
   "execution_count": 65,
   "id": "e8e4b2d0",
   "metadata": {},
   "outputs": [],
   "source": [
    "df = df.dropna()\n",
    "df = df.reset_index(drop=True)"
   ]
  },
  {
   "cell_type": "code",
   "execution_count": 66,
   "id": "e7d59702",
   "metadata": {},
   "outputs": [
    {
     "data": {
      "text/plain": [
       "(9134, 26)"
      ]
     },
     "execution_count": 66,
     "metadata": {},
     "output_type": "execute_result"
    }
   ],
   "source": [
    "df.shape"
   ]
  },
  {
   "cell_type": "code",
   "execution_count": 67,
   "id": "a6de1bf0",
   "metadata": {},
   "outputs": [],
   "source": [
    "# save numerical columns\n",
    "dfNumeric = df._get_numeric_data()\n",
    "#print(dfNumeric.shape)\n",
    "#print(dfNumeric.columns)\n",
    "\n",
    "# save categorical columns\n",
    "dfCategorical = df.drop(list(dfNumeric.columns), axis=1, inplace=False)\n",
    "#print(dfCategorical.shape)\n",
    "#print(dfCategorical.columns)\n",
    "#dfCategorical = df.drop([dfNumeric.columns], axis=1, inplace=False)"
   ]
  },
  {
   "cell_type": "code",
   "execution_count": 68,
   "id": "e547c61b",
   "metadata": {
    "scrolled": true
   },
   "outputs": [
    {
     "data": {
      "text/plain": [
       "Index(['Unnamed: 0', 'customer lifetime value', 'income',\n",
       "       'monthly premium auto', 'months since last claim',\n",
       "       'months since policy inception', 'number of open complaints',\n",
       "       'number of policies', 'total claim amount', 'month'],\n",
       "      dtype='object')"
      ]
     },
     "execution_count": 68,
     "metadata": {},
     "output_type": "execute_result"
    }
   ],
   "source": [
    "dfNumeric.columns"
   ]
  },
  {
   "cell_type": "code",
   "execution_count": 69,
   "id": "a8348239",
   "metadata": {},
   "outputs": [
    {
     "data": {
      "text/plain": [
       "Index(['customer', 'state', 'response', 'coverage', 'education',\n",
       "       'effective to date', 'employmentstatus', 'gender', 'location code',\n",
       "       'marital status', 'policy type', 'policy', 'renew offer type',\n",
       "       'sales channel', 'vehicle class', 'vehicle size'],\n",
       "      dtype='object')"
      ]
     },
     "execution_count": 69,
     "metadata": {},
     "output_type": "execute_result"
    }
   ],
   "source": [
    "dfCategorical.columns"
   ]
  },
  {
   "cell_type": "code",
   "execution_count": 70,
   "id": "f9ed6f91",
   "metadata": {},
   "outputs": [],
   "source": [
    "dfNumeric = dfNumeric.drop(\"Unnamed: 0\",axis=1)\n",
    "y = dfNumeric[\"total claim amount\"]\n",
    "dfNumeric = dfNumeric.drop(\"total claim amount\",axis=1)\n",
    "dfNumeric = dfNumeric.reset_index(drop=True)"
   ]
  },
  {
   "cell_type": "code",
   "execution_count": 16,
   "id": "6ec65da3",
   "metadata": {
    "scrolled": true
   },
   "outputs": [
    {
     "data": {
      "text/html": [
       "<div>\n",
       "<style scoped>\n",
       "    .dataframe tbody tr th:only-of-type {\n",
       "        vertical-align: middle;\n",
       "    }\n",
       "\n",
       "    .dataframe tbody tr th {\n",
       "        vertical-align: top;\n",
       "    }\n",
       "\n",
       "    .dataframe thead th {\n",
       "        text-align: right;\n",
       "    }\n",
       "</style>\n",
       "<table border=\"1\" class=\"dataframe\">\n",
       "  <thead>\n",
       "    <tr style=\"text-align: right;\">\n",
       "      <th></th>\n",
       "      <th>customer lifetime value</th>\n",
       "      <th>income</th>\n",
       "      <th>monthly premium auto</th>\n",
       "      <th>months since last claim</th>\n",
       "      <th>months since policy inception</th>\n",
       "      <th>number of open complaints</th>\n",
       "      <th>number of policies</th>\n",
       "      <th>month</th>\n",
       "    </tr>\n",
       "  </thead>\n",
       "  <tbody>\n",
       "    <tr>\n",
       "      <th>0</th>\n",
       "      <td>4809.216960</td>\n",
       "      <td>48029</td>\n",
       "      <td>61</td>\n",
       "      <td>7.0</td>\n",
       "      <td>52</td>\n",
       "      <td>0.0</td>\n",
       "      <td>9</td>\n",
       "      <td>2</td>\n",
       "    </tr>\n",
       "    <tr>\n",
       "      <th>1</th>\n",
       "      <td>2228.525238</td>\n",
       "      <td>0</td>\n",
       "      <td>64</td>\n",
       "      <td>3.0</td>\n",
       "      <td>26</td>\n",
       "      <td>0.0</td>\n",
       "      <td>1</td>\n",
       "      <td>1</td>\n",
       "    </tr>\n",
       "    <tr>\n",
       "      <th>2</th>\n",
       "      <td>14947.917300</td>\n",
       "      <td>22139</td>\n",
       "      <td>100</td>\n",
       "      <td>34.0</td>\n",
       "      <td>31</td>\n",
       "      <td>0.0</td>\n",
       "      <td>2</td>\n",
       "      <td>2</td>\n",
       "    </tr>\n",
       "  </tbody>\n",
       "</table>\n",
       "</div>"
      ],
      "text/plain": [
       "   customer lifetime value  income  monthly premium auto  \\\n",
       "0              4809.216960   48029                    61   \n",
       "1              2228.525238       0                    64   \n",
       "2             14947.917300   22139                   100   \n",
       "\n",
       "   months since last claim  months since policy inception  \\\n",
       "0                      7.0                             52   \n",
       "1                      3.0                             26   \n",
       "2                     34.0                             31   \n",
       "\n",
       "   number of open complaints  number of policies  month  \n",
       "0                        0.0                   9      2  \n",
       "1                        0.0                   1      1  \n",
       "2                        0.0                   2      2  "
      ]
     },
     "execution_count": 16,
     "metadata": {},
     "output_type": "execute_result"
    }
   ],
   "source": [
    "dfNumeric.head(3)"
   ]
  },
  {
   "cell_type": "markdown",
   "id": "b74cd910",
   "metadata": {},
   "source": [
    "#### we want to predict the weight of the penguins based on the flipper length"
   ]
  },
  {
   "cell_type": "code",
   "execution_count": 71,
   "id": "29607e55",
   "metadata": {},
   "outputs": [],
   "source": [
    "X = dfNumeric"
   ]
  },
  {
   "cell_type": "code",
   "execution_count": 72,
   "id": "079d5a45",
   "metadata": {},
   "outputs": [
    {
     "name": "stdout",
     "output_type": "stream",
     "text": [
      "(9134, 8)\n",
      "(9134,)\n"
     ]
    }
   ],
   "source": [
    "print(X.shape)\n",
    "print(y.shape)\n",
    "#y = pdfTarget"
   ]
  },
  {
   "cell_type": "markdown",
   "id": "2e5b7c26",
   "metadata": {},
   "source": [
    "#### train-test split"
   ]
  },
  {
   "cell_type": "code",
   "execution_count": 73,
   "id": "a29c1592",
   "metadata": {},
   "outputs": [],
   "source": [
    "from sklearn.model_selection import train_test_split"
   ]
  },
  {
   "cell_type": "code",
   "execution_count": 74,
   "id": "a218d947",
   "metadata": {},
   "outputs": [],
   "source": [
    "X_train, X_test, y_train, y_test = train_test_split(X, y, test_size = 0.3, random_state=42)"
   ]
  },
  {
   "cell_type": "code",
   "execution_count": 77,
   "id": "1df52544",
   "metadata": {},
   "outputs": [
    {
     "name": "stdout",
     "output_type": "stream",
     "text": [
      "(6393, 8)\n",
      "(2741, 8)\n",
      "(6393,)\n",
      "(2741,)\n"
     ]
    }
   ],
   "source": [
    "print(X_train.shape)\n",
    "print(X_test.shape)\n",
    "print(y_train.shape)\n",
    "print(y_test.shape)"
   ]
  },
  {
   "cell_type": "code",
   "execution_count": 76,
   "id": "793e6131",
   "metadata": {},
   "outputs": [],
   "source": [
    "dfCombined = dfCombined.dropna()\n",
    "dfCombined = dfCombined.reset_index(drop=True)"
   ]
  },
  {
   "cell_type": "markdown",
   "id": "5ed81fa6",
   "metadata": {},
   "source": [
    "## 1. without transforming data"
   ]
  },
  {
   "cell_type": "markdown",
   "id": "f16991ec",
   "metadata": {},
   "source": [
    "#### model generation"
   ]
  },
  {
   "cell_type": "code",
   "execution_count": 17,
   "id": "d5d75e6b",
   "metadata": {},
   "outputs": [],
   "source": [
    "from sklearn.linear_model import LinearRegression"
   ]
  },
  {
   "cell_type": "code",
   "execution_count": 18,
   "id": "6d98b55d",
   "metadata": {},
   "outputs": [],
   "source": [
    "#instantiating linear regression object\n",
    "lm  = LinearRegression() # fit_intercept = True"
   ]
  },
  {
   "cell_type": "code",
   "execution_count": 19,
   "id": "fb5900a5",
   "metadata": {
    "scrolled": true
   },
   "outputs": [],
   "source": [
    "# calculating the best fit by minimizing the loss function - calculating the model parameters - slope and intercept\n",
    "model = lm.fit(X_train, y_train)"
   ]
  },
  {
   "cell_type": "code",
   "execution_count": 20,
   "id": "44b8ef83",
   "metadata": {},
   "outputs": [
    {
     "name": "stdout",
     "output_type": "stream",
     "text": [
      "[-3.03118930e-04 -3.30763445e-03  5.41199075e+00 -1.07933456e-02\n",
      " -1.19974470e-01 -2.90235442e+00 -1.23581957e-01  2.76969659e+00]\n",
      "60.80130183052148\n"
     ]
    }
   ],
   "source": [
    "# model slope\n",
    "print(model.coef_)\n",
    "# model intercept\n",
    "print(model.intercept_)# model slope\n",
    "print(model.coef_)\n",
    "# model intercept\n",
    "print(model.intercept_)"
   ]
  },
  {
   "cell_type": "code",
   "execution_count": 21,
   "id": "69013624",
   "metadata": {},
   "outputs": [],
   "source": [
    "y_pred = model.predict(X_test)"
   ]
  },
  {
   "cell_type": "code",
   "execution_count": 118,
   "id": "5d40cb51",
   "metadata": {},
   "outputs": [],
   "source": [
    "#y_test - y_pred\n",
    "compare = pd.DataFrame({\"y_test\":list(y_test), \"y_pred\":list(y_pred)})"
   ]
  },
  {
   "cell_type": "code",
   "execution_count": 119,
   "id": "e1a33fbe",
   "metadata": {},
   "outputs": [
    {
     "data": {
      "text/html": [
       "<div>\n",
       "<style scoped>\n",
       "    .dataframe tbody tr th:only-of-type {\n",
       "        vertical-align: middle;\n",
       "    }\n",
       "\n",
       "    .dataframe tbody tr th {\n",
       "        vertical-align: top;\n",
       "    }\n",
       "\n",
       "    .dataframe thead th {\n",
       "        text-align: right;\n",
       "    }\n",
       "</style>\n",
       "<table border=\"1\" class=\"dataframe\">\n",
       "  <thead>\n",
       "    <tr style=\"text-align: right;\">\n",
       "      <th></th>\n",
       "      <th>y_test</th>\n",
       "      <th>y_pred</th>\n",
       "    </tr>\n",
       "  </thead>\n",
       "  <tbody>\n",
       "    <tr>\n",
       "      <th>0</th>\n",
       "      <td>326.400000</td>\n",
       "      <td>342.123485</td>\n",
       "    </tr>\n",
       "    <tr>\n",
       "      <th>1</th>\n",
       "      <td>209.504391</td>\n",
       "      <td>621.104674</td>\n",
       "    </tr>\n",
       "    <tr>\n",
       "      <th>2</th>\n",
       "      <td>523.888845</td>\n",
       "      <td>367.453851</td>\n",
       "    </tr>\n",
       "    <tr>\n",
       "      <th>3</th>\n",
       "      <td>504.000000</td>\n",
       "      <td>329.940246</td>\n",
       "    </tr>\n",
       "    <tr>\n",
       "      <th>4</th>\n",
       "      <td>135.888306</td>\n",
       "      <td>449.976424</td>\n",
       "    </tr>\n",
       "    <tr>\n",
       "      <th>...</th>\n",
       "      <td>...</td>\n",
       "      <td>...</td>\n",
       "    </tr>\n",
       "    <tr>\n",
       "      <th>3079</th>\n",
       "      <td>330.782934</td>\n",
       "      <td>282.293920</td>\n",
       "    </tr>\n",
       "    <tr>\n",
       "      <th>3080</th>\n",
       "      <td>405.804184</td>\n",
       "      <td>453.081242</td>\n",
       "    </tr>\n",
       "    <tr>\n",
       "      <th>3081</th>\n",
       "      <td>648.000000</td>\n",
       "      <td>537.010494</td>\n",
       "    </tr>\n",
       "    <tr>\n",
       "      <th>3082</th>\n",
       "      <td>161.615740</td>\n",
       "      <td>930.786949</td>\n",
       "    </tr>\n",
       "    <tr>\n",
       "      <th>3083</th>\n",
       "      <td>46.203410</td>\n",
       "      <td>186.518776</td>\n",
       "    </tr>\n",
       "  </tbody>\n",
       "</table>\n",
       "<p>3084 rows × 2 columns</p>\n",
       "</div>"
      ],
      "text/plain": [
       "          y_test      y_pred\n",
       "0     326.400000  342.123485\n",
       "1     209.504391  621.104674\n",
       "2     523.888845  367.453851\n",
       "3     504.000000  329.940246\n",
       "4     135.888306  449.976424\n",
       "...          ...         ...\n",
       "3079  330.782934  282.293920\n",
       "3080  405.804184  453.081242\n",
       "3081  648.000000  537.010494\n",
       "3082  161.615740  930.786949\n",
       "3083   46.203410  186.518776\n",
       "\n",
       "[3084 rows x 2 columns]"
      ]
     },
     "execution_count": 119,
     "metadata": {},
     "output_type": "execute_result"
    }
   ],
   "source": [
    "compare"
   ]
  },
  {
   "cell_type": "markdown",
   "id": "7482cf2f",
   "metadata": {},
   "source": [
    "#### model evaluation"
   ]
  },
  {
   "cell_type": "code",
   "execution_count": 120,
   "id": "1ece74ef",
   "metadata": {},
   "outputs": [],
   "source": [
    "from sklearn.metrics import mean_absolute_error as mae, mean_squared_error as mse"
   ]
  },
  {
   "cell_type": "code",
   "execution_count": 121,
   "id": "011ce1ad",
   "metadata": {},
   "outputs": [
    {
     "data": {
      "text/plain": [
       "40333.24857039886"
      ]
     },
     "execution_count": 121,
     "metadata": {},
     "output_type": "execute_result"
    }
   ],
   "source": [
    "mse(y_test,y_pred)"
   ]
  },
  {
   "cell_type": "code",
   "execution_count": 122,
   "id": "685889d0",
   "metadata": {},
   "outputs": [
    {
     "data": {
      "text/plain": [
       "143.1337950424027"
      ]
     },
     "execution_count": 122,
     "metadata": {},
     "output_type": "execute_result"
    }
   ],
   "source": [
    "mae(y_test,y_pred)"
   ]
  },
  {
   "cell_type": "code",
   "execution_count": 123,
   "id": "3c715808",
   "metadata": {},
   "outputs": [],
   "source": [
    "import matplotlib.pyplot as plt"
   ]
  },
  {
   "cell_type": "code",
   "execution_count": 127,
   "id": "bcb68a28",
   "metadata": {},
   "outputs": [
    {
     "name": "stdout",
     "output_type": "stream",
     "text": [
      "<class 'numpy.ndarray'>\n",
      "<class 'pandas.core.series.Series'>\n"
     ]
    }
   ],
   "source": [
    "print(type(y_pred))\n",
    "print(type(y_test))\n",
    "y_test_array = np.array(y_test)"
   ]
  },
  {
   "cell_type": "code",
   "execution_count": 130,
   "id": "841b2e43",
   "metadata": {},
   "outputs": [
    {
     "name": "stdout",
     "output_type": "stream",
     "text": [
      "<class 'numpy.ndarray'>\n",
      "<class 'numpy.ndarray'>\n"
     ]
    }
   ],
   "source": [
    "print(type(y_test_array))\n",
    "print(type(y_pred))"
   ]
  },
  {
   "cell_type": "code",
   "execution_count": 132,
   "id": "b8ff0cc5",
   "metadata": {
    "scrolled": true
   },
   "outputs": [
    {
     "data": {
      "text/plain": [
       "[<matplotlib.lines.Line2D at 0x1d243068e80>]"
      ]
     },
     "execution_count": 132,
     "metadata": {},
     "output_type": "execute_result"
    },
    {
     "data": {
      "image/png": "[encoded data removed]",
      "text/plain": [
       "<Figure size 1008x288 with 3 Axes>"
      ]
     },
     "metadata": {
      "needs_background": "light"
     },
     "output_type": "display_data"
    }
   ],
   "source": [
    "fig, ax = plt.subplots(1,3,figsize=(14,4))\n",
    "ax[0].plot(y_pred, y_test_array, 'o')\n",
    "ax[0].set_xlabel(\"y_test\")\n",
    "ax[0].set_ylabel(\"y_pred\")\n",
    "ax[0].set_title(\"Test Set -Predicted vs real\")\n",
    "\n",
    "# Get a histogram of the residuals ie: y - y_pred.  Homoscedasticity\n",
    "# Does it resemble a normal distribution?\n",
    "ax[1].hist(y_test_array - y_pred)\n",
    "ax[1].set_xlabel(\"Test y-y_pred\")\n",
    "ax[1].set_title(\"Test Set Residual histogram\")\n",
    "\n",
    "ax[2].plot(y_pred,y_test_array - y_pred,\"o\")\n",
    "ax[2].set_xlabel(\"predicted\")\n",
    "ax[2].set_ylabel(\"residuals\")\n",
    "ax[2].set_title(\"Residuals by Predicted\")\n",
    "ax[2].plot(y_pred,np.zeros(len(y_pred)),linestyle='dashed')"
   ]
  },
  {
   "cell_type": "markdown",
   "id": "c5c30b50",
   "metadata": {},
   "source": [
    "## 2. with transforming data"
   ]
  },
  {
   "cell_type": "markdown",
   "id": "56082a8a",
   "metadata": {},
   "source": [
    "#### run first cells in notebook to load data again and split data again."
   ]
  },
  {
   "cell_type": "code",
   "execution_count": 112,
   "id": "22f27f4a",
   "metadata": {},
   "outputs": [],
   "source": [
    "# Create an instance of StandardScaler\n",
    "ss = StandardScaler()\n",
    "\n",
    "# Fit the StandardScaler to your data\n",
    "ss.fit(X_train)\n",
    "\n",
    "# Apply the power transform to your data\n",
    "X_train_transformed = ss.transform(X_train)\n",
    "X_test_transformed = ss.transform(X_test)\n",
    "\n",
    "#plt.hist(varB)\n"
   ]
  },
  {
   "cell_type": "code",
   "execution_count": 113,
   "id": "dce744dd",
   "metadata": {},
   "outputs": [],
   "source": [
    "from sklearn.linear_model import LinearRegression"
   ]
  },
  {
   "cell_type": "code",
   "execution_count": 24,
   "id": "af771861",
   "metadata": {},
   "outputs": [],
   "source": [
    "#instantiating linear regression object\n",
    "lm  = LinearRegression() # fit_intercept = True"
   ]
  },
  {
   "cell_type": "code",
   "execution_count": 25,
   "id": "3d211e50",
   "metadata": {
    "scrolled": true
   },
   "outputs": [],
   "source": [
    "# calculating the best fit by minimizing the loss function - calculating the model parameters - slope and intercept\n",
    "model = lm.fit(X_train_transformed, y_train)"
   ]
  },
  {
   "cell_type": "code",
   "execution_count": 26,
   "id": "45fec4a5",
   "metadata": {},
   "outputs": [
    {
     "name": "stdout",
     "output_type": "stream",
     "text": [
      "[-2.10452592e+00 -1.00642195e+02  1.84245289e+02 -1.09222651e-01\n",
      " -3.34650866e+00 -2.68156927e+00 -2.94761963e-01  1.38140394e+00]\n",
      "433.6741637378007\n"
     ]
    }
   ],
   "source": [
    "# model slope\n",
    "print(model.coef_)\n",
    "# model intercept\n",
    "print(model.intercept_)"
   ]
  },
  {
   "cell_type": "code",
   "execution_count": 27,
   "id": "f96e35ba",
   "metadata": {},
   "outputs": [],
   "source": [
    "y_pred = model.predict(X_test_transformed)"
   ]
  },
  {
   "cell_type": "code",
   "execution_count": 28,
   "id": "4c23c3a5",
   "metadata": {},
   "outputs": [],
   "source": [
    "#y_test - y_pred\n",
    "compare = pd.DataFrame({\"y_test\":list(y_test), \"y_pred\":list(y_pred)})"
   ]
  },
  {
   "cell_type": "code",
   "execution_count": 29,
   "id": "1c94adcd",
   "metadata": {},
   "outputs": [
    {
     "data": {
      "text/html": [
       "<div>\n",
       "<style scoped>\n",
       "    .dataframe tbody tr th:only-of-type {\n",
       "        vertical-align: middle;\n",
       "    }\n",
       "\n",
       "    .dataframe tbody tr th {\n",
       "        vertical-align: top;\n",
       "    }\n",
       "\n",
       "    .dataframe thead th {\n",
       "        text-align: right;\n",
       "    }\n",
       "</style>\n",
       "<table border=\"1\" class=\"dataframe\">\n",
       "  <thead>\n",
       "    <tr style=\"text-align: right;\">\n",
       "      <th></th>\n",
       "      <th>y_test</th>\n",
       "      <th>y_pred</th>\n",
       "    </tr>\n",
       "  </thead>\n",
       "  <tbody>\n",
       "    <tr>\n",
       "      <th>0</th>\n",
       "      <td>326.400000</td>\n",
       "      <td>342.123485</td>\n",
       "    </tr>\n",
       "    <tr>\n",
       "      <th>1</th>\n",
       "      <td>209.504391</td>\n",
       "      <td>621.104674</td>\n",
       "    </tr>\n",
       "    <tr>\n",
       "      <th>2</th>\n",
       "      <td>523.888845</td>\n",
       "      <td>367.453851</td>\n",
       "    </tr>\n",
       "    <tr>\n",
       "      <th>3</th>\n",
       "      <td>504.000000</td>\n",
       "      <td>329.940246</td>\n",
       "    </tr>\n",
       "    <tr>\n",
       "      <th>4</th>\n",
       "      <td>135.888306</td>\n",
       "      <td>449.976424</td>\n",
       "    </tr>\n",
       "    <tr>\n",
       "      <th>...</th>\n",
       "      <td>...</td>\n",
       "      <td>...</td>\n",
       "    </tr>\n",
       "    <tr>\n",
       "      <th>3079</th>\n",
       "      <td>330.782934</td>\n",
       "      <td>282.293920</td>\n",
       "    </tr>\n",
       "    <tr>\n",
       "      <th>3080</th>\n",
       "      <td>405.804184</td>\n",
       "      <td>453.081242</td>\n",
       "    </tr>\n",
       "    <tr>\n",
       "      <th>3081</th>\n",
       "      <td>648.000000</td>\n",
       "      <td>537.010494</td>\n",
       "    </tr>\n",
       "    <tr>\n",
       "      <th>3082</th>\n",
       "      <td>161.615740</td>\n",
       "      <td>930.786949</td>\n",
       "    </tr>\n",
       "    <tr>\n",
       "      <th>3083</th>\n",
       "      <td>46.203410</td>\n",
       "      <td>186.518776</td>\n",
       "    </tr>\n",
       "  </tbody>\n",
       "</table>\n",
       "<p>3084 rows × 2 columns</p>\n",
       "</div>"
      ],
      "text/plain": [
       "          y_test      y_pred\n",
       "0     326.400000  342.123485\n",
       "1     209.504391  621.104674\n",
       "2     523.888845  367.453851\n",
       "3     504.000000  329.940246\n",
       "4     135.888306  449.976424\n",
       "...          ...         ...\n",
       "3079  330.782934  282.293920\n",
       "3080  405.804184  453.081242\n",
       "3081  648.000000  537.010494\n",
       "3082  161.615740  930.786949\n",
       "3083   46.203410  186.518776\n",
       "\n",
       "[3084 rows x 2 columns]"
      ]
     },
     "execution_count": 29,
     "metadata": {},
     "output_type": "execute_result"
    }
   ],
   "source": [
    "compare"
   ]
  },
  {
   "cell_type": "markdown",
   "id": "00dd2517",
   "metadata": {},
   "source": [
    "#### model evaluation"
   ]
  },
  {
   "cell_type": "code",
   "execution_count": 30,
   "id": "0efbe907",
   "metadata": {},
   "outputs": [],
   "source": [
    "from sklearn.metrics import mean_absolute_error as mae, mean_squared_error as mse"
   ]
  },
  {
   "cell_type": "code",
   "execution_count": 31,
   "id": "882130e5",
   "metadata": {},
   "outputs": [
    {
     "data": {
      "text/plain": [
       "40333.24857039884"
      ]
     },
     "execution_count": 31,
     "metadata": {},
     "output_type": "execute_result"
    }
   ],
   "source": [
    "mse(y_test,y_pred)"
   ]
  },
  {
   "cell_type": "code",
   "execution_count": 32,
   "id": "1847f775",
   "metadata": {},
   "outputs": [
    {
     "data": {
      "text/plain": [
       "143.13379504240277"
      ]
     },
     "execution_count": 32,
     "metadata": {},
     "output_type": "execute_result"
    }
   ],
   "source": [
    "mae(y_test,y_pred)"
   ]
  },
  {
   "cell_type": "code",
   "execution_count": 33,
   "id": "7f65c949",
   "metadata": {},
   "outputs": [],
   "source": [
    "import matplotlib.pyplot as plt"
   ]
  },
  {
   "cell_type": "code",
   "execution_count": 34,
   "id": "d737c7e9",
   "metadata": {},
   "outputs": [
    {
     "name": "stdout",
     "output_type": "stream",
     "text": [
      "<class 'numpy.ndarray'>\n",
      "<class 'pandas.core.series.Series'>\n"
     ]
    }
   ],
   "source": [
    "print(type(y_pred))\n",
    "print(type(y_test))\n",
    "y_test_array = np.array(y_test)"
   ]
  },
  {
   "cell_type": "code",
   "execution_count": 35,
   "id": "fe86affe",
   "metadata": {},
   "outputs": [
    {
     "name": "stdout",
     "output_type": "stream",
     "text": [
      "<class 'numpy.ndarray'>\n",
      "<class 'numpy.ndarray'>\n"
     ]
    }
   ],
   "source": [
    "print(type(y_test_array))\n",
    "print(type(y_pred))"
   ]
  },
  {
   "cell_type": "code",
   "execution_count": 36,
   "id": "3f75c0b1",
   "metadata": {},
   "outputs": [
    {
     "data": {
      "text/plain": [
       "[<matplotlib.lines.Line2D at 0x1b7f4f42370>]"
      ]
     },
     "execution_count": 36,
     "metadata": {},
     "output_type": "execute_result"
    },
    {
     "data": {
      "image/png": "[encoded data removed]",
      "text/plain": [
       "<Figure size 1008x288 with 3 Axes>"
      ]
     },
     "metadata": {
      "needs_background": "light"
     },
     "output_type": "display_data"
    }
   ],
   "source": [
    "fig, ax = plt.subplots(1,3,figsize=(14,4))\n",
    "ax[0].plot(y_pred, y_test_array, 'o')\n",
    "ax[0].set_xlabel(\"y_test\")\n",
    "ax[0].set_ylabel(\"y_pred\")\n",
    "ax[0].set_title(\"Test Set -Predicted vs real\")\n",
    "\n",
    "# Get a histogram of the residuals ie: y - y_pred.  Homoscedasticity\n",
    "# Does it resemble a normal distribution?\n",
    "ax[1].hist(y_test_array - y_pred)\n",
    "ax[1].set_xlabel(\"Test y-y_pred\")\n",
    "ax[1].set_title(\"Test Set Residual histogram\")\n",
    "\n",
    "ax[2].plot(y_pred,y_test_array - y_pred,\"o\")\n",
    "ax[2].set_xlabel(\"predicted\")\n",
    "ax[2].set_ylabel(\"residuals\")\n",
    "ax[2].set_title(\"Residuals by Predicted\")\n",
    "ax[2].plot(y_pred,np.zeros(len(y_pred)),linestyle='dashed')"
   ]
  },
  {
   "cell_type": "markdown",
   "id": "41490fbd",
   "metadata": {},
   "source": [
    "## 3. with transforming data - PERSISTENT NUMPY ERROR"
   ]
  },
  {
   "cell_type": "markdown",
   "id": "ae1848c2",
   "metadata": {},
   "source": [
    "#### run first cells in notebook to load data again and split data again."
   ]
  },
  {
   "cell_type": "code",
   "execution_count": 78,
   "id": "c78e37a6",
   "metadata": {},
   "outputs": [
    {
     "ename": "AttributeError",
     "evalue": "module 'numpy' has no attribute 'warnings'",
     "output_type": "error",
     "traceback": [
      "\u001b[1;31m---------------------------------------------------------------------------\u001b[0m",
      "\u001b[1;31mAttributeError\u001b[0m                            Traceback (most recent call last)",
      "\u001b[1;32m~\\AppData\\Local\\Temp/ipykernel_18200/567932257.py\u001b[0m in \u001b[0;36m<module>\u001b[1;34m\u001b[0m\n\u001b[0;32m      3\u001b[0m \u001b[1;33m\u001b[0m\u001b[0m\n\u001b[0;32m      4\u001b[0m \u001b[1;31m# Fit the StandardScaler to your data\u001b[0m\u001b[1;33m\u001b[0m\u001b[1;33m\u001b[0m\u001b[1;33m\u001b[0m\u001b[0m\n\u001b[1;32m----> 5\u001b[1;33m \u001b[0mpt\u001b[0m\u001b[1;33m.\u001b[0m\u001b[0mfit\u001b[0m\u001b[1;33m(\u001b[0m\u001b[0mX_train\u001b[0m\u001b[1;33m)\u001b[0m\u001b[1;33m\u001b[0m\u001b[1;33m\u001b[0m\u001b[0m\n\u001b[0m\u001b[0;32m      6\u001b[0m \u001b[1;33m\u001b[0m\u001b[0m\n\u001b[0;32m      7\u001b[0m \u001b[1;31m# Apply the power transform to your data\u001b[0m\u001b[1;33m\u001b[0m\u001b[1;33m\u001b[0m\u001b[1;33m\u001b[0m\u001b[0m\n",
      "\u001b[1;32mE:\\Programs\\anaconda3\\lib\\site-packages\\sklearn\\preprocessing\\_data.py\u001b[0m in \u001b[0;36mfit\u001b[1;34m(self, X, y)\u001b[0m\n\u001b[0;32m   3043\u001b[0m             \u001b[0mFitted\u001b[0m \u001b[0mtransformer\u001b[0m\u001b[1;33m.\u001b[0m\u001b[1;33m\u001b[0m\u001b[1;33m\u001b[0m\u001b[0m\n\u001b[0;32m   3044\u001b[0m         \"\"\"\n\u001b[1;32m-> 3045\u001b[1;33m         \u001b[0mself\u001b[0m\u001b[1;33m.\u001b[0m\u001b[0m_fit\u001b[0m\u001b[1;33m(\u001b[0m\u001b[0mX\u001b[0m\u001b[1;33m,\u001b[0m \u001b[0my\u001b[0m\u001b[1;33m=\u001b[0m\u001b[0my\u001b[0m\u001b[1;33m,\u001b[0m \u001b[0mforce_transform\u001b[0m\u001b[1;33m=\u001b[0m\u001b[1;32mFalse\u001b[0m\u001b[1;33m)\u001b[0m\u001b[1;33m\u001b[0m\u001b[1;33m\u001b[0m\u001b[0m\n\u001b[0m\u001b[0;32m   3046\u001b[0m         \u001b[1;32mreturn\u001b[0m \u001b[0mself\u001b[0m\u001b[1;33m\u001b[0m\u001b[1;33m\u001b[0m\u001b[0m\n\u001b[0;32m   3047\u001b[0m \u001b[1;33m\u001b[0m\u001b[0m\n",
      "\u001b[1;32mE:\\Programs\\anaconda3\\lib\\site-packages\\sklearn\\preprocessing\\_data.py\u001b[0m in \u001b[0;36m_fit\u001b[1;34m(self, X, y, force_transform)\u001b[0m\n\u001b[0;32m   3066\u001b[0m \u001b[1;33m\u001b[0m\u001b[0m\n\u001b[0;32m   3067\u001b[0m     \u001b[1;32mdef\u001b[0m \u001b[0m_fit\u001b[0m\u001b[1;33m(\u001b[0m\u001b[0mself\u001b[0m\u001b[1;33m,\u001b[0m \u001b[0mX\u001b[0m\u001b[1;33m,\u001b[0m \u001b[0my\u001b[0m\u001b[1;33m=\u001b[0m\u001b[1;32mNone\u001b[0m\u001b[1;33m,\u001b[0m \u001b[0mforce_transform\u001b[0m\u001b[1;33m=\u001b[0m\u001b[1;32mFalse\u001b[0m\u001b[1;33m)\u001b[0m\u001b[1;33m:\u001b[0m\u001b[1;33m\u001b[0m\u001b[1;33m\u001b[0m\u001b[0m\n\u001b[1;32m-> 3068\u001b[1;33m         \u001b[0mX\u001b[0m \u001b[1;33m=\u001b[0m \u001b[0mself\u001b[0m\u001b[1;33m.\u001b[0m\u001b[0m_check_input\u001b[0m\u001b[1;33m(\u001b[0m\u001b[0mX\u001b[0m\u001b[1;33m,\u001b[0m \u001b[0min_fit\u001b[0m\u001b[1;33m=\u001b[0m\u001b[1;32mTrue\u001b[0m\u001b[1;33m,\u001b[0m \u001b[0mcheck_positive\u001b[0m\u001b[1;33m=\u001b[0m\u001b[1;32mTrue\u001b[0m\u001b[1;33m,\u001b[0m \u001b[0mcheck_method\u001b[0m\u001b[1;33m=\u001b[0m\u001b[1;32mTrue\u001b[0m\u001b[1;33m)\u001b[0m\u001b[1;33m\u001b[0m\u001b[1;33m\u001b[0m\u001b[0m\n\u001b[0m\u001b[0;32m   3069\u001b[0m \u001b[1;33m\u001b[0m\u001b[0m\n\u001b[0;32m   3070\u001b[0m         \u001b[1;32mif\u001b[0m \u001b[1;32mnot\u001b[0m \u001b[0mself\u001b[0m\u001b[1;33m.\u001b[0m\u001b[0mcopy\u001b[0m \u001b[1;32mand\u001b[0m \u001b[1;32mnot\u001b[0m \u001b[0mforce_transform\u001b[0m\u001b[1;33m:\u001b[0m  \u001b[1;31m# if call from fit()\u001b[0m\u001b[1;33m\u001b[0m\u001b[1;33m\u001b[0m\u001b[0m\n",
      "\u001b[1;32mE:\\Programs\\anaconda3\\lib\\site-packages\\sklearn\\preprocessing\\_data.py\u001b[0m in \u001b[0;36m_check_input\u001b[1;34m(self, X, in_fit, check_positive, check_shape, check_method)\u001b[0m\n\u001b[0;32m   3294\u001b[0m         )\n\u001b[0;32m   3295\u001b[0m \u001b[1;33m\u001b[0m\u001b[0m\n\u001b[1;32m-> 3296\u001b[1;33m         \u001b[1;32mwith\u001b[0m \u001b[0mnp\u001b[0m\u001b[1;33m.\u001b[0m\u001b[0mwarnings\u001b[0m\u001b[1;33m.\u001b[0m\u001b[0mcatch_warnings\u001b[0m\u001b[1;33m(\u001b[0m\u001b[1;33m)\u001b[0m\u001b[1;33m:\u001b[0m\u001b[1;33m\u001b[0m\u001b[1;33m\u001b[0m\u001b[0m\n\u001b[0m\u001b[0;32m   3297\u001b[0m             \u001b[0mnp\u001b[0m\u001b[1;33m.\u001b[0m\u001b[0mwarnings\u001b[0m\u001b[1;33m.\u001b[0m\u001b[0mfilterwarnings\u001b[0m\u001b[1;33m(\u001b[0m\u001b[1;34m\"ignore\"\u001b[0m\u001b[1;33m,\u001b[0m \u001b[1;34mr\"All-NaN (slice|axis) encountered\"\u001b[0m\u001b[1;33m)\u001b[0m\u001b[1;33m\u001b[0m\u001b[1;33m\u001b[0m\u001b[0m\n\u001b[0;32m   3298\u001b[0m             \u001b[1;32mif\u001b[0m \u001b[0mcheck_positive\u001b[0m \u001b[1;32mand\u001b[0m \u001b[0mself\u001b[0m\u001b[1;33m.\u001b[0m\u001b[0mmethod\u001b[0m \u001b[1;33m==\u001b[0m \u001b[1;34m\"box-cox\"\u001b[0m \u001b[1;32mand\u001b[0m \u001b[0mnp\u001b[0m\u001b[1;33m.\u001b[0m\u001b[0mnanmin\u001b[0m\u001b[1;33m(\u001b[0m\u001b[0mX\u001b[0m\u001b[1;33m)\u001b[0m \u001b[1;33m<=\u001b[0m \u001b[1;36m0\u001b[0m\u001b[1;33m:\u001b[0m\u001b[1;33m\u001b[0m\u001b[1;33m\u001b[0m\u001b[0m\n",
      "\u001b[1;32mE:\\Programs\\anaconda3\\lib\\site-packages\\numpy\\__init__.py\u001b[0m in \u001b[0;36m__getattr__\u001b[1;34m(attr)\u001b[0m\n\u001b[0;32m    318\u001b[0m             \u001b[1;32mreturn\u001b[0m \u001b[0mTester\u001b[0m\u001b[1;33m\u001b[0m\u001b[1;33m\u001b[0m\u001b[0m\n\u001b[0;32m    319\u001b[0m \u001b[1;33m\u001b[0m\u001b[0m\n\u001b[1;32m--> 320\u001b[1;33m         raise AttributeError(\"module {!r} has no attribute \"\n\u001b[0m\u001b[0;32m    321\u001b[0m                              \"{!r}\".format(__name__, attr))\n\u001b[0;32m    322\u001b[0m \u001b[1;33m\u001b[0m\u001b[0m\n",
      "\u001b[1;31mAttributeError\u001b[0m: module 'numpy' has no attribute 'warnings'"
     ]
    }
   ],
   "source": [
    "# Create an instance of StandardScaler\n",
    "pt = PowerTransformer()\n",
    "\n",
    "# Fit the StandardScaler to your data\n",
    "pt.fit(X_train)\n",
    "\n",
    "# Apply the power transform to your data\n",
    "X_train_transformed = pt.transform(X_train)\n",
    "X_test_transformed = pt.transform(X_test)\n",
    "\n",
    "#plt.hist(varB)\n"
   ]
  },
  {
   "cell_type": "code",
   "execution_count": 278,
   "id": "d5d75e6b",
   "metadata": {},
   "outputs": [],
   "source": [
    "from sklearn.linear_model import LinearRegression"
   ]
  },
  {
   "cell_type": "code",
   "execution_count": 279,
   "id": "6d98b55d",
   "metadata": {},
   "outputs": [],
   "source": [
    "#instantiating linear regression object\n",
    "lm  = LinearRegression() # fit_intercept = True"
   ]
  },
  {
   "cell_type": "code",
   "execution_count": 280,
   "id": "fb5900a5",
   "metadata": {
    "scrolled": true
   },
   "outputs": [],
   "source": [
    "# calculating the best fit by minimizing the loss function - calculating the model parameters - slope and intercept\n",
    "model = lm.fit(X_train_transformed, y_train)"
   ]
  },
  {
   "cell_type": "code",
   "execution_count": 281,
   "id": "44b8ef83",
   "metadata": {},
   "outputs": [
    {
     "name": "stdout",
     "output_type": "stream",
     "text": [
      "[-2.10452592e+00 -1.00642195e+02  1.84245289e+02 -1.09222651e-01\n",
      " -3.34650866e+00 -2.68156927e+00 -2.94761963e-01  1.38140394e+00]\n",
      "433.6741637378007\n"
     ]
    }
   ],
   "source": [
    "# model slope\n",
    "print(model.coef_)\n",
    "# model intercept\n",
    "print(model.intercept_)"
   ]
  },
  {
   "cell_type": "code",
   "execution_count": 282,
   "id": "69013624",
   "metadata": {},
   "outputs": [],
   "source": [
    "y_pred = model.predict(X_test_transformed)"
   ]
  },
  {
   "cell_type": "code",
   "execution_count": 283,
   "id": "5d40cb51",
   "metadata": {},
   "outputs": [],
   "source": [
    "#y_test - y_pred\n",
    "compare = pd.DataFrame({\"y_test\":list(y_test), \"y_pred\":list(y_pred)})"
   ]
  },
  {
   "cell_type": "code",
   "execution_count": 284,
   "id": "e1a33fbe",
   "metadata": {},
   "outputs": [
    {
     "data": {
      "text/html": [
       "<div>\n",
       "<style scoped>\n",
       "    .dataframe tbody tr th:only-of-type {\n",
       "        vertical-align: middle;\n",
       "    }\n",
       "\n",
       "    .dataframe tbody tr th {\n",
       "        vertical-align: top;\n",
       "    }\n",
       "\n",
       "    .dataframe thead th {\n",
       "        text-align: right;\n",
       "    }\n",
       "</style>\n",
       "<table border=\"1\" class=\"dataframe\">\n",
       "  <thead>\n",
       "    <tr style=\"text-align: right;\">\n",
       "      <th></th>\n",
       "      <th>y_test</th>\n",
       "      <th>y_pred</th>\n",
       "    </tr>\n",
       "  </thead>\n",
       "  <tbody>\n",
       "    <tr>\n",
       "      <th>0</th>\n",
       "      <td>326.400000</td>\n",
       "      <td>342.123485</td>\n",
       "    </tr>\n",
       "    <tr>\n",
       "      <th>1</th>\n",
       "      <td>209.504391</td>\n",
       "      <td>621.104674</td>\n",
       "    </tr>\n",
       "    <tr>\n",
       "      <th>2</th>\n",
       "      <td>523.888845</td>\n",
       "      <td>367.453851</td>\n",
       "    </tr>\n",
       "    <tr>\n",
       "      <th>3</th>\n",
       "      <td>504.000000</td>\n",
       "      <td>329.940246</td>\n",
       "    </tr>\n",
       "    <tr>\n",
       "      <th>4</th>\n",
       "      <td>135.888306</td>\n",
       "      <td>449.976424</td>\n",
       "    </tr>\n",
       "    <tr>\n",
       "      <th>...</th>\n",
       "      <td>...</td>\n",
       "      <td>...</td>\n",
       "    </tr>\n",
       "    <tr>\n",
       "      <th>3079</th>\n",
       "      <td>330.782934</td>\n",
       "      <td>282.293920</td>\n",
       "    </tr>\n",
       "    <tr>\n",
       "      <th>3080</th>\n",
       "      <td>405.804184</td>\n",
       "      <td>453.081242</td>\n",
       "    </tr>\n",
       "    <tr>\n",
       "      <th>3081</th>\n",
       "      <td>648.000000</td>\n",
       "      <td>537.010494</td>\n",
       "    </tr>\n",
       "    <tr>\n",
       "      <th>3082</th>\n",
       "      <td>161.615740</td>\n",
       "      <td>930.786949</td>\n",
       "    </tr>\n",
       "    <tr>\n",
       "      <th>3083</th>\n",
       "      <td>46.203410</td>\n",
       "      <td>186.518776</td>\n",
       "    </tr>\n",
       "  </tbody>\n",
       "</table>\n",
       "<p>3084 rows × 2 columns</p>\n",
       "</div>"
      ],
      "text/plain": [
       "          y_test      y_pred\n",
       "0     326.400000  342.123485\n",
       "1     209.504391  621.104674\n",
       "2     523.888845  367.453851\n",
       "3     504.000000  329.940246\n",
       "4     135.888306  449.976424\n",
       "...          ...         ...\n",
       "3079  330.782934  282.293920\n",
       "3080  405.804184  453.081242\n",
       "3081  648.000000  537.010494\n",
       "3082  161.615740  930.786949\n",
       "3083   46.203410  186.518776\n",
       "\n",
       "[3084 rows x 2 columns]"
      ]
     },
     "execution_count": 284,
     "metadata": {},
     "output_type": "execute_result"
    }
   ],
   "source": [
    "compare"
   ]
  },
  {
   "cell_type": "markdown",
   "id": "7482cf2f",
   "metadata": {},
   "source": [
    "#### model evaluation"
   ]
  },
  {
   "cell_type": "code",
   "execution_count": 285,
   "id": "1ece74ef",
   "metadata": {},
   "outputs": [],
   "source": [
    "from sklearn.metrics import mean_absolute_error as mae, mean_squared_error as mse"
   ]
  },
  {
   "cell_type": "code",
   "execution_count": 286,
   "id": "011ce1ad",
   "metadata": {},
   "outputs": [
    {
     "data": {
      "text/plain": [
       "40333.24857039884"
      ]
     },
     "execution_count": 286,
     "metadata": {},
     "output_type": "execute_result"
    }
   ],
   "source": [
    "mse(y_test,y_pred)"
   ]
  },
  {
   "cell_type": "code",
   "execution_count": 287,
   "id": "685889d0",
   "metadata": {},
   "outputs": [
    {
     "data": {
      "text/plain": [
       "143.13379504240277"
      ]
     },
     "execution_count": 287,
     "metadata": {},
     "output_type": "execute_result"
    }
   ],
   "source": [
    "mae(y_test,y_pred)"
   ]
  },
  {
   "cell_type": "code",
   "execution_count": 288,
   "id": "3c715808",
   "metadata": {},
   "outputs": [],
   "source": [
    "import matplotlib.pyplot as plt"
   ]
  },
  {
   "cell_type": "code",
   "execution_count": 289,
   "id": "8d8bb3b4",
   "metadata": {},
   "outputs": [
    {
     "name": "stdout",
     "output_type": "stream",
     "text": [
      "<class 'numpy.ndarray'>\n",
      "<class 'pandas.core.series.Series'>\n"
     ]
    }
   ],
   "source": [
    "print(type(y_pred))\n",
    "print(type(y_test))\n",
    "y_test_array = np.array(y_test)"
   ]
  },
  {
   "cell_type": "code",
   "execution_count": 290,
   "id": "7ab9f994",
   "metadata": {},
   "outputs": [
    {
     "name": "stdout",
     "output_type": "stream",
     "text": [
      "<class 'numpy.ndarray'>\n",
      "<class 'numpy.ndarray'>\n"
     ]
    }
   ],
   "source": [
    "print(type(y_test_array))\n",
    "print(type(y_pred))"
   ]
  },
  {
   "cell_type": "code",
   "execution_count": 291,
   "id": "b8ff0cc5",
   "metadata": {},
   "outputs": [
    {
     "data": {
      "text/plain": [
       "[<matplotlib.lines.Line2D at 0x1d243260f10>]"
      ]
     },
     "execution_count": 291,
     "metadata": {},
     "output_type": "execute_result"
    },
    {
     "data": {
      "image/png": "[encoded data removed]",
      "text/plain": [
       "<Figure size 1008x288 with 3 Axes>"
      ]
     },
     "metadata": {
      "needs_background": "light"
     },
     "output_type": "display_data"
    }
   ],
   "source": [
    "fig, ax = plt.subplots(1,3,figsize=(14,4))\n",
    "ax[0].plot(y_pred, y_test_array, 'o')\n",
    "ax[0].set_xlabel(\"y_test\")\n",
    "ax[0].set_ylabel(\"y_pred\")\n",
    "ax[0].set_title(\"Test Set -Predicted vs real\")\n",
    "\n",
    "# Get a histogram of the residuals ie: y - y_pred.  Homoscedasticity\n",
    "# Does it resemble a normal distribution?\n",
    "ax[1].hist(y_test_array - y_pred)\n",
    "ax[1].set_xlabel(\"Test y-y_pred\")\n",
    "ax[1].set_title(\"Test Set Residual histogram\")\n",
    "\n",
    "ax[2].plot(y_pred,y_test_array - y_pred,\"o\")\n",
    "ax[2].set_xlabel(\"predicted\")\n",
    "ax[2].set_ylabel(\"residuals\")\n",
    "ax[2].set_title(\"Residuals by Predicted\")\n",
    "ax[2].plot(y_pred,np.zeros(len(y_pred)),linestyle='dashed')"
   ]
  },
  {
   "cell_type": "markdown",
   "id": "ac0e1551",
   "metadata": {},
   "source": [
    "# Model Evaluation"
   ]
  },
  {
   "cell_type": "code",
   "execution_count": 37,
   "id": "c5acff87",
   "metadata": {},
   "outputs": [],
   "source": [
    "from sklearn.metrics import mean_squared_error, mean_absolute_error, r2_score"
   ]
  },
  {
   "cell_type": "code",
   "execution_count": 38,
   "id": "6ce7c06f",
   "metadata": {},
   "outputs": [],
   "source": [
    "mse = mean_squared_error(y_test,y_pred)\n",
    "rmse = np.sqrt(mse)\n",
    "mae = mean_absolute_error(y_test,y_pred)\n",
    "r2 = r2_score(y_test,y_pred)"
   ]
  },
  {
   "cell_type": "code",
   "execution_count": 59,
   "id": "aa1792f5",
   "metadata": {},
   "outputs": [
    {
     "data": {
      "text/plain": [
       "Index(['customer', 'state', 'response', 'coverage', 'education',\n",
       "       'effective to date', 'employmentstatus', 'gender', 'location code',\n",
       "       'marital status', 'policy type', 'policy', 'renew offer type',\n",
       "       'sales channel', 'vehicle class', 'vehicle size'],\n",
       "      dtype='object')"
      ]
     },
     "execution_count": 59,
     "metadata": {},
     "output_type": "execute_result"
    }
   ],
   "source": [
    "dfCategorical.columns"
   ]
  },
  {
   "cell_type": "markdown",
   "id": "44861623",
   "metadata": {},
   "source": [
    "#### Feature importance"
   ]
  },
  {
   "cell_type": "code",
   "execution_count": 20,
   "id": "44b8ef83",
   "metadata": {},
   "outputs": [
    {
     "name": "stdout",
     "output_type": "stream",
     "text": [
      "[-3.03118930e-04 -3.30763445e-03  5.41199075e+00 -1.07933456e-02\n",
      " -1.19974470e-01 -2.90235442e+00 -1.23581957e-01  2.76969659e+00]\n",
      "60.80130183052148\n"
     ]
    }
   ],
   "source": [
    "# model slope\n",
    "print(model.coef_)\n",
    "# model intercept\n",
    "print(model.intercept_)"
   ]
  },
  {
   "cell_type": "code",
   "execution_count": 87,
   "id": "23266818",
   "metadata": {},
   "outputs": [],
   "source": [
    "coefNames = list(X_train.columns)\n",
    "coefValues = list(model.coef_)"
   ]
  },
  {
   "cell_type": "code",
   "execution_count": 88,
   "id": "68dbc682",
   "metadata": {},
   "outputs": [],
   "source": [
    "coefdf = pd.DataFrame(\n",
    "    {'Names': coefNames,\n",
    "     'Values': coefValues\n",
    "    })"
   ]
  },
  {
   "cell_type": "code",
   "execution_count": 89,
   "id": "fc82bae7",
   "metadata": {
    "scrolled": true
   },
   "outputs": [
    {
     "data": {
      "text/plain": [
       "<bound method NDFrame.head of                            Names      Values\n",
       "0        customer lifetime value   -2.104526\n",
       "1                         income -100.642195\n",
       "2           monthly premium auto  184.245289\n",
       "3        months since last claim   -0.109223\n",
       "4  months since policy inception   -3.346509\n",
       "5      number of open complaints   -2.681569\n",
       "6             number of policies   -0.294762\n",
       "7                          month    1.381404>"
      ]
     },
     "execution_count": 89,
     "metadata": {},
     "output_type": "execute_result"
    }
   ],
   "source": [
    "coefdf.head"
   ]
  },
  {
   "cell_type": "code",
   "execution_count": 90,
   "id": "dfef129a",
   "metadata": {},
   "outputs": [],
   "source": [
    "import matplotlib.pyplot as plt"
   ]
  },
  {
   "cell_type": "code",
   "execution_count": 100,
   "id": "5f893a34",
   "metadata": {
    "scrolled": false
   },
   "outputs": [
    {
     "data": {
      "text/plain": [
       "<BarContainer object of 8 artists>"
      ]
     },
     "execution_count": 100,
     "metadata": {},
     "output_type": "execute_result"
    },
    {
     "data": {
      "image/png": "[encoded data removed]",
      "text/plain": [
       "<Figure size 720x360 with 1 Axes>"
      ]
     },
     "metadata": {
      "needs_background": "light"
     },
     "output_type": "display_data"
    }
   ],
   "source": [
    "fig = plt.figure(figsize = (10, 5))\n",
    "plt.xticks(rotation=45)\n",
    "plt.bar(coefdf[\"Names\"], coefdf[\"Values\"])"
   ]
  },
  {
   "cell_type": "markdown",
   "id": "b851a3be",
   "metadata": {},
   "source": [
    "# 3. Adding one hot encoded (for the categorical data) & categorical variables (for some of the numerical data)"
   ]
  },
  {
   "cell_type": "code",
   "execution_count": 17,
   "id": "98830d1f",
   "metadata": {},
   "outputs": [],
   "source": [
    "dfCategorical.columns\n",
    "dfCategorical.head\n",
    "dfCategorical = dfCategorical.drop('effective to date', axis=1)\n",
    "dfCategorical = dfCategorical.drop('customer', axis=1)"
   ]
  },
  {
   "cell_type": "code",
   "execution_count": 18,
   "id": "813f5db6",
   "metadata": {},
   "outputs": [
    {
     "name": "stdout",
     "output_type": "stream",
     "text": [
      "['Basic' 'Extended' 'Premium']\n",
      "['College' 'Bachelor' 'Doctor' 'High School or Below' 'Master']\n",
      "['Corporate L3' 'Personal L3' 'Corporate L2' 'Personal L2' 'Personal L1'\n",
      " 'Special L1' 'Corporate L1' 'Special L3' 'Special L2']\n",
      "['Medsize' 'Small' 'Large']\n"
     ]
    }
   ],
   "source": [
    "# Ordinal variables: coverage, education, policy, vehicle size\n",
    "ordinal_variables = [\"coverage\", \"education\", \"policy\", \"vehicle size\"]\n",
    "print(dfCategorical[\"coverage\"].unique())\n",
    "print(dfCategorical[\"education\"].unique())\n",
    "print(dfCategorical[\"policy\"].unique())\n",
    "print(dfCategorical[\"vehicle size\"].unique())"
   ]
  },
  {
   "cell_type": "markdown",
   "id": "6bd40e99",
   "metadata": {},
   "source": [
    "nominal_variables = list(dfCategorical.columns)\n",
    "\n",
    "for i in ordinal_variables:\n",
    "    nominal_variables.remove(i)"
   ]
  },
  {
   "cell_type": "code",
   "execution_count": 19,
   "id": "7adfd0d1",
   "metadata": {},
   "outputs": [],
   "source": [
    "nominal_variables = list(dfCategorical.columns)"
   ]
  },
  {
   "cell_type": "code",
   "execution_count": 20,
   "id": "4f67fbec",
   "metadata": {},
   "outputs": [],
   "source": [
    "# Perform one-hot encoding and drop original columns\n",
    "for i in nominal_variables:\n",
    "    encoded_columns = pd.get_dummies(dfCategorical[i], prefix=i, drop_first=True)\n",
    "    encoded_columns = encoded_columns.astype(int)\n",
    "    dfCategorical = pd.concat([dfCategorical, encoded_columns], axis=1)\n",
    "    dfCategorical.drop(i, axis=1, inplace=True)"
   ]
  },
  {
   "cell_type": "code",
   "execution_count": 21,
   "id": "c291bfe8",
   "metadata": {},
   "outputs": [
    {
     "data": {
      "text/plain": [
       "(9134, 43)"
      ]
     },
     "execution_count": 21,
     "metadata": {},
     "output_type": "execute_result"
    }
   ],
   "source": [
    "dfCategorical.shape"
   ]
  },
  {
   "cell_type": "code",
   "execution_count": 221,
   "id": "8402f89d",
   "metadata": {},
   "outputs": [],
   "source": [
    "# change column data types\n",
    "dfNumeric['number of open complaints'] = pd.Categorical(dfNumeric['number of open complaints'])\n",
    "dfNumeric['number of policies'] = pd.Categorical(dfNumeric['number of policies'])\n",
    "dfNumeric['month'] = pd.Categorical(dfNumeric['month'])"
   ]
  },
  {
   "cell_type": "code",
   "execution_count": 22,
   "id": "19343480",
   "metadata": {},
   "outputs": [
    {
     "data": {
      "text/plain": [
       "(9134, 8)"
      ]
     },
     "execution_count": 22,
     "metadata": {},
     "output_type": "execute_result"
    }
   ],
   "source": [
    "dfNumeric.shape"
   ]
  },
  {
   "cell_type": "code",
   "execution_count": 23,
   "id": "b5f2d9ca",
   "metadata": {},
   "outputs": [
    {
     "data": {
      "text/plain": [
       "(9134, 43)"
      ]
     },
     "execution_count": 23,
     "metadata": {},
     "output_type": "execute_result"
    }
   ],
   "source": [
    "dfCategorical.shape"
   ]
  },
  {
   "cell_type": "code",
   "execution_count": 24,
   "id": "d1583ce9",
   "metadata": {},
   "outputs": [],
   "source": [
    "dfCombined = pd.concat([dfNumeric, dfCategorical], axis=1)"
   ]
  },
  {
   "cell_type": "code",
   "execution_count": 25,
   "id": "268e08a2",
   "metadata": {},
   "outputs": [
    {
     "data": {
      "text/plain": [
       "(9134, 51)"
      ]
     },
     "execution_count": 25,
     "metadata": {},
     "output_type": "execute_result"
    }
   ],
   "source": [
    "dfCombined.shape"
   ]
  },
  {
   "cell_type": "markdown",
   "id": "cc806dfd",
   "metadata": {},
   "source": [
    "dfCombined = dfCombined.drop(\"Unnamed: 0\",axis=1)\n",
    "y = dfCombined[\"total claim amount\"]\n",
    "dfCombined = dfCombined.drop(\"total claim amount\",axis=1)\n",
    "dfCombined = dfCombined.dropna()\n",
    "dfCombined = dfCombined.reset_index(drop=True)"
   ]
  },
  {
   "cell_type": "code",
   "execution_count": 26,
   "id": "5d71068c",
   "metadata": {},
   "outputs": [
    {
     "data": {
      "text/plain": [
       "<bound method NDFrame.head of       customer lifetime value  income  monthly premium auto  \\\n",
       "0                 4809.216960   48029                    61   \n",
       "1                 2228.525238       0                    64   \n",
       "2                14947.917300   22139                   100   \n",
       "3                22332.439460   49078                    97   \n",
       "4                 5035.035257   37405                    63   \n",
       "...                       ...     ...                   ...   \n",
       "9129              2771.663013   59855                    74   \n",
       "9130             19228.463620       0                   187   \n",
       "9131              5259.444853   61146                    65   \n",
       "9132             23893.304100   39837                   201   \n",
       "9133             11971.977650   64195                   158   \n",
       "\n",
       "      months since last claim  months since policy inception  \\\n",
       "0                         7.0                             52   \n",
       "1                         3.0                             26   \n",
       "2                        34.0                             31   \n",
       "3                        10.0                              3   \n",
       "4                         8.0                             99   \n",
       "...                       ...                            ...   \n",
       "9129                     30.0                             82   \n",
       "9130                     14.0                             32   \n",
       "9131                      7.0                             68   \n",
       "9132                     11.0                             63   \n",
       "9133                      0.0                             27   \n",
       "\n",
       "      number of open complaints  number of policies  month  state_California  \\\n",
       "0                           0.0                   9      2                 0   \n",
       "1                           0.0                   1      1                 1   \n",
       "2                           0.0                   2      2                 0   \n",
       "3                           0.0                   2      1                 0   \n",
       "4                           3.0                   4      2                 1   \n",
       "...                         ...                 ...    ...               ...   \n",
       "9129                        4.0                   1      1                 0   \n",
       "9130                        0.0                   2      2                 0   \n",
       "9131                        0.0                   6      1                 0   \n",
       "9132                        0.0                   2      2                 0   \n",
       "9133                        4.0                   6      2                 1   \n",
       "\n",
       "      state_Nevada  ...  sales channel_Branch  sales channel_Call Center  \\\n",
       "0                0  ...                     0                          0   \n",
       "1                0  ...                     0                          1   \n",
       "2                0  ...                     0                          1   \n",
       "3                0  ...                     1                          0   \n",
       "4                0  ...                     1                          0   \n",
       "...            ...  ...                   ...                        ...   \n",
       "9129             0  ...                     1                          0   \n",
       "9130             1  ...                     1                          0   \n",
       "9131             0  ...                     1                          0   \n",
       "9132             0  ...                     0                          0   \n",
       "9133             0  ...                     1                          0   \n",
       "\n",
       "      sales channel_Web  vehicle class_Luxury Car  vehicle class_Luxury SUV  \\\n",
       "0                     0                         0                         0   \n",
       "1                     0                         0                         0   \n",
       "2                     0                         0                         0   \n",
       "3                     0                         0                         0   \n",
       "4                     0                         0                         0   \n",
       "...                 ...                       ...                       ...   \n",
       "9129                  0                         0                         0   \n",
       "9130                  0                         0                         1   \n",
       "9131                  0                         0                         0   \n",
       "9132                  1                         0                         1   \n",
       "9133                  0                         0                         0   \n",
       "\n",
       "      vehicle class_SUV  vehicle class_Sports Car  vehicle class_Two-Door Car  \\\n",
       "0                     0                         0                           0   \n",
       "1                     0                         0                           0   \n",
       "2                     1                         0                           0   \n",
       "3                     0                         0                           0   \n",
       "4                     0                         0                           0   \n",
       "...                 ...                       ...                         ...   \n",
       "9129                  0                         0                           1   \n",
       "9130                  0                         0                           0   \n",
       "9131                  0                         0                           0   \n",
       "9132                  0                         0                           0   \n",
       "9133                  1                         0                           0   \n",
       "\n",
       "      vehicle size_Medsize  vehicle size_Small  \n",
       "0                        1                   0  \n",
       "1                        1                   0  \n",
       "2                        1                   0  \n",
       "3                        1                   0  \n",
       "4                        1                   0  \n",
       "...                    ...                 ...  \n",
       "9129                     1                   0  \n",
       "9130                     1                   0  \n",
       "9131                     1                   0  \n",
       "9132                     1                   0  \n",
       "9133                     1                   0  \n",
       "\n",
       "[9134 rows x 51 columns]>"
      ]
     },
     "execution_count": 26,
     "metadata": {},
     "output_type": "execute_result"
    }
   ],
   "source": [
    "dfCombined.head"
   ]
  },
  {
   "cell_type": "markdown",
   "id": "2e5b7c26",
   "metadata": {},
   "source": [
    "#### train-test split"
   ]
  },
  {
   "cell_type": "code",
   "execution_count": 27,
   "id": "a29c1592",
   "metadata": {},
   "outputs": [],
   "source": [
    "from sklearn.model_selection import train_test_split"
   ]
  },
  {
   "cell_type": "code",
   "execution_count": 28,
   "id": "8894abed",
   "metadata": {},
   "outputs": [
    {
     "data": {
      "text/plain": [
       "(9134, 51)"
      ]
     },
     "execution_count": 28,
     "metadata": {},
     "output_type": "execute_result"
    }
   ],
   "source": [
    "dfCombined.shape"
   ]
  },
  {
   "cell_type": "code",
   "execution_count": 29,
   "id": "a218d947",
   "metadata": {},
   "outputs": [],
   "source": [
    "X_train, X_test, y_train, y_test = train_test_split(dfCombined, y, test_size = 0.3, random_state=42)"
   ]
  },
  {
   "cell_type": "code",
   "execution_count": 30,
   "id": "1df52544",
   "metadata": {},
   "outputs": [
    {
     "name": "stdout",
     "output_type": "stream",
     "text": [
      "(6393, 51)\n",
      "(2741, 51)\n",
      "(6393,)\n",
      "(2741,)\n"
     ]
    }
   ],
   "source": [
    "print(X_train.shape)\n",
    "print(X_test.shape)\n",
    "print(y_train.shape)\n",
    "print(y_test.shape)"
   ]
  },
  {
   "cell_type": "markdown",
   "id": "c5c30b50",
   "metadata": {},
   "source": [
    "#### transforming data"
   ]
  },
  {
   "cell_type": "code",
   "execution_count": null,
   "id": "f652cfa3",
   "metadata": {},
   "outputs": [],
   "source": [
    "# Create an instance of PowerTransformer\n",
    "pt = PowerTransformer()\n",
    "\n",
    "# Fit the StandardScaler to your data\n",
    "pt.fit(X_train)\n",
    "\n",
    "# Apply the power transform to your data\n",
    "X_train_transformed = pt.transform(X_train)\n",
    "X_test_transformed = pt.transform(X_test)\n",
    "\n",
    "#plt.hist(varB)\n"
   ]
  },
  {
   "cell_type": "code",
   "execution_count": 31,
   "id": "22f27f4a",
   "metadata": {},
   "outputs": [],
   "source": [
    "# Create an instance of StandardScaler\n",
    "ss = StandardScaler()\n",
    "\n",
    "# Fit the StandardScaler to your data\n",
    "ss.fit(X_train)\n",
    "\n",
    "# Apply the power transform to your data\n",
    "X_train_transformed = ss.transform(X_train)\n",
    "X_test_transformed = ss.transform(X_test)\n",
    "\n",
    "#plt.hist(varB)\n",
    "\n"
   ]
  },
  {
   "cell_type": "code",
   "execution_count": 32,
   "id": "dce744dd",
   "metadata": {},
   "outputs": [],
   "source": [
    "from sklearn.linear_model import LinearRegression"
   ]
  },
  {
   "cell_type": "code",
   "execution_count": 33,
   "id": "af771861",
   "metadata": {},
   "outputs": [],
   "source": [
    "#instantiating linear regression object\n",
    "lm  = LinearRegression() # fit_intercept = True"
   ]
  },
  {
   "cell_type": "code",
   "execution_count": 34,
   "id": "3d211e50",
   "metadata": {
    "scrolled": true
   },
   "outputs": [],
   "source": [
    "# calculating the best fit by minimizing the loss function - calculating the model parameters - slope and intercept\n",
    "model = lm.fit(X_train_transformed, y_train)"
   ]
  },
  {
   "cell_type": "code",
   "execution_count": 35,
   "id": "44b8ef83",
   "metadata": {},
   "outputs": [
    {
     "name": "stdout",
     "output_type": "stream",
     "text": [
      "[ 5.36823582e-01 -5.36056611e+00  1.65447016e+02  3.20628466e+00\n",
      "  1.17233427e+00 -1.84646768e+00  1.81867252e+00  2.18854993e-01\n",
      "  3.22063234e-01  7.81408602e-01 -3.03098930e+00  4.66410728e-01\n",
      " -7.17831379e+00 -3.25305496e+00  8.81514155e-01 -1.99437193e-01\n",
      " -3.24636348e+00  5.58398097e+00 -1.72898182e+00 -6.83437895e+00\n",
      "  4.71124314e+00 -1.23658718e+00  2.81160933e+01  7.18529702e+00\n",
      "  1.82965045e+02  8.40496797e+01 -3.84494307e+00  2.58370015e+01\n",
      " -7.26481964e+14  5.34805778e+14  6.92263425e-01  7.02233020e-02\n",
      "  5.57954796e+14  7.00556437e+14  8.02646553e+14 -2.27197564e+14\n",
      " -3.71815311e+14 -3.21913248e+14  1.04588621e+01  3.89830702e+00\n",
      "  2.33101038e+00  1.31521406e+00  1.00126326e-01 -2.38549571e-01\n",
      "  8.38184961e+00  8.90415663e+00  2.70111263e-01 -1.56406097e+00\n",
      " -8.98874831e-01 -2.15351857e+00  1.35136372e+00]\n",
      "436.2801493933004\n"
     ]
    }
   ],
   "source": [
    "# model slope\n",
    "print(model.coef_)\n",
    "# model intercept\n",
    "print(model.intercept_)"
   ]
  },
  {
   "cell_type": "code",
   "execution_count": 36,
   "id": "69013624",
   "metadata": {},
   "outputs": [],
   "source": [
    "y_pred = model.predict(X_test_transformed)"
   ]
  },
  {
   "cell_type": "code",
   "execution_count": 37,
   "id": "5d40cb51",
   "metadata": {},
   "outputs": [],
   "source": [
    "#y_test - y_pred\n",
    "compare = pd.DataFrame({\"y_test\":list(y_test), \"y_pred\":list(y_pred)})"
   ]
  },
  {
   "cell_type": "code",
   "execution_count": 38,
   "id": "e1a33fbe",
   "metadata": {},
   "outputs": [
    {
     "data": {
      "text/html": [
       "<div>\n",
       "<style scoped>\n",
       "    .dataframe tbody tr th:only-of-type {\n",
       "        vertical-align: middle;\n",
       "    }\n",
       "\n",
       "    .dataframe tbody tr th {\n",
       "        vertical-align: top;\n",
       "    }\n",
       "\n",
       "    .dataframe thead th {\n",
       "        text-align: right;\n",
       "    }\n",
       "</style>\n",
       "<table border=\"1\" class=\"dataframe\">\n",
       "  <thead>\n",
       "    <tr style=\"text-align: right;\">\n",
       "      <th></th>\n",
       "      <th>y_test</th>\n",
       "      <th>y_pred</th>\n",
       "    </tr>\n",
       "  </thead>\n",
       "  <tbody>\n",
       "    <tr>\n",
       "      <th>0</th>\n",
       "      <td>456.523850</td>\n",
       "      <td>546.141036</td>\n",
       "    </tr>\n",
       "    <tr>\n",
       "      <th>1</th>\n",
       "      <td>406.902001</td>\n",
       "      <td>347.160769</td>\n",
       "    </tr>\n",
       "    <tr>\n",
       "      <th>2</th>\n",
       "      <td>128.516525</td>\n",
       "      <td>-29.133357</td>\n",
       "    </tr>\n",
       "    <tr>\n",
       "      <th>3</th>\n",
       "      <td>110.868874</td>\n",
       "      <td>-33.616240</td>\n",
       "    </tr>\n",
       "    <tr>\n",
       "      <th>4</th>\n",
       "      <td>106.737787</td>\n",
       "      <td>-2.903146</td>\n",
       "    </tr>\n",
       "    <tr>\n",
       "      <th>...</th>\n",
       "      <td>...</td>\n",
       "      <td>...</td>\n",
       "    </tr>\n",
       "    <tr>\n",
       "      <th>2736</th>\n",
       "      <td>532.800000</td>\n",
       "      <td>556.467322</td>\n",
       "    </tr>\n",
       "    <tr>\n",
       "      <th>2737</th>\n",
       "      <td>292.800000</td>\n",
       "      <td>387.269849</td>\n",
       "    </tr>\n",
       "    <tr>\n",
       "      <th>2738</th>\n",
       "      <td>528.200860</td>\n",
       "      <td>473.758063</td>\n",
       "    </tr>\n",
       "    <tr>\n",
       "      <th>2739</th>\n",
       "      <td>358.643521</td>\n",
       "      <td>412.675130</td>\n",
       "    </tr>\n",
       "    <tr>\n",
       "      <th>2740</th>\n",
       "      <td>298.626189</td>\n",
       "      <td>359.655975</td>\n",
       "    </tr>\n",
       "  </tbody>\n",
       "</table>\n",
       "<p>2741 rows × 2 columns</p>\n",
       "</div>"
      ],
      "text/plain": [
       "          y_test      y_pred\n",
       "0     456.523850  546.141036\n",
       "1     406.902001  347.160769\n",
       "2     128.516525  -29.133357\n",
       "3     110.868874  -33.616240\n",
       "4     106.737787   -2.903146\n",
       "...          ...         ...\n",
       "2736  532.800000  556.467322\n",
       "2737  292.800000  387.269849\n",
       "2738  528.200860  473.758063\n",
       "2739  358.643521  412.675130\n",
       "2740  298.626189  359.655975\n",
       "\n",
       "[2741 rows x 2 columns]"
      ]
     },
     "execution_count": 38,
     "metadata": {},
     "output_type": "execute_result"
    }
   ],
   "source": [
    "compare"
   ]
  },
  {
   "cell_type": "markdown",
   "id": "7482cf2f",
   "metadata": {},
   "source": [
    "#### model evaluation"
   ]
  },
  {
   "cell_type": "code",
   "execution_count": 49,
   "id": "1ece74ef",
   "metadata": {},
   "outputs": [],
   "source": [
    "from sklearn.metrics import mean_absolute_error, mean_squared_error, r2_score # as mae as mse"
   ]
  },
  {
   "cell_type": "code",
   "execution_count": 44,
   "id": "011ce1ad",
   "metadata": {},
   "outputs": [
    {
     "data": {
      "text/plain": [
       "19058.70693786923"
      ]
     },
     "execution_count": 44,
     "metadata": {},
     "output_type": "execute_result"
    }
   ],
   "source": [
    "mse(y_test,y_pred)"
   ]
  },
  {
   "cell_type": "code",
   "execution_count": 45,
   "id": "685889d0",
   "metadata": {},
   "outputs": [
    {
     "data": {
      "text/plain": [
       "95.35114881749047"
      ]
     },
     "execution_count": 45,
     "metadata": {},
     "output_type": "execute_result"
    }
   ],
   "source": [
    "mae(y_test,y_pred)"
   ]
  },
  {
   "cell_type": "code",
   "execution_count": 50,
   "id": "4e23004e",
   "metadata": {},
   "outputs": [],
   "source": [
    "mse = mean_squared_error(y_test,y_pred)\n",
    "rmse = np.sqrt(mse)\n",
    "mae = mean_absolute_error(y_test,y_pred)\n",
    "r2 = r2_score(y_test,y_pred)"
   ]
  },
  {
   "cell_type": "code",
   "execution_count": 52,
   "id": "31d33be0",
   "metadata": {},
   "outputs": [
    {
     "name": "stdout",
     "output_type": "stream",
     "text": [
      "19058.70693786923\n",
      "138.05327572306726\n",
      "95.35114881749047\n",
      "0.7778467891504457\n"
     ]
    }
   ],
   "source": [
    "print(mse)\n",
    "print(rmse)\n",
    "print(mae)\n",
    "print(r2)"
   ]
  },
  {
   "cell_type": "code",
   "execution_count": 53,
   "id": "3c715808",
   "metadata": {},
   "outputs": [],
   "source": [
    "import matplotlib.pyplot as plt"
   ]
  },
  {
   "cell_type": "code",
   "execution_count": 54,
   "id": "d737c7e9",
   "metadata": {},
   "outputs": [
    {
     "name": "stdout",
     "output_type": "stream",
     "text": [
      "<class 'numpy.ndarray'>\n",
      "<class 'pandas.core.series.Series'>\n"
     ]
    }
   ],
   "source": [
    "print(type(y_pred))\n",
    "print(type(y_test))\n",
    "y_test_array = np.array(y_test)"
   ]
  },
  {
   "cell_type": "code",
   "execution_count": 55,
   "id": "fe86affe",
   "metadata": {},
   "outputs": [
    {
     "name": "stdout",
     "output_type": "stream",
     "text": [
      "<class 'numpy.ndarray'>\n",
      "<class 'numpy.ndarray'>\n"
     ]
    }
   ],
   "source": [
    "print(type(y_test_array))\n",
    "print(type(y_pred))"
   ]
  },
  {
   "cell_type": "code",
   "execution_count": 56,
   "id": "b8ff0cc5",
   "metadata": {},
   "outputs": [
    {
     "data": {
      "text/plain": [
       "[<matplotlib.lines.Line2D at 0x29dd11ed040>]"
      ]
     },
     "execution_count": 56,
     "metadata": {},
     "output_type": "execute_result"
    },
    {
     "data": {
      "image/png": "[encoded data removed]",
      "text/plain": [
       "<Figure size 1008x288 with 3 Axes>"
      ]
     },
     "metadata": {
      "needs_background": "light"
     },
     "output_type": "display_data"
    }
   ],
   "source": [
    "fig, ax = plt.subplots(1,3,figsize=(14,4))\n",
    "ax[0].plot(y_pred, y_test_array, 'o')\n",
    "ax[0].set_xlabel(\"y_test\")\n",
    "ax[0].set_ylabel(\"y_pred\")\n",
    "ax[0].set_title(\"Test Set -Predicted vs real\")\n",
    "\n",
    "# Get a histogram of the residuals ie: y - y_pred.  Homoscedasticity\n",
    "# Does it resemble a normal distribution?\n",
    "ax[1].hist(y_test_array - y_pred)\n",
    "ax[1].set_xlabel(\"Test y-y_pred\")\n",
    "ax[1].set_title(\"Test Set Residual histogram\")\n",
    "\n",
    "ax[2].plot(y_pred,y_test_array - y_pred,\"o\")\n",
    "ax[2].set_xlabel(\"predicted\")\n",
    "ax[2].set_ylabel(\"residuals\")\n",
    "ax[2].set_title(\"Residuals by Predicted\")\n",
    "ax[2].plot(y_pred,np.zeros(len(y_pred)),linestyle='dashed')"
   ]
  },
  {
   "cell_type": "code",
   "execution_count": 57,
   "id": "40882a71",
   "metadata": {},
   "outputs": [],
   "source": [
    "coefNames = list(X_train.columns)\n",
    "coefValues = list(model.coef_)"
   ]
  },
  {
   "cell_type": "code",
   "execution_count": 58,
   "id": "4e8489f4",
   "metadata": {},
   "outputs": [],
   "source": [
    "coefdf = pd.DataFrame(\n",
    "    {'Names': coefNames,\n",
    "     'Values': coefValues\n",
    "    })"
   ]
  },
  {
   "cell_type": "code",
   "execution_count": 59,
   "id": "c110152e",
   "metadata": {
    "scrolled": true
   },
   "outputs": [
    {
     "data": {
      "text/plain": [
       "<bound method NDFrame.head of                              Names        Values\n",
       "0          customer lifetime value  5.368236e-01\n",
       "1                           income -5.360566e+00\n",
       "2             monthly premium auto  1.654470e+02\n",
       "3          months since last claim  3.206285e+00\n",
       "4    months since policy inception  1.172334e+00\n",
       "5        number of open complaints -1.846468e+00\n",
       "6               number of policies  1.818673e+00\n",
       "7                            month  2.188550e-01\n",
       "8                 state_California  3.220632e-01\n",
       "9                     state_Nevada  7.814086e-01\n",
       "10                    state_Oregon -3.030989e+00\n",
       "11                state_Washington  4.664107e-01\n",
       "12                    response_Yes -7.178314e+00\n",
       "13               coverage_Extended -3.253055e+00\n",
       "14                coverage_Premium  8.815142e-01\n",
       "15               education_College -1.994372e-01\n",
       "16                education_Doctor -3.246363e+00\n",
       "17  education_High School or Below  5.583981e+00\n",
       "18                education_Master -1.728982e+00\n",
       "19       employmentstatus_Employed -6.834379e+00\n",
       "20  employmentstatus_Medical Leave  4.711243e+00\n",
       "21        employmentstatus_Retired -1.236587e+00\n",
       "22     employmentstatus_Unemployed  2.811609e+01\n",
       "23                        gender_M  7.185297e+00\n",
       "24          location code_Suburban  1.829650e+02\n",
       "25             location code_Urban  8.404968e+01\n",
       "26          marital status_Married -3.844943e+00\n",
       "27           marital status_Single  2.583700e+01\n",
       "28       policy type_Personal Auto -7.264820e+14\n",
       "29        policy type_Special Auto  5.348058e+14\n",
       "30             policy_Corporate L2  6.922634e-01\n",
       "31             policy_Corporate L3  7.022330e-02\n",
       "32              policy_Personal L1  5.579548e+14\n",
       "33              policy_Personal L2  7.005564e+14\n",
       "34              policy_Personal L3  8.026466e+14\n",
       "35               policy_Special L1 -2.271976e+14\n",
       "36               policy_Special L2 -3.718153e+14\n",
       "37               policy_Special L3 -3.219132e+14\n",
       "38         renew offer type_Offer2  1.045886e+01\n",
       "39         renew offer type_Offer3  3.898307e+00\n",
       "40         renew offer type_Offer4  2.331010e+00\n",
       "41            sales channel_Branch  1.315214e+00\n",
       "42       sales channel_Call Center  1.001263e-01\n",
       "43               sales channel_Web -2.385496e-01\n",
       "44        vehicle class_Luxury Car  8.381850e+00\n",
       "45        vehicle class_Luxury SUV  8.904157e+00\n",
       "46               vehicle class_SUV  2.701113e-01\n",
       "47        vehicle class_Sports Car -1.564061e+00\n",
       "48      vehicle class_Two-Door Car -8.988748e-01\n",
       "49            vehicle size_Medsize -2.153519e+00\n",
       "50              vehicle size_Small  1.351364e+00>"
      ]
     },
     "execution_count": 59,
     "metadata": {},
     "output_type": "execute_result"
    }
   ],
   "source": [
    "coefdf.head"
   ]
  },
  {
   "cell_type": "code",
   "execution_count": 60,
   "id": "c878dc40",
   "metadata": {},
   "outputs": [],
   "source": [
    "import matplotlib.pyplot as plt"
   ]
  },
  {
   "cell_type": "code",
   "execution_count": 61,
   "id": "32e521b1",
   "metadata": {
    "scrolled": false
   },
   "outputs": [
    {
     "data": {
      "text/plain": [
       "<BarContainer object of 51 artists>"
      ]
     },
     "execution_count": 61,
     "metadata": {},
     "output_type": "execute_result"
    },
    {
     "data": {
      "image/png": "[encoded data removed]",
      "text/plain": [
       "<Figure size 1152x576 with 1 Axes>"
      ]
     },
     "metadata": {
      "needs_background": "light"
     },
     "output_type": "display_data"
    }
   ],
   "source": [
    "fig = plt.figure(figsize = (16, 8))\n",
    "plt.xticks(rotation=90)\n",
    "plt.bar(coefdf[\"Names\"], coefdf[\"Values\"])"
   ]
  }
 ],
 "metadata": {
  "kernelspec": {
   "display_name": "Python 3 (ipykernel)",
   "language": "python",
   "name": "python3"
  },
  "language_info": {
   "codemirror_mode": {
    "name": "ipython",
    "version": 3
   },
   "file_extension": ".py",
   "mimetype": "text/x-python",
   "name": "python",
   "nbconvert_exporter": "python",
   "pygments_lexer": "ipython3",
   "version": "3.8.8"
  }
 },
 "nbformat": 4,
 "nbformat_minor": 5
}
