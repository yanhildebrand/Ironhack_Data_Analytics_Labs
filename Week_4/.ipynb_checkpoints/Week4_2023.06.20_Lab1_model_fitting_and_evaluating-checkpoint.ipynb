{
 "cells": [
  {
   "cell_type": "code",
   "execution_count": 2,
   "id": "a657e555",
   "metadata": {},
   "outputs": [],
   "source": [
    "from sklearn.model_selection import train_test_split\n",
    "from sklearn.linear_model import LinearRegression\n",
    "import seaborn as sns"
   ]
  },
  {
   "cell_type": "code",
   "execution_count": null,
   "id": "b3033787",
   "metadata": {},
   "outputs": [],
   "source": []
  },
  {
   "cell_type": "code",
   "execution_count": 4,
   "id": "0b94365d",
   "metadata": {},
   "outputs": [],
   "source": [
    "pdf = sns.load_dataset(\"penguins\")"
   ]
  },
  {
   "cell_type": "code",
   "execution_count": 5,
   "id": "c6c8c001",
   "metadata": {},
   "outputs": [],
   "source": [
    "pdf = pdf.dropna()"
   ]
  },
  {
   "cell_type": "code",
   "execution_count": 9,
   "id": "966bc14d",
   "metadata": {},
   "outputs": [],
   "source": [
    "pdf = pdf.reset_index(drop=True)"
   ]
  },
  {
   "cell_type": "code",
   "execution_count": 10,
   "id": "30d250ac",
   "metadata": {},
   "outputs": [
    {
     "data": {
      "text/html": [
       "<div>\n",
       "<style scoped>\n",
       "    .dataframe tbody tr th:only-of-type {\n",
       "        vertical-align: middle;\n",
       "    }\n",
       "\n",
       "    .dataframe tbody tr th {\n",
       "        vertical-align: top;\n",
       "    }\n",
       "\n",
       "    .dataframe thead th {\n",
       "        text-align: right;\n",
       "    }\n",
       "</style>\n",
       "<table border=\"1\" class=\"dataframe\">\n",
       "  <thead>\n",
       "    <tr style=\"text-align: right;\">\n",
       "      <th></th>\n",
       "      <th>index</th>\n",
       "      <th>species</th>\n",
       "      <th>island</th>\n",
       "      <th>bill_length_mm</th>\n",
       "      <th>bill_depth_mm</th>\n",
       "      <th>flipper_length_mm</th>\n",
       "      <th>body_mass_g</th>\n",
       "      <th>sex</th>\n",
       "    </tr>\n",
       "  </thead>\n",
       "  <tbody>\n",
       "    <tr>\n",
       "      <th>0</th>\n",
       "      <td>0</td>\n",
       "      <td>Adelie</td>\n",
       "      <td>Torgersen</td>\n",
       "      <td>39.1</td>\n",
       "      <td>18.7</td>\n",
       "      <td>181.0</td>\n",
       "      <td>3750.0</td>\n",
       "      <td>Male</td>\n",
       "    </tr>\n",
       "    <tr>\n",
       "      <th>1</th>\n",
       "      <td>1</td>\n",
       "      <td>Adelie</td>\n",
       "      <td>Torgersen</td>\n",
       "      <td>39.5</td>\n",
       "      <td>17.4</td>\n",
       "      <td>186.0</td>\n",
       "      <td>3800.0</td>\n",
       "      <td>Female</td>\n",
       "    </tr>\n",
       "    <tr>\n",
       "      <th>2</th>\n",
       "      <td>2</td>\n",
       "      <td>Adelie</td>\n",
       "      <td>Torgersen</td>\n",
       "      <td>40.3</td>\n",
       "      <td>18.0</td>\n",
       "      <td>195.0</td>\n",
       "      <td>3250.0</td>\n",
       "      <td>Female</td>\n",
       "    </tr>\n",
       "  </tbody>\n",
       "</table>\n",
       "</div>"
      ],
      "text/plain": [
       "   index species     island  bill_length_mm  bill_depth_mm  flipper_length_mm  \\\n",
       "0      0  Adelie  Torgersen            39.1           18.7              181.0   \n",
       "1      1  Adelie  Torgersen            39.5           17.4              186.0   \n",
       "2      2  Adelie  Torgersen            40.3           18.0              195.0   \n",
       "\n",
       "   body_mass_g     sex  \n",
       "0       3750.0    Male  \n",
       "1       3800.0  Female  \n",
       "2       3250.0  Female  "
      ]
     },
     "execution_count": 10,
     "metadata": {},
     "output_type": "execute_result"
    }
   ],
   "source": [
    "pdf.head(3)"
   ]
  },
  {
   "cell_type": "markdown",
   "id": "b74cd910",
   "metadata": {},
   "source": [
    "#### we want to predict the weight of the penguins based on the flipper length"
   ]
  },
  {
   "cell_type": "code",
   "execution_count": 14,
   "id": "29607e55",
   "metadata": {},
   "outputs": [],
   "source": [
    "X = pdf[\"flipper_length_mm\"]\n",
    "y = pdf[\"body_mass_g\"]"
   ]
  },
  {
   "cell_type": "markdown",
   "id": "2e5b7c26",
   "metadata": {},
   "source": [
    "#### train-test split"
   ]
  },
  {
   "cell_type": "code",
   "execution_count": 12,
   "id": "a29c1592",
   "metadata": {},
   "outputs": [],
   "source": [
    "from sklearn.model_selection import train_test_split"
   ]
  },
  {
   "cell_type": "code",
   "execution_count": 16,
   "id": "a218d947",
   "metadata": {},
   "outputs": [],
   "source": [
    "X_train, X_test, y_train, y_test = train_test_split(X, y, test_size = 0.3, random_state=42)"
   ]
  },
  {
   "cell_type": "markdown",
   "id": "f16991ec",
   "metadata": {},
   "source": [
    "#### model generation"
   ]
  },
  {
   "cell_type": "code",
   "execution_count": 36,
   "id": "d5d75e6b",
   "metadata": {},
   "outputs": [],
   "source": [
    "from sklearn.linear_model import LinearRegression\n",
    "import numpy as np\n",
    "import pandas as pd"
   ]
  },
  {
   "cell_type": "code",
   "execution_count": 29,
   "id": "ab0fc82d",
   "metadata": {},
   "outputs": [],
   "source": [
    "X_train = np.array(X_train).reshape(-1,1)\n",
    "y_train = np.array(y_train).reshape(-1,1)\n",
    "X_test = np.array(X_test).reshape(-1,1)\n",
    "y_test = np.array(y_test).reshape(-1,1)"
   ]
  },
  {
   "cell_type": "code",
   "execution_count": 23,
   "id": "6d98b55d",
   "metadata": {},
   "outputs": [],
   "source": [
    "#instantiating linear regression object\n",
    "lm  = LinearRegression() # fit_intercept = True"
   ]
  },
  {
   "cell_type": "code",
   "execution_count": 24,
   "id": "fb5900a5",
   "metadata": {},
   "outputs": [],
   "source": [
    "# calculating the best fit by minimizing the loss function - calculating the model parameters - slope and intercept\n",
    "model = lm.fit(X_train, y_train)"
   ]
  },
  {
   "cell_type": "code",
   "execution_count": 27,
   "id": "44b8ef83",
   "metadata": {},
   "outputs": [
    {
     "name": "stdout",
     "output_type": "stream",
     "text": [
      "[[51.32743793]]\n",
      "[-6118.66754338]\n"
     ]
    }
   ],
   "source": [
    "# model slope\n",
    "print(model.coef_)\n",
    "# model intercept\n",
    "print(model.intercept_)"
   ]
  },
  {
   "cell_type": "code",
   "execution_count": 38,
   "id": "69013624",
   "metadata": {},
   "outputs": [],
   "source": [
    "y_pred = model.predict(X_test)"
   ]
  },
  {
   "cell_type": "code",
   "execution_count": 39,
   "id": "5d40cb51",
   "metadata": {},
   "outputs": [],
   "source": [
    "#y_test - y_pred\n",
    "compare = pd.DataFrame({\"y_test\":list(y_test), \"y_pred\":list(y_pred)})"
   ]
  },
  {
   "cell_type": "code",
   "execution_count": 40,
   "id": "e1a33fbe",
   "metadata": {},
   "outputs": [
    {
     "data": {
      "text/html": [
       "<div>\n",
       "<style scoped>\n",
       "    .dataframe tbody tr th:only-of-type {\n",
       "        vertical-align: middle;\n",
       "    }\n",
       "\n",
       "    .dataframe tbody tr th {\n",
       "        vertical-align: top;\n",
       "    }\n",
       "\n",
       "    .dataframe thead th {\n",
       "        text-align: right;\n",
       "    }\n",
       "</style>\n",
       "<table border=\"1\" class=\"dataframe\">\n",
       "  <thead>\n",
       "    <tr style=\"text-align: right;\">\n",
       "      <th></th>\n",
       "      <th>y_test</th>\n",
       "      <th>y_pred</th>\n",
       "    </tr>\n",
       "  </thead>\n",
       "  <tbody>\n",
       "    <tr>\n",
       "      <th>0</th>\n",
       "      <td>[3250.0]</td>\n",
       "      <td>[3017.616407560008]</td>\n",
       "    </tr>\n",
       "    <tr>\n",
       "      <th>1</th>\n",
       "      <td>[4875.0]</td>\n",
       "      <td>[5276.023676332345]</td>\n",
       "    </tr>\n",
       "    <tr>\n",
       "      <th>2</th>\n",
       "      <td>[4000.0]</td>\n",
       "      <td>[3890.182852312955]</td>\n",
       "    </tr>\n",
       "    <tr>\n",
       "      <th>3</th>\n",
       "      <td>[3675.0]</td>\n",
       "      <td>[4044.1651660928874]</td>\n",
       "    </tr>\n",
       "    <tr>\n",
       "      <th>4</th>\n",
       "      <td>[4050.0]</td>\n",
       "      <td>[3736.200538533023]</td>\n",
       "    </tr>\n",
       "    <tr>\n",
       "      <th>...</th>\n",
       "      <td>...</td>\n",
       "      <td>...</td>\n",
       "    </tr>\n",
       "    <tr>\n",
       "      <th>95</th>\n",
       "      <td>[3400.0]</td>\n",
       "      <td>[2812.306655853432]</td>\n",
       "    </tr>\n",
       "    <tr>\n",
       "      <th>96</th>\n",
       "      <td>[4675.0]</td>\n",
       "      <td>[3890.182852312955]</td>\n",
       "    </tr>\n",
       "    <tr>\n",
       "      <th>97</th>\n",
       "      <td>[4000.0]</td>\n",
       "      <td>[4506.112107432684]</td>\n",
       "    </tr>\n",
       "    <tr>\n",
       "      <th>98</th>\n",
       "      <td>[4100.0]</td>\n",
       "      <td>[3736.200538533023]</td>\n",
       "    </tr>\n",
       "    <tr>\n",
       "      <th>99</th>\n",
       "      <td>[4150.0]</td>\n",
       "      <td>[3941.5102902395993]</td>\n",
       "    </tr>\n",
       "  </tbody>\n",
       "</table>\n",
       "<p>100 rows × 2 columns</p>\n",
       "</div>"
      ],
      "text/plain": [
       "      y_test                y_pred\n",
       "0   [3250.0]   [3017.616407560008]\n",
       "1   [4875.0]   [5276.023676332345]\n",
       "2   [4000.0]   [3890.182852312955]\n",
       "3   [3675.0]  [4044.1651660928874]\n",
       "4   [4050.0]   [3736.200538533023]\n",
       "..       ...                   ...\n",
       "95  [3400.0]   [2812.306655853432]\n",
       "96  [4675.0]   [3890.182852312955]\n",
       "97  [4000.0]   [4506.112107432684]\n",
       "98  [4100.0]   [3736.200538533023]\n",
       "99  [4150.0]  [3941.5102902395993]\n",
       "\n",
       "[100 rows x 2 columns]"
      ]
     },
     "execution_count": 40,
     "metadata": {},
     "output_type": "execute_result"
    }
   ],
   "source": [
    "compare"
   ]
  },
  {
   "cell_type": "markdown",
   "id": "7482cf2f",
   "metadata": {},
   "source": [
    "#### model evaluation"
   ]
  },
  {
   "cell_type": "code",
   "execution_count": 45,
   "id": "1ece74ef",
   "metadata": {},
   "outputs": [],
   "source": [
    "from sklearn.metrics import mean_absolute_error as mae, mean_squared_error as mse"
   ]
  },
  {
   "cell_type": "code",
   "execution_count": 46,
   "id": "011ce1ad",
   "metadata": {},
   "outputs": [
    {
     "data": {
      "text/plain": [
       "138931.09920252115"
      ]
     },
     "execution_count": 46,
     "metadata": {},
     "output_type": "execute_result"
    }
   ],
   "source": [
    "mse(y_test,y_pred)"
   ]
  },
  {
   "cell_type": "code",
   "execution_count": 47,
   "id": "685889d0",
   "metadata": {},
   "outputs": [
    {
     "data": {
      "text/plain": [
       "299.39047755852715"
      ]
     },
     "execution_count": 47,
     "metadata": {},
     "output_type": "execute_result"
    }
   ],
   "source": [
    "mae(y_test,y_pred)"
   ]
  }
 ],
 "metadata": {
  "kernelspec": {
   "display_name": "Python 3 (ipykernel)",
   "language": "python",
   "name": "python3"
  },
  "language_info": {
   "codemirror_mode": {
    "name": "ipython",
    "version": 3
   },
   "file_extension": ".py",
   "mimetype": "text/x-python",
   "name": "python",
   "nbconvert_exporter": "python",
   "pygments_lexer": "ipython3",
   "version": "3.8.8"
  }
 },
 "nbformat": 4,
 "nbformat_minor": 5
}
