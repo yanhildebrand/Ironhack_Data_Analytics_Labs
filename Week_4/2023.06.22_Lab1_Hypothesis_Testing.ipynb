{
 "cells": [
  {
   "cell_type": "code",
   "execution_count": 12,
   "id": "4fdbba08",
   "metadata": {},
   "outputs": [],
   "source": [
    "import numpy as np\n",
    "import scipy.stats as stats"
   ]
  },
  {
   "cell_type": "code",
   "execution_count": null,
   "id": "e8b6c156",
   "metadata": {},
   "outputs": [],
   "source": [
    "#It is assumed that the mean systolic blood pressure is μ = 120 mm Hg. In the Honolulu Heart Study, a sample of n = 100 people had an average systolic blood pressure of 130.1 mm Hg with a standard deviation of 21.21 mm Hg. Is the group significantly different (with respect to systolic blood pressure!) from the regular population?\n",
    "#        Set up the hypothesis test.\n",
    "#        Write down all the steps followed for setting up the test.\n",
    "#        Calculate the test statistic by hand and also code it in Python. It should be 4.76190. What decision can you make based on this calculated value?\n",
    "\n",
    "#population mean - μ = 120 mm Hg\n",
    "#sample size 100\n",
    "#sample mean 130.1 mm Hg\n",
    "#sample sd 21,21 mm Hg"
   ]
  },
  {
   "cell_type": "code",
   "execution_count": null,
   "id": "ae0ef0e7",
   "metadata": {},
   "outputs": [],
   "source": [
    "#H0 = sample mean same as population mean\n",
    "#H1 = sample mean different from population mean\n",
    "\n",
    "populationMean = 120\n",
    "sampleSize = 100\n",
    "sampleMean = 130.1\n",
    "sampleSD = 21.21\n",
    "\n",
    "#t-test, because sample SD is not known."
   ]
  },
  {
   "cell_type": "code",
   "execution_count": 5,
   "id": "0d99728c",
   "metadata": {},
   "outputs": [],
   "source": [
    "tscore = ((120-130.1) / (21.21/np.sqrt(100)))"
   ]
  },
  {
   "cell_type": "code",
   "execution_count": 6,
   "id": "775ebba6",
   "metadata": {},
   "outputs": [
    {
     "data": {
      "text/plain": [
       "-4.761904761904759"
      ]
     },
     "execution_count": 6,
     "metadata": {},
     "output_type": "execute_result"
    }
   ],
   "source": [
    "tscore"
   ]
  },
  {
   "cell_type": "code",
   "execution_count": 9,
   "id": "de06c16e",
   "metadata": {},
   "outputs": [],
   "source": [
    "tvalue = stats.t.ppf(0.975,99)"
   ]
  },
  {
   "cell_type": "code",
   "execution_count": 11,
   "id": "0cb78e12",
   "metadata": {},
   "outputs": [
    {
     "data": {
      "text/plain": [
       "1.9842169515086827"
      ]
     },
     "execution_count": 11,
     "metadata": {},
     "output_type": "execute_result"
    }
   ],
   "source": [
    "tvalue"
   ]
  },
  {
   "cell_type": "code",
   "execution_count": null,
   "id": "1b92acfc",
   "metadata": {},
   "outputs": [],
   "source": [
    "# |-4.761904761904759| > tvalue, therfore H0 is rejected."
   ]
  }
 ],
 "metadata": {
  "kernelspec": {
   "display_name": "Python 3 (ipykernel)",
   "language": "python",
   "name": "python3"
  },
  "language_info": {
   "codemirror_mode": {
    "name": "ipython",
    "version": 3
   },
   "file_extension": ".py",
   "mimetype": "text/x-python",
   "name": "python",
   "nbconvert_exporter": "python",
   "pygments_lexer": "ipython3",
   "version": "3.8.8"
  }
 },
 "nbformat": 4,
 "nbformat_minor": 5
}
