{
 "cells": [
  {
   "cell_type": "code",
   "execution_count": 29,
   "id": "587cc1eb",
   "metadata": {},
   "outputs": [],
   "source": [
    "import pandas as pd\n",
    "import numpy as np\n",
    "import matplotlib.pyplot as plt\n",
    "import seaborn as sns\n",
    "from sklearn.preprocessing import OrdinalEncoder, PowerTransformer, StandardScaler, MinMaxScaler\n",
    "%matplotlib inline"
   ]
  },
  {
   "cell_type": "code",
   "execution_count": 30,
   "id": "5fa8bedc",
   "metadata": {},
   "outputs": [],
   "source": [
    "df = pd.read_csv(\"Week2_2023.06.06_Lab1_marketing_customer_analysis_clean.csv\")"
   ]
  },
  {
   "cell_type": "code",
   "execution_count": 31,
   "id": "a6de1bf0",
   "metadata": {},
   "outputs": [
    {
     "name": "stdout",
     "output_type": "stream",
     "text": [
      "(10910, 10)\n",
      "Index(['Unnamed: 0', 'customer lifetime value', 'income',\n",
      "       'monthly premium auto', 'months since last claim',\n",
      "       'months since policy inception', 'number of open complaints',\n",
      "       'number of policies', 'total claim amount', 'month'],\n",
      "      dtype='object')\n",
      "(10910, 16)\n",
      "Index(['customer', 'state', 'response', 'coverage', 'education',\n",
      "       'effective to date', 'employmentstatus', 'gender', 'location code',\n",
      "       'marital status', 'policy type', 'policy', 'renew offer type',\n",
      "       'sales channel', 'vehicle class', 'vehicle size'],\n",
      "      dtype='object')\n"
     ]
    }
   ],
   "source": [
    "# save numerical columns\n",
    "dfNumeric = df._get_numeric_data()\n",
    "print(dfNumeric.shape)\n",
    "print(dfNumeric.columns)\n",
    "\n",
    "# save categorical columns\n",
    "dfCategorical = df.drop(list(dfNumeric.columns), axis=1, inplace=False)\n",
    "print(dfCategorical.shape)\n",
    "print(dfCategorical.columns)\n",
    "#dfCategorical = df.drop([dfNumeric.columns], axis=1, inplace=False)"
   ]
  },
  {
   "cell_type": "code",
   "execution_count": 32,
   "id": "e547c61b",
   "metadata": {},
   "outputs": [
    {
     "data": {
      "text/plain": [
       "Index(['Unnamed: 0', 'customer lifetime value', 'income',\n",
       "       'monthly premium auto', 'months since last claim',\n",
       "       'months since policy inception', 'number of open complaints',\n",
       "       'number of policies', 'total claim amount', 'month'],\n",
       "      dtype='object')"
      ]
     },
     "execution_count": 32,
     "metadata": {},
     "output_type": "execute_result"
    }
   ],
   "source": [
    "dfNumeric.columns"
   ]
  },
  {
   "cell_type": "code",
   "execution_count": 33,
   "id": "51e79e2d",
   "metadata": {},
   "outputs": [],
   "source": [
    "dfNumeric = dfNumeric.drop(\"Unnamed: 0\",axis=1)"
   ]
  },
  {
   "cell_type": "code",
   "execution_count": 34,
   "id": "6ec65da3",
   "metadata": {},
   "outputs": [
    {
     "data": {
      "text/html": [
       "<div>\n",
       "<style scoped>\n",
       "    .dataframe tbody tr th:only-of-type {\n",
       "        vertical-align: middle;\n",
       "    }\n",
       "\n",
       "    .dataframe tbody tr th {\n",
       "        vertical-align: top;\n",
       "    }\n",
       "\n",
       "    .dataframe thead th {\n",
       "        text-align: right;\n",
       "    }\n",
       "</style>\n",
       "<table border=\"1\" class=\"dataframe\">\n",
       "  <thead>\n",
       "    <tr style=\"text-align: right;\">\n",
       "      <th></th>\n",
       "      <th>customer lifetime value</th>\n",
       "      <th>income</th>\n",
       "      <th>monthly premium auto</th>\n",
       "      <th>months since last claim</th>\n",
       "      <th>months since policy inception</th>\n",
       "      <th>number of open complaints</th>\n",
       "      <th>number of policies</th>\n",
       "      <th>total claim amount</th>\n",
       "      <th>month</th>\n",
       "    </tr>\n",
       "  </thead>\n",
       "  <tbody>\n",
       "    <tr>\n",
       "      <th>0</th>\n",
       "      <td>4809.216960</td>\n",
       "      <td>48029</td>\n",
       "      <td>61</td>\n",
       "      <td>7.0</td>\n",
       "      <td>52</td>\n",
       "      <td>0.0</td>\n",
       "      <td>9</td>\n",
       "      <td>292.800000</td>\n",
       "      <td>2</td>\n",
       "    </tr>\n",
       "    <tr>\n",
       "      <th>1</th>\n",
       "      <td>2228.525238</td>\n",
       "      <td>0</td>\n",
       "      <td>64</td>\n",
       "      <td>3.0</td>\n",
       "      <td>26</td>\n",
       "      <td>0.0</td>\n",
       "      <td>1</td>\n",
       "      <td>744.924331</td>\n",
       "      <td>1</td>\n",
       "    </tr>\n",
       "    <tr>\n",
       "      <th>2</th>\n",
       "      <td>14947.917300</td>\n",
       "      <td>22139</td>\n",
       "      <td>100</td>\n",
       "      <td>34.0</td>\n",
       "      <td>31</td>\n",
       "      <td>0.0</td>\n",
       "      <td>2</td>\n",
       "      <td>480.000000</td>\n",
       "      <td>2</td>\n",
       "    </tr>\n",
       "    <tr>\n",
       "      <th>3</th>\n",
       "      <td>22332.439460</td>\n",
       "      <td>49078</td>\n",
       "      <td>97</td>\n",
       "      <td>10.0</td>\n",
       "      <td>3</td>\n",
       "      <td>0.0</td>\n",
       "      <td>2</td>\n",
       "      <td>484.013411</td>\n",
       "      <td>1</td>\n",
       "    </tr>\n",
       "    <tr>\n",
       "      <th>4</th>\n",
       "      <td>9025.067525</td>\n",
       "      <td>23675</td>\n",
       "      <td>117</td>\n",
       "      <td>NaN</td>\n",
       "      <td>31</td>\n",
       "      <td>0.0</td>\n",
       "      <td>7</td>\n",
       "      <td>707.925645</td>\n",
       "      <td>1</td>\n",
       "    </tr>\n",
       "  </tbody>\n",
       "</table>\n",
       "</div>"
      ],
      "text/plain": [
       "   customer lifetime value  income  monthly premium auto  \\\n",
       "0              4809.216960   48029                    61   \n",
       "1              2228.525238       0                    64   \n",
       "2             14947.917300   22139                   100   \n",
       "3             22332.439460   49078                    97   \n",
       "4              9025.067525   23675                   117   \n",
       "\n",
       "   months since last claim  months since policy inception  \\\n",
       "0                      7.0                             52   \n",
       "1                      3.0                             26   \n",
       "2                     34.0                             31   \n",
       "3                     10.0                              3   \n",
       "4                      NaN                             31   \n",
       "\n",
       "   number of open complaints  number of policies  total claim amount  month  \n",
       "0                        0.0                   9          292.800000      2  \n",
       "1                        0.0                   1          744.924331      1  \n",
       "2                        0.0                   2          480.000000      2  \n",
       "3                        0.0                   2          484.013411      1  \n",
       "4                        0.0                   7          707.925645      1  "
      ]
     },
     "execution_count": 34,
     "metadata": {},
     "output_type": "execute_result"
    }
   ],
   "source": [
    "dfNumeric.head()"
   ]
  },
  {
   "cell_type": "code",
   "execution_count": 7,
   "id": "91d4600e",
   "metadata": {},
   "outputs": [],
   "source": [
    "# dfNumeric.hist()"
   ]
  },
  {
   "cell_type": "code",
   "execution_count": 8,
   "id": "3326b1e1",
   "metadata": {},
   "outputs": [],
   "source": [
    "# fig=plt.figure(figsize=(8,5))\n",
    "# sns.heatmap(dfNumeric.corr(),annot=True)"
   ]
  },
  {
   "cell_type": "markdown",
   "id": "e71da2c6",
   "metadata": {},
   "source": [
    "#### None of the numerical variables have a correlation of more than 0.9"
   ]
  },
  {
   "cell_type": "code",
   "execution_count": 35,
   "id": "98830d1f",
   "metadata": {},
   "outputs": [],
   "source": [
    "dfCategorical.columns\n",
    "dfCategorical.head\n",
    "dfCategorical = dfCategorical.drop('effective to date', axis=1)\n",
    "dfCategorical = dfCategorical.drop('customer', axis=1)"
   ]
  },
  {
   "cell_type": "code",
   "execution_count": 36,
   "id": "813f5db6",
   "metadata": {},
   "outputs": [
    {
     "name": "stdout",
     "output_type": "stream",
     "text": [
      "['Basic' 'Extended' 'Premium']\n",
      "['College' 'Bachelor' 'High School or Below' 'Doctor' 'Master']\n",
      "['Corporate L3' 'Personal L3' 'Personal L2' 'Corporate L2' 'Personal L1'\n",
      " 'Special L1' 'Corporate L1' 'Special L3' 'Special L2']\n",
      "['Medsize' 'Small' 'Large' nan]\n"
     ]
    }
   ],
   "source": [
    "# Ordinal variables: coverage, education, policy, vehicle size\n",
    "ordinal_variables = [\"coverage\", \"education\", \"policy\", \"vehicle size\"]\n",
    "print(dfCategorical[\"coverage\"].unique())\n",
    "print(dfCategorical[\"education\"].unique())\n",
    "print(dfCategorical[\"policy\"].unique())\n",
    "print(dfCategorical[\"vehicle size\"].unique())"
   ]
  },
  {
   "cell_type": "code",
   "execution_count": 60,
   "id": "c05d4509",
   "metadata": {},
   "outputs": [],
   "source": [
    "# order \"coverage\"\n",
    "coverage_order = [\"Basic\", \"Extended\", \"Premium\"]\n",
    "coverage_order = np.array(coverage_order).reshape(-1, 1)\n",
    "education_order = ['High School or Below', 'College', 'Bachelor', 'Master', 'Doctor']\n",
    "education_order = np.array(education_order).reshape(-1, 1)"
   ]
  },
  {
   "cell_type": "code",
   "execution_count": 38,
   "id": "104fe9d1",
   "metadata": {},
   "outputs": [],
   "source": [
    "# Create an instance of OrdinalEncoder\n",
    "encoder = OrdinalEncoder()"
   ]
  },
  {
   "cell_type": "code",
   "execution_count": 57,
   "id": "da2609c8",
   "metadata": {},
   "outputs": [],
   "source": [
    "# Reshape data so that encoder can handle it.\n",
    "column_data = dfCategorical[\"coverage\"].values.reshape(-1, 1)\n",
    "# Fit the encoder\n",
    "encoder.fit(coverage_order)\n",
    "# Encode reshaped data\n",
    "encoded_data = encoder.fit_transform(column_data)\n",
    "# Assign the encoded data back to the DataFrame\n",
    "dfCategorical[\"coverage\"] = encoded_data"
   ]
  },
  {
   "cell_type": "code",
   "execution_count": 61,
   "id": "9747ec82",
   "metadata": {},
   "outputs": [],
   "source": [
    "# Reshape data so that encoder can handle it.\n",
    "column_data = dfCategorical[\"education\"].values.reshape(-1, 1)\n",
    "# Fit the encoder\n",
    "encoder.fit(education_order)\n",
    "# Encode reshaped data\n",
    "encoded_data = encoder.fit_transform(column_data)\n",
    "# Assign the encoded data back to the DataFrame\n",
    "dfCategorical[\"education\"] = encoded_data"
   ]
  },
  {
   "cell_type": "code",
   "execution_count": 13,
   "id": "c1c585d2",
   "metadata": {},
   "outputs": [],
   "source": [
    "nominal_variables = list(dfCategorical.columns)\n",
    "\n",
    "for i in ordinal_variables:\n",
    "    nominal_variables.remove(i)"
   ]
  },
  {
   "cell_type": "code",
   "execution_count": 14,
   "id": "4f67fbec",
   "metadata": {},
   "outputs": [],
   "source": [
    "# Perform one-hot encoding and drop original columns\n",
    "for i in nominal_variables:\n",
    "    encoded_columns = pd.get_dummies(dfCategorical[i], prefix=i, drop_first=True)\n",
    "    encoded_columns = encoded_columns.astype(int)\n",
    "    dfCategorical = pd.concat([dfCategorical, encoded_columns], axis=1)\n",
    "    dfCategorical.drop(i, axis=1, inplace=True)"
   ]
  },
  {
   "cell_type": "code",
   "execution_count": 15,
   "id": "ee7fe16f",
   "metadata": {},
   "outputs": [
    {
     "data": {
      "text/html": [
       "<div>\n",
       "<style scoped>\n",
       "    .dataframe tbody tr th:only-of-type {\n",
       "        vertical-align: middle;\n",
       "    }\n",
       "\n",
       "    .dataframe tbody tr th {\n",
       "        vertical-align: top;\n",
       "    }\n",
       "\n",
       "    .dataframe thead th {\n",
       "        text-align: right;\n",
       "    }\n",
       "</style>\n",
       "<table border=\"1\" class=\"dataframe\">\n",
       "  <thead>\n",
       "    <tr style=\"text-align: right;\">\n",
       "      <th></th>\n",
       "      <th>coverage</th>\n",
       "      <th>education</th>\n",
       "      <th>policy</th>\n",
       "      <th>vehicle size</th>\n",
       "      <th>state_California</th>\n",
       "      <th>state_Nevada</th>\n",
       "      <th>state_Oregon</th>\n",
       "      <th>state_Washington</th>\n",
       "      <th>response_Yes</th>\n",
       "      <th>employmentstatus_Employed</th>\n",
       "      <th>employmentstatus_Medical Leave</th>\n",
       "      <th>employmentstatus_Retired</th>\n",
       "      <th>employmentstatus_Unemployed</th>\n",
       "      <th>gender_M</th>\n",
       "      <th>location code_Suburban</th>\n",
       "      <th>location code_Urban</th>\n",
       "      <th>marital status_Married</th>\n",
       "      <th>marital status_Single</th>\n",
       "      <th>policy type_Personal Auto</th>\n",
       "      <th>policy type_Special Auto</th>\n",
       "      <th>renew offer type_Offer2</th>\n",
       "      <th>renew offer type_Offer3</th>\n",
       "      <th>renew offer type_Offer4</th>\n",
       "      <th>sales channel_Branch</th>\n",
       "      <th>sales channel_Call Center</th>\n",
       "      <th>sales channel_Web</th>\n",
       "      <th>vehicle class_Luxury Car</th>\n",
       "      <th>vehicle class_Luxury SUV</th>\n",
       "      <th>vehicle class_SUV</th>\n",
       "      <th>vehicle class_Sports Car</th>\n",
       "      <th>vehicle class_Two-Door Car</th>\n",
       "    </tr>\n",
       "  </thead>\n",
       "  <tbody>\n",
       "    <tr>\n",
       "      <th>0</th>\n",
       "      <td>0.0</td>\n",
       "      <td>1.0</td>\n",
       "      <td>2.0</td>\n",
       "      <td>1.0</td>\n",
       "      <td>0</td>\n",
       "      <td>0</td>\n",
       "      <td>0</td>\n",
       "      <td>0</td>\n",
       "      <td>0</td>\n",
       "      <td>1</td>\n",
       "      <td>0</td>\n",
       "      <td>0</td>\n",
       "      <td>0</td>\n",
       "      <td>1</td>\n",
       "      <td>1</td>\n",
       "      <td>0</td>\n",
       "      <td>1</td>\n",
       "      <td>0</td>\n",
       "      <td>0</td>\n",
       "      <td>0</td>\n",
       "      <td>0</td>\n",
       "      <td>1</td>\n",
       "      <td>0</td>\n",
       "      <td>0</td>\n",
       "      <td>0</td>\n",
       "      <td>0</td>\n",
       "      <td>0</td>\n",
       "      <td>0</td>\n",
       "      <td>0</td>\n",
       "      <td>0</td>\n",
       "      <td>0</td>\n",
       "    </tr>\n",
       "    <tr>\n",
       "      <th>1</th>\n",
       "      <td>0.0</td>\n",
       "      <td>1.0</td>\n",
       "      <td>5.0</td>\n",
       "      <td>1.0</td>\n",
       "      <td>1</td>\n",
       "      <td>0</td>\n",
       "      <td>0</td>\n",
       "      <td>0</td>\n",
       "      <td>0</td>\n",
       "      <td>0</td>\n",
       "      <td>0</td>\n",
       "      <td>0</td>\n",
       "      <td>1</td>\n",
       "      <td>0</td>\n",
       "      <td>1</td>\n",
       "      <td>0</td>\n",
       "      <td>0</td>\n",
       "      <td>1</td>\n",
       "      <td>1</td>\n",
       "      <td>0</td>\n",
       "      <td>0</td>\n",
       "      <td>0</td>\n",
       "      <td>1</td>\n",
       "      <td>0</td>\n",
       "      <td>1</td>\n",
       "      <td>0</td>\n",
       "      <td>0</td>\n",
       "      <td>0</td>\n",
       "      <td>0</td>\n",
       "      <td>0</td>\n",
       "      <td>0</td>\n",
       "    </tr>\n",
       "  </tbody>\n",
       "</table>\n",
       "</div>"
      ],
      "text/plain": [
       "   coverage  education  policy  vehicle size  state_California  state_Nevada  \\\n",
       "0       0.0        1.0     2.0           1.0                 0             0   \n",
       "1       0.0        1.0     5.0           1.0                 1             0   \n",
       "\n",
       "   state_Oregon  state_Washington  response_Yes  employmentstatus_Employed  \\\n",
       "0             0                 0             0                          1   \n",
       "1             0                 0             0                          0   \n",
       "\n",
       "   employmentstatus_Medical Leave  employmentstatus_Retired  \\\n",
       "0                               0                         0   \n",
       "1                               0                         0   \n",
       "\n",
       "   employmentstatus_Unemployed  gender_M  location code_Suburban  \\\n",
       "0                            0         1                       1   \n",
       "1                            1         0                       1   \n",
       "\n",
       "   location code_Urban  marital status_Married  marital status_Single  \\\n",
       "0                    0                       1                      0   \n",
       "1                    0                       0                      1   \n",
       "\n",
       "   policy type_Personal Auto  policy type_Special Auto  \\\n",
       "0                          0                         0   \n",
       "1                          1                         0   \n",
       "\n",
       "   renew offer type_Offer2  renew offer type_Offer3  renew offer type_Offer4  \\\n",
       "0                        0                        1                        0   \n",
       "1                        0                        0                        1   \n",
       "\n",
       "   sales channel_Branch  sales channel_Call Center  sales channel_Web  \\\n",
       "0                     0                          0                  0   \n",
       "1                     0                          1                  0   \n",
       "\n",
       "   vehicle class_Luxury Car  vehicle class_Luxury SUV  vehicle class_SUV  \\\n",
       "0                         0                         0                  0   \n",
       "1                         0                         0                  0   \n",
       "\n",
       "   vehicle class_Sports Car  vehicle class_Two-Door Car  \n",
       "0                         0                           0  \n",
       "1                         0                           0  "
      ]
     },
     "execution_count": 15,
     "metadata": {},
     "output_type": "execute_result"
    }
   ],
   "source": [
    "pd.set_option('display.max_columns', 500)\n",
    "dfCategorical.head(2)"
   ]
  },
  {
   "cell_type": "code",
   "execution_count": 54,
   "id": "0b548452",
   "metadata": {},
   "outputs": [
    {
     "data": {
      "text/html": [
       "<div>\n",
       "<style scoped>\n",
       "    .dataframe tbody tr th:only-of-type {\n",
       "        vertical-align: middle;\n",
       "    }\n",
       "\n",
       "    .dataframe tbody tr th {\n",
       "        vertical-align: top;\n",
       "    }\n",
       "\n",
       "    .dataframe thead th {\n",
       "        text-align: right;\n",
       "    }\n",
       "</style>\n",
       "<table border=\"1\" class=\"dataframe\">\n",
       "  <thead>\n",
       "    <tr style=\"text-align: right;\">\n",
       "      <th></th>\n",
       "      <th>customer lifetime value</th>\n",
       "      <th>income</th>\n",
       "      <th>monthly premium auto</th>\n",
       "      <th>months since last claim</th>\n",
       "      <th>months since policy inception</th>\n",
       "      <th>number of open complaints</th>\n",
       "      <th>number of policies</th>\n",
       "      <th>total claim amount</th>\n",
       "      <th>month</th>\n",
       "    </tr>\n",
       "  </thead>\n",
       "  <tbody>\n",
       "    <tr>\n",
       "      <th>0</th>\n",
       "      <td>4809.216960</td>\n",
       "      <td>48029</td>\n",
       "      <td>61</td>\n",
       "      <td>7.0</td>\n",
       "      <td>52</td>\n",
       "      <td>0.0</td>\n",
       "      <td>9</td>\n",
       "      <td>292.800000</td>\n",
       "      <td>2</td>\n",
       "    </tr>\n",
       "    <tr>\n",
       "      <th>1</th>\n",
       "      <td>2228.525238</td>\n",
       "      <td>0</td>\n",
       "      <td>64</td>\n",
       "      <td>3.0</td>\n",
       "      <td>26</td>\n",
       "      <td>0.0</td>\n",
       "      <td>1</td>\n",
       "      <td>744.924331</td>\n",
       "      <td>1</td>\n",
       "    </tr>\n",
       "  </tbody>\n",
       "</table>\n",
       "</div>"
      ],
      "text/plain": [
       "   customer lifetime value  income  monthly premium auto  \\\n",
       "0              4809.216960   48029                    61   \n",
       "1              2228.525238       0                    64   \n",
       "\n",
       "   months since last claim  months since policy inception  \\\n",
       "0                      7.0                             52   \n",
       "1                      3.0                             26   \n",
       "\n",
       "   number of open complaints  number of policies  total claim amount  month  \n",
       "0                        0.0                   9          292.800000      2  \n",
       "1                        0.0                   1          744.924331      1  "
      ]
     },
     "execution_count": 54,
     "metadata": {},
     "output_type": "execute_result"
    }
   ],
   "source": [
    "dfNumeric.head(2)"
   ]
  },
  {
   "cell_type": "code",
   "execution_count": 77,
   "id": "bac80e2b",
   "metadata": {},
   "outputs": [],
   "source": [
    "scaler = MinMaxScaler()\n",
    "powerTransform = PowerTransformer()"
   ]
  },
  {
   "cell_type": "code",
   "execution_count": 73,
   "id": "dda86c7f",
   "metadata": {},
   "outputs": [
    {
     "data": {
      "text/plain": [
       "(array([2787.,  632., 1632., 1070.,  881.,  938.,  931.,  834.,  649.,\n",
       "         556.]),\n",
       " array([    0. ,  9998.1, 19996.2, 29994.3, 39992.4, 49990.5, 59988.6,\n",
       "        69986.7, 79984.8, 89982.9, 99981. ]),\n",
       " <BarContainer object of 10 artists>)"
      ]
     },
     "execution_count": 73,
     "metadata": {},
     "output_type": "execute_result"
    },
    {
     "data": {
      "image/png": "[encoded data removed]",
      "text/plain": [
       "<Figure size 432x288 with 1 Axes>"
      ]
     },
     "metadata": {
      "needs_background": "light"
     },
     "output_type": "display_data"
    }
   ],
   "source": [
    "varA = dfNumeric[\"income\"].values.reshape(-1, 1)\n",
    "plt.hist(varA)"
   ]
  },
  {
   "cell_type": "code",
   "execution_count": 75,
   "id": "2125f022",
   "metadata": {},
   "outputs": [
    {
     "data": {
      "text/plain": [
       "(array([2787.,  632., 1632., 1070.,  881.,  938.,  931.,  834.,  649.,\n",
       "         556.]),\n",
       " array([0. , 0.1, 0.2, 0.3, 0.4, 0.5, 0.6, 0.7, 0.8, 0.9, 1. ]),\n",
       " <BarContainer object of 10 artists>)"
      ]
     },
     "execution_count": 75,
     "metadata": {},
     "output_type": "execute_result"
    },
    {
     "data": {
      "image/png": "[encoded data removed]",
      "text/plain": [
       "<Figure size 432x288 with 1 Axes>"
      ]
     },
     "metadata": {
      "needs_background": "light"
     },
     "output_type": "display_data"
    }
   ],
   "source": [
    "varA = scaler.fit_transform(varA)\n",
    "plt.hist(varA)"
   ]
  },
  {
   "cell_type": "code",
   "execution_count": 78,
   "id": "682821d6",
   "metadata": {},
   "outputs": [
    {
     "data": {
      "text/plain": [
       "Index(['customer lifetime value', 'income', 'monthly premium auto',\n",
       "       'months since last claim', 'months since policy inception',\n",
       "       'number of open complaints', 'number of policies', 'total claim amount',\n",
       "       'month'],\n",
       "      dtype='object')"
      ]
     },
     "execution_count": 78,
     "metadata": {},
     "output_type": "execute_result"
    }
   ],
   "source": [
    "dfNumeric.columns"
   ]
  },
  {
   "cell_type": "code",
   "execution_count": 43,
   "id": "51866ebd",
   "metadata": {},
   "outputs": [
    {
     "data": {
      "text/plain": [
       "(array([8.665e+03, 1.431e+03, 4.940e+02, 1.770e+02, 9.500e+01, 2.500e+01,\n",
       "        1.400e+01, 5.000e+00, 3.000e+00, 1.000e+00]),\n",
       " array([ 1898.007675 , 10040.7450265, 18183.482378 , 26326.2197295,\n",
       "        34468.957081 , 42611.6944325, 50754.431784 , 58897.1691355,\n",
       "        67039.906487 , 75182.6438385, 83325.38119  ]),\n",
       " <BarContainer object of 10 artists>)"
      ]
     },
     "execution_count": 43,
     "metadata": {},
     "output_type": "execute_result"
    },
    {
     "data": {
      "image/png": "[encoded data removed]",
      "text/plain": [
       "<Figure size 432x288 with 1 Axes>"
      ]
     },
     "metadata": {
      "needs_background": "light"
     },
     "output_type": "display_data"
    }
   ],
   "source": [
    "varB = dfNumeric[\"customer lifetime value\"].values.reshape(-1, 1)\n",
    "plt.hist(varB)"
   ]
  },
  {
   "cell_type": "code",
   "execution_count": 46,
   "id": "fdc1d62f",
   "metadata": {},
   "outputs": [],
   "source": [
    "# Create an instance of StandardScaler\n",
    "ss = StandardScaler()\n",
    "\n",
    "# Fit the StandardScaler to your data\n",
    "ss.fit(varB)\n",
    "\n",
    "# Apply the power transform to your data\n",
    "varB = ss.transform(varB)"
   ]
  },
  {
   "cell_type": "code",
   "execution_count": 47,
   "id": "580ea281",
   "metadata": {},
   "outputs": [
    {
     "data": {
      "text/plain": [
       "(array([8.665e+03, 1.431e+03, 4.940e+02, 1.770e+02, 9.500e+01, 2.500e+01,\n",
       "        1.400e+01, 5.000e+00, 3.000e+00, 1.000e+00]),\n",
       " array([-0.88895302,  0.2937651 ,  1.47648322,  2.65920133,  3.84191945,\n",
       "         5.02463757,  6.20735569,  7.39007381,  8.57279192,  9.75551004,\n",
       "        10.93822816]),\n",
       " <BarContainer object of 10 artists>)"
      ]
     },
     "execution_count": 47,
     "metadata": {},
     "output_type": "execute_result"
    },
    {
     "data": {
      "image/png": "[encoded data removed]",
      "text/plain": [
       "<Figure size 432x288 with 1 Axes>"
      ]
     },
     "metadata": {
      "needs_background": "light"
     },
     "output_type": "display_data"
    }
   ],
   "source": [
    "plt.hist(varB)"
   ]
  },
  {
   "cell_type": "code",
   "execution_count": null,
   "id": "8846c889",
   "metadata": {},
   "outputs": [],
   "source": [
    "### Error with power transformer\n",
    "# Create an instance of PowerTransformer\n",
    "#pt = PowerTransformer()\n",
    "\n",
    "# Fit the PowerTransformer to your data\n",
    "#pt.fit(varB)\n",
    "\n",
    "# Apply the power transform to your data\n",
    "#varB = pt.transform(varB)"
   ]
  }
 ],
 "metadata": {
  "kernelspec": {
   "display_name": "Python 3 (ipykernel)",
   "language": "python",
   "name": "python3"
  },
  "language_info": {
   "codemirror_mode": {
    "name": "ipython",
    "version": 3
   },
   "file_extension": ".py",
   "mimetype": "text/x-python",
   "name": "python",
   "nbconvert_exporter": "python",
   "pygments_lexer": "ipython3",
   "version": "3.8.8"
  }
 },
 "nbformat": 4,
 "nbformat_minor": 5
}
