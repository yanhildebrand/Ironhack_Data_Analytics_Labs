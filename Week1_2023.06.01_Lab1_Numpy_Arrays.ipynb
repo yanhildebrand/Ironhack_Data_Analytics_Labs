{
 "cells": [
  {
   "cell_type": "code",
   "execution_count": 134,
   "id": "35e58b30",
   "metadata": {},
   "outputs": [],
   "source": [
    "#1\n",
    "import numpy as np"
   ]
  },
  {
   "cell_type": "code",
   "execution_count": 135,
   "id": "849776b2",
   "metadata": {},
   "outputs": [
    {
     "name": "stdout",
     "output_type": "stream",
     "text": [
      "0.0 0.0 0.0 0.0 0.0 0.0 0.0 0.0 0.0 0.0\n"
     ]
    }
   ],
   "source": [
    "#2\n",
    "zerosArray = np.zeros(10)\n",
    "print(*zerosArray)"
   ]
  },
  {
   "cell_type": "code",
   "execution_count": 136,
   "id": "1377f284",
   "metadata": {},
   "outputs": [
    {
     "name": "stdout",
     "output_type": "stream",
     "text": [
      "0.0 0.0 0.0 0.0 0.0 0.0 0.0 0.0 0.0 1.0\n"
     ]
    }
   ],
   "source": [
    "#3\n",
    "zerosArrayWithOne = np.zeros(10)\n",
    "zerosArrayWithOne[9] = 1\n",
    "print(*zerosArrayWithOne)"
   ]
  },
  {
   "cell_type": "code",
   "execution_count": 137,
   "id": "bfbc5244",
   "metadata": {},
   "outputs": [
    {
     "name": "stdout",
     "output_type": "stream",
     "text": [
      "10 11 12 13 14 15 16 17 18 19 20 21 22 23 24 25 26 27 28 29 30 31 32 33 34 35 36 37 38 39 40 41 42 43 44 45 46 47 48 49\n"
     ]
    }
   ],
   "source": [
    "#4\n",
    "tenToFortynineArray = np.arange(10,50)\n",
    "print(*tenToFortynineArray)"
   ]
  },
  {
   "cell_type": "code",
   "execution_count": 138,
   "id": "38ca4db8",
   "metadata": {},
   "outputs": [
    {
     "name": "stdout",
     "output_type": "stream",
     "text": [
      "[[0 1 2]\n",
      " [3 4 5]\n",
      " [6 7 8]]\n"
     ]
    }
   ],
   "source": [
    "#5\n",
    "rangeZeroNine = np.arange(0,9)\n",
    "ThreeByThree = rangeZeroNine.reshape(3,3)\n",
    "print(ThreeByThree)"
   ]
  },
  {
   "cell_type": "code",
   "execution_count": 139,
   "id": "4c5d1c24",
   "metadata": {},
   "outputs": [
    {
     "name": "stdout",
     "output_type": "stream",
     "text": [
      "[1 2 4]\n",
      "(array([0, 1, 4], dtype=int64),)\n"
     ]
    }
   ],
   "source": [
    "#6\n",
    "# boolean filtering\n",
    "array1=np.array([1,2,0,0,4,0])\n",
    "array1NoZerosBoolean = (array1 != 0)\n",
    "array1NoZeros = array1[array1Boolean]\n",
    "print(array1NoZeros)\n",
    "# nonzero ***\n",
    "array1NoZeros = np.nonzero(array1)\n",
    "print(array1NoZeros)"
   ]
  },
  {
   "cell_type": "code",
   "execution_count": 140,
   "id": "f3f33361",
   "metadata": {},
   "outputs": [
    {
     "name": "stdout",
     "output_type": "stream",
     "text": [
      "[[1. 0. 0.]\n",
      " [0. 1. 0.]\n",
      " [0. 0. 1.]]\n"
     ]
    }
   ],
   "source": [
    "#7\n",
    "ThreeByThreeIdentityMatrix = np.eye(3,3)\n",
    "print(ThreeByThreeIdentityMatrix)"
   ]
  },
  {
   "cell_type": "code",
   "execution_count": 141,
   "id": "c05895dd",
   "metadata": {},
   "outputs": [
    {
     "name": "stdout",
     "output_type": "stream",
     "text": [
      "[[0.73238944 0.2691294  0.29744819]\n",
      " [0.40839597 0.40576925 0.81881512]\n",
      " [0.16061479 0.08308057 0.02445712]]\n"
     ]
    }
   ],
   "source": [
    "#8\n",
    "ThreeByThreeByThree = np.random.random((3,3))\n",
    "print(ThreeByThreeByThree)"
   ]
  },
  {
   "cell_type": "code",
   "execution_count": 142,
   "id": "2087dcf3",
   "metadata": {},
   "outputs": [
    {
     "name": "stdout",
     "output_type": "stream",
     "text": [
      "0.0043778737631485765\n",
      "0.9976685118486582\n"
     ]
    }
   ],
   "source": [
    "#9\n",
    "TenByTen = np.random.random((10,10))\n",
    "minNumber = TenByTen.min()\n",
    "maxNumber = TenByTen.max()\n",
    "print(minNumber)\n",
    "print(maxNumber)"
   ]
  },
  {
   "cell_type": "code",
   "execution_count": 143,
   "id": "07d28830",
   "metadata": {},
   "outputs": [
    {
     "name": "stdout",
     "output_type": "stream",
     "text": [
      "0.43318502972256623\n"
     ]
    }
   ],
   "source": [
    "#10\n",
    "RandomVectorThirty = np.random.random((30))\n",
    "meanVectorThirty = RandomVectorThirty.mean()\n",
    "print(meanVectorThirty)"
   ]
  },
  {
   "cell_type": "code",
   "execution_count": 144,
   "id": "01fb1972",
   "metadata": {},
   "outputs": [
    {
     "name": "stdout",
     "output_type": "stream",
     "text": [
      "[[1 0 0 0]\n",
      " [0 2 0 0]\n",
      " [0 0 3 0]\n",
      " [0 0 0 4]]\n"
     ]
    }
   ],
   "source": [
    "#11\n",
    "arrayFive = np.arange(1,5)\n",
    "arrayFiveDiagonal = np.diag(arrayFive)\n",
    "print(arrayFiveDiagonal)"
   ]
  },
  {
   "cell_type": "code",
   "execution_count": 145,
   "id": "d5a43191",
   "metadata": {},
   "outputs": [
    {
     "name": "stdout",
     "output_type": "stream",
     "text": [
      "[[ 0.01530485  0.72835145 -0.89761357 -1.26060541  0.29118235]\n",
      " [-0.11614915 -0.76091671 -1.37813851  1.38804501 -0.67162254]\n",
      " [ 1.53787049 -0.85531974 -0.82450746  1.79163725 -0.1581043 ]\n",
      " [-1.72524776  1.16450311 -0.71785225 -0.10425182  0.079891  ]\n",
      " [ 1.49716617  0.9983882  -1.11623615  0.26363826  0.83058723]]\n"
     ]
    }
   ],
   "source": [
    "#12\n",
    "fiveByFive = np.random.random((5,5))\n",
    "normFiveByFive = ((fiveByFive)-(np.mean(fiveByFive)))/((np.std(fiveByFive)))\n",
    "print(normFiveByFive)"
   ]
  },
  {
   "cell_type": "code",
   "execution_count": 146,
   "id": "72f60ec7",
   "metadata": {},
   "outputs": [
    {
     "name": "stdout",
     "output_type": "stream",
     "text": [
      "[3 5 7 8 9]\n"
     ]
    }
   ],
   "source": [
    "#13\n",
    "array2_1 = np.random.randint(0,10,10)\n",
    "array2_2 = np.random.randint(0,10,10)\n",
    "array1And2Intersection = np.intersect1d(array2_1,array2_2)\n",
    "print(array1And2Intersection)"
   ]
  },
  {
   "cell_type": "code",
   "execution_count": 147,
   "id": "fec9c58f",
   "metadata": {},
   "outputs": [
    {
     "name": "stdout",
     "output_type": "stream",
     "text": [
      "[0.03693188 0.2299535  0.44392476 0.45331651 0.51870428 0.59585959\n",
      " 0.64240626 0.78945955 0.81829581 0.90747447]\n"
     ]
    }
   ],
   "source": [
    "#14\n",
    "randomArrayTen1 = np.random.random((10))\n",
    "randomArrayTen1Sorted = np.sort(randomArrayTen1)\n",
    "print(randomArrayTen1Sorted)"
   ]
  },
  {
   "cell_type": "code",
   "execution_count": 148,
   "id": "022c81ea",
   "metadata": {},
   "outputs": [
    {
     "name": "stdout",
     "output_type": "stream",
     "text": [
      "[0. 0. 0. 0. 0. 0. 0. 0. 0. 0.]\n"
     ]
    }
   ],
   "source": [
    "#15\n",
    "randomArrayTen2 = np.random.random((10))\n",
    "randomArrayTen[np.argmax(randomArrayTen)] = 0\n",
    "print(randomArrayTen)"
   ]
  },
  {
   "cell_type": "code",
   "execution_count": 149,
   "id": "689fac75",
   "metadata": {},
   "outputs": [
    {
     "name": "stdout",
     "output_type": "stream",
     "text": [
      "[[1 6 8]\n",
      " [1 3 5]\n",
      " [2 8 2]]\n",
      "[5. 3. 4.]\n",
      "[[5. 3. 4.]\n",
      " [5. 3. 4.]\n",
      " [5. 3. 4.]]\n",
      "[[5. 5. 5.]\n",
      " [3. 3. 3.]\n",
      " [4. 4. 4.]]\n",
      "[[-4.  1.  3.]\n",
      " [-2.  0.  2.]\n",
      " [-2.  4. -2.]]\n"
     ]
    }
   ],
   "source": [
    "#16\n",
    "randomThreeByThree = np.random.randint(0,10,(3,3))\n",
    "print(randomThreeByThree)\n",
    "meansByRow = np.mean(randomThreeByThree, axis=1)\n",
    "print(meansByRow)\n",
    "stackedMeans = np.vstack((meansByRow, meansByRow, meansByRow))\n",
    "print(stackedMeans)\n",
    "stackedMeansT = stackedMeans.T\n",
    "print(stackedMeansT)\n",
    "print(randomThreeByThree - stackedMeansT)"
   ]
  },
  {
   "cell_type": "code",
   "execution_count": 166,
   "id": "63f4222b",
   "metadata": {},
   "outputs": [
    {
     "name": "stdout",
     "output_type": "stream",
     "text": [
      "[[  1   1   2   2   4   5   5   6   7   8   8   9  12  13  18  18  18  19\n",
      "   19  19  20  20  20  20  26  27  29  32  34  34  34  34  36  38  38  38\n",
      "   40  40  40  41  41  42  42  44  45  46  46  47  48  49  49  50  51  54\n",
      "   55  55  55  55  56  56  57  58  59  60  60  60  60  63  65  68  69  69\n",
      "   69  72  73  75  76  76  76  76  78  78  80  80  83  83  83  84  85  87\n",
      "   88  88  90  92  92  96  97  98  99 101 102 102 103 103 106 106 107 111\n",
      "  111 111 111 111 114 115 116 116 116 116 117 118 118 118 120 120 121 124\n",
      "  124 126 126 126 127 127 127 128 128 130 131 131 132 134 135 136 137 138\n",
      "  139 140 140 140 140 141 142 143 143 146 151 152 153 154 154 155 155 155\n",
      "  155 156 156 157 158 158 158 159 159 160 162 163 163 163 165 166 168 169\n",
      "  170 172 172 173 175 176 176 176 177 177 180 181 181 183 184 185 186 187\n",
      "  188 190 191 191 192 192 193 194 194 194 196 198 201 201 205 206 208 208\n",
      "  208 209 209 210 212 212 214 215 216 218 219 219 219 219 220 221 222 223\n",
      "  223 224 225 226 228 229 229 231 232 232 232 236 236 237 238 239 240 242\n",
      "  243 248 248 248 249 250 251 251 253 254 254 256 258 259 259 260 267 268\n",
      "  276 276 279 279 280 280 282 282 283 283 287 288 290 290 291 292 293 295\n",
      "  296 297 297 297 297 297 298 298 299 300 300 303 305 307 307 308 311 313\n",
      "  315 317 317 317 318 318 321 322 323 324 325 325 326 326 327 328 328 330\n",
      "  332 332 333 336 336 336 337 337 337 339 342 344 345 345 345 351 351 351\n",
      "  351 352 352 357 358 358 361 362 363 365 365 365 365 366 367 367 368 369\n",
      "  372 374 378 379 380 387 389 389 389 391 393 393 393 394 394 394 395 395\n",
      "  395 395 396 396 397 397 399 400 400 404 404 405 406 408 409 410 410 413\n",
      "  414 415 416 418 420 420 421 421 422 422 422 423 424 424 424 426 427 427\n",
      "  428 428 428 429 429 430 430 431 432 433 433 433 434 435 435 435 436 438\n",
      "  438 438 441 442 442 443 445 446 447 447 447 449 450 450 452 453 453 453\n",
      "  454 454 454 455 460 460 460 461 461 461 462 463 463 467 469 472 473 474\n",
      "  476 476 478 480 480 480 481 482 484 484 484 485 485 486 486 487 487 488\n",
      "  489 490 491 491 491 492 493 496 496 497 497 499 500 500 502 504 506 507\n",
      "  507 507 509 510 512 513 514 517 518 518 520 520 522 522 522 522 523 526\n",
      "  528 530 531 534 534 534 535 537 537 537 538 540 540 541 543 544 545 545\n",
      "  545 546 547 547 548 548 548 549 549 549 553 554 555 557 557 561 561 564\n",
      "  565 566 567 567 568 569 572 573 573 573 573 579 579 580 580 581 581 581\n",
      "  582 582 585 585 585 587 587 589 589 595 596 596 597 598 599 600 605 606\n",
      "  606 608 609 609 611 611 612 613 614 615 616 616 617 618 619 619 620 620\n",
      "  621 622 622 623 624 626 628 629 629 632 632 633 634 635 636 637 637 639\n",
      "  642 643 646 646 647 648 649 650 652 652 653 653 654 654 655 657 658 659\n",
      "  659 661 663 663 664 667 668 669 669 671 673 674 676 676 677 677 677 677\n",
      "  678 678 680 680 681 681 681 682 682 682 682 683 683 684 685 685 687 689\n",
      "  690 690 690 691 692 693 694 694 694 694 695 697 698 701 703 703 703 705\n",
      "  707 708 708 711 711 711 711 714 719 720 721 721 722 722 722 723 728 728\n",
      "  730 735 735 735 736 737 738 738 739 740 741 741 742 744 746 747 748 748\n",
      "  748 749 749 750 750 751 751 754 755 755 755 757 757 757 759 760 761 762\n",
      "  763 763 767 768 770 771 771 772 772 772 773 773 774 778 779 779 780 781\n",
      "  782 783 783 784 785 785 786 786 787 790 790 792 793 793 794 795 797 797\n",
      "  799 800 801 802 802 803 804 805 805 805 805 808 809 810 810 812 812 813\n",
      "  815 815 815 816 817 818 818 818 822 823 825 831 833 834 834 836 837 838\n",
      "  838 839 839 840 840 842 843 844 844 846 846 847 850 850 853 854 856 857\n",
      "  858 859 859 859 859 861 861 861 862 862 865 866 867 867 868 868 869 870\n",
      "  870 872 872 874 874 876 877 877 878 882 884 884 889 889 890 890 891 892\n",
      "  892 895 897 897 899 899 900 900 901 901 902 902 903 903 903 904 905 905\n",
      "  906 906 907 907 908 909 910 911 911 911 912 912 914 914 918 918 919 920\n",
      "  921 921 921 921 925 927 928 928 929 930 932 933 934 934 934 935 936 937\n",
      "  938 938 939 941 942 943 946 948 949 950 950 951 951 954 955 956 956 957\n",
      "  958 959 959 960 960 960 961 962 964 967 968 971 971 971 972 972 975 975\n",
      "  977 978 978 979 979 980 981 981 981 981 981 983 984 984 987 987 988 989\n",
      "  990 990 990 991 992 993 993 993 994 997]]\n",
      "993\n"
     ]
    }
   ],
   "source": [
    "# 17\n",
    "largeArray = np.random.randint(1,1000,(1,1000))\n",
    "sortedLargeArray = np.sort(largeArray)\n",
    "print(sortedLargeArray)\n",
    "print(sortedLargeArray[0,-5])"
   ]
  },
  {
   "cell_type": "code",
   "execution_count": 169,
   "id": "2c29630e",
   "metadata": {},
   "outputs": [
    {
     "name": "stdout",
     "output_type": "stream",
     "text": [
      "[[4 9 9]\n",
      " [7 9 8]\n",
      " [9 9 9]\n",
      " [9 9 4]\n",
      " [9 8 4]]\n"
     ]
    }
   ],
   "source": [
    "#18\n",
    "threeByFiveArray = np.random.randint(1,10,(5,3))\n",
    "threeByFiveArrayConditional = np.where(threeByFiveArray<4,threeByFiveArray**2,threeByFiveArray)\n",
    "print(threeByFiveArrayConditional)"
   ]
  }
 ],
 "metadata": {
  "kernelspec": {
   "display_name": "Python 3 (ipykernel)",
   "language": "python",
   "name": "python3"
  },
  "language_info": {
   "codemirror_mode": {
    "name": "ipython",
    "version": 3
   },
   "file_extension": ".py",
   "mimetype": "text/x-python",
   "name": "python",
   "nbconvert_exporter": "python",
   "pygments_lexer": "ipython3",
   "version": "3.8.8"
  }
 },
 "nbformat": 4,
 "nbformat_minor": 5
}
