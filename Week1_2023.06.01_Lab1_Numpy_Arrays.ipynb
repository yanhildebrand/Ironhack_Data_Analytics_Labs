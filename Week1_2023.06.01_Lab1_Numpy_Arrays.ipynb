{
 "cells": [
  {
   "cell_type": "code",
   "execution_count": null,
   "id": "7284e6f0",
   "metadata": {},
   "outputs": [],
   "source": [
    "#1\n",
    "import numpy as np"
   ]
  },
  {
   "cell_type": "code",
   "execution_count": null,
   "id": "be19be17",
   "metadata": {},
   "outputs": [],
   "source": [
    "#2\n",
    "zerosArray = np.zeros(10)\n",
    "print(*zerosArray)"
   ]
  },
  {
   "cell_type": "code",
   "execution_count": null,
   "id": "1952a30d",
   "metadata": {},
   "outputs": [],
   "source": [
    "#3\n",
    "zerosArrayWithOne = np.zeros(10)\n",
    "zerosArrayWithOne[9] = 1\n",
    "print(*zerosArrayWithOne)"
   ]
  },
  {
   "cell_type": "code",
   "execution_count": null,
   "id": "7bde0efd",
   "metadata": {},
   "outputs": [],
   "source": [
    "#4\n",
    "tenToFortynineArray = np.arange(10,50)\n",
    "print(*tenToFortynineArray)"
   ]
  },
  {
   "cell_type": "code",
   "execution_count": null,
   "id": "88402beb",
   "metadata": {},
   "outputs": [],
   "source": [
    "#5\n",
    "rangeZeroNine = np.arange(0,9)\n",
    "ThreeByThree = rangeZeroNine.reshape(3,3)\n",
    "print(ThreeByThree)"
   ]
  },
  {
   "cell_type": "code",
   "execution_count": null,
   "id": "613c3e09",
   "metadata": {},
   "outputs": [],
   "source": [
    "#6\n",
    "# boolean filtering\n",
    "array1=np.array([1,2,0,0,4,0])\n",
    "array1NoZerosBoolean = (array1 != 0)\n",
    "array1NoZeros = array1[array1Boolean]\n",
    "print(array1NoZeros)\n",
    "# nonzero ***\n",
    "array1NoZeros = np.nonzero(array1)\n",
    "print(array1NoZeros)"
   ]
  },
  {
   "cell_type": "code",
   "execution_count": null,
   "id": "c5877234",
   "metadata": {},
   "outputs": [],
   "source": [
    "#7\n",
    "ThreeByThreeIdentityMatrix = np.eye(3,3)\n",
    "print(ThreeByThreeIdentityMatrix)"
   ]
  },
  {
   "cell_type": "code",
   "execution_count": null,
   "id": "afeaf46b",
   "metadata": {},
   "outputs": [],
   "source": [
    "#8\n",
    "ThreeByThreeByThree = np.random.random((3,3))\n",
    "print(ThreeByThreeByThree)"
   ]
  },
  {
   "cell_type": "code",
   "execution_count": null,
   "id": "f8cd95aa",
   "metadata": {},
   "outputs": [],
   "source": [
    "#9\n",
    "TenByTen = np.random.random((10,10))\n",
    "minNumber = TenByTen.min()\n",
    "maxNumber = TenByTen.max()\n",
    "print(minNumber)\n",
    "print(maxNumber)"
   ]
  },
  {
   "cell_type": "code",
   "execution_count": null,
   "id": "2b1e5bd1",
   "metadata": {},
   "outputs": [],
   "source": [
    "#10\n",
    "RandomVectorThirty = np.random.random((30))\n",
    "meanVectorThirty = RandomVectorThirty.mean()\n",
    "print(meanVectorThirty)"
   ]
  },
  {
   "cell_type": "code",
   "execution_count": null,
   "id": "769903de",
   "metadata": {},
   "outputs": [],
   "source": [
    "#11\n",
    "arrayFive = np.arange(1,5)\n",
    "arrayFiveDiagonal = np.diag(arrayFive)\n",
    "print(arrayFiveDiagonal)"
   ]
  },
  {
   "cell_type": "code",
   "execution_count": null,
   "id": "15a57bdc",
   "metadata": {},
   "outputs": [],
   "source": [
    "#12\n",
    "fiveByFive = np.random.random((5,5))\n",
    "normFiveByFive = ((fiveByFive)-(np.mean(fiveByFive)))/((np.std(fiveByFive)))\n",
    "print(normFiveByFive)"
   ]
  },
  {
   "cell_type": "code",
   "execution_count": null,
   "id": "3f23b948",
   "metadata": {},
   "outputs": [],
   "source": [
    "#13\n",
    "array2_1 = np.random.randint(0,10,10)\n",
    "array2_2 = np.random.randint(0,10,10)\n",
    "array1And2Intersection = np.intersect1d(array2_1,array2_2)\n",
    "print(array1And2Intersection)"
   ]
  },
  {
   "cell_type": "code",
   "execution_count": null,
   "id": "1ef53adf",
   "metadata": {},
   "outputs": [],
   "source": [
    "#14\n",
    "randomArrayTen1 = np.random.random((10))\n",
    "randomArrayTen1Sorted = np.sort(randomArrayTen1)\n",
    "print(randomArrayTen1Sorted)"
   ]
  },
  {
   "cell_type": "code",
   "execution_count": null,
   "id": "27750bdb",
   "metadata": {},
   "outputs": [],
   "source": [
    "#15\n",
    "randomArrayTen2 = np.random.random((10))\n",
    "randomArrayTen[np.argmax(randomArrayTen)] = 0\n",
    "print(randomArrayTen)"
   ]
  },
  {
   "cell_type": "code",
   "execution_count": 132,
   "id": "401843cb",
   "metadata": {},
   "outputs": [],
   "source": [
    "#16\n",
    "randomThreeByThree = np.random.randint(0,10,(3,3))\n",
    "print(randomThreeByThree)\n",
    "meansByRow = np.mean(randomThreeByThree, axis=1)\n",
    "print(meansByRow)\n",
    "stackedMeans = np.vstack((meansByRow, meansByRow, meansByRow))\n",
    "print(stackedMeans)\n",
    "stackedMeansT = stackedMeans.T\n",
    "print(stackedMeansT)\n",
    "print(randomThreeByThree - stackedMeansT)"
   ]
  },
  {
   "cell_type": "code",
   "execution_count": 133,
   "id": "ba94a2b7",
   "metadata": {},
   "outputs": [],
   "source": [
    "#17\n"
   ]
  },
  {
   "cell_type": "code",
   "execution_count": null,
   "id": "3451e012",
   "metadata": {},
   "outputs": [],
   "source": [
    "#18"
   ]
  }
 ],
 "metadata": {
  "kernelspec": {
   "display_name": "Python 3 (ipykernel)",
   "language": "python",
   "name": "python3"
  },
  "language_info": {
   "codemirror_mode": {
    "name": "ipython",
    "version": 3
   },
   "file_extension": ".py",
   "mimetype": "text/x-python",
   "name": "python",
   "nbconvert_exporter": "python",
   "pygments_lexer": "ipython3",
   "version": "3.8.8"
  }
 },
 "nbformat": 4,
 "nbformat_minor": 5
}
