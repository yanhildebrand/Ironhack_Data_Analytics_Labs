{
 "cells": [
  {
   "cell_type": "code",
   "execution_count": 134,
   "id": "fd5bb87f",
   "metadata": {},
   "outputs": [],
   "source": [
    "#1\n",
    "import numpy as np"
   ]
  },
  {
   "cell_type": "code",
   "execution_count": 135,
   "id": "6bcfeacd",
   "metadata": {},
   "outputs": [
    {
     "name": "stdout",
     "output_type": "stream",
     "text": [
      "0.0 0.0 0.0 0.0 0.0 0.0 0.0 0.0 0.0 0.0\n"
     ]
    }
   ],
   "source": [
    "#2\n",
    "zerosArray = np.zeros(10)\n",
    "print(*zerosArray)"
   ]
  },
  {
   "cell_type": "code",
   "execution_count": 136,
   "id": "ef99a47a",
   "metadata": {},
   "outputs": [
    {
     "name": "stdout",
     "output_type": "stream",
     "text": [
      "0.0 0.0 0.0 0.0 0.0 0.0 0.0 0.0 0.0 1.0\n"
     ]
    }
   ],
   "source": [
    "#3\n",
    "zerosArrayWithOne = np.zeros(10)\n",
    "zerosArrayWithOne[9] = 1\n",
    "print(*zerosArrayWithOne)"
   ]
  },
  {
   "cell_type": "code",
   "execution_count": 137,
   "id": "bed703a7",
   "metadata": {},
   "outputs": [
    {
     "name": "stdout",
     "output_type": "stream",
     "text": [
      "10 11 12 13 14 15 16 17 18 19 20 21 22 23 24 25 26 27 28 29 30 31 32 33 34 35 36 37 38 39 40 41 42 43 44 45 46 47 48 49\n"
     ]
    }
   ],
   "source": [
    "#4\n",
    "tenToFortynineArray = np.arange(10,50)\n",
    "print(*tenToFortynineArray)"
   ]
  },
  {
   "cell_type": "code",
   "execution_count": 138,
   "id": "886345f8",
   "metadata": {},
   "outputs": [
    {
     "name": "stdout",
     "output_type": "stream",
     "text": [
      "[[0 1 2]\n",
      " [3 4 5]\n",
      " [6 7 8]]\n"
     ]
    }
   ],
   "source": [
    "#5\n",
    "rangeZeroNine = np.arange(0,9)\n",
    "ThreeByThree = rangeZeroNine.reshape(3,3)\n",
    "print(ThreeByThree)"
   ]
  },
  {
   "cell_type": "code",
   "execution_count": 171,
   "id": "5cdfc4b8",
   "metadata": {},
   "outputs": [
    {
     "name": "stdout",
     "output_type": "stream",
     "text": [
      "[1 2 4]\n",
      "[1 2 4]\n"
     ]
    }
   ],
   "source": [
    "#6\n",
    "# boolean filtering\n",
    "array1=np.array([1,2,0,0,4,0])\n",
    "array1NoZerosBoolean = (array1 != 0)\n",
    "array1NoZeros = array1[array1Boolean]\n",
    "print(array1NoZeros)\n",
    "# nonzero ***\n",
    "array1NoZeros = np.nonzero(array1)\n",
    "print(array1[array1NoZeros])"
   ]
  },
  {
   "cell_type": "code",
   "execution_count": 140,
   "id": "ba2760f8",
   "metadata": {},
   "outputs": [
    {
     "name": "stdout",
     "output_type": "stream",
     "text": [
      "[[1. 0. 0.]\n",
      " [0. 1. 0.]\n",
      " [0. 0. 1.]]\n"
     ]
    }
   ],
   "source": [
    "#7\n",
    "ThreeByThreeIdentityMatrix = np.eye(3,3)\n",
    "print(ThreeByThreeIdentityMatrix)"
   ]
  },
  {
   "cell_type": "code",
   "execution_count": 170,
   "id": "c5454e3a",
   "metadata": {},
   "outputs": [
    {
     "name": "stdout",
     "output_type": "stream",
     "text": [
      "[[[0.47739229 0.39314821 0.37583092]\n",
      "  [0.27161299 0.14358299 0.29819898]\n",
      "  [0.75095396 0.64320303 0.13562584]]\n",
      "\n",
      " [[0.58423789 0.54431434 0.99220165]\n",
      "  [0.98474091 0.89716945 0.32313859]\n",
      "  [0.07810268 0.66804202 0.03958686]]\n",
      "\n",
      " [[0.31330283 0.19262647 0.03701916]\n",
      "  [0.3092953  0.99175298 0.41925115]\n",
      "  [0.17134942 0.88402019 0.41951231]]]\n"
     ]
    }
   ],
   "source": [
    "#8\n",
    "ThreeByThreeByThree = np.random.random((3,3,3))\n",
    "print(ThreeByThreeByThree)"
   ]
  },
  {
   "cell_type": "code",
   "execution_count": 142,
   "id": "3ec447be",
   "metadata": {},
   "outputs": [
    {
     "name": "stdout",
     "output_type": "stream",
     "text": [
      "0.0043778737631485765\n",
      "0.9976685118486582\n"
     ]
    }
   ],
   "source": [
    "#9\n",
    "TenByTen = np.random.random((10,10))\n",
    "minNumber = TenByTen.min()\n",
    "maxNumber = TenByTen.max()\n",
    "print(minNumber)\n",
    "print(maxNumber)"
   ]
  },
  {
   "cell_type": "code",
   "execution_count": 143,
   "id": "bd9b93f7",
   "metadata": {},
   "outputs": [
    {
     "name": "stdout",
     "output_type": "stream",
     "text": [
      "0.43318502972256623\n"
     ]
    }
   ],
   "source": [
    "#10\n",
    "RandomVectorThirty = np.random.random((30))\n",
    "meanVectorThirty = RandomVectorThirty.mean()\n",
    "print(meanVectorThirty)"
   ]
  },
  {
   "cell_type": "code",
   "execution_count": 144,
   "id": "bf354de4",
   "metadata": {},
   "outputs": [
    {
     "name": "stdout",
     "output_type": "stream",
     "text": [
      "[[1 0 0 0]\n",
      " [0 2 0 0]\n",
      " [0 0 3 0]\n",
      " [0 0 0 4]]\n"
     ]
    }
   ],
   "source": [
    "#11\n",
    "arrayFive = np.arange(1,5)\n",
    "arrayFiveDiagonal = np.diag(arrayFive)\n",
    "print(arrayFiveDiagonal)"
   ]
  },
  {
   "cell_type": "code",
   "execution_count": 145,
   "id": "9851ecc8",
   "metadata": {},
   "outputs": [
    {
     "name": "stdout",
     "output_type": "stream",
     "text": [
      "[[ 0.01530485  0.72835145 -0.89761357 -1.26060541  0.29118235]\n",
      " [-0.11614915 -0.76091671 -1.37813851  1.38804501 -0.67162254]\n",
      " [ 1.53787049 -0.85531974 -0.82450746  1.79163725 -0.1581043 ]\n",
      " [-1.72524776  1.16450311 -0.71785225 -0.10425182  0.079891  ]\n",
      " [ 1.49716617  0.9983882  -1.11623615  0.26363826  0.83058723]]\n"
     ]
    }
   ],
   "source": [
    "#12\n",
    "fiveByFive = np.random.random((5,5))\n",
    "normFiveByFive = ((fiveByFive)-(np.mean(fiveByFive)))/((np.std(fiveByFive)))\n",
    "print(normFiveByFive)"
   ]
  },
  {
   "cell_type": "code",
   "execution_count": 146,
   "id": "cf5bbada",
   "metadata": {},
   "outputs": [
    {
     "name": "stdout",
     "output_type": "stream",
     "text": [
      "[3 5 7 8 9]\n"
     ]
    }
   ],
   "source": [
    "#13\n",
    "array2_1 = np.random.randint(0,10,10)\n",
    "array2_2 = np.random.randint(0,10,10)\n",
    "array1And2Intersection = np.intersect1d(array2_1,array2_2)\n",
    "print(array1And2Intersection)"
   ]
  },
  {
   "cell_type": "code",
   "execution_count": 147,
   "id": "4b19bd4b",
   "metadata": {},
   "outputs": [
    {
     "name": "stdout",
     "output_type": "stream",
     "text": [
      "[0.03693188 0.2299535  0.44392476 0.45331651 0.51870428 0.59585959\n",
      " 0.64240626 0.78945955 0.81829581 0.90747447]\n"
     ]
    }
   ],
   "source": [
    "#14\n",
    "randomArrayTen1 = np.random.random((10))\n",
    "randomArrayTen1Sorted = np.sort(randomArrayTen1)\n",
    "print(randomArrayTen1Sorted)"
   ]
  },
  {
   "cell_type": "code",
   "execution_count": 177,
   "id": "ee3901ab",
   "metadata": {},
   "outputs": [
    {
     "name": "stdout",
     "output_type": "stream",
     "text": [
      "index of max value 6\n",
      "[0.39030379 0.71037632 0.12080084 0.18937814 0.34463382 0.43810367\n",
      " 0.         0.36696175 0.84942067 0.58853105]\n"
     ]
    }
   ],
   "source": [
    "#15\n",
    "randomArrayTen2 = np.random.random((10))\n",
    "print(\"index of max value \" + str(np.argmax(randomArrayTen2)))\n",
    "randomArrayTen2[np.argmax(randomArrayTen2)] = 0\n",
    "print(randomArrayTen2)"
   ]
  },
  {
   "cell_type": "code",
   "execution_count": 181,
   "id": "2d639bde",
   "metadata": {},
   "outputs": [
    {
     "name": "stdout",
     "output_type": "stream",
     "text": [
      "[[8 3 2]\n",
      " [1 7 1]\n",
      " [1 7 3]]\n",
      "[[4.33333333]\n",
      " [3.        ]\n",
      " [3.66666667]]\n",
      "[[ 3.66666667 -1.33333333 -2.33333333]\n",
      " [-2.          4.         -2.        ]\n",
      " [-2.66666667  3.33333333 -0.66666667]]\n"
     ]
    }
   ],
   "source": [
    "#16\n",
    "randomThreeByThree = np.random.randint(0,10,(3,3))\n",
    "print(randomThreeByThree)\n",
    "meansByRow = np.mean(randomThreeByThree, keepdims=True, axis=1)\n",
    "print(meansByRow)\n",
    "#stackedMeans = np.vstack((meansByRow, meansByRow, meansByRow))\n",
    "#print(stackedMeans)\n",
    "#stackedMeansT = stackedMeans.T\n",
    "#print(stackedMeansT)\n",
    "print(randomThreeByThree - meansByRow)"
   ]
  },
  {
   "cell_type": "code",
   "execution_count": 185,
   "id": "23cbb1a9",
   "metadata": {},
   "outputs": [
    {
     "name": "stdout",
     "output_type": "stream",
     "text": [
      "995\n",
      "[995 995 995 997 999]\n"
     ]
    }
   ],
   "source": [
    "# 17\n",
    "largeArray = np.random.randint(1,1000,(1,1000))\n",
    "sortedLargeArray = np.sort(largeArray)\n",
    "#print(sortedLargeArray)\n",
    "print(sortedLargeArray[0,-5])\n",
    "print(sortedLargeArray[0,-5:])"
   ]
  },
  {
   "cell_type": "code",
   "execution_count": 186,
   "id": "2d821549",
   "metadata": {},
   "outputs": [
    {
     "name": "stdout",
     "output_type": "stream",
     "text": [
      "[[3 9 4]\n",
      " [3 4 3]\n",
      " [5 4 8]\n",
      " [6 9 3]\n",
      " [9 6 6]]\n",
      "[[ 3 81  4]\n",
      " [ 3  4  3]\n",
      " [25  4 64]\n",
      " [36 81  3]\n",
      " [81 36 36]]\n"
     ]
    }
   ],
   "source": [
    "#18\n",
    "threeByFiveArray = np.random.randint(1,10,(5,3))\n",
    "print(threeByFiveArray)\n",
    "threeByFiveArrayConditional = np.where(threeByFiveArray>4,threeByFiveArray**2,threeByFiveArray)\n",
    "print(threeByFiveArrayConditional)"
   ]
  }
 ],
 "metadata": {
  "kernelspec": {
   "display_name": "Python 3 (ipykernel)",
   "language": "python",
   "name": "python3"
  },
  "language_info": {
   "codemirror_mode": {
    "name": "ipython",
    "version": 3
   },
   "file_extension": ".py",
   "mimetype": "text/x-python",
   "name": "python",
   "nbconvert_exporter": "python",
   "pygments_lexer": "ipython3",
   "version": "3.8.8"
  }
 },
 "nbformat": 4,
 "nbformat_minor": 5
}
