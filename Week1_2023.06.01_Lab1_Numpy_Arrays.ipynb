{
 "cells": [
  {
   "cell_type": "code",
   "execution_count": 134,
   "id": "f1409a02",
   "metadata": {},
   "outputs": [],
   "source": [
    "#1\n",
    "import numpy as np"
   ]
  },
  {
   "cell_type": "code",
   "execution_count": 135,
   "id": "5c86ffcf",
   "metadata": {},
   "outputs": [
    {
     "name": "stdout",
     "output_type": "stream",
     "text": [
      "0.0 0.0 0.0 0.0 0.0 0.0 0.0 0.0 0.0 0.0\n"
     ]
    }
   ],
   "source": [
    "#2\n",
    "zerosArray = np.zeros(10)\n",
    "print(*zerosArray)"
   ]
  },
  {
   "cell_type": "code",
   "execution_count": 136,
   "id": "6e1704ce",
   "metadata": {},
   "outputs": [
    {
     "name": "stdout",
     "output_type": "stream",
     "text": [
      "0.0 0.0 0.0 0.0 0.0 0.0 0.0 0.0 0.0 1.0\n"
     ]
    }
   ],
   "source": [
    "#3\n",
    "zerosArrayWithOne = np.zeros(10)\n",
    "zerosArrayWithOne[9] = 1\n",
    "print(*zerosArrayWithOne)"
   ]
  },
  {
   "cell_type": "code",
   "execution_count": 137,
   "id": "437f5389",
   "metadata": {},
   "outputs": [
    {
     "name": "stdout",
     "output_type": "stream",
     "text": [
      "10 11 12 13 14 15 16 17 18 19 20 21 22 23 24 25 26 27 28 29 30 31 32 33 34 35 36 37 38 39 40 41 42 43 44 45 46 47 48 49\n"
     ]
    }
   ],
   "source": [
    "#4\n",
    "tenToFortynineArray = np.arange(10,50)\n",
    "print(*tenToFortynineArray)"
   ]
  },
  {
   "cell_type": "code",
   "execution_count": 138,
   "id": "1bf8e8ff",
   "metadata": {},
   "outputs": [
    {
     "name": "stdout",
     "output_type": "stream",
     "text": [
      "[[0 1 2]\n",
      " [3 4 5]\n",
      " [6 7 8]]\n"
     ]
    }
   ],
   "source": [
    "#5\n",
    "rangeZeroNine = np.arange(0,9)\n",
    "ThreeByThree = rangeZeroNine.reshape(3,3)\n",
    "print(ThreeByThree)"
   ]
  },
  {
   "cell_type": "code",
   "execution_count": 139,
   "id": "92709d87",
   "metadata": {},
   "outputs": [
    {
     "name": "stdout",
     "output_type": "stream",
     "text": [
      "[1 2 4]\n",
      "(array([0, 1, 4], dtype=int64),)\n"
     ]
    }
   ],
   "source": [
    "#6\n",
    "# boolean filtering\n",
    "array1=np.array([1,2,0,0,4,0])\n",
    "array1NoZerosBoolean = (array1 != 0)\n",
    "array1NoZeros = array1[array1Boolean]\n",
    "print(array1NoZeros)\n",
    "# nonzero ***\n",
    "array1NoZeros = np.nonzero(array1)\n",
    "print(array1NoZeros)"
   ]
  },
  {
   "cell_type": "code",
   "execution_count": 140,
   "id": "5c66234f",
   "metadata": {},
   "outputs": [
    {
     "name": "stdout",
     "output_type": "stream",
     "text": [
      "[[1. 0. 0.]\n",
      " [0. 1. 0.]\n",
      " [0. 0. 1.]]\n"
     ]
    }
   ],
   "source": [
    "#7\n",
    "ThreeByThreeIdentityMatrix = np.eye(3,3)\n",
    "print(ThreeByThreeIdentityMatrix)"
   ]
  },
  {
   "cell_type": "code",
   "execution_count": 141,
   "id": "8923d63e",
   "metadata": {},
   "outputs": [
    {
     "name": "stdout",
     "output_type": "stream",
     "text": [
      "[[0.73238944 0.2691294  0.29744819]\n",
      " [0.40839597 0.40576925 0.81881512]\n",
      " [0.16061479 0.08308057 0.02445712]]\n"
     ]
    }
   ],
   "source": [
    "#8\n",
    "ThreeByThreeByThree = np.random.random((3,3))\n",
    "print(ThreeByThreeByThree)"
   ]
  },
  {
   "cell_type": "code",
   "execution_count": 142,
   "id": "573f429a",
   "metadata": {},
   "outputs": [
    {
     "name": "stdout",
     "output_type": "stream",
     "text": [
      "0.0043778737631485765\n",
      "0.9976685118486582\n"
     ]
    }
   ],
   "source": [
    "#9\n",
    "TenByTen = np.random.random((10,10))\n",
    "minNumber = TenByTen.min()\n",
    "maxNumber = TenByTen.max()\n",
    "print(minNumber)\n",
    "print(maxNumber)"
   ]
  },
  {
   "cell_type": "code",
   "execution_count": 143,
   "id": "cc1d6758",
   "metadata": {},
   "outputs": [
    {
     "name": "stdout",
     "output_type": "stream",
     "text": [
      "0.43318502972256623\n"
     ]
    }
   ],
   "source": [
    "#10\n",
    "RandomVectorThirty = np.random.random((30))\n",
    "meanVectorThirty = RandomVectorThirty.mean()\n",
    "print(meanVectorThirty)"
   ]
  },
  {
   "cell_type": "code",
   "execution_count": 144,
   "id": "dda0b134",
   "metadata": {},
   "outputs": [
    {
     "name": "stdout",
     "output_type": "stream",
     "text": [
      "[[1 0 0 0]\n",
      " [0 2 0 0]\n",
      " [0 0 3 0]\n",
      " [0 0 0 4]]\n"
     ]
    }
   ],
   "source": [
    "#11\n",
    "arrayFive = np.arange(1,5)\n",
    "arrayFiveDiagonal = np.diag(arrayFive)\n",
    "print(arrayFiveDiagonal)"
   ]
  },
  {
   "cell_type": "code",
   "execution_count": 145,
   "id": "b4861a86",
   "metadata": {},
   "outputs": [
    {
     "name": "stdout",
     "output_type": "stream",
     "text": [
      "[[ 0.01530485  0.72835145 -0.89761357 -1.26060541  0.29118235]\n",
      " [-0.11614915 -0.76091671 -1.37813851  1.38804501 -0.67162254]\n",
      " [ 1.53787049 -0.85531974 -0.82450746  1.79163725 -0.1581043 ]\n",
      " [-1.72524776  1.16450311 -0.71785225 -0.10425182  0.079891  ]\n",
      " [ 1.49716617  0.9983882  -1.11623615  0.26363826  0.83058723]]\n"
     ]
    }
   ],
   "source": [
    "#12\n",
    "fiveByFive = np.random.random((5,5))\n",
    "normFiveByFive = ((fiveByFive)-(np.mean(fiveByFive)))/((np.std(fiveByFive)))\n",
    "print(normFiveByFive)"
   ]
  },
  {
   "cell_type": "code",
   "execution_count": 146,
   "id": "cef60d09",
   "metadata": {},
   "outputs": [
    {
     "name": "stdout",
     "output_type": "stream",
     "text": [
      "[3 5 7 8 9]\n"
     ]
    }
   ],
   "source": [
    "#13\n",
    "array2_1 = np.random.randint(0,10,10)\n",
    "array2_2 = np.random.randint(0,10,10)\n",
    "array1And2Intersection = np.intersect1d(array2_1,array2_2)\n",
    "print(array1And2Intersection)"
   ]
  },
  {
   "cell_type": "code",
   "execution_count": 147,
   "id": "af3c3fdd",
   "metadata": {},
   "outputs": [
    {
     "name": "stdout",
     "output_type": "stream",
     "text": [
      "[0.03693188 0.2299535  0.44392476 0.45331651 0.51870428 0.59585959\n",
      " 0.64240626 0.78945955 0.81829581 0.90747447]\n"
     ]
    }
   ],
   "source": [
    "#14\n",
    "randomArrayTen1 = np.random.random((10))\n",
    "randomArrayTen1Sorted = np.sort(randomArrayTen1)\n",
    "print(randomArrayTen1Sorted)"
   ]
  },
  {
   "cell_type": "code",
   "execution_count": 148,
   "id": "6b06f49c",
   "metadata": {},
   "outputs": [
    {
     "name": "stdout",
     "output_type": "stream",
     "text": [
      "[0. 0. 0. 0. 0. 0. 0. 0. 0. 0.]\n"
     ]
    }
   ],
   "source": [
    "#15\n",
    "randomArrayTen2 = np.random.random((10))\n",
    "randomArrayTen[np.argmax(randomArrayTen)] = 0\n",
    "print(randomArrayTen)"
   ]
  },
  {
   "cell_type": "code",
   "execution_count": 149,
   "id": "67a49b41",
   "metadata": {},
   "outputs": [
    {
     "name": "stdout",
     "output_type": "stream",
     "text": [
      "[[1 6 8]\n",
      " [1 3 5]\n",
      " [2 8 2]]\n",
      "[5. 3. 4.]\n",
      "[[5. 3. 4.]\n",
      " [5. 3. 4.]\n",
      " [5. 3. 4.]]\n",
      "[[5. 5. 5.]\n",
      " [3. 3. 3.]\n",
      " [4. 4. 4.]]\n",
      "[[-4.  1.  3.]\n",
      " [-2.  0.  2.]\n",
      " [-2.  4. -2.]]\n"
     ]
    }
   ],
   "source": [
    "#16\n",
    "randomThreeByThree = np.random.randint(0,10,(3,3))\n",
    "print(randomThreeByThree)\n",
    "meansByRow = np.mean(randomThreeByThree, axis=1)\n",
    "print(meansByRow)\n",
    "stackedMeans = np.vstack((meansByRow, meansByRow, meansByRow))\n",
    "print(stackedMeans)\n",
    "stackedMeansT = stackedMeans.T\n",
    "print(stackedMeansT)\n",
    "print(randomThreeByThree - stackedMeansT)"
   ]
  },
  {
   "cell_type": "code",
   "execution_count": 133,
   "id": "3f24acc4",
   "metadata": {},
   "outputs": [],
   "source": [
    "#17\n"
   ]
  },
  {
   "cell_type": "code",
   "execution_count": null,
   "id": "bbc25242",
   "metadata": {},
   "outputs": [],
   "source": [
    "#18"
   ]
  }
 ],
 "metadata": {
  "kernelspec": {
   "display_name": "Python 3 (ipykernel)",
   "language": "python",
   "name": "python3"
  },
  "language_info": {
   "codemirror_mode": {
    "name": "ipython",
    "version": 3
   },
   "file_extension": ".py",
   "mimetype": "text/x-python",
   "name": "python",
   "nbconvert_exporter": "python",
   "pygments_lexer": "ipython3",
   "version": "3.8.8"
  }
 },
 "nbformat": 4,
 "nbformat_minor": 5
}
