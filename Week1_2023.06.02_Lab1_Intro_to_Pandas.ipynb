{
 "cells": [
  {
   "cell_type": "markdown",
   "id": "25d7736c-ba17-4aff-b6bb-66eba20fbf4e",
   "metadata": {},
   "source": [
    "# Lab | Pandas"
   ]
  },
  {
   "cell_type": "markdown",
   "id": "34ae7c66-9458-477c-8a31-c6b07a36bf66",
   "metadata": {},
   "source": [
    "Objective: practice how to use the pandas library in Python for data analysis and manipulation."
   ]
  },
  {
   "cell_type": "markdown",
   "id": "d1973e9e-8be6-4039-b70e-d73ee0d94c99",
   "metadata": {},
   "source": [
    "In this lab, we will be working with the customer data from an insurance company, which can be found in the CSV file located at the following link: https://raw.githubusercontent.com/data-bootcamp-v4/data/main/file1.csv\n",
    "\n",
    "The data includes information such as customer ID, state, gender, education, income, and other variables that can be used to perform various analyses.\n",
    "\n",
    "Throughout the lab, we will be using the pandas library in Python to manipulate and analyze the data. Pandas is a powerful library that provides various data manipulation and analysis tools, including the ability to load and manipulate data from a variety of sources, including CSV files."
   ]
  },
  {
   "cell_type": "markdown",
   "id": "8045146f-f4f7-44d9-8cd9-130d6400c73a",
   "metadata": {},
   "source": [
    "### Data Description\n",
    "\n",
    "- Customer - Customer ID\n",
    "\n",
    "- ST - State where customers live\n",
    "\n",
    "- Gender - Gender of the customer\n",
    "\n",
    "- Education - Background education of customers \n",
    "\n",
    "- Customer Lifetime Value - Customer lifetime value(CLV) is the total revenue the client will derive from their entire relationship with a customer. In other words, is the predicted or calculated value of a customer over their entire duration as a policyholder with the insurance company. It is an estimation of the net profit that the insurance company expects to generate from a customer throughout their relationship with the company. Customer Lifetime Value takes into account factors such as the duration of the customer's policy, premium payments, claim history, renewal likelihood, and potential additional services or products the customer may purchase. It helps insurers assess the long-term profitability and value associated with retaining a particular customer.\n",
    "\n",
    "- Income - Customers income\n",
    "\n",
    "- Monthly Premium Auto - Amount of money the customer pays on a monthly basis as a premium for their auto insurance coverage. It represents the recurring cost that the insured person must pay to maintain their insurance policy and receive coverage for potential damages, accidents, or other covered events related to their vehicle.\n",
    "\n",
    "- Number of Open Complaints - Number of complaints the customer opened\n",
    "\n",
    "- Policy Type - There are three type of policies in car insurance (Corporate Auto, Personal Auto, and Special Auto)\n",
    "\n",
    "- Vehicle Class - Type of vehicle classes that customers have Two-Door Car, Four-Door Car SUV, Luxury SUV, Sports Car, and Luxury Car\n",
    "\n",
    "- Total Claim Amount - the sum of all claims made by the customer. It represents the total monetary value of all approved claims for incidents such as accidents, theft, vandalism, or other covered events.\n"
   ]
  },
  {
   "cell_type": "markdown",
   "id": "3a72419b-20fc-4905-817a-8c83abc59de6",
   "metadata": {},
   "source": [
    "External Resources: https://towardsdatascience.com/filtering-data-frames-in-pandas-b570b1f834b9"
   ]
  },
  {
   "cell_type": "markdown",
   "id": "8f8ece17-e919-4e23-96c0-c7c59778436a",
   "metadata": {},
   "source": [
    "## Challenge 1: Understanding the data\n",
    "\n",
    "In this challenge, you will use pandas to explore a given dataset. Your task is to gain a deep understanding of the data by analyzing its characteristics, dimensions, and statistical properties."
   ]
  },
  {
   "cell_type": "markdown",
   "id": "91437bd5-59a6-49c0-8150-ef0e6e6eb253",
   "metadata": {},
   "source": [
    "- Identify the dimensions of the dataset by determining the number of rows and columns it contains.\n",
    "- Determine the data types of each column and evaluate whether they are appropriate for the nature of the variable. You should also provide suggestions for fixing any incorrect data types.\n",
    "- Identify the number of unique values for each column and determine which columns appear to be categorical. You should also describe the unique values of each categorical column and the range of values for numerical columns, and give your insights.\n",
    "- Compute summary statistics such as mean, median, mode, standard deviation, and quartiles to understand the central tendency and distribution of the data for numerical columns. You should also provide your conclusions based on these summary statistics.\n",
    "- Compute summary statistics for categorical columns and providing your conclusions based on these statistics."
   ]
  },
  {
   "cell_type": "code",
   "execution_count": 127,
   "id": "917f6ce8",
   "metadata": {},
   "outputs": [],
   "source": [
    "# Your code here\n",
    "import pandas as pd\n",
    "df = pd.read_csv(\"file1.csv\")"
   ]
  },
  {
   "cell_type": "code",
   "execution_count": 81,
   "id": "13e9bd3f",
   "metadata": {},
   "outputs": [
    {
     "name": "stdout",
     "output_type": "stream",
     "text": [
      "  Customer          ST GENDER Education Customer Lifetime Value  Income  \\\n",
      "0  RB50392  Washington    NaN    Master                     NaN     0.0   \n",
      "1  QZ44356     Arizona      F  Bachelor              697953.59%     0.0   \n",
      "\n",
      "   Monthly Premium Auto Number of Open Complaints    Policy Type  \\\n",
      "0                1000.0                    1/0/00  Personal Auto   \n",
      "1                  94.0                    1/0/00  Personal Auto   \n",
      "\n",
      "   Vehicle Class  Total Claim Amount  \n",
      "0  Four-Door Car            2.704934  \n",
      "1  Four-Door Car         1131.464935  \n"
     ]
    }
   ],
   "source": [
    "#print(df.head())\n",
    "print(df.iloc[:2,:])"
   ]
  },
  {
   "cell_type": "code",
   "execution_count": 82,
   "id": "059f58bb",
   "metadata": {},
   "outputs": [
    {
     "name": "stdout",
     "output_type": "stream",
     "text": [
      "Customer                      object\n",
      "ST                            object\n",
      "GENDER                        object\n",
      "Education                     object\n",
      "Customer Lifetime Value       object\n",
      "Income                       float64\n",
      "Monthly Premium Auto         float64\n",
      "Number of Open Complaints     object\n",
      "Policy Type                   object\n",
      "Vehicle Class                 object\n",
      "Total Claim Amount           float64\n",
      "dtype: object\n"
     ]
    }
   ],
   "source": [
    "#print(df.columns)\n",
    "print(df.dtypes)\n",
    "#print(df.shape)"
   ]
  },
  {
   "cell_type": "code",
   "execution_count": 128,
   "id": "3157fe73",
   "metadata": {},
   "outputs": [],
   "source": [
    "df['Customer'] = pd.Categorical(df.Customer)\n",
    "df['ST'] = pd.Categorical(df.ST)\n",
    "df['GENDER'] = pd.Categorical(df.GENDER)\n",
    "df['Education'] = pd.Categorical(df.Education)\n",
    "df['Policy Type'] = pd.Categorical(df[\"Policy Type\"])\n",
    "df['Vehicle Class'] = pd.Categorical(df[\"Vehicle Class\"])\n",
    "df['Number of Open Complaints'] = pd.Categorical(df[\"Number of Open Complaints\"])\n",
    "df['Customer Lifetime Value'] = df['Customer Lifetime Value'].str.replace(\"%\", \"\")\n",
    "df['Customer Lifetime Value'] = df['Customer Lifetime Value'].astype(dtype = 'float64')"
   ]
  },
  {
   "cell_type": "code",
   "execution_count": 75,
   "id": "c2edd8a7",
   "metadata": {},
   "outputs": [
    {
     "name": "stdout",
     "output_type": "stream",
     "text": [
      "Customer                       object\n",
      "ST                           category\n",
      "GENDER                       category\n",
      "Education                    category\n",
      "Customer Lifetime Value       float64\n",
      "Income                        float64\n",
      "Monthly Premium Auto          float64\n",
      "Number of Open Complaints      object\n",
      "Policy Type                  category\n",
      "Vehicle Class                category\n",
      "Total Claim Amount            float64\n",
      "dtype: object\n"
     ]
    }
   ],
   "source": [
    "print(df.dtypes)"
   ]
  },
  {
   "cell_type": "code",
   "execution_count": 76,
   "id": "c31f88a1",
   "metadata": {},
   "outputs": [
    {
     "name": "stdout",
     "output_type": "stream",
     "text": [
      "(4008, 11)\n"
     ]
    }
   ],
   "source": [
    "print(df.shape)"
   ]
  },
  {
   "cell_type": "code",
   "execution_count": 129,
   "id": "dd4e8cd8-a6f6-486c-a5c4-1745b0c035f4",
   "metadata": {},
   "outputs": [
    {
     "name": "stdout",
     "output_type": "stream",
     "text": [
      "there are 1072 unique values in the categorical Customer column\n",
      "there are 9 unique values in the categorical ST column\n",
      "there are 6 unique values in the categorical GENDER column\n",
      "there are 7 unique values in the categorical Education column\n",
      "the range of the Customer Lifetime Value column is 5616220.279999999\n",
      "the range of the Income column is 99960.0\n",
      "the range of the Monthly Premium Auto column is 35293.0\n",
      "there are 7 unique values in the categorical Number of Open Complaints column\n",
      "there are 4 unique values in the categorical Policy Type column\n",
      "there are 7 unique values in the categorical Vehicle Class column\n",
      "the range of the Total Claim Amount column is 2892.857571\n"
     ]
    }
   ],
   "source": [
    "# unique values per categorical column and ranges per float column\n",
    "for col in df:\n",
    "    if df[col].dtype.name == \"category\":\n",
    "        print(\"there are \" + str(df[col].unique().size) + \" unique values in the categorical \" + str(col) + \" column\")\n",
    "    if(df[col].dtype == 'float64'):\n",
    "        rangeValue = str(df[col].max() - df[col].min())\n",
    "        print(\"the range of the \" + str(col) + \" column is \" + str(rangeValue))"
   ]
  },
  {
   "cell_type": "code",
   "execution_count": 130,
   "id": "199576fb",
   "metadata": {},
   "outputs": [
    {
     "name": "stdout",
     "output_type": "stream",
     "text": [
      "count    1.068000e+03\n",
      "mean     7.936903e+05\n",
      "std      6.434784e+05\n",
      "min      2.004351e+05\n",
      "25%      4.034080e+05\n",
      "50%      5.881742e+05\n",
      "75%      8.962872e+05\n",
      "max      5.816655e+06\n",
      "Name: Customer Lifetime Value, dtype: float64\n",
      "count     1071.000000\n",
      "mean     39295.701214\n",
      "std      30469.427060\n",
      "min          0.000000\n",
      "25%      14072.000000\n",
      "50%      36234.000000\n",
      "75%      64631.000000\n",
      "max      99960.000000\n",
      "Name: Income, dtype: float64\n",
      "count     1071.000000\n",
      "mean       193.234360\n",
      "std       1601.190369\n",
      "min         61.000000\n",
      "25%         68.000000\n",
      "50%         83.000000\n",
      "75%        109.500000\n",
      "max      35354.000000\n",
      "Name: Monthly Premium Auto, dtype: float64\n",
      "count    1071.000000\n",
      "mean      404.986909\n",
      "std       293.027260\n",
      "min         0.382107\n",
      "25%       202.157702\n",
      "50%       354.729129\n",
      "75%       532.800000\n",
      "max      2893.239678\n",
      "Name: Total Claim Amount, dtype: float64\n"
     ]
    }
   ],
   "source": [
    "# summary stats per float column\n",
    "for col in df:\n",
    "    if(df[col].dtype == 'float64'):\n",
    "        print(df[col].describe())"
   ]
  },
  {
   "cell_type": "code",
   "execution_count": 131,
   "id": "e66167fc",
   "metadata": {},
   "outputs": [
    {
     "name": "stdout",
     "output_type": "stream",
     "text": [
      "1           0\n",
      "2       48767\n",
      "3           0\n",
      "4       36357\n",
      "5       62902\n",
      "        ...  \n",
      "1066    38644\n",
      "1067    63209\n",
      "1068    16061\n",
      "1069    79487\n",
      "1070    54230\n",
      "Name: Income, Length: 952, dtype: int64\n"
     ]
    }
   ],
   "source": [
    "df = df.dropna()\n",
    "df[\"Income\"] = df[\"Income\"].astype(dtype = \"int64\")\n",
    "print(df[\"Income\"])"
   ]
  },
  {
   "cell_type": "code",
   "execution_count": 132,
   "id": "c8fee3c2",
   "metadata": {},
   "outputs": [
    {
     "name": "stdout",
     "output_type": "stream",
     "text": [
      "count         952\n",
      "unique        952\n",
      "top       AA71604\n",
      "freq            1\n",
      "Name: Customer, dtype: object\n",
      "count        952\n",
      "unique         8\n",
      "top       Oregon\n",
      "freq         276\n",
      "Name: ST, dtype: object\n",
      "count     952\n",
      "unique      5\n",
      "top         F\n",
      "freq      456\n",
      "Name: GENDER, dtype: object\n",
      "count          952\n",
      "unique           6\n",
      "top       Bachelor\n",
      "freq           284\n",
      "Name: Education, dtype: object\n",
      "count        952\n",
      "unique         6\n",
      "top       1/0/00\n",
      "freq         746\n",
      "Name: Number of Open Complaints, dtype: object\n",
      "count               952\n",
      "unique                3\n",
      "top       Personal Auto\n",
      "freq                689\n",
      "Name: Policy Type, dtype: object\n",
      "count               952\n",
      "unique                6\n",
      "top       Four-Door Car\n",
      "freq                506\n",
      "Name: Vehicle Class, dtype: object\n"
     ]
    }
   ],
   "source": [
    "# summary stats per float column\n",
    "for col in df:\n",
    "    if(df[col].dtype == 'category'):\n",
    "        print(df[col].describe())"
   ]
  },
  {
   "cell_type": "markdown",
   "id": "74fcd0fc",
   "metadata": {},
   "source": [
    "Most income data points very small, extreme outliers present - hockeystick distribution.\n",
    "Also large outlier with monthly auto premium."
   ]
  },
  {
   "cell_type": "markdown",
   "id": "4a703890-63db-4944-b7ab-95a4f8185120",
   "metadata": {},
   "source": [
    "## Challenge 2: analyzing the data"
   ]
  },
  {
   "cell_type": "markdown",
   "id": "0776a403-c56a-452f-ac33-5fd4fdb06fc7",
   "metadata": {},
   "source": [
    "### Exercise 1"
   ]
  },
  {
   "cell_type": "markdown",
   "id": "eedbc484-da4d-4f9c-9343-e1d44311a87e",
   "metadata": {},
   "source": [
    "The marketing team wants to know the top 5 less common customer locations. Create a pandas Series object that contains the customer locations and their frequencies, and then retrieve the top 5 less common locations in ascending order."
   ]
  },
  {
   "cell_type": "code",
   "execution_count": 145,
   "id": "2dca5073-4520-4f42-9390-4b92733284ed",
   "metadata": {},
   "outputs": [
    {
     "name": "stdout",
     "output_type": "stream",
     "text": [
      "California    293\n",
      "Oregon        276\n",
      "Arizona       188\n",
      "Washington    106\n",
      "Nevada         89\n",
      "Name: ST, dtype: int64\n",
      "California    293\n",
      "Oregon        276\n",
      "Arizona       188\n",
      "Washington    106\n",
      "Nevada         89\n",
      "Name: ST, dtype: int64\n",
      "<class 'pandas.core.series.Series'>\n"
     ]
    }
   ],
   "source": [
    "# Your code here\n",
    "df_counts = df[\"ST\"].value_counts()\n",
    "\n",
    "#Clean data\n",
    "df[\"ST\"] = df[\"ST\"].replace({\"Cali\": \"California\"})\n",
    "df[\"ST\"] = df[\"ST\"].replace({\"WA\": \"Washington\"})\n",
    "df[\"ST\"] = df[\"ST\"].replace({\"AZ\": \"Arizona\"})\n",
    "print(df[\"ST\"].value_counts())\n",
    "\n",
    "# already ordered - take 5 from last\n",
    "df_counts = df[\"ST\"].value_counts()\n",
    "print(df_counts[-5:])"
   ]
  },
  {
   "cell_type": "markdown",
   "id": "e8bc33e9-20fa-4852-8a96-acba1c802dd3",
   "metadata": {},
   "source": [
    "### Exercise 2"
   ]
  },
  {
   "cell_type": "markdown",
   "id": "feb47063-8ebb-4fa0-af2f-17a5c4cb1655",
   "metadata": {},
   "source": [
    "Your goal is to identify customers with a high policy claim amount.\n",
    "\n",
    "Instructions:\n",
    "\n",
    "- Review again the statistics for total claim amount to gain an understanding of the data.\n",
    "- To identify potential areas for improving customer retention and profitability, we want to focus on customers with a high policy claim amount. Consider customers with a high policy claim amount to be those in the top 25% of the total claim amount. Create a pandas DataFrame object that contains information about customers with a policy claim amount greater than the 75th percentile.\n",
    "- Use DataFrame methods to calculate summary statistics about the high policy claim amount data. "
   ]
  },
  {
   "cell_type": "markdown",
   "id": "9117fa27-7104-4b3d-b788-c554c63cd0b9",
   "metadata": {},
   "source": [
    "*Note: When analyzing data, we often want to focus on certain groups of values to gain insights. Percentiles are a useful tool to help us define these groups. A percentile is a measure that tells us what percentage of values in a dataset are below a certain value. For example, the 75th percentile represents the value below which 75% of the data falls. Similarly, the 25th percentile represents the value below which 25% of the data falls. When we talk about the top 25%, we are referring to the values that fall above the 75th percentile, which represent the top quarter of the data. On the other hand, when we talk about the bottom 25%, we are referring to the values that fall below the 25th percentile, which represent the bottom quarter of the data. By focusing on these groups, we can identify patterns and trends that may be useful for making decisions and taking action.*\n",
    "\n",
    "*Hint: look for a method that gives you the percentile or quantile 0.75 and 0.25 for a Pandas Series.*"
   ]
  },
  {
   "cell_type": "markdown",
   "id": "4b323dc6-b7db-4d33-8e11-abf5e7ac93f5",
   "metadata": {},
   "source": [
    "*Hint 2: check `Boolean selection according to the values of a single column` in https://towardsdatascience.com/filtering-data-frames-in-pandas-b570b1f834b9*"
   ]
  },
  {
   "cell_type": "code",
   "execution_count": null,
   "id": "b731bca6-a760-4860-a27b-a33efa712ce0",
   "metadata": {},
   "outputs": [],
   "source": [
    "# Your code here"
   ]
  },
  {
   "cell_type": "markdown",
   "id": "0ce80f43-4afa-43c7-a78a-c917444da4e0",
   "metadata": {},
   "source": [
    "### Exercise 3\n",
    "\n",
    "The sales team wants to know the total number of policies sold for each type of policy. Create a pandas Series object that contains the policy types and their total number of policies sold, and then retrieve the policy type with the highest number of policies sold."
   ]
  },
  {
   "cell_type": "markdown",
   "id": "a9f13997-1555-4f98-aca6-970fda1d2c3f",
   "metadata": {},
   "source": [
    "*Hint:*\n",
    "- *Using value_counts() method simplifies this analysis.*\n",
    "- *Futhermore, there is a method that returns the index of the maximum value in a column or row.*\n"
   ]
  },
  {
   "cell_type": "code",
   "execution_count": null,
   "id": "bcfad6c1-9af2-4b0b-9aa9-0dc5c17473c0",
   "metadata": {},
   "outputs": [],
   "source": [
    "# Your code here"
   ]
  },
  {
   "cell_type": "markdown",
   "id": "0b863fd3-bf91-4d5d-86eb-be29ed9f5b70",
   "metadata": {},
   "source": [
    "### Exercise 4\n",
    "\n",
    "The sales team wants to know if customers with Personal Auto have a income than those with Corporate Auto. How does the average income compare between the two policy types?"
   ]
  },
  {
   "cell_type": "markdown",
   "id": "b1386d75-2810-4aa1-93e0-9485aa12d552",
   "metadata": {},
   "source": [
    "- Use *loc* to create two dataframes: one containing only Personal Auto policies and one containing only Corporate Auto policies.\n",
    "- Calculate the average income for each policy.\n",
    "- Print the results."
   ]
  },
  {
   "cell_type": "code",
   "execution_count": null,
   "id": "0c0563cf-6f8b-463d-a321-651a972f82e5",
   "metadata": {},
   "outputs": [],
   "source": [
    "# Your code here"
   ]
  }
 ],
 "metadata": {
  "kernelspec": {
   "display_name": "Python 3 (ipykernel)",
   "language": "python",
   "name": "python3"
  },
  "language_info": {
   "codemirror_mode": {
    "name": "ipython",
    "version": 3
   },
   "file_extension": ".py",
   "mimetype": "text/x-python",
   "name": "python",
   "nbconvert_exporter": "python",
   "pygments_lexer": "ipython3",
   "version": "3.8.8"
  }
 },
 "nbformat": 4,
 "nbformat_minor": 5
}
