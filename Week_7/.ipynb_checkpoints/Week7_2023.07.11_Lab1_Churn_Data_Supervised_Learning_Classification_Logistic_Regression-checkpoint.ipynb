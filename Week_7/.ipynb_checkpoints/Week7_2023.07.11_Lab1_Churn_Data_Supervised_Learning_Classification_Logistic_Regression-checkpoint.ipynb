{
 "cells": [
  {
   "cell_type": "code",
   "execution_count": 114,
   "metadata": {
    "executionInfo": {
     "elapsed": 1105,
     "status": "ok",
     "timestamp": 1626256792304,
     "user": {
      "displayName": "Ignacio Soteras",
      "photoUrl": "",
      "userId": "02050793736257155229"
     },
     "user_tz": -120
    },
    "id": "sS-WVW_mQmAu"
   },
   "outputs": [],
   "source": [
    "import pandas as pd\n",
    "import numpy as np\n",
    "import matplotlib.pyplot as plt\n",
    "from sklearn.preprocessing import StandardScaler\n",
    "from sklearn.datasets import load_iris, load_breast_cancer\n",
    "from sklearn.datasets import fetch_california_housing\n",
    "from sklearn.datasets import load_iris, load_breast_cancer\n",
    "from sklearn.tree import DecisionTreeRegressor\n",
    "from sklearn.tree import DecisionTreeClassifier\n",
    "from sklearn.model_selection import train_test_split\n",
    "from sklearn.tree import plot_tree\n",
    "\n",
    "from sklearn.model_selection import train_test_split\n",
    "from sklearn.neighbors import KNeighborsClassifier\n",
    "from sklearn.metrics import confusion_matrix,  ConfusionMatrixDisplay\n",
    "from sklearn.metrics import accuracy_score, precision_score, recall_score\n",
    "\n",
    "import warnings\n",
    "warnings.filterwarnings(\"ignore\", category=FutureWarning)\n",
    "%matplotlib inline "
   ]
  },
  {
   "cell_type": "code",
   "execution_count": 145,
   "metadata": {},
   "outputs": [],
   "source": [
    "churn1 = pd.read_csv(\"DATA/DATA_Customer-Churn.csv\")"
   ]
  },
  {
   "cell_type": "code",
   "execution_count": 146,
   "metadata": {},
   "outputs": [
    {
     "data": {
      "text/plain": [
       "gender               object\n",
       "SeniorCitizen         int64\n",
       "Partner              object\n",
       "Dependents           object\n",
       "tenure                int64\n",
       "PhoneService         object\n",
       "OnlineSecurity       object\n",
       "OnlineBackup         object\n",
       "DeviceProtection     object\n",
       "TechSupport          object\n",
       "StreamingTV          object\n",
       "StreamingMovies      object\n",
       "Contract             object\n",
       "MonthlyCharges      float64\n",
       "TotalCharges         object\n",
       "Churn                object\n",
       "dtype: object"
      ]
     },
     "execution_count": 146,
     "metadata": {},
     "output_type": "execute_result"
    }
   ],
   "source": [
    "churn1.dtypes"
   ]
  },
  {
   "cell_type": "code",
   "execution_count": 147,
   "metadata": {},
   "outputs": [],
   "source": [
    "# Convert column type\n",
    "for column in churn1:\n",
    "    if(churn1[column].dtype == 'object'):\n",
    "        #churn1[column] = churn1[column].astype(str)\n",
    "        churn1[column] = churn1[column].astype(dtype = 'string')"
   ]
  },
  {
   "cell_type": "code",
   "execution_count": 148,
   "metadata": {},
   "outputs": [],
   "source": [
    "# Convert data types\n",
    "genderColumn1 = churn1[\"gender\"]\n",
    "categoricalColumns = [\"gender\", \"Partner\", \"Dependents\", \"PhoneService\", \"OnlineSecurity\", \"OnlineBackup\", \"DeviceProtection\", \"TechSupport\", \"StreamingTV\", \"StreamingMovies\", \"Churn\"]\n",
    "numericalColumns = [\"gender\", \"SeniorCitizen\", \"tenure\", \"Contract\", \"MonthlyCharges\", \"TotalCharges\"]\n",
    "\n",
    "for columnName in numericalColumns:\n",
    "    churn1Cat = churn1.drop(numericalColumns, axis=1, inplace = False)\n",
    "    \n",
    "for columnName in categoricalColumns:\n",
    "    churn1Num = churn1.drop(categoricalColumns, axis=1, inplace = False)\n",
    "\n",
    "# Change numeric column types    \n",
    "churn1Num[\"TotalCharges\"] = pd.to_numeric(churn1Num[\"TotalCharges\"],errors=\"coerce\")\n",
    "churn1Num[\"TotalCharges\"] = churn1Num[\"TotalCharges\"].astype(np.float64)\n",
    "#churn1Num[\"TotalCharges\"] = churn1Num[\"TotalCharges\"].astype(float)\n",
    "#churn1Num[\"TotalCharges\"] = churn1Num[\"TotalCharges\"].astype(dtype = 'float64')\n",
    "\n",
    "# Change string binary to numeric binary\n",
    "for column in churn1Cat:\n",
    "    churn1CatBin[column] = pd.DataFrame(churn1Cat[column].apply(lambda x : 1 if x==\"Yes\" else 0))\n",
    "    \n",
    "# Convert binary column types\n",
    "for column in churn1CatBin:\n",
    "    if(churn1CatBin[column].dtype == 'object'):\n",
    "        churn1CatBin[column] = churn1CatBin[column].astype(dtype = 'int64')\n",
    "        print(churn1CatBin[column].dtype)"
   ]
  },
  {
   "cell_type": "code",
   "execution_count": null,
   "metadata": {},
   "outputs": [],
   "source": [
    "# Concat categorical and numerical data\n",
    "#churn2 = pd.concat([churn1CatBin, churn1Num], axis=1)\n",
    "churn3 = pd.concat([churn1CatBin, churn1Num], axis=1)\n",
    "\n",
    "# Count NAs\n",
    "na_counts = churn3X.isna().sum()\n",
    "#na_counts = churn3y.isna().sum()\n",
    "na_counts\n",
    "\n",
    "# Replace NAs with mean\n",
    "# churn3=churn3.dropna().reset_index(drop=True)\n",
    "churn3[\"TotalCharges\"]=churn3[\"TotalCharges\"].fillna(churn3[\"TotalCharges\"].mean()).reset_index(drop=True)"
   ]
  },
  {
   "cell_type": "code",
   "execution_count": 186,
   "metadata": {},
   "outputs": [
    {
     "name": "stdout",
     "output_type": "stream",
     "text": [
      "(7032, 4)\n",
      "(7032, 1)\n"
     ]
    }
   ],
   "source": [
    "# Select columns for analysis\n",
    "columnsToKeep = [\"SeniorCitizen\", \"MonthlyCharges\", \"TotalCharges\"]\n",
    "\n",
    "churn3X = pd.DataFrame(churn3[\"tenure\"])\n",
    "for column in columnsToKeep:\n",
    "    churn3X[column] = churn3[column]\n",
    "    #print(churn3X[column])\n",
    "\n",
    "print(churn3X.shape)\n",
    "churn3y = pd.DataFrame(churn3[\"Churn\"])\n",
    "print(churn3y.shape)"
   ]
  },
  {
   "cell_type": "code",
   "execution_count": null,
   "metadata": {},
   "outputs": [],
   "source": [
    "### Split data for modelling"
   ]
  },
  {
   "cell_type": "code",
   "execution_count": 189,
   "metadata": {},
   "outputs": [],
   "source": [
    "TT_SPLIT = 0.2     # ratio train/test size\n",
    "RAND_STATE = 123   # specifies a sampling for repeatable results"
   ]
  },
  {
   "cell_type": "code",
   "execution_count": 190,
   "metadata": {},
   "outputs": [],
   "source": [
    "X_train, X_test, y_train, y_test=train_test_split(churn3X, churn3y, test_size=TT_SPLIT,random_state=RAND_STATE) # splitting the data into train and test sets"
   ]
  },
  {
   "cell_type": "code",
   "execution_count": 191,
   "metadata": {},
   "outputs": [
    {
     "data": {
      "text/plain": [
       "tenure              int64\n",
       "SeniorCitizen       int64\n",
       "MonthlyCharges    float64\n",
       "TotalCharges      float64\n",
       "dtype: object"
      ]
     },
     "execution_count": 191,
     "metadata": {},
     "output_type": "execute_result"
    }
   ],
   "source": [
    "X_train.dtypes"
   ]
  },
  {
   "cell_type": "code",
   "execution_count": 193,
   "metadata": {},
   "outputs": [],
   "source": [
    "### Scale data\n",
    "# Create an instance of StandardScaler\n",
    "ss = StandardScaler()\n",
    "\n",
    "# Fit the StandardScaler to your data\n",
    "ss.fit(X_train)\n",
    "\n",
    "# Apply the power transform to your data\n",
    "X_train_transformed = ss.transform(X_train)\n",
    "X_test_transformed = ss.transform(X_test)\n",
    "\n",
    "#plt.hist(varB)\n",
    "\n",
    "#X_train_transformed.shape\n",
    "type(X_train_transformed)\n",
    "X_train_transformed = pd.DataFrame(X_train_transformed)"
   ]
  },
  {
   "cell_type": "code",
   "execution_count": 194,
   "metadata": {},
   "outputs": [
    {
     "data": {
      "text/plain": [
       "tenure              int64\n",
       "SeniorCitizen       int64\n",
       "MonthlyCharges    float64\n",
       "TotalCharges      float64\n",
       "dtype: object"
      ]
     },
     "execution_count": 194,
     "metadata": {},
     "output_type": "execute_result"
    }
   ],
   "source": [
    "X_train.dtypes"
   ]
  },
  {
   "cell_type": "code",
   "execution_count": 195,
   "metadata": {},
   "outputs": [
    {
     "data": {
      "text/plain": [
       "tenure            0\n",
       "SeniorCitizen     0\n",
       "MonthlyCharges    0\n",
       "TotalCharges      0\n",
       "dtype: int64"
      ]
     },
     "execution_count": 195,
     "metadata": {},
     "output_type": "execute_result"
    }
   ],
   "source": [
    "na_counts = X_train.isna().sum()\n",
    "na_counts"
   ]
  },
  {
   "cell_type": "code",
   "execution_count": 196,
   "metadata": {},
   "outputs": [
    {
     "data": {
      "text/plain": [
       "5472      73.65\n",
       "5425    3275.15\n",
       "3563     310.60\n",
       "2096    3754.60\n",
       "7008     826.00\n",
       "         ...   \n",
       "5218     639.70\n",
       "4060    5515.80\n",
       "1346     250.80\n",
       "3454    4834.00\n",
       "3582     653.95\n",
       "Name: TotalCharges, Length: 5625, dtype: float64"
      ]
     },
     "execution_count": 196,
     "metadata": {},
     "output_type": "execute_result"
    }
   ],
   "source": [
    "X_train[\"TotalCharges\"]"
   ]
  },
  {
   "cell_type": "code",
   "execution_count": 243,
   "metadata": {},
   "outputs": [
    {
     "name": "stderr",
     "output_type": "stream",
     "text": [
      "E:\\Programs\\anaconda3\\lib\\site-packages\\sklearn\\neighbors\\_classification.py:198: DataConversionWarning: A column-vector y was passed when a 1d array was expected. Please change the shape of y to (n_samples,), for example using ravel().\n",
      "  return self._fit(X, y)\n",
      "E:\\Programs\\anaconda3\\lib\\site-packages\\sklearn\\neighbors\\_classification.py:198: DataConversionWarning: A column-vector y was passed when a 1d array was expected. Please change the shape of y to (n_samples,), for example using ravel().\n",
      "  return self._fit(X, y)\n",
      "E:\\Programs\\anaconda3\\lib\\site-packages\\sklearn\\neighbors\\_classification.py:198: DataConversionWarning: A column-vector y was passed when a 1d array was expected. Please change the shape of y to (n_samples,), for example using ravel().\n",
      "  return self._fit(X, y)\n"
     ]
    },
    {
     "data": {
      "image/png": "[encoded data removed]",
      "text/plain": [
       "<Figure size 432x288 with 2 Axes>"
      ]
     },
     "metadata": {
      "needs_background": "light"
     },
     "output_type": "display_data"
    },
    {
     "data": {
      "image/png": "[encoded data removed]",
      "text/plain": [
       "<Figure size 432x288 with 2 Axes>"
      ]
     },
     "metadata": {
      "needs_background": "light"
     },
     "output_type": "display_data"
    },
    {
     "data": {
      "image/png": "[encoded data removed]",
      "text/plain": [
       "<Figure size 432x288 with 2 Axes>"
      ]
     },
     "metadata": {
      "needs_background": "light"
     },
     "output_type": "display_data"
    }
   ],
   "source": [
    "### Create KNN Model\n",
    "numberOfNeighbors = [5, 20, 50]\n",
    "\n",
    "for i in numberOfNeighbors:\n",
    "    model = KNeighborsClassifier(n_neighbors=i,weights='uniform') # declare we're using knn classification model\n",
    "    model.fit(X_train, y_train) # train model\n",
    "    y_pred = model.predict(X_test) # predict test\n",
    "    y_pred_train=model.predict(X_train) # predict train (for sanity checks)\n",
    "    #model.predict_proba(inputdata)\n",
    "\n",
    "    cm = confusion_matrix(y_test, y_pred, labels=model.classes_)\n",
    "    disp = ConfusionMatrixDisplay(cm)\n",
    "    disp.plot()"
   ]
  },
  {
   "cell_type": "code",
   "execution_count": 220,
   "metadata": {},
   "outputs": [],
   "source": [
    "### Evaluate KNN Model\n",
    "def evaluate_classification_model(y_train, y_pred_train, y_test, y_pred_test):\n",
    "    \"\"\"\n",
    "    Generates performance metrics and comparisons of labels with their predicted values\n",
    "    :param y_train: training labels\n",
    "    :param y_pred_train: predictions from the model on the training set\n",
    "    :param y_test: test labels\n",
    "    :param y_pred_test: predictions from the model on the test set\n",
    "    :returns: 3 dfs - Accuracy, Precision, and Recall scores, y_train vs. y_pred_train and y_test vs. y_pred_dist\n",
    "    \"\"\"\n",
    "    performance_df = pd.DataFrame({'Error_metric': ['Accuracy','Precision','Recall'],\n",
    "                               'Train': [accuracy_score(y_train, y_pred_train),\n",
    "                                         precision_score(y_train, y_pred_train),\n",
    "                                         recall_score(y_train, y_pred_train)],\n",
    "                               'Test': [accuracy_score(y_test, y_pred_test),\n",
    "                                        precision_score(y_test, y_pred_test),\n",
    "                                        recall_score(y_test, y_pred_test)]})\n",
    "    \n",
    "    pd.options.display.float_format = '{:.2f}'.format\n",
    "\n",
    "    df_train = pd.DataFrame({'Real': y_train, 'Predicted': y_pred_train})\n",
    "    df_test  = pd.DataFrame({'Real': y_test,  'Predicted': y_pred_test})\n",
    "\n",
    "    return performance_df, df_train, df_test"
   ]
  },
  {
   "cell_type": "markdown",
   "metadata": {},
   "source": [
    "print(y_train.shape)\n",
    "print(y_pred_train.shape)\n",
    "print(y_test.shape)\n",
    "print(y_pred.shape)\n",
    "\n",
    "print(type(y_train))\n",
    "print(type(y_pred_train))\n",
    "print(type(y_test))\n",
    "print(type(y_pred))\n",
    "\n",
    "print(y_train.head(3))\n",
    "print(y_test.head(3))"
   ]
  },
  {
   "cell_type": "code",
   "execution_count": 232,
   "metadata": {},
   "outputs": [],
   "source": [
    "y_train_np = y_train['Churn'].values\n",
    "y_test_np = y_test['Churn'].values"
   ]
  },
  {
   "cell_type": "markdown",
   "metadata": {},
   "source": [
    "print(y_train_np.shape)\n",
    "print(y_pred_train.shape)\n",
    "print(y_test_np.shape)\n",
    "print(y_pred.shape)"
   ]
  },
  {
   "cell_type": "code",
   "execution_count": 231,
   "metadata": {},
   "outputs": [
    {
     "data": {
      "text/plain": [
       "(  Error_metric  Train  Test\n",
       " 0     Accuracy   0.80  0.77\n",
       " 1    Precision   0.71  0.72\n",
       " 2       Recall   0.39  0.38,\n",
       "       Real  Predicted\n",
       " 0        1          1\n",
       " 1        0          0\n",
       " 2        0          0\n",
       " 3        1          0\n",
       " 4        0          0\n",
       " ...    ...        ...\n",
       " 5620     0          1\n",
       " 5621     0          0\n",
       " 5622     0          0\n",
       " 5623     0          0\n",
       " 5624     0          0\n",
       " \n",
       " [5625 rows x 2 columns],\n",
       "       Real  Predicted\n",
       " 0        0          0\n",
       " 1        0          0\n",
       " 2        0          0\n",
       " 3        0          0\n",
       " 4        1          0\n",
       " ...    ...        ...\n",
       " 1402     0          0\n",
       " 1403     1          0\n",
       " 1404     1          0\n",
       " 1405     0          0\n",
       " 1406     1          1\n",
       " \n",
       " [1407 rows x 2 columns])"
      ]
     },
     "execution_count": 231,
     "metadata": {},
     "output_type": "execute_result"
    }
   ],
   "source": [
    "evaluate_classification_model(y_train_np, y_pred_train, y_test_np, y_pred)"
   ]
  },
  {
   "cell_type": "code",
   "execution_count": 197,
   "metadata": {
    "colab": {
     "base_uri": "https://localhost:8080/",
     "height": 805
    },
    "executionInfo": {
     "elapsed": 672,
     "status": "ok",
     "timestamp": 1626260090914,
     "user": {
      "displayName": "Ignacio Soteras",
      "photoUrl": "",
      "userId": "02050793736257155229"
     },
     "user_tz": -120
    },
    "id": "GD-FkUaKqVIb",
    "outputId": "30fd13a3-f4a8-42f1-82d9-3f05cf821b03",
    "scrolled": false
   },
   "outputs": [
    {
     "name": "stderr",
     "output_type": "stream",
     "text": [
      "E:\\Programs\\anaconda3\\lib\\site-packages\\sklearn\\utils\\validation.py:993: DataConversionWarning: A column-vector y was passed when a 1d array was expected. Please change the shape of y to (n_samples, ), for example using ravel().\n",
      "  y = column_or_1d(y, warn=True)\n"
     ]
    },
    {
     "data": {
      "text/html": [
       "<div>\n",
       "<style scoped>\n",
       "    .dataframe tbody tr th:only-of-type {\n",
       "        vertical-align: middle;\n",
       "    }\n",
       "\n",
       "    .dataframe tbody tr th {\n",
       "        vertical-align: top;\n",
       "    }\n",
       "\n",
       "    .dataframe thead th {\n",
       "        text-align: right;\n",
       "    }\n",
       "</style>\n",
       "<table border=\"1\" class=\"dataframe\">\n",
       "  <thead>\n",
       "    <tr style=\"text-align: right;\">\n",
       "      <th></th>\n",
       "      <th>Error_metric</th>\n",
       "      <th>Train</th>\n",
       "      <th>Test</th>\n",
       "    </tr>\n",
       "  </thead>\n",
       "  <tbody>\n",
       "    <tr>\n",
       "      <th>0</th>\n",
       "      <td>Accuracy</td>\n",
       "      <td>0.794311</td>\n",
       "      <td>0.783937</td>\n",
       "    </tr>\n",
       "    <tr>\n",
       "      <th>1</th>\n",
       "      <td>Precision</td>\n",
       "      <td>0.653728</td>\n",
       "      <td>0.703422</td>\n",
       "    </tr>\n",
       "    <tr>\n",
       "      <th>2</th>\n",
       "      <td>Recall</td>\n",
       "      <td>0.438957</td>\n",
       "      <td>0.450122</td>\n",
       "    </tr>\n",
       "  </tbody>\n",
       "</table>\n",
       "</div>"
      ],
      "text/plain": [
       "  Error_metric     Train      Test\n",
       "0     Accuracy  0.794311  0.783937\n",
       "1    Precision  0.653728  0.703422\n",
       "2       Recall  0.438957  0.450122"
      ]
     },
     "metadata": {},
     "output_type": "display_data"
    }
   ],
   "source": [
    "### Create and Evaluate Logistic Regression\n",
    "from sklearn.linear_model import LogisticRegression\n",
    "from sklearn.preprocessing import PowerTransformer\n",
    "from sklearn.metrics import accuracy_score, precision_score, recall_score, confusion_matrix\n",
    "\n",
    "log_model = LogisticRegression() \n",
    "\n",
    "# Power Transformation\n",
    "#trans = PowerTransformer()\n",
    "\n",
    "#trans.fit(X_train)\n",
    "\n",
    "#X_train_mod = trans.transform(X_train)\n",
    "#X_test_mod  = trans.transform(X_test)\n",
    "\n",
    "log_model.fit(X_train, y_train) # X_train_mod\n",
    "\n",
    "y_pred_train_log = log_model.predict(X_train)#(X_train_mod)\n",
    "y_pred_test_log = log_model.predict(X_test)#(X_test_mod)\n",
    "\n",
    "performance_log = pd.DataFrame({'Error_metric': ['Accuracy','Precision','Recall'],\n",
    "                               'Train': [accuracy_score(y_train, y_pred_train_log),\n",
    "                                         precision_score(y_train, y_pred_train_log),\n",
    "                                         recall_score(y_train, y_pred_train_log)],\n",
    "                               'Test': [accuracy_score(y_test, y_pred_test_log),\n",
    "                                        precision_score(y_test, y_pred_test_log),\n",
    "                                        recall_score(y_test, y_pred_test_log)]})\n",
    "\n",
    "display(performance_log)\n"
   ]
  },
  {
   "cell_type": "code",
   "execution_count": 234,
   "metadata": {},
   "outputs": [
    {
     "name": "stdout",
     "output_type": "stream",
     "text": [
      "Confusion matrix for the train set\n",
      "[[3828  339]\n",
      " [ 818  640]]\n",
      "\n",
      "\n",
      "Confusion matrix for the test set\n",
      "[[918  78]\n",
      " [226 185]]\n"
     ]
    },
    {
     "data": {
      "text/plain": [
       "<sklearn.metrics._plot.confusion_matrix.ConfusionMatrixDisplay at 0x1fce4b048b0>"
      ]
     },
     "execution_count": 234,
     "metadata": {},
     "output_type": "execute_result"
    },
    {
     "data": {
      "image/png": "[encoded data removed]",
      "text/plain": [
       "<Figure size 432x288 with 2 Axes>"
      ]
     },
     "metadata": {
      "needs_background": "light"
     },
     "output_type": "display_data"
    },
    {
     "data": {
      "image/png": "[encoded data removed]",
      "text/plain": [
       "<Figure size 432x288 with 2 Axes>"
      ]
     },
     "metadata": {
      "needs_background": "light"
     },
     "output_type": "display_data"
    }
   ],
   "source": [
    "from sklearn.metrics import plot_confusion_matrix, ConfusionMatrixDisplay\n",
    "\n",
    "#cm_train = confusion_matrix(y_train, y_pred_train_log, labels = log_model.classes_)\n",
    "#disp = ConfusionMatrixDisplay(cm_train)\n",
    "#disp.plot()\n",
    "\n",
    "print(\"Confusion matrix for the train set\")\n",
    "print(confusion_matrix(y_train,y_pred_train_log))\n",
    "plot_confusion_matrix(log_model,X_train,y_train, values_format = 'd') # X_train_mod\n",
    "\n",
    "print(\"Confusion matrix for the test set\")\n",
    "print(confusion_matrix(y_test, y_pred_test_log))\n",
    "plot_confusion_matrix(log_model,X_test,y_test, values_format = 'd') # X_train_mod"
   ]
  },
  {
   "cell_type": "code",
   "execution_count": 9,
   "metadata": {},
   "outputs": [
    {
     "data": {
      "text/plain": [
       "<sklearn.metrics._plot.confusion_matrix.ConfusionMatrixDisplay at 0x1e7ed0bb3d0>"
      ]
     },
     "execution_count": 9,
     "metadata": {},
     "output_type": "execute_result"
    },
    {
     "data": {
      "image/png": "[encoded data removed]",
      "text/plain": [
       "<Figure size 432x288 with 2 Axes>"
      ]
     },
     "metadata": {
      "needs_background": "light"
     },
     "output_type": "display_data"
    }
   ],
   "source": [
    "cm_test = confusion_matrix(y_test, y_pred_test_log, labels = log_model.classes_)\n",
    "test = ConfusionMatrixDisplay(cm_test)\n",
    "test.plot()"
   ]
  },
  {
   "cell_type": "markdown",
   "metadata": {},
   "source": [
    "def evaluate_classification_model(y_train, y_pred_train, y_test, y_pred_test):\n",
    "    \"\"\"\n",
    "    Generates performance metrics and comparisons of labels with their predicted values\n",
    "    :param y_train: training labels\n",
    "    :param y_pred_train: predictions from the model on the training set\n",
    "    :param y_test: test labels\n",
    "    :param y_pred_test: predictions from the model on the test set\n",
    "    :returns: 3 dfs - Accuracy, Prmecision, and Recall scores, y_train vs. y_pred_train and y_test vs. y_pred_dist\n",
    "    \"\"\"\n",
    "    performance_df = pd.DataFrame({'Error_metric': ['Accuracy','Precision','Recall'],\n",
    "                               'Train': [accuracy_score(y_train, y_pred_train),\n",
    "                                         precision_score(y_train, y_pred_train),\n",
    "                                         recall_score(y_train, y_pred_train)],\n",
    "                               'Test': [accuracy_score(y_test, y_pred_test),\n",
    "                                        precision_score(y_test, y_pred_test),\n",
    "                                        recall_score(y_test, y_pred_test)]})\n",
    "    \n",
    "    pd.options.display.float_format = '{:.2f}'.format\n",
    "\n",
    "    df_train = pd.DataFrame({'Real': y_train, 'Predicted': y_pred_train})\n",
    "    df_test  = pd.DataFrame({'Real': y_test,  'Predicted': y_pred_test})\n",
    "\n",
    "    return performance_df, df_train, df_test\n",
    "\n"
   ]
  },
  {
   "cell_type": "code",
   "execution_count": 204,
   "metadata": {},
   "outputs": [
    {
     "data": {
      "text/html": [
       "<div>\n",
       "<style scoped>\n",
       "    .dataframe tbody tr th:only-of-type {\n",
       "        vertical-align: middle;\n",
       "    }\n",
       "\n",
       "    .dataframe tbody tr th {\n",
       "        vertical-align: top;\n",
       "    }\n",
       "\n",
       "    .dataframe thead th {\n",
       "        text-align: right;\n",
       "    }\n",
       "</style>\n",
       "<table border=\"1\" class=\"dataframe\">\n",
       "  <thead>\n",
       "    <tr style=\"text-align: right;\">\n",
       "      <th></th>\n",
       "      <th>Error_metric</th>\n",
       "      <th>Train</th>\n",
       "      <th>Test</th>\n",
       "    </tr>\n",
       "  </thead>\n",
       "  <tbody>\n",
       "    <tr>\n",
       "      <th>0</th>\n",
       "      <td>Accuracy</td>\n",
       "      <td>0.783467</td>\n",
       "      <td>0.783937</td>\n",
       "    </tr>\n",
       "    <tr>\n",
       "      <th>1</th>\n",
       "      <td>Precision</td>\n",
       "      <td>0.628480</td>\n",
       "      <td>0.713147</td>\n",
       "    </tr>\n",
       "    <tr>\n",
       "      <th>2</th>\n",
       "      <td>Recall</td>\n",
       "      <td>0.402606</td>\n",
       "      <td>0.435523</td>\n",
       "    </tr>\n",
       "  </tbody>\n",
       "</table>\n",
       "</div>"
      ],
      "text/plain": [
       "  Error_metric     Train      Test\n",
       "0     Accuracy  0.783467  0.783937\n",
       "1    Precision  0.628480  0.713147\n",
       "2       Recall  0.402606  0.435523"
      ]
     },
     "metadata": {},
     "output_type": "display_data"
    },
    {
     "data": {
      "text/html": [
       "<div>\n",
       "<style scoped>\n",
       "    .dataframe tbody tr th:only-of-type {\n",
       "        vertical-align: middle;\n",
       "    }\n",
       "\n",
       "    .dataframe tbody tr th {\n",
       "        vertical-align: top;\n",
       "    }\n",
       "\n",
       "    .dataframe thead th {\n",
       "        text-align: right;\n",
       "    }\n",
       "</style>\n",
       "<table border=\"1\" class=\"dataframe\">\n",
       "  <thead>\n",
       "    <tr style=\"text-align: right;\">\n",
       "      <th></th>\n",
       "      <th>Error_metric</th>\n",
       "      <th>Train</th>\n",
       "      <th>Test</th>\n",
       "    </tr>\n",
       "  </thead>\n",
       "  <tbody>\n",
       "    <tr>\n",
       "      <th>0</th>\n",
       "      <td>Accuracy</td>\n",
       "      <td>0.803911</td>\n",
       "      <td>0.782516</td>\n",
       "    </tr>\n",
       "    <tr>\n",
       "      <th>1</th>\n",
       "      <td>Precision</td>\n",
       "      <td>0.662695</td>\n",
       "      <td>0.696629</td>\n",
       "    </tr>\n",
       "    <tr>\n",
       "      <th>2</th>\n",
       "      <td>Recall</td>\n",
       "      <td>0.495885</td>\n",
       "      <td>0.452555</td>\n",
       "    </tr>\n",
       "  </tbody>\n",
       "</table>\n",
       "</div>"
      ],
      "text/plain": [
       "  Error_metric     Train      Test\n",
       "0     Accuracy  0.803911  0.782516\n",
       "1    Precision  0.662695  0.696629\n",
       "2       Recall  0.495885  0.452555"
      ]
     },
     "metadata": {},
     "output_type": "display_data"
    },
    {
     "data": {
      "text/html": [
       "<div>\n",
       "<style scoped>\n",
       "    .dataframe tbody tr th:only-of-type {\n",
       "        vertical-align: middle;\n",
       "    }\n",
       "\n",
       "    .dataframe tbody tr th {\n",
       "        vertical-align: top;\n",
       "    }\n",
       "\n",
       "    .dataframe thead th {\n",
       "        text-align: right;\n",
       "    }\n",
       "</style>\n",
       "<table border=\"1\" class=\"dataframe\">\n",
       "  <thead>\n",
       "    <tr style=\"text-align: right;\">\n",
       "      <th></th>\n",
       "      <th>Error_metric</th>\n",
       "      <th>Train</th>\n",
       "      <th>Test</th>\n",
       "    </tr>\n",
       "  </thead>\n",
       "  <tbody>\n",
       "    <tr>\n",
       "      <th>0</th>\n",
       "      <td>Accuracy</td>\n",
       "      <td>0.858489</td>\n",
       "      <td>0.745558</td>\n",
       "    </tr>\n",
       "    <tr>\n",
       "      <th>1</th>\n",
       "      <td>Precision</td>\n",
       "      <td>0.774461</td>\n",
       "      <td>0.587459</td>\n",
       "    </tr>\n",
       "    <tr>\n",
       "      <th>2</th>\n",
       "      <td>Recall</td>\n",
       "      <td>0.640604</td>\n",
       "      <td>0.433090</td>\n",
       "    </tr>\n",
       "  </tbody>\n",
       "</table>\n",
       "</div>"
      ],
      "text/plain": [
       "  Error_metric     Train      Test\n",
       "0     Accuracy  0.858489  0.745558\n",
       "1    Precision  0.774461  0.587459\n",
       "2       Recall  0.640604  0.433090"
      ]
     },
     "metadata": {},
     "output_type": "display_data"
    },
    {
     "data": {
      "image/png": "[encoded data removed]",
      "text/plain": [
       "<Figure size 1008x576 with 4 Axes>"
      ]
     },
     "metadata": {
      "needs_background": "light"
     },
     "output_type": "display_data"
    },
    {
     "data": {
      "image/png": "[encoded data removed]",
      "text/plain": [
       "<Figure size 1008x576 with 4 Axes>"
      ]
     },
     "metadata": {
      "needs_background": "light"
     },
     "output_type": "display_data"
    },
    {
     "data": {
      "image/png": "[encoded data removed]",
      "text/plain": [
       "<Figure size 1008x576 with 4 Axes>"
      ]
     },
     "metadata": {
      "needs_background": "light"
     },
     "output_type": "display_data"
    }
   ],
   "source": [
    "### Create and evaluate Decision Tree Classifier\n",
    "from sklearn.metrics import accuracy_score, precision_score, recall_score, confusion_matrix\n",
    "from sklearn.model_selection import train_test_split\n",
    "from sklearn.metrics import plot_confusion_matrix\n",
    "\n",
    "depthNumbers = [3,6,10]\n",
    "\n",
    "for i in depthNumbers:\n",
    "    #X_train, X_test, y_train, y_test = train_test_split(X, y, test_size=0.30, random_state=11)\n",
    "\n",
    "    # Bear in mind that sklearn uses a different function for decission trees used for \n",
    "    # classification ( to predict a categorical feature ): DecisionTreeClassifier() \n",
    "    model = DecisionTreeClassifier(max_depth=i)\n",
    "\n",
    "    model.fit(X_train, y_train)\n",
    "\n",
    "    y_pred_train_dt = model.predict(X_train)\n",
    "    y_pred_test_dt = model.predict(X_test)\n",
    "\n",
    "\n",
    "    performance_df = pd.DataFrame({'Error_metric': ['Accuracy','Precision','Recall'],\n",
    "                                   'Train': [accuracy_score(y_train, y_pred_train_dt),\n",
    "                                             precision_score(y_train, y_pred_train_dt),\n",
    "                                             recall_score(y_train, y_pred_train_dt)],\n",
    "                                   'Test': [accuracy_score(y_test, y_pred_test_dt),\n",
    "                                            precision_score(y_test, y_pred_test_dt),\n",
    "                                            recall_score(y_test, y_pred_test_dt)]})\n",
    "\n",
    "    display(performance_df)\n",
    "\n",
    "    fig, ax = plt.subplots(1,2, figsize=(14,8))\n",
    "\n",
    "\n",
    "    #print(\"Confusion matrix for the train set\")\n",
    "    #print(confusion_matrix(y_train,y_pred_train_dt).T)\n",
    "    plot_confusion_matrix(model,X_train,y_train,ax=ax[0], values_format = 'd')\n",
    "    ax[0].title.set_text(\"Train Set\")\n",
    "\n",
    "    #print(\"Confusion matrix for the test set\")\n",
    "\n",
    "    #print(confusion_matrix(y_test,y_pred_test_dt).T)\n",
    "    plot_confusion_matrix(model,X_test,y_test,ax=ax[1],values_format = 'd')\n",
    "    ax[1].title.set_text(\"Test Set\")"
   ]
  },
  {
   "cell_type": "code",
   "execution_count": 205,
   "metadata": {},
   "outputs": [
    {
     "data": {
      "text/plain": [
       "<BarContainer object of 4 artists>"
      ]
     },
     "execution_count": 205,
     "metadata": {},
     "output_type": "execute_result"
    },
    {
     "data": {
      "image/png": "[encoded data removed]",
      "text/plain": [
       "<Figure size 1440x1008 with 1 Axes>"
      ]
     },
     "metadata": {
      "needs_background": "light"
     },
     "output_type": "display_data"
    }
   ],
   "source": [
    "plt.figure(figsize=(20,14))\n",
    "plt.barh(X_train.columns,model.feature_importances_)"
   ]
  }
 ],
 "metadata": {
  "colab": {
   "authorship_tag": "ABX9TyN5a07AzJeFSAhhaVwEynaA",
   "name": "Code-along.ipynb",
   "provenance": []
  },
  "kernelspec": {
   "display_name": "Python 3 (ipykernel)",
   "language": "python",
   "name": "python3"
  },
  "language_info": {
   "codemirror_mode": {
    "name": "ipython",
    "version": 3
   },
   "file_extension": ".py",
   "mimetype": "text/x-python",
   "name": "python",
   "nbconvert_exporter": "python",
   "pygments_lexer": "ipython3",
   "version": "3.8.8"
  }
 },
 "nbformat": 4,
 "nbformat_minor": 1
}
