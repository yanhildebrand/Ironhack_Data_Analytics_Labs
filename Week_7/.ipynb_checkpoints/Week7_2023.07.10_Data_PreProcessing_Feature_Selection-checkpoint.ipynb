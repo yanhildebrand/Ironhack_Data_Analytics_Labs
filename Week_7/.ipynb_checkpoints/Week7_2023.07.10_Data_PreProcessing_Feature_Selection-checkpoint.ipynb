{
 "cells": [
  {
   "cell_type": "markdown",
   "metadata": {
    "id": "Q9EzL9UMtzuN"
   },
   "source": [
    "# Loading libraries"
   ]
  },
  {
   "cell_type": "code",
   "execution_count": 2,
   "metadata": {
    "ExecuteTime": {
     "end_time": "2022-11-25T20:13:44.140071Z",
     "start_time": "2022-11-25T20:13:43.992841Z"
    },
    "executionInfo": {
     "elapsed": 4,
     "status": "ok",
     "timestamp": 1626337802795,
     "user": {
      "displayName": "Ignacio Soteras",
      "photoUrl": "",
      "userId": "02050793736257155229"
     },
     "user_tz": -120
    },
    "id": "3ICZaLT_txUh"
   },
   "outputs": [],
   "source": [
    "import pandas as pd\n",
    "import numpy as np\n",
    "import warnings\n",
    "warnings.filterwarnings(\"ignore\")"
   ]
  },
  {
   "cell_type": "markdown",
   "metadata": {
    "id": "1QyUWmgZt7T5"
   },
   "source": [
    "# Load data"
   ]
  },
  {
   "cell_type": "code",
   "execution_count": 3,
   "metadata": {
    "ExecuteTime": {
     "end_time": "2022-11-25T20:13:44.159940Z",
     "start_time": "2022-11-25T20:13:44.140912Z"
    },
    "colab": {
     "base_uri": "https://localhost:8080/",
     "height": 255
    },
    "executionInfo": {
     "elapsed": 1009,
     "status": "ok",
     "timestamp": 1626337837179,
     "user": {
      "displayName": "Ignacio Soteras",
      "photoUrl": "",
      "userId": "02050793736257155229"
     },
     "user_tz": -120
    },
    "id": "4ZMpqb1Xt6IN",
    "outputId": "edaee620-73df-4c4b-aa4c-cfcfa9bdbeee"
   },
   "outputs": [
    {
     "data": {
      "text/html": [
       "<div>\n",
       "<style scoped>\n",
       "    .dataframe tbody tr th:only-of-type {\n",
       "        vertical-align: middle;\n",
       "    }\n",
       "\n",
       "    .dataframe tbody tr th {\n",
       "        vertical-align: top;\n",
       "    }\n",
       "\n",
       "    .dataframe thead th {\n",
       "        text-align: right;\n",
       "    }\n",
       "</style>\n",
       "<table border=\"1\" class=\"dataframe\">\n",
       "  <thead>\n",
       "    <tr style=\"text-align: right;\">\n",
       "      <th></th>\n",
       "      <th>Id</th>\n",
       "      <th>MSSubClass</th>\n",
       "      <th>MSZoning</th>\n",
       "      <th>LotFrontage</th>\n",
       "      <th>LotArea</th>\n",
       "      <th>Street</th>\n",
       "      <th>Alley</th>\n",
       "      <th>LotShape</th>\n",
       "      <th>LandContour</th>\n",
       "      <th>Utilities</th>\n",
       "      <th>...</th>\n",
       "      <th>PoolArea</th>\n",
       "      <th>PoolQC</th>\n",
       "      <th>Fence</th>\n",
       "      <th>MiscFeature</th>\n",
       "      <th>MiscVal</th>\n",
       "      <th>MoSold</th>\n",
       "      <th>YrSold</th>\n",
       "      <th>SaleType</th>\n",
       "      <th>SaleCondition</th>\n",
       "      <th>SalePrice</th>\n",
       "    </tr>\n",
       "  </thead>\n",
       "  <tbody>\n",
       "    <tr>\n",
       "      <th>0</th>\n",
       "      <td>1</td>\n",
       "      <td>60</td>\n",
       "      <td>RL</td>\n",
       "      <td>65.0</td>\n",
       "      <td>8450</td>\n",
       "      <td>Pave</td>\n",
       "      <td>NaN</td>\n",
       "      <td>Reg</td>\n",
       "      <td>Lvl</td>\n",
       "      <td>AllPub</td>\n",
       "      <td>...</td>\n",
       "      <td>0</td>\n",
       "      <td>NaN</td>\n",
       "      <td>NaN</td>\n",
       "      <td>NaN</td>\n",
       "      <td>0</td>\n",
       "      <td>2</td>\n",
       "      <td>2008</td>\n",
       "      <td>WD</td>\n",
       "      <td>Normal</td>\n",
       "      <td>208500</td>\n",
       "    </tr>\n",
       "    <tr>\n",
       "      <th>1</th>\n",
       "      <td>2</td>\n",
       "      <td>20</td>\n",
       "      <td>RL</td>\n",
       "      <td>80.0</td>\n",
       "      <td>9600</td>\n",
       "      <td>Pave</td>\n",
       "      <td>NaN</td>\n",
       "      <td>Reg</td>\n",
       "      <td>Lvl</td>\n",
       "      <td>AllPub</td>\n",
       "      <td>...</td>\n",
       "      <td>0</td>\n",
       "      <td>NaN</td>\n",
       "      <td>NaN</td>\n",
       "      <td>NaN</td>\n",
       "      <td>0</td>\n",
       "      <td>5</td>\n",
       "      <td>2007</td>\n",
       "      <td>WD</td>\n",
       "      <td>Normal</td>\n",
       "      <td>181500</td>\n",
       "    </tr>\n",
       "    <tr>\n",
       "      <th>2</th>\n",
       "      <td>3</td>\n",
       "      <td>60</td>\n",
       "      <td>RL</td>\n",
       "      <td>68.0</td>\n",
       "      <td>11250</td>\n",
       "      <td>Pave</td>\n",
       "      <td>NaN</td>\n",
       "      <td>IR1</td>\n",
       "      <td>Lvl</td>\n",
       "      <td>AllPub</td>\n",
       "      <td>...</td>\n",
       "      <td>0</td>\n",
       "      <td>NaN</td>\n",
       "      <td>NaN</td>\n",
       "      <td>NaN</td>\n",
       "      <td>0</td>\n",
       "      <td>9</td>\n",
       "      <td>2008</td>\n",
       "      <td>WD</td>\n",
       "      <td>Normal</td>\n",
       "      <td>223500</td>\n",
       "    </tr>\n",
       "    <tr>\n",
       "      <th>3</th>\n",
       "      <td>4</td>\n",
       "      <td>70</td>\n",
       "      <td>RL</td>\n",
       "      <td>60.0</td>\n",
       "      <td>9550</td>\n",
       "      <td>Pave</td>\n",
       "      <td>NaN</td>\n",
       "      <td>IR1</td>\n",
       "      <td>Lvl</td>\n",
       "      <td>AllPub</td>\n",
       "      <td>...</td>\n",
       "      <td>0</td>\n",
       "      <td>NaN</td>\n",
       "      <td>NaN</td>\n",
       "      <td>NaN</td>\n",
       "      <td>0</td>\n",
       "      <td>2</td>\n",
       "      <td>2006</td>\n",
       "      <td>WD</td>\n",
       "      <td>Abnorml</td>\n",
       "      <td>140000</td>\n",
       "    </tr>\n",
       "    <tr>\n",
       "      <th>4</th>\n",
       "      <td>5</td>\n",
       "      <td>60</td>\n",
       "      <td>RL</td>\n",
       "      <td>84.0</td>\n",
       "      <td>14260</td>\n",
       "      <td>Pave</td>\n",
       "      <td>NaN</td>\n",
       "      <td>IR1</td>\n",
       "      <td>Lvl</td>\n",
       "      <td>AllPub</td>\n",
       "      <td>...</td>\n",
       "      <td>0</td>\n",
       "      <td>NaN</td>\n",
       "      <td>NaN</td>\n",
       "      <td>NaN</td>\n",
       "      <td>0</td>\n",
       "      <td>12</td>\n",
       "      <td>2008</td>\n",
       "      <td>WD</td>\n",
       "      <td>Normal</td>\n",
       "      <td>250000</td>\n",
       "    </tr>\n",
       "  </tbody>\n",
       "</table>\n",
       "<p>5 rows × 81 columns</p>\n",
       "</div>"
      ],
      "text/plain": [
       "   Id  MSSubClass MSZoning  LotFrontage  LotArea Street Alley LotShape  \\\n",
       "0   1          60       RL         65.0     8450   Pave   NaN      Reg   \n",
       "1   2          20       RL         80.0     9600   Pave   NaN      Reg   \n",
       "2   3          60       RL         68.0    11250   Pave   NaN      IR1   \n",
       "3   4          70       RL         60.0     9550   Pave   NaN      IR1   \n",
       "4   5          60       RL         84.0    14260   Pave   NaN      IR1   \n",
       "\n",
       "  LandContour Utilities  ... PoolArea PoolQC Fence MiscFeature MiscVal MoSold  \\\n",
       "0         Lvl    AllPub  ...        0    NaN   NaN         NaN       0      2   \n",
       "1         Lvl    AllPub  ...        0    NaN   NaN         NaN       0      5   \n",
       "2         Lvl    AllPub  ...        0    NaN   NaN         NaN       0      9   \n",
       "3         Lvl    AllPub  ...        0    NaN   NaN         NaN       0      2   \n",
       "4         Lvl    AllPub  ...        0    NaN   NaN         NaN       0     12   \n",
       "\n",
       "  YrSold  SaleType  SaleCondition  SalePrice  \n",
       "0   2008        WD         Normal     208500  \n",
       "1   2007        WD         Normal     181500  \n",
       "2   2008        WD         Normal     223500  \n",
       "3   2006        WD        Abnorml     140000  \n",
       "4   2008        WD         Normal     250000  \n",
       "\n",
       "[5 rows x 81 columns]"
      ]
     },
     "execution_count": 3,
     "metadata": {},
     "output_type": "execute_result"
    }
   ],
   "source": [
    "data = pd.read_csv(\"Data/DATA_Housing_Prices.csv\")\n",
    "data.head()"
   ]
  },
  {
   "cell_type": "markdown",
   "metadata": {
    "id": "dhfC9tUXuWWh"
   },
   "source": [
    "# Defining X, y"
   ]
  },
  {
   "cell_type": "code",
   "execution_count": 4,
   "metadata": {
    "ExecuteTime": {
     "end_time": "2022-11-25T20:13:44.165618Z",
     "start_time": "2022-11-25T20:13:44.162489Z"
    },
    "executionInfo": {
     "elapsed": 338,
     "status": "ok",
     "timestamp": 1626337884572,
     "user": {
      "displayName": "Ignacio Soteras",
      "photoUrl": "",
      "userId": "02050793736257155229"
     },
     "user_tz": -120
    },
    "id": "oAxOOgtBuVGg"
   },
   "outputs": [],
   "source": [
    "X = data.drop(columns=['Id','SalePrice'], axis = 1)\n",
    "y = np.log(data['SalePrice'])"
   ]
  },
  {
   "cell_type": "markdown",
   "metadata": {
    "id": "zJ9ObH7EuNs8"
   },
   "source": [
    "# Data splitting"
   ]
  },
  {
   "cell_type": "code",
   "execution_count": null,
   "metadata": {
    "ExecuteTime": {
     "end_time": "2022-11-25T20:13:44.380321Z",
     "start_time": "2022-11-25T20:13:44.166439Z"
    },
    "executionInfo": {
     "elapsed": 926,
     "status": "ok",
     "timestamp": 1626337892740,
     "user": {
      "displayName": "Ignacio Soteras",
      "photoUrl": "",
      "userId": "02050793736257155229"
     },
     "user_tz": -120
    },
    "id": "5DhzGwr3uPa_"
   },
   "outputs": [],
   "source": [
    "from sklearn.model_selection import train_test_split\n",
    "\n",
    "X_train, X_test, y_train, y_test = train_test_split(X, y, test_size=0.20, random_state=42)\n",
    "\n",
    "X_train = pd.DataFrame(X_train, columns=X.columns)\n",
    "X_test  = pd.DataFrame(X_test, columns=X.columns)"
   ]
  },
  {
   "cell_type": "code",
   "execution_count": null,
   "metadata": {
    "ExecuteTime": {
     "end_time": "2022-11-25T20:13:44.408970Z",
     "start_time": "2022-11-25T20:13:44.381277Z"
    },
    "colab": {
     "base_uri": "https://localhost:8080/",
     "height": 319
    },
    "executionInfo": {
     "elapsed": 227,
     "status": "ok",
     "timestamp": 1626337896560,
     "user": {
      "displayName": "Ignacio Soteras",
      "photoUrl": "",
      "userId": "02050793736257155229"
     },
     "user_tz": -120
    },
    "id": "sgryVkbXwTaH",
    "outputId": "dd101934-a0fd-49f0-9947-4ad97b0bca77"
   },
   "outputs": [],
   "source": [
    "X_train.describe()"
   ]
  },
  {
   "cell_type": "markdown",
   "metadata": {
    "id": "GNrheL61urqx"
   },
   "source": [
    "# Variance threshold method"
   ]
  },
  {
   "cell_type": "markdown",
   "metadata": {
    "id": "-2alUutG7hiJ"
   },
   "source": [
    "Univariate method"
   ]
  },
  {
   "cell_type": "code",
   "execution_count": 53,
   "metadata": {
    "ExecuteTime": {
     "end_time": "2022-11-25T20:13:44.445496Z",
     "start_time": "2022-11-25T20:13:44.409791Z"
    },
    "colab": {
     "base_uri": "https://localhost:8080/",
     "height": 511
    },
    "executionInfo": {
     "elapsed": 673,
     "status": "ok",
     "timestamp": 1626338146546,
     "user": {
      "displayName": "Ignacio Soteras",
      "photoUrl": "",
      "userId": "02050793736257155229"
     },
     "user_tz": -120
    },
    "id": "TbwUGz_MuvPB",
    "outputId": "febba3a3-ccff-4817-da75-c9d4a7b55a06"
   },
   "outputs": [
    {
     "name": "stdout",
     "output_type": "stream",
     "text": [
      "Initial number of numerical columns:  (1168, 36)\n",
      "\n",
      "Final number of numerical columns:  (1168, 23)\n",
      "\n"
     ]
    },
    {
     "data": {
      "text/html": [
       "<div>\n",
       "<style scoped>\n",
       "    .dataframe tbody tr th:only-of-type {\n",
       "        vertical-align: middle;\n",
       "    }\n",
       "\n",
       "    .dataframe tbody tr th {\n",
       "        vertical-align: top;\n",
       "    }\n",
       "\n",
       "    .dataframe thead th {\n",
       "        text-align: right;\n",
       "    }\n",
       "</style>\n",
       "<table border=\"1\" class=\"dataframe\">\n",
       "  <thead>\n",
       "    <tr style=\"text-align: right;\">\n",
       "      <th></th>\n",
       "      <th>MSSubClass</th>\n",
       "      <th>LotFrontage</th>\n",
       "      <th>LotArea</th>\n",
       "      <th>YearBuilt</th>\n",
       "      <th>YearRemodAdd</th>\n",
       "      <th>MasVnrArea</th>\n",
       "      <th>BsmtFinSF1</th>\n",
       "      <th>BsmtFinSF2</th>\n",
       "      <th>BsmtUnfSF</th>\n",
       "      <th>TotalBsmtSF</th>\n",
       "      <th>...</th>\n",
       "      <th>GrLivArea</th>\n",
       "      <th>GarageYrBlt</th>\n",
       "      <th>GarageArea</th>\n",
       "      <th>WoodDeckSF</th>\n",
       "      <th>OpenPorchSF</th>\n",
       "      <th>EnclosedPorch</th>\n",
       "      <th>3SsnPorch</th>\n",
       "      <th>ScreenPorch</th>\n",
       "      <th>PoolArea</th>\n",
       "      <th>MiscVal</th>\n",
       "    </tr>\n",
       "  </thead>\n",
       "  <tbody>\n",
       "    <tr>\n",
       "      <th>0</th>\n",
       "      <td>20.0</td>\n",
       "      <td>70.0</td>\n",
       "      <td>8400.0</td>\n",
       "      <td>1957.0</td>\n",
       "      <td>1957.0</td>\n",
       "      <td>0.0</td>\n",
       "      <td>922.0</td>\n",
       "      <td>0.0</td>\n",
       "      <td>392.0</td>\n",
       "      <td>1314.0</td>\n",
       "      <td>...</td>\n",
       "      <td>1314.0</td>\n",
       "      <td>1957.0</td>\n",
       "      <td>294.0</td>\n",
       "      <td>250.0</td>\n",
       "      <td>0.0</td>\n",
       "      <td>0.0</td>\n",
       "      <td>0.0</td>\n",
       "      <td>0.0</td>\n",
       "      <td>0.0</td>\n",
       "      <td>0.0</td>\n",
       "    </tr>\n",
       "    <tr>\n",
       "      <th>1</th>\n",
       "      <td>60.0</td>\n",
       "      <td>59.0</td>\n",
       "      <td>7837.0</td>\n",
       "      <td>1993.0</td>\n",
       "      <td>1994.0</td>\n",
       "      <td>0.0</td>\n",
       "      <td>0.0</td>\n",
       "      <td>0.0</td>\n",
       "      <td>799.0</td>\n",
       "      <td>799.0</td>\n",
       "      <td>...</td>\n",
       "      <td>1571.0</td>\n",
       "      <td>1993.0</td>\n",
       "      <td>380.0</td>\n",
       "      <td>0.0</td>\n",
       "      <td>40.0</td>\n",
       "      <td>0.0</td>\n",
       "      <td>0.0</td>\n",
       "      <td>0.0</td>\n",
       "      <td>0.0</td>\n",
       "      <td>0.0</td>\n",
       "    </tr>\n",
       "    <tr>\n",
       "      <th>2</th>\n",
       "      <td>30.0</td>\n",
       "      <td>67.0</td>\n",
       "      <td>8777.0</td>\n",
       "      <td>1910.0</td>\n",
       "      <td>1950.0</td>\n",
       "      <td>0.0</td>\n",
       "      <td>0.0</td>\n",
       "      <td>0.0</td>\n",
       "      <td>796.0</td>\n",
       "      <td>796.0</td>\n",
       "      <td>...</td>\n",
       "      <td>796.0</td>\n",
       "      <td>NaN</td>\n",
       "      <td>0.0</td>\n",
       "      <td>328.0</td>\n",
       "      <td>0.0</td>\n",
       "      <td>164.0</td>\n",
       "      <td>0.0</td>\n",
       "      <td>0.0</td>\n",
       "      <td>0.0</td>\n",
       "      <td>0.0</td>\n",
       "    </tr>\n",
       "    <tr>\n",
       "      <th>3</th>\n",
       "      <td>50.0</td>\n",
       "      <td>60.0</td>\n",
       "      <td>7200.0</td>\n",
       "      <td>1937.0</td>\n",
       "      <td>1950.0</td>\n",
       "      <td>252.0</td>\n",
       "      <td>569.0</td>\n",
       "      <td>0.0</td>\n",
       "      <td>162.0</td>\n",
       "      <td>731.0</td>\n",
       "      <td>...</td>\n",
       "      <td>1768.0</td>\n",
       "      <td>1939.0</td>\n",
       "      <td>240.0</td>\n",
       "      <td>0.0</td>\n",
       "      <td>0.0</td>\n",
       "      <td>264.0</td>\n",
       "      <td>0.0</td>\n",
       "      <td>0.0</td>\n",
       "      <td>0.0</td>\n",
       "      <td>0.0</td>\n",
       "    </tr>\n",
       "    <tr>\n",
       "      <th>4</th>\n",
       "      <td>50.0</td>\n",
       "      <td>50.0</td>\n",
       "      <td>5000.0</td>\n",
       "      <td>1924.0</td>\n",
       "      <td>1950.0</td>\n",
       "      <td>0.0</td>\n",
       "      <td>218.0</td>\n",
       "      <td>0.0</td>\n",
       "      <td>808.0</td>\n",
       "      <td>1026.0</td>\n",
       "      <td>...</td>\n",
       "      <td>1691.0</td>\n",
       "      <td>1924.0</td>\n",
       "      <td>308.0</td>\n",
       "      <td>0.0</td>\n",
       "      <td>0.0</td>\n",
       "      <td>242.0</td>\n",
       "      <td>0.0</td>\n",
       "      <td>0.0</td>\n",
       "      <td>0.0</td>\n",
       "      <td>0.0</td>\n",
       "    </tr>\n",
       "    <tr>\n",
       "      <th>...</th>\n",
       "      <td>...</td>\n",
       "      <td>...</td>\n",
       "      <td>...</td>\n",
       "      <td>...</td>\n",
       "      <td>...</td>\n",
       "      <td>...</td>\n",
       "      <td>...</td>\n",
       "      <td>...</td>\n",
       "      <td>...</td>\n",
       "      <td>...</td>\n",
       "      <td>...</td>\n",
       "      <td>...</td>\n",
       "      <td>...</td>\n",
       "      <td>...</td>\n",
       "      <td>...</td>\n",
       "      <td>...</td>\n",
       "      <td>...</td>\n",
       "      <td>...</td>\n",
       "      <td>...</td>\n",
       "      <td>...</td>\n",
       "      <td>...</td>\n",
       "    </tr>\n",
       "    <tr>\n",
       "      <th>1163</th>\n",
       "      <td>20.0</td>\n",
       "      <td>78.0</td>\n",
       "      <td>9317.0</td>\n",
       "      <td>2006.0</td>\n",
       "      <td>2006.0</td>\n",
       "      <td>0.0</td>\n",
       "      <td>24.0</td>\n",
       "      <td>0.0</td>\n",
       "      <td>1290.0</td>\n",
       "      <td>1314.0</td>\n",
       "      <td>...</td>\n",
       "      <td>1314.0</td>\n",
       "      <td>2006.0</td>\n",
       "      <td>440.0</td>\n",
       "      <td>0.0</td>\n",
       "      <td>22.0</td>\n",
       "      <td>0.0</td>\n",
       "      <td>0.0</td>\n",
       "      <td>0.0</td>\n",
       "      <td>0.0</td>\n",
       "      <td>0.0</td>\n",
       "    </tr>\n",
       "    <tr>\n",
       "      <th>1164</th>\n",
       "      <td>50.0</td>\n",
       "      <td>65.0</td>\n",
       "      <td>7804.0</td>\n",
       "      <td>1928.0</td>\n",
       "      <td>1950.0</td>\n",
       "      <td>0.0</td>\n",
       "      <td>622.0</td>\n",
       "      <td>0.0</td>\n",
       "      <td>500.0</td>\n",
       "      <td>1122.0</td>\n",
       "      <td>...</td>\n",
       "      <td>1981.0</td>\n",
       "      <td>1981.0</td>\n",
       "      <td>576.0</td>\n",
       "      <td>431.0</td>\n",
       "      <td>44.0</td>\n",
       "      <td>0.0</td>\n",
       "      <td>0.0</td>\n",
       "      <td>0.0</td>\n",
       "      <td>0.0</td>\n",
       "      <td>0.0</td>\n",
       "    </tr>\n",
       "    <tr>\n",
       "      <th>1165</th>\n",
       "      <td>20.0</td>\n",
       "      <td>60.0</td>\n",
       "      <td>8172.0</td>\n",
       "      <td>1955.0</td>\n",
       "      <td>1990.0</td>\n",
       "      <td>0.0</td>\n",
       "      <td>167.0</td>\n",
       "      <td>0.0</td>\n",
       "      <td>697.0</td>\n",
       "      <td>864.0</td>\n",
       "      <td>...</td>\n",
       "      <td>864.0</td>\n",
       "      <td>1957.0</td>\n",
       "      <td>572.0</td>\n",
       "      <td>0.0</td>\n",
       "      <td>0.0</td>\n",
       "      <td>0.0</td>\n",
       "      <td>0.0</td>\n",
       "      <td>0.0</td>\n",
       "      <td>0.0</td>\n",
       "      <td>0.0</td>\n",
       "    </tr>\n",
       "    <tr>\n",
       "      <th>1166</th>\n",
       "      <td>50.0</td>\n",
       "      <td>55.0</td>\n",
       "      <td>7642.0</td>\n",
       "      <td>1918.0</td>\n",
       "      <td>1998.0</td>\n",
       "      <td>0.0</td>\n",
       "      <td>0.0</td>\n",
       "      <td>0.0</td>\n",
       "      <td>912.0</td>\n",
       "      <td>912.0</td>\n",
       "      <td>...</td>\n",
       "      <td>1426.0</td>\n",
       "      <td>1925.0</td>\n",
       "      <td>216.0</td>\n",
       "      <td>0.0</td>\n",
       "      <td>240.0</td>\n",
       "      <td>0.0</td>\n",
       "      <td>0.0</td>\n",
       "      <td>0.0</td>\n",
       "      <td>0.0</td>\n",
       "      <td>0.0</td>\n",
       "    </tr>\n",
       "    <tr>\n",
       "      <th>1167</th>\n",
       "      <td>120.0</td>\n",
       "      <td>53.0</td>\n",
       "      <td>3684.0</td>\n",
       "      <td>2007.0</td>\n",
       "      <td>2007.0</td>\n",
       "      <td>130.0</td>\n",
       "      <td>0.0</td>\n",
       "      <td>0.0</td>\n",
       "      <td>1373.0</td>\n",
       "      <td>1373.0</td>\n",
       "      <td>...</td>\n",
       "      <td>1555.0</td>\n",
       "      <td>2007.0</td>\n",
       "      <td>660.0</td>\n",
       "      <td>143.0</td>\n",
       "      <td>20.0</td>\n",
       "      <td>0.0</td>\n",
       "      <td>0.0</td>\n",
       "      <td>0.0</td>\n",
       "      <td>0.0</td>\n",
       "      <td>0.0</td>\n",
       "    </tr>\n",
       "  </tbody>\n",
       "</table>\n",
       "<p>1168 rows × 23 columns</p>\n",
       "</div>"
      ],
      "text/plain": [
       "      MSSubClass  LotFrontage  LotArea  YearBuilt  YearRemodAdd  MasVnrArea  \\\n",
       "0           20.0         70.0   8400.0     1957.0        1957.0         0.0   \n",
       "1           60.0         59.0   7837.0     1993.0        1994.0         0.0   \n",
       "2           30.0         67.0   8777.0     1910.0        1950.0         0.0   \n",
       "3           50.0         60.0   7200.0     1937.0        1950.0       252.0   \n",
       "4           50.0         50.0   5000.0     1924.0        1950.0         0.0   \n",
       "...          ...          ...      ...        ...           ...         ...   \n",
       "1163        20.0         78.0   9317.0     2006.0        2006.0         0.0   \n",
       "1164        50.0         65.0   7804.0     1928.0        1950.0         0.0   \n",
       "1165        20.0         60.0   8172.0     1955.0        1990.0         0.0   \n",
       "1166        50.0         55.0   7642.0     1918.0        1998.0         0.0   \n",
       "1167       120.0         53.0   3684.0     2007.0        2007.0       130.0   \n",
       "\n",
       "      BsmtFinSF1  BsmtFinSF2  BsmtUnfSF  TotalBsmtSF  ...  GrLivArea  \\\n",
       "0          922.0         0.0      392.0       1314.0  ...     1314.0   \n",
       "1            0.0         0.0      799.0        799.0  ...     1571.0   \n",
       "2            0.0         0.0      796.0        796.0  ...      796.0   \n",
       "3          569.0         0.0      162.0        731.0  ...     1768.0   \n",
       "4          218.0         0.0      808.0       1026.0  ...     1691.0   \n",
       "...          ...         ...        ...          ...  ...        ...   \n",
       "1163        24.0         0.0     1290.0       1314.0  ...     1314.0   \n",
       "1164       622.0         0.0      500.0       1122.0  ...     1981.0   \n",
       "1165       167.0         0.0      697.0        864.0  ...      864.0   \n",
       "1166         0.0         0.0      912.0        912.0  ...     1426.0   \n",
       "1167         0.0         0.0     1373.0       1373.0  ...     1555.0   \n",
       "\n",
       "      GarageYrBlt  GarageArea  WoodDeckSF  OpenPorchSF  EnclosedPorch  \\\n",
       "0          1957.0       294.0       250.0          0.0            0.0   \n",
       "1          1993.0       380.0         0.0         40.0            0.0   \n",
       "2             NaN         0.0       328.0          0.0          164.0   \n",
       "3          1939.0       240.0         0.0          0.0          264.0   \n",
       "4          1924.0       308.0         0.0          0.0          242.0   \n",
       "...           ...         ...         ...          ...            ...   \n",
       "1163       2006.0       440.0         0.0         22.0            0.0   \n",
       "1164       1981.0       576.0       431.0         44.0            0.0   \n",
       "1165       1957.0       572.0         0.0          0.0            0.0   \n",
       "1166       1925.0       216.0         0.0        240.0            0.0   \n",
       "1167       2007.0       660.0       143.0         20.0            0.0   \n",
       "\n",
       "      3SsnPorch  ScreenPorch  PoolArea  MiscVal  \n",
       "0           0.0          0.0       0.0      0.0  \n",
       "1           0.0          0.0       0.0      0.0  \n",
       "2           0.0          0.0       0.0      0.0  \n",
       "3           0.0          0.0       0.0      0.0  \n",
       "4           0.0          0.0       0.0      0.0  \n",
       "...         ...          ...       ...      ...  \n",
       "1163        0.0          0.0       0.0      0.0  \n",
       "1164        0.0          0.0       0.0      0.0  \n",
       "1165        0.0          0.0       0.0      0.0  \n",
       "1166        0.0          0.0       0.0      0.0  \n",
       "1167        0.0          0.0       0.0      0.0  \n",
       "\n",
       "[1168 rows x 23 columns]"
      ]
     },
     "execution_count": 53,
     "metadata": {},
     "output_type": "execute_result"
    }
   ],
   "source": [
    "from sklearn.feature_selection import VarianceThreshold # It only works with numerical features\n",
    "\n",
    "\n",
    "X_train = X_train.select_dtypes(include=np.number)\n",
    "X_test  = X_test.select_dtypes(include=np.number)\n",
    "\n",
    "#display(X_train)\n",
    "print(\"Initial number of numerical columns: \",X_train.shape)\n",
    "print()\n",
    "\n",
    "\n",
    "selector = VarianceThreshold(100) # Default threshold value is 0\n",
    "# Features with a training-set variance lower than this threshold will be removed.\n",
    "selector.fit(X_train)\n",
    "\n",
    "kept_features_indexes = selector.get_support(indices = True) #returns an array of integers corresponding to nonremoved features\n",
    "kept_features = list(X_train.iloc[:,kept_features_indexes].columns)\n",
    "\n",
    "X_train = selector.transform(X_train)\n",
    "X_test  = selector.transform(X_test)\n",
    "\n",
    "X_train = pd.DataFrame(X_train, columns=kept_features)\n",
    "X_test  = pd.DataFrame(X_test, columns=kept_features)\n",
    "\n",
    "print(\"Final number of numerical columns: \",X_train.shape)\n",
    "print()\n",
    "X_train"
   ]
  },
  {
   "cell_type": "markdown",
   "metadata": {
    "id": "eDaOkO2N2Ol5"
   },
   "source": [
    "# Correlation matrix"
   ]
  },
  {
   "cell_type": "code",
   "execution_count": null,
   "metadata": {
    "ExecuteTime": {
     "end_time": "2022-11-25T20:13:44.792447Z",
     "start_time": "2022-11-25T20:13:44.447243Z"
    },
    "colab": {
     "base_uri": "https://localhost:8080/",
     "height": 439
    },
    "executionInfo": {
     "elapsed": 247,
     "status": "ok",
     "timestamp": 1626338668085,
     "user": {
      "displayName": "Ignacio Soteras",
      "photoUrl": "",
      "userId": "02050793736257155229"
     },
     "user_tz": -120
    },
    "id": "oupmFDB72QYC",
    "outputId": "53f90076-2ab8-4812-c1c6-26af5a994ac8"
   },
   "outputs": [],
   "source": [
    "import seaborn as sns\n",
    "import matplotlib.pyplot as plt\n",
    "\n",
    "c = abs(data.corr())\n",
    "#c\n",
    "\n",
    "#fig, ax = plt.subplots(figsize=(14,14))\n",
    "#sns.heatmap(c, annot=True);\n",
    "\n",
    "#c['SalePrice']\n",
    "c_last = c['SalePrice'].sort_values(ascending=False)\n",
    "#c_last\n",
    "c_thr = .3\n",
    "cols_to_keep = list(c_last[c_last > c_thr].index)[1:] + [list(c_last[c_last > c_thr].index)[0]]\n",
    "print(cols_to_keep)\n",
    "\n",
    "data[cols_to_keep]"
   ]
  },
  {
   "cell_type": "markdown",
   "metadata": {
    "id": "ewR_S8q36_SW"
   },
   "source": [
    "# Recursive feature elimination"
   ]
  },
  {
   "cell_type": "code",
   "execution_count": 54,
   "metadata": {
    "ExecuteTime": {
     "end_time": "2022-11-25T20:13:44.831897Z",
     "start_time": "2022-11-25T20:13:44.793326Z"
    },
    "colab": {
     "base_uri": "https://localhost:8080/",
     "height": 871
    },
    "executionInfo": {
     "elapsed": 252,
     "status": "ok",
     "timestamp": 1626339439697,
     "user": {
      "displayName": "Ignacio Soteras",
      "photoUrl": "",
      "userId": "02050793736257155229"
     },
     "user_tz": -120
    },
    "id": "gKL926IVXnEL",
    "outputId": "7f07e37b-6fc0-4f5b-f835-8507d08c1db4"
   },
   "outputs": [
    {
     "name": "stdout",
     "output_type": "stream",
     "text": [
      "Fitting estimator with 33 features.\n",
      "Fitting estimator with 32 features.\n",
      "Fitting estimator with 31 features.\n",
      "Fitting estimator with 30 features.\n",
      "Fitting estimator with 29 features.\n",
      "Fitting estimator with 28 features.\n",
      "Fitting estimator with 27 features.\n",
      "Fitting estimator with 26 features.\n",
      "Fitting estimator with 25 features.\n",
      "Fitting estimator with 24 features.\n",
      "Fitting estimator with 23 features.\n",
      "Fitting estimator with 22 features.\n",
      "Fitting estimator with 21 features.\n",
      "Fitting estimator with 20 features.\n",
      "Fitting estimator with 19 features.\n",
      "Fitting estimator with 18 features.\n",
      "Fitting estimator with 17 features.\n",
      "Fitting estimator with 16 features.\n",
      "Fitting estimator with 15 features.\n",
      "Fitting estimator with 14 features.\n",
      "Fitting estimator with 13 features.\n",
      "Fitting estimator with 12 features.\n",
      "Fitting estimator with 11 features.\n",
      "Fitting estimator with 10 features.\n",
      "Fitting estimator with 9 features.\n",
      "Final selected features: \n"
     ]
    },
    {
     "data": {
      "text/html": [
       "<div>\n",
       "<style scoped>\n",
       "    .dataframe tbody tr th:only-of-type {\n",
       "        vertical-align: middle;\n",
       "    }\n",
       "\n",
       "    .dataframe tbody tr th {\n",
       "        vertical-align: top;\n",
       "    }\n",
       "\n",
       "    .dataframe thead th {\n",
       "        text-align: right;\n",
       "    }\n",
       "</style>\n",
       "<table border=\"1\" class=\"dataframe\">\n",
       "  <thead>\n",
       "    <tr style=\"text-align: right;\">\n",
       "      <th></th>\n",
       "      <th>OverallQual</th>\n",
       "      <th>BsmtFullBath</th>\n",
       "      <th>BsmtHalfBath</th>\n",
       "      <th>FullBath</th>\n",
       "      <th>KitchenAbvGr</th>\n",
       "      <th>TotRmsAbvGrd</th>\n",
       "      <th>Fireplaces</th>\n",
       "      <th>GarageCars</th>\n",
       "    </tr>\n",
       "  </thead>\n",
       "  <tbody>\n",
       "    <tr>\n",
       "      <th>0</th>\n",
       "      <td>5</td>\n",
       "      <td>1</td>\n",
       "      <td>0</td>\n",
       "      <td>1</td>\n",
       "      <td>1</td>\n",
       "      <td>5</td>\n",
       "      <td>0</td>\n",
       "      <td>1</td>\n",
       "    </tr>\n",
       "    <tr>\n",
       "      <th>1</th>\n",
       "      <td>6</td>\n",
       "      <td>0</td>\n",
       "      <td>0</td>\n",
       "      <td>2</td>\n",
       "      <td>1</td>\n",
       "      <td>7</td>\n",
       "      <td>1</td>\n",
       "      <td>2</td>\n",
       "    </tr>\n",
       "    <tr>\n",
       "      <th>2</th>\n",
       "      <td>5</td>\n",
       "      <td>0</td>\n",
       "      <td>0</td>\n",
       "      <td>1</td>\n",
       "      <td>1</td>\n",
       "      <td>4</td>\n",
       "      <td>0</td>\n",
       "      <td>0</td>\n",
       "    </tr>\n",
       "    <tr>\n",
       "      <th>3</th>\n",
       "      <td>5</td>\n",
       "      <td>1</td>\n",
       "      <td>0</td>\n",
       "      <td>1</td>\n",
       "      <td>1</td>\n",
       "      <td>7</td>\n",
       "      <td>2</td>\n",
       "      <td>1</td>\n",
       "    </tr>\n",
       "    <tr>\n",
       "      <th>4</th>\n",
       "      <td>5</td>\n",
       "      <td>0</td>\n",
       "      <td>0</td>\n",
       "      <td>2</td>\n",
       "      <td>1</td>\n",
       "      <td>6</td>\n",
       "      <td>1</td>\n",
       "      <td>1</td>\n",
       "    </tr>\n",
       "    <tr>\n",
       "      <th>...</th>\n",
       "      <td>...</td>\n",
       "      <td>...</td>\n",
       "      <td>...</td>\n",
       "      <td>...</td>\n",
       "      <td>...</td>\n",
       "      <td>...</td>\n",
       "      <td>...</td>\n",
       "      <td>...</td>\n",
       "    </tr>\n",
       "    <tr>\n",
       "      <th>1163</th>\n",
       "      <td>6</td>\n",
       "      <td>0</td>\n",
       "      <td>0</td>\n",
       "      <td>2</td>\n",
       "      <td>1</td>\n",
       "      <td>6</td>\n",
       "      <td>1</td>\n",
       "      <td>2</td>\n",
       "    </tr>\n",
       "    <tr>\n",
       "      <th>1164</th>\n",
       "      <td>4</td>\n",
       "      <td>1</td>\n",
       "      <td>0</td>\n",
       "      <td>2</td>\n",
       "      <td>1</td>\n",
       "      <td>7</td>\n",
       "      <td>2</td>\n",
       "      <td>2</td>\n",
       "    </tr>\n",
       "    <tr>\n",
       "      <th>1165</th>\n",
       "      <td>5</td>\n",
       "      <td>1</td>\n",
       "      <td>0</td>\n",
       "      <td>1</td>\n",
       "      <td>1</td>\n",
       "      <td>5</td>\n",
       "      <td>0</td>\n",
       "      <td>2</td>\n",
       "    </tr>\n",
       "    <tr>\n",
       "      <th>1166</th>\n",
       "      <td>7</td>\n",
       "      <td>0</td>\n",
       "      <td>0</td>\n",
       "      <td>1</td>\n",
       "      <td>1</td>\n",
       "      <td>7</td>\n",
       "      <td>1</td>\n",
       "      <td>1</td>\n",
       "    </tr>\n",
       "    <tr>\n",
       "      <th>1167</th>\n",
       "      <td>7</td>\n",
       "      <td>0</td>\n",
       "      <td>0</td>\n",
       "      <td>2</td>\n",
       "      <td>1</td>\n",
       "      <td>7</td>\n",
       "      <td>1</td>\n",
       "      <td>3</td>\n",
       "    </tr>\n",
       "  </tbody>\n",
       "</table>\n",
       "<p>1168 rows × 8 columns</p>\n",
       "</div>"
      ],
      "text/plain": [
       "      OverallQual  BsmtFullBath  BsmtHalfBath  FullBath  KitchenAbvGr  \\\n",
       "0               5             1             0         1             1   \n",
       "1               6             0             0         2             1   \n",
       "2               5             0             0         1             1   \n",
       "3               5             1             0         1             1   \n",
       "4               5             0             0         2             1   \n",
       "...           ...           ...           ...       ...           ...   \n",
       "1163            6             0             0         2             1   \n",
       "1164            4             1             0         2             1   \n",
       "1165            5             1             0         1             1   \n",
       "1166            7             0             0         1             1   \n",
       "1167            7             0             0         2             1   \n",
       "\n",
       "      TotRmsAbvGrd  Fireplaces  GarageCars  \n",
       "0                5           0           1  \n",
       "1                7           1           2  \n",
       "2                4           0           0  \n",
       "3                7           2           1  \n",
       "4                6           1           1  \n",
       "...            ...         ...         ...  \n",
       "1163             6           1           2  \n",
       "1164             7           2           2  \n",
       "1165             5           0           2  \n",
       "1166             7           1           1  \n",
       "1167             7           1           3  \n",
       "\n",
       "[1168 rows x 8 columns]"
      ]
     },
     "metadata": {},
     "output_type": "display_data"
    }
   ],
   "source": [
    "from sklearn.linear_model import LinearRegression\n",
    "from sklearn.feature_selection import RFE  ## recursive feature elemination technique\n",
    "\n",
    "X_train, X_test, y_train, y_test = train_test_split(X, y, test_size=0.20, random_state=42)\n",
    "\n",
    "X_train = X_train.select_dtypes(include=np.number)\n",
    "X_test  = X_test.select_dtypes(include=np.number)\n",
    "\n",
    "X_train = pd.DataFrame(X_train, columns=X.columns)\n",
    "X_test  = pd.DataFrame(X_test, columns=X.columns)\n",
    "\n",
    "#X_train.isna().sum()\n",
    "nulls = pd.DataFrame(X_train.isna().sum()).reset_index()\n",
    "#nulls.head()\n",
    "nulls.columns = ['Column','nas']\n",
    "#nulls.head()\n",
    "#nulls[nulls['nas'] > 0].head()\n",
    "cols_to_drop = nulls[nulls['nas'] > 0]['Column'] # Too drastic, but made on pourpose for quick filtering (don't do this in production!!)\n",
    "\n",
    "X_train.drop(columns=cols_to_drop, axis=1, inplace = True)\n",
    "X_test.drop(columns=cols_to_drop, axis=1, inplace = True)\n",
    "\n",
    "#display(X_train)\n",
    "\n",
    "lm = LinearRegression()\n",
    "\n",
    "selector = RFE(lm, n_features_to_select= 8, step = 1, verbose = 1) # Step is how many features to add or drop everytime\n",
    "selector.fit(X_train, y_train)\n",
    "\n",
    "kept_features = selector.get_support(indices = True) #returns an array of integers corresponding to nonremoved features\n",
    "kept_features = list(X_train.iloc[:,kept_features].columns)\n",
    "\n",
    "X_train = selector.transform(X_train)\n",
    "X_test  = selector.transform(X_test)\n",
    "\n",
    "X_train = pd.DataFrame(X_train, columns=kept_features)\n",
    "X_test  = pd.DataFrame(X_test, columns=kept_features)\n",
    "\n",
    "print(\"Final selected features: \")\n",
    "display(X_train)"
   ]
  },
  {
   "cell_type": "markdown",
   "metadata": {},
   "source": [
    "## Embedded Methods"
   ]
  },
  {
   "cell_type": "code",
   "execution_count": 55,
   "metadata": {
    "ExecuteTime": {
     "end_time": "2022-11-25T20:13:44.839368Z",
     "start_time": "2022-11-25T20:13:44.835312Z"
    }
   },
   "outputs": [],
   "source": [
    "X_train, X_test, y_train, y_test = train_test_split(X, y, test_size=0.30, random_state=42)\n",
    "\n",
    "X_train = X_train.select_dtypes(include=np.number)\n",
    "X_test  = X_test.select_dtypes(include=np.number)"
   ]
  },
  {
   "cell_type": "code",
   "execution_count": 56,
   "metadata": {
    "ExecuteTime": {
     "end_time": "2022-11-25T20:13:44.848017Z",
     "start_time": "2022-11-25T20:13:44.840735Z"
    }
   },
   "outputs": [],
   "source": [
    "import numpy as np\n",
    "from sklearn.impute import SimpleImputer\n",
    "imp_mean = SimpleImputer(missing_values=np.nan, strategy='mean')\n",
    "X_train=imp_mean.fit_transform(X_train)\n",
    "X_test = imp_mean.fit_transform(X_test)"
   ]
  },
  {
   "cell_type": "markdown",
   "metadata": {},
   "source": [
    "## OLS"
   ]
  },
  {
   "cell_type": "code",
   "execution_count": 57,
   "metadata": {
    "ExecuteTime": {
     "end_time": "2022-11-25T20:13:44.854569Z",
     "start_time": "2022-11-25T20:13:44.849037Z"
    }
   },
   "outputs": [
    {
     "name": "stdout",
     "output_type": "stream",
     "text": [
      "LinearRegression: Train -> 0.8628283743025131, Test -> 0.8693418320791733\n"
     ]
    }
   ],
   "source": [
    "model=LinearRegression()\n",
    "model.fit(X_train, y_train)\n",
    "print(f\"{model.__class__.__name__}: Train -> {model.score(X_train, y_train)}, Test -> {model.score(X_test, y_test)}\")"
   ]
  },
  {
   "cell_type": "markdown",
   "metadata": {},
   "source": [
    "<b> A lasso model can drop features and be a feature selection technique <b>"
   ]
  },
  {
   "cell_type": "code",
   "execution_count": 58,
   "metadata": {
    "ExecuteTime": {
     "end_time": "2022-11-25T20:19:47.745546Z",
     "start_time": "2022-11-25T20:19:47.698005Z"
    }
   },
   "outputs": [
    {
     "name": "stdout",
     "output_type": "stream",
     "text": [
      "Lasso: Train -> 0.8628283743025132, Test -> 0.8693418320791699\n"
     ]
    }
   ],
   "source": [
    "from sklearn.linear_model import Lasso,Ridge,ElasticNet, LinearRegression\n",
    "model=Lasso(alpha=0)\n",
    "\n",
    "model.fit(X_train, y_train)\n",
    "print(f\"{model.__class__.__name__}: Train -> {model.score(X_train, y_train)}, Test -> {model.score(X_test, y_test)}\")"
   ]
  },
  {
   "cell_type": "markdown",
   "metadata": {},
   "source": [
    "<b> Ridge"
   ]
  },
  {
   "cell_type": "code",
   "execution_count": null,
   "metadata": {
    "ExecuteTime": {
     "end_time": "2022-11-25T20:19:50.399205Z",
     "start_time": "2022-11-25T20:19:50.391087Z"
    }
   },
   "outputs": [],
   "source": [
    "model=Ridge(alpha=0)\n",
    "model.fit(X_train, y_train)\n",
    "print(f\"{model.__class__.__name__}: Train -> {model.score(X_train, y_train)}, Test -> {model.score(X_test, y_test)}\")"
   ]
  },
  {
   "cell_type": "markdown",
   "metadata": {},
   "source": [
    "<b> ElasticNet"
   ]
  },
  {
   "cell_type": "code",
   "execution_count": null,
   "metadata": {
    "ExecuteTime": {
     "end_time": "2022-11-25T20:19:52.414383Z",
     "start_time": "2022-11-25T20:19:52.374945Z"
    }
   },
   "outputs": [],
   "source": [
    "model=ElasticNet(alpha=0.1)\n",
    "model.fit(X_train, y_train)\n",
    "print(f\"{model.__class__.__name__}: Train -> {model.score(X_train, y_train)}, Test -> {model.score(X_test, y_test)}\")"
   ]
  }
 ],
 "metadata": {
  "colab": {
   "authorship_tag": "ABX9TyPY1B5JFpKNmfd8e/xlY/k3",
   "name": "Feature_selection.ipynb",
   "provenance": []
  },
  "kernelspec": {
   "display_name": "Python 3 (ipykernel)",
   "language": "python",
   "name": "python3"
  },
  "language_info": {
   "codemirror_mode": {
    "name": "ipython",
    "version": 3
   },
   "file_extension": ".py",
   "mimetype": "text/x-python",
   "name": "python",
   "nbconvert_exporter": "python",
   "pygments_lexer": "ipython3",
   "version": "3.8.8"
  },
  "toc": {
   "base_numbering": 1,
   "nav_menu": {},
   "number_sections": true,
   "sideBar": true,
   "skip_h1_title": false,
   "title_cell": "Table of Contents",
   "title_sidebar": "Contents",
   "toc_cell": false,
   "toc_position": {},
   "toc_section_display": true,
   "toc_window_display": false
  },
  "varInspector": {
   "cols": {
    "lenName": 16,
    "lenType": 16,
    "lenVar": 40
   },
   "kernels_config": {
    "python": {
     "delete_cmd_postfix": "",
     "delete_cmd_prefix": "del ",
     "library": "var_list.py",
     "varRefreshCmd": "print(var_dic_list())"
    },
    "r": {
     "delete_cmd_postfix": ") ",
     "delete_cmd_prefix": "rm(",
     "library": "var_list.r",
     "varRefreshCmd": "cat(var_dic_list()) "
    }
   },
   "types_to_exclude": [
    "module",
    "function",
    "builtin_function_or_method",
    "instance",
    "_Feature"
   ],
   "window_display": false
  }
 },
 "nbformat": 4,
 "nbformat_minor": 1
}
